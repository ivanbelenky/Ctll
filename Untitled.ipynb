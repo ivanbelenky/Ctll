{
 "cells": [
  {
   "cell_type": "markdown",
   "id": "aa7f3442",
   "metadata": {},
   "source": [
    "First I will import a shitload of poliastro thingies, they are not all truly neccesary. Notice the CtllDes import, the core and utils elements"
   ]
  },
  {
   "cell_type": "code",
   "execution_count": 1,
   "id": "ebd8437f",
   "metadata": {},
   "outputs": [
    {
     "name": "stderr",
     "output_type": "stream",
     "text": [
      "WARNING: AstropyDeprecationWarning: The private astropy._erfa module has been made into its own package, pyerfa, which is a dependency of astropy and can be imported directly using \"import erfa\" [astropy._erfa]\n"
     ]
    }
   ],
   "source": [
    "import CtllDes \n",
    "from CtllDes.core import ctll, satellite"
   ]
  },
  {
   "cell_type": "code",
   "execution_count": 2,
   "id": "4236ed28",
   "metadata": {},
   "outputs": [],
   "source": [
    "### Specify Instruments ###\n",
    "from CtllDes.core import instrument\n",
    "\n",
    "cam1 = instrument.Camera(0,0)\n",
    "cam2 = instrument.Camera(0,1)\n",
    "cam3 = instrument.Camera(0,3)\n",
    "\n",
    "\n",
    "### Specify Physical Specifications ###\n",
    "from CtllDes.core import specs\n",
    "\n",
    "drag_coef = 1\n",
    "m1 = 100 #kg\n",
    "m2 = 80 #kg\n",
    "m3 = 200 #kg\n",
    "\n",
    "A = 100 #m2\n",
    "\n",
    "spec1 = specs.Specifications(m=m1,Cd=drag_coef,A_over_m=A)\n",
    "spec2 = specs.Specifications(m=m1,Cd=drag_coef,A_over_m=A)\n",
    "spec3 = specs.Specifications(m=m3,Cd=drag_coef,A_over_m=A)\n",
    "\n"
   ]
  },
  {
   "cell_type": "markdown",
   "id": "bc759ecf",
   "metadata": {},
   "source": [
    "The utility function <strong>helio_geo_synchronous</strong> receives an integer, and returns a dataframe with all the possible circular orbit classic elements that are helio and geo synchronous with a D days period. It is pretty straigthforward to transform the desired filtered row into a classical State."
   ]
  },
  {
   "cell_type": "code",
   "execution_count": null,
   "id": "3f9ab096",
   "metadata": {},
   "outputs": [],
   "source": [
    "from CtllDes.utils import helio_geo_synchronous\n",
    "\n",
    "D = 7\n",
    "orb_df = helio_geo_synchronous(D)"
   ]
  },
  {
   "cell_type": "markdown",
   "id": "1e9ef69e",
   "metadata": {},
   "source": [
    "Lets say that you want to filter out heights. One easy way to filter out whatever state you may want to generalize uses pandas loc . If you are not familiar with pandas, read the basic examples in their docs."
   ]
  },
  {
   "cell_type": "code",
   "execution_count": 4,
   "id": "c7cf250e",
   "metadata": {},
   "outputs": [],
   "source": [
    "filtered = orb_df.loc[(df['p'] < 900) & (df['p'] > 500)]\n",
    "filtered\n"
   ]
  },
  {
   "cell_type": "markdown",
   "id": "27d019e1",
   "metadata": {},
   "source": [
    "Check if you got any filtered orbits and pick. Notice that <strong>raan</strong> and <strong>nu</strong> will be set to 0. Feel free to change it to make it pass over the desired target at least one time."
   ]
  },
  {
   "cell_type": "code",
   "execution_count": null,
   "id": "7b0716ff",
   "metadata": {},
   "outputs": [],
   "source": [
    "st1 = filtered[0]\n",
    "\n",
    "orb1 = Orbit.from_classical(Earth,\n",
    "                            st1['a'],\n",
    "                            st1['ecc'],\n",
    "                            st1['inc'],\n",
    "                            st1['raan'],\n",
    "                            st1['argp'],\n",
    "                            st1['nu'],\n",
    "                            epoch=J200,\n",
    "                            plane=Planes.EARTH_EQUATOR)"
   ]
  },
  {
   "cell_type": "markdown",
   "id": "046e772e",
   "metadata": {},
   "source": [
    "Now its about time to build the satellite using the <strong>from_orbit </strong> classmethod. "
   ]
  },
  {
   "cell_type": "code",
   "execution_count": null,
   "id": "fe0fa26f",
   "metadata": {},
   "outputs": [],
   "source": [
    "sat1 = satellite.from_orbit(orb1,spec=spec1,instruments=cam1)"
   ]
  },
  {
   "cell_type": "markdown",
   "id": "570d7546",
   "metadata": {},
   "source": [
    "Lets keep up building the rest of the satellites with different methods. Building from a specific orbit was already covered, also adding the use of some util function that defines orbits. We could use as well for any orbit something like the following"
   ]
  },
  {
   "cell_type": "code",
   "execution_count": null,
   "id": "fe6f5137",
   "metadata": {},
   "outputs": [],
   "source": [
    "### Proof of Concept ###\n",
    "sat_poc = satellite.from_orbit(Orbit.helio_synchronous) \n",
    "\n",
    "#if instruments are not defined, they will be an empty list\n",
    "print(sat.instruments)\n",
    "\n",
    "#if specs are not defined, DefaultSpec will be used\n",
    "print(sat.specs)\n",
    "print(specs.DefaultSpec)\n",
    "\n",
    "#if status is not defined, it will be set to online\n",
    "print(sat.status)\n",
    "\n"
   ]
  },
  {
   "cell_type": "code",
   "execution_count": null,
   "id": "77f50d2d",
   "metadata": {},
   "outputs": [],
   "source": []
  },
  {
   "cell_type": "code",
   "execution_count": null,
   "id": "5b5e824f",
   "metadata": {},
   "outputs": [],
   "source": []
  },
  {
   "cell_type": "code",
   "execution_count": null,
   "id": "58975277",
   "metadata": {},
   "outputs": [],
   "source": []
  },
  {
   "cell_type": "code",
   "execution_count": null,
   "id": "2ef3461c",
   "metadata": {},
   "outputs": [],
   "source": []
  },
  {
   "cell_type": "code",
   "execution_count": null,
   "id": "5a3307e5",
   "metadata": {},
   "outputs": [],
   "source": [
    "from astropy import units as u\n",
    "\n",
    "from poliastro.twobody import states as st\n",
    "from poliastro.bodies import Earth, Mars, Sun\n",
    "from poliastro.frames import Planes\n",
    "from poliastro.twobody import propagation,Orbit\n"
   ]
  }
 ],
 "metadata": {
  "kernelspec": {
   "display_name": "Python 3",
   "language": "python",
   "name": "python3"
  },
  "language_info": {
   "codemirror_mode": {
    "name": "ipython",
    "version": 3
   },
   "file_extension": ".py",
   "mimetype": "text/x-python",
   "name": "python",
   "nbconvert_exporter": "python",
   "pygments_lexer": "ipython3",
   "version": "3.8.5"
  }
 },
 "nbformat": 4,
 "nbformat_minor": 5
}
