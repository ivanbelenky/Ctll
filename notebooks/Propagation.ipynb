{
 "cells": [
  {
   "cell_type": "code",
   "execution_count": 1,
   "id": "5a0ad13e",
   "metadata": {},
   "outputs": [
    {
     "name": "stderr",
     "output_type": "stream",
     "text": [
      "WARNING: AstropyDeprecationWarning: The private astropy._erfa module has been made into its own package, pyerfa, which is a dependency of astropy and can be imported directly using \"import erfa\" [astropy._erfa]\n"
     ]
    }
   ],
   "source": [
    "import sys\n",
    "import os\n",
    "sys.path.insert(0, os.path.abspath('../'))\n",
    "\n",
    "\n",
    "import numpy as np\n",
    "import matplotlib.pyplot as plt\n",
    "\n",
    "import astropy.units as u\n",
    "\n",
    "import CtllDes \n",
    "from CtllDes.core import ctll, satellite\n",
    "\n",
    "import poliastro \n",
    "from poliastro.bodies import Earth\n",
    "from poliastro.twobody import Orbit\n",
    "from poliastro.frames import Planes\n",
    "from poliastro.constants import J2000"
   ]
  },
  {
   "cell_type": "markdown",
   "id": "df69f48c",
   "metadata": {},
   "source": [
    "# Changing Propagator interval of integration\n",
    "Once changed. It will be considered to be the exact solution the propagation within this timeframe. That is, all test will evaluate differences related to this propagation. "
   ]
  },
  {
   "cell_type": "code",
   "execution_count": null,
   "id": "bd8d6c77",
   "metadata": {},
   "outputs": [],
   "source": [
    "satellite.PROPAGATOR_DT = 1"
   ]
  },
  {
   "cell_type": "code",
   "execution_count": 38,
   "id": "7c4992e1",
   "metadata": {},
   "outputs": [],
   "source": [
    "#Orbit object, more info on poliastro API reference.\n",
    "from poliastro.twobody import Orbit\n",
    "\n",
    "#The bodies module specifies attractors\n",
    "from poliastro.bodies import Earth\n",
    "\n",
    "\n",
    "#Planes of reference and Epochs, are almost every time \n",
    "#the default ones, but just in case if you want to use \n",
    "#any other, they can be found in the following modules\n",
    "\n",
    "#import planes of reference, EARTH_EQUATOR \n",
    "from poliastro.frames import Planes\n",
    "\n",
    "#import J2000 time reference from constants \n",
    "from poliastro.constants import J2000\n",
    "\n",
    "### Specify classical orbit parameters ###\n",
    "\n",
    "a = 8000 * u.km # semi-major axis [distance]\n",
    "ecc = 0 * u.one # eccentricity [dimensionleess]\n",
    "inc = 98 * u.deg # inclination [angle] \n",
    "raan = 0 * u.rad # right ascencion of the ascending node [angle]\n",
    "argp = 0 * u.rad # perigee argument [angle]\n",
    "nu = 0 * u.rad # true anomaly [angle]\n",
    "\n",
    "plane = Planes.EARTH_EQUATOR # not necessary to specify\n",
    "epoch = J2000 # not necessary to specify\n",
    "\n",
    "#classmethod of Orbit\n",
    "orb = Orbit.from_classical(Earth,\n",
    "                            a,\n",
    "                            ecc,\n",
    "                            inc,\n",
    "                            raan,\n",
    "                            argp,\n",
    "                            nu)"
   ]
  },
  {
   "cell_type": "markdown",
   "id": "92d8a53a",
   "metadata": {},
   "source": [
    "# No Perturbations"
   ]
  },
  {
   "cell_type": "code",
   "execution_count": 39,
   "id": "3de6799b",
   "metadata": {},
   "outputs": [],
   "source": [
    "sat = satellite.Sat.from_orbit(orb)"
   ]
  },
  {
   "cell_type": "code",
   "execution_count": 40,
   "id": "08e8c434",
   "metadata": {},
   "outputs": [],
   "source": [
    "ref_r,rev_v = sat.rv(0.05,dt=5,drag=False,J2=False)"
   ]
  },
  {
   "cell_type": "code",
   "execution_count": 41,
   "id": "5ba1630d",
   "metadata": {},
   "outputs": [],
   "source": [
    "ref_ssps = sat.ssps(0.05,dt=5,drag=False,J2=False)"
   ]
  },
  {
   "cell_type": "code",
   "execution_count": 42,
   "id": "3491e0ae",
   "metadata": {},
   "outputs": [
    {
     "name": "stdout",
     "output_type": "stream",
     "text": [
      "500.0\n"
     ]
    }
   ],
   "source": [
    "from IPython.display import clear_output\n",
    "import time\n",
    "\n",
    "propagator_dts = np.linspace(2,500,40)\n",
    "rs = []\n",
    "vs = []\n",
    "times_r = []\n",
    "\n",
    "for prop_dt in propagator_dts:\n",
    "    clear_output(wait=True)\n",
    "    satellite.PROPAGATOR_DT = prop_dt\n",
    "    sat = satellite.Sat.from_orbit(orb)\n",
    "    t = time.time()\n",
    "    tmp_r, tmp_v = sat.rv(0.05, dt=5, drag=False, J2=False)\n",
    "    times_r.append(time.time()-t)\n",
    "    rs.append(tmp_r)\n",
    "    vs.append(tmp_v)\n",
    "    print(prop_dt)\n",
    "    \n"
   ]
  },
  {
   "cell_type": "code",
   "execution_count": 43,
   "id": "bc414042",
   "metadata": {},
   "outputs": [
    {
     "name": "stdout",
     "output_type": "stream",
     "text": [
      "500.0\n"
     ]
    }
   ],
   "source": [
    "ssps = []\n",
    "times_ssps = []\n",
    "\n",
    "for prop_dt in propagator_dts:\n",
    "    clear_output(wait=True)\n",
    "    satellite.PROPAGATOR_DT = prop_dt\n",
    "    sat = satellite.Sat.from_orbit(orb)\n",
    "    t = time.time()\n",
    "    tmp_ssps = sat.ssps(0.05, dt=5, drag=False, J2=False)\n",
    "    times_ssps.append(time.time()-t)\n",
    "    ssps.append(tmp_ssps)\n",
    "    print(prop_dt)\n",
    "    "
   ]
  },
  {
   "cell_type": "markdown",
   "id": "71a70502",
   "metadata": {},
   "source": [
    "# Errors in r "
   ]
  },
  {
   "cell_type": "code",
   "execution_count": 44,
   "id": "c1871fd9",
   "metadata": {},
   "outputs": [],
   "source": [
    "diff = []\n",
    "for r in rs:\n",
    "    diff.append(((np.sum(np.sqrt(np.sum((ref_r - r)**2,axis=1))))/r.shape[0]).value)\n"
   ]
  },
  {
   "cell_type": "markdown",
   "id": "157c535c",
   "metadata": {},
   "source": [
    "# Errors in (lat,lon) "
   ]
  },
  {
   "cell_type": "code",
   "execution_count": 45,
   "id": "235ddc16",
   "metadata": {},
   "outputs": [],
   "source": [
    "from CtllDes.utils import trigsf"
   ]
  },
  {
   "cell_type": "code",
   "execution_count": 46,
   "id": "3b7f0155",
   "metadata": {},
   "outputs": [],
   "source": [
    "diff_ssps = []\n",
    "angles = []\n",
    "for lonlat in ssps:\n",
    "    tmp_angle = trigsf.get_angles(lonlat[0],lonlat[1],ref_ssps[0],ref_ssps[1])\n",
    "    diff_ssps.append((np.nansum(tmp_angle.value))/(43200)) \n",
    "\n",
    "diff_ssps = np.array(diff_ssps)*Earth.R_mean.to(u.km)\n"
   ]
  },
  {
   "cell_type": "code",
   "execution_count": 61,
   "id": "108d8de0",
   "metadata": {},
   "outputs": [
    {
     "data": {
      "text/plain": [
       "<matplotlib.legend.Legend at 0x7f9d09626430>"
      ]
     },
     "execution_count": 61,
     "metadata": {},
     "output_type": "execute_result"
    }
   ],
   "source": [
    "import matplotlib.pyplot as plt\n",
    "%matplotlib qt5\n",
    "\n",
    "fig, ax = plt.subplots(nrows=2,ncols=1,figsize=(20,10))\n",
    "ax[0].scatter(propagator_dts, diff,s=15,c='k',label=\"Non Perturbated Propagation\")\n",
    "ax[0].vlines(x=300,ymin=0,ymax=1.2, label=\"σ < 200 [m]\",color='red')\n",
    "\n",
    "ax[0].set_title(\"Trajectory deviation\")\n",
    "ax[0].set_ylabel(\"σ(dt) [km] \")\n",
    "ax[0].set_xlabel(\"dt [s]\")\n",
    "ax[0].grid()\n",
    "ax0t = ax[0].twinx()\n",
    "ax0t.scatter(propagator_dts,times_r,c='orange',s=40,marker='+',label='time')\n",
    "ax0t.set_ylabel(\"execution time [s]\")\n",
    "ax[0].legend(loc=6)\n",
    "\n",
    "ax[1].scatter(propagator_dts, diff_ssps,s=15,c='k',label=\"Non Perturbated Propagation\")\n",
    "ax[1].vlines(x=300,ymin=0,ymax=0.0042, label=\"σₛₛₚ < 1 m\",color='red')\n",
    "\n",
    "ax[1].set_title(\"SSP deviation\")\n",
    "ax[1].set_ylabel(\"σₛₛₚ(dt) [km] \")\n",
    "ax[1].set_xlabel(\"dt [s]\")\n",
    "ax[1].grid()\n",
    "ax1t = ax[1].twinx()\n",
    "ax1t.scatter(propagator_dts,times_ssps,c='orange',marker='+',s=20,label='time')\n",
    "ax1t.set_ylabel(\"execution time [s]\")\n",
    "ax[1].legend(loc=6)\n"
   ]
  }
 ],
 "metadata": {
  "kernelspec": {
   "display_name": "Python 3",
   "language": "python",
   "name": "python3"
  },
  "language_info": {
   "codemirror_mode": {
    "name": "ipython",
    "version": 3
   },
   "file_extension": ".py",
   "mimetype": "text/x-python",
   "name": "python",
   "nbconvert_exporter": "python",
   "pygments_lexer": "ipython3",
   "version": "3.8.5"
  }
 },
 "nbformat": 4,
 "nbformat_minor": 5
}
