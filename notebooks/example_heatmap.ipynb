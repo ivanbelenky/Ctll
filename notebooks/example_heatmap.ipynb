{
 "cells": [
  {
   "cell_type": "code",
   "execution_count": null,
   "id": "eead5515",
   "metadata": {},
   "outputs": [],
   "source": [
    "### Targets longitude and latitude\n",
    "import pandas as pd\n",
    "\n",
    "tgt_latlons = pd.DataFrame(col_coverage_df['Target'].apply(pd.Series))\n",
    "tgt_lon = tgt_latlons[0]\n",
    "tgt_lat = tgt_latlos[1]\n",
    "\n",
    "import cartopy.crs as ccrs\n",
    "\n",
    "### Integral of time in view of targets\n",
    "accum = col_coverage_df['accumulated'].values #feel free to do a nice heatmap of any of the 6 merit figures.\n",
    "\n",
    "##total seconds of coverage\n",
    "#Tsecs=col_coverag_df['T']*3600*24\n",
    "#pofcov = accum/Tsecs\n",
    "\n",
    "X,Y = np.meshgrid(lon,lats)\n",
    "fig = plt.figure \n",
    "ax = plt.axes(projection=ccrs.PlateCarree())\n",
    "ax.coastlines()\n",
    "plt.pcolormesh(X,Y,accum,cmap='magma') #you may try pofcov as well\n",
    "plt.colorbar()\n",
    "\n",
    "plt.show()\n"
   ]
  }
 ],
 "metadata": {
  "kernelspec": {
   "display_name": "Python 3",
   "language": "python",
   "name": "python3"
  },
  "language_info": {
   "codemirror_mode": {
    "name": "ipython",
    "version": 3
   },
   "file_extension": ".py",
   "mimetype": "text/x-python",
   "name": "python",
   "nbconvert_exporter": "python",
   "pygments_lexer": "ipython3",
   "version": "3.8.5"
  }
 },
 "nbformat": 4,
 "nbformat_minor": 5
}
