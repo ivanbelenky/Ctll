{
 "cells": [
  {
   "cell_type": "markdown",
   "id": "738fff78",
   "metadata": {},
   "source": [
    "First I will import a shitload of poliastro thingies, they are not all truly neccesary. Notice the CtllDes import, the core and utils elements"
   ]
  },
  {
   "cell_type": "code",
   "execution_count": 1,
   "id": "9f8d03e8",
   "metadata": {},
   "outputs": [
    {
     "name": "stderr",
     "output_type": "stream",
     "text": [
      "WARNING: AstropyDeprecationWarning: The private astropy._erfa module has been made into its own package, pyerfa, which is a dependency of astropy and can be imported directly using \"import erfa\" [astropy._erfa]\n"
     ]
    }
   ],
   "source": [
    "import CtllDes \n",
    "from CtllDes.core import ctll, satellite"
   ]
  },
  {
   "cell_type": "code",
   "execution_count": 2,
   "id": "6793c028",
   "metadata": {},
   "outputs": [],
   "source": [
    "### Specify Instruments ###\n",
    "from CtllDes.core import instrument\n",
    "\n",
    "cam1 = instrument.Camera(0,0)\n",
    "cam2 = instrument.Camera(0,1)\n",
    "cam3 = instrument.Camera(0,3)\n",
    "\n",
    "\n",
    "### Specify Physical Specifications ###\n",
    "from CtllDes.core import specs\n",
    "\n",
    "drag_coef = 1\n",
    "m1 = 100 #kg\n",
    "m2 = 80 #kg\n",
    "m3 = 200 #kg\n",
    "\n",
    "A = 100 #m2\n",
    "\n",
    "spec1 = specs.Specifications(m=m1,Cd=drag_coef,A_over_m=A)\n",
    "spec2 = specs.Specifications(m=m1,Cd=drag_coef,A_over_m=A)\n",
    "spec3 = specs.Specifications(m=m3,Cd=drag_coef,A_over_m=A)\n",
    "\n"
   ]
  },
  {
   "cell_type": "markdown",
   "id": "4eb680dd",
   "metadata": {},
   "source": [
    "The utility function <strong>helio_geo_synchronous</strong> receives an integer, and returns a dataframe with all the possible circular orbit classic elements that are helio and geo synchronous with a D days period. It is pretty straigthforward to transform the desired filtered row into a classical State."
   ]
  },
  {
   "cell_type": "code",
   "execution_count": null,
   "id": "f430dc57",
   "metadata": {},
   "outputs": [],
   "source": [
    "from CtllDes.utils import helio_geo_synchronous\n",
    "\n",
    "D = 7\n",
    "orb_df = helio_geo_synchronous(D)"
   ]
  },
  {
   "cell_type": "markdown",
   "id": "5fd5be0a",
   "metadata": {},
   "source": [
    "Lets say that you want to filter out heights. One easy way to filter out whatever state you may want to generalize uses pandas loc . If you are not familiar with pandas, read the basic examples in their docs."
   ]
  },
  {
   "cell_type": "code",
   "execution_count": 4,
   "id": "414f72c1",
   "metadata": {},
   "outputs": [],
   "source": [
    "filtered = orb_df.loc[(df['p'] < 900) & (df['p'] > 500)]\n",
    "filtered\n"
   ]
  },
  {
   "cell_type": "markdown",
   "id": "3fbaffba",
   "metadata": {},
   "source": [
    "Check if you got any filtered orbits and pick. Notice that <strong>raan</strong> and <strong>nu</strong> will be set to 0. Feel free to change it to make it pass over the desired target at least one time."
   ]
  },
  {
   "cell_type": "code",
   "execution_count": null,
   "id": "58d5f96a",
   "metadata": {},
   "outputs": [],
   "source": [
    "st1 = filtered[0]\n",
    "\n",
    "orb1 = Orbit.from_classical(Earth,\n",
    "                            st1['a'],\n",
    "                            st1['ecc'],\n",
    "                            st1['inc'],\n",
    "                            st1['raan'],\n",
    "                            st1['argp'],\n",
    "                            st1['nu'],\n",
    "                            epoch=J200,\n",
    "                            plane=Planes.EARTH_EQUATOR)"
   ]
  },
  {
   "cell_type": "markdown",
   "id": "881b95ce",
   "metadata": {},
   "source": [
    "Now its about time to build the satellite using the <strong>from_orbit </strong> classmethod. "
   ]
  },
  {
   "cell_type": "code",
   "execution_count": null,
   "id": "cc9ee428",
   "metadata": {},
   "outputs": [],
   "source": [
    "sat1 = satellite.from_orbit(orb1,spec=spec1,instruments=cam1)"
   ]
  },
  {
   "cell_type": "markdown",
   "id": "fa184d64",
   "metadata": {},
   "source": [
    "Lets keep up building the rest of the satellites with different methods. Building from a specific orbit was already covered, also adding the use of some util function that defines orbits. We could use as well for any orbit something like the following"
   ]
  },
  {
   "cell_type": "code",
   "execution_count": null,
   "id": "9b0b3531",
   "metadata": {},
   "outputs": [],
   "source": [
    "### Proof of Concept ###\n",
    "sat_poc = satellite.from_orbit(Orbit.helio_synchronous) \n",
    "\n",
    "#if instruments are not defined, they will be an empty list\n",
    "print(sat.instruments)\n",
    "\n",
    "#if specs are not defined, DefaultSpec will be used\n",
    "print(sat.specs)\n",
    "print(specs.DefaultSpec)\n",
    "\n",
    "#if status is not defined, it will be set to online\n",
    "print(sat.status)\n",
    "\n"
   ]
  },
  {
   "cell_type": "markdown",
   "id": "2d3addb0",
   "metadata": {},
   "source": [
    "Now, proven the ways you can build your sat, lets grab the two satellites and put them right into a TPF WalkerDelta constellation. The ways of getting synchronous or heliosynchronous orbits can be achieved by using the <strong>poliastro</strong> Orbit classmethods, and then, as showed in the example above this cell, you can build <strong>from_orbit</strong>. Imagine that we already now the classical orbit parameters for this constellation, being:\n"
   ]
  },
  {
   "cell_type": "code",
   "execution_count": null,
   "id": "2e42e676",
   "metadata": {},
   "outputs": [],
   "source": [
    "from astropy import units as u\n",
    "\n",
    "p = 35000 * u.km\n",
    "ecc = 0 * u.one\n",
    "inc = 0 * u.rad\n",
    "raan = 0 * u.rad\n",
    "argp = 0 * u.rad\n",
    "nu = 0 * u.rad\n",
    "plane = Planes.EARTH_EQUATOR "
   ]
  },
  {
   "cell_type": "markdown",
   "id": "68643cda",
   "metadata": {},
   "source": [
    "Astropy units allow you to manage input into the poliastro package without worrying to much about the unit specifically used. If you find yourself with the desired inclination in degrees, just enter <strong>u.deg</strong> instead of <strong>u.rad</strong>. Then you can directly build a Walker Delta constellation "
   ]
  },
  {
   "cell_type": "code",
   "execution_count": null,
   "id": "39fd2d16",
   "metadata": {},
   "outputs": [],
   "source": [
    "constellation = ctll.Ctll.from_WalkerDelta(T,P,F,p,ecc,inc,argp)"
   ]
  },
  {
   "cell_type": "markdown",
   "id": "330dba7b",
   "metadata": {},
   "source": [
    "Notice that <strong>raan</strong> and <strong>nu</strong> are not specified, but they can be, as mentioned for the other orbit mentioned before. We should specify the instruments and specifications of the satellites, as well as the TPF pattern.  "
   ]
  },
  {
   "cell_type": "code",
   "execution_count": null,
   "id": "2d97ba68",
   "metadata": {},
   "outputs": [],
   "source": [
    "T=2\n",
    "P=1\n",
    "F=0\n",
    "\n",
    "speks = [spec2, spec3]\n",
    "instr = [cam2, cam3]\n",
    "\n",
    "constellation = ctll.Ctll.from_WalkerDelta(T,P,F,p,ecc,inc,argp,raan_offset=40*u.deg,nu_offset=180*u.deg,specs=speks,instrumentss=instr)"
   ]
  },
  {
   "cell_type": "markdown",
   "id": "f2f03550",
   "metadata": {},
   "source": [
    "After building this you may add <strong>sat1</strong> to the constellation in different ways."
   ]
  },
  {
   "cell_type": "code",
   "execution_count": null,
   "id": "4f441934",
   "metadata": {},
   "outputs": [],
   "source": [
    "### Directly adding the sat1 ###\n",
    "constellation.add_sat(sat1)\n",
    "\n",
    "### Creating 2 constellations and adding them ###\n",
    "constellation = ctll.Ctll.from_sats([sat1]+constellation.sats)\n",
    "\n",
    "### Using the add operator (silly example though) ###\n",
    "constellation_1 = ctll.Ctll.from_sats(sat1)\n",
    "constellation_2 = constellation #just for clarity\n",
    "constellation = constellation_1 + constellation_2\n"
   ]
  },
  {
   "cell_type": "markdown",
   "id": "8640bd93",
   "metadata": {},
   "source": [
    "Now that you have the constellation up and running, a propagation can be made. Let's do 10 days of simulation with an interval of 1 second, a bunch of points indeed."
   ]
  },
  {
   "cell_type": "code",
   "execution_count": null,
   "id": "b4877e61",
   "metadata": {},
   "outputs": [],
   "source": [
    "rvs = constellation.rv(10)"
   ]
  },
  {
   "cell_type": "markdown",
   "id": "1b8fa1a7",
   "metadata": {},
   "source": [
    "If you read the docs you will notice that <strong>rv</strong> method returns a list with length equal to the amount of sats, each one reporting the rv to the <strong>constellation.sats</strong> list of satellite. If you want to get the specific Ids of this satellites that are being reported you should check <strong>constellation.online_id</strong>"
   ]
  },
  {
   "cell_type": "code",
   "execution_count": null,
   "id": "8c094763",
   "metadata": {},
   "outputs": [],
   "source": [
    "ids = constellation.online_id"
   ]
  },
  {
   "cell_type": "markdown",
   "id": "4cfb5dfe",
   "metadata": {},
   "source": [
    "So rvs will be a list of tuples (rr,vv), each one of these being quantity objects arrays of size $\\frac{T\\cdot 3600 \\cdot 24}{dt}$. Therefore if you want to extract and plot the orbit lets say yoy may do this by using matplotlib or using the default constellation plot, that is specially and beautifully taylor made to display awesome graphixz (sike, no that great, just cartopy default plotting). The library is data oriented, it is not self embedded the analysis of the data, that corresponds to the analytical strings that will be explained alter on on this notebook."
   ]
  },
  {
   "cell_type": "code",
   "execution_count": 5,
   "id": "c3a67b9c",
   "metadata": {},
   "outputs": [],
   "source": [
    "from CtllDes.core.utils import plot_ctll_orbit, plot_ctll_gt\n",
    "import matplotlib.pyplot as plt\n",
    "%matplotlib inline"
   ]
  },
  {
   "cell_type": "code",
   "execution_count": null,
   "id": "21ef102c",
   "metadata": {},
   "outputs": [],
   "source": [
    "last_sat_r = rvs[-1][0]\n",
    "\n",
    "### how you are supposed to do it\n",
    "fig1 = plt.figure()\n",
    "ax = fig1.add_subplot(111,projection='3d')\n",
    "ax.scatter(last_sat_r[:,0], last_sat_r[:,1], last_sat_r[:,2],s=0.5,c='k') #xyz obviously\n",
    "\n",
    "### embedded\n",
    "utils.plot_ctll(rvs)\n",
    "\n",
    "plt.show()"
   ]
  },
  {
   "cell_type": "markdown",
   "id": "8d3dbbab",
   "metadata": {},
   "source": [
    "Very similar to this you may find the subsatellite points. In a very equal fashion, you should use the data, but for you CtllDes lovers, Ill give you some embedded crappy groundtrack plot functionality. Here you go"
   ]
  },
  {
   "cell_type": "code",
   "execution_count": 7,
   "id": "d15b46aa",
   "metadata": {},
   "outputs": [],
   "source": [
    "ssps = constellation.ssps(1)\n",
    "\n",
    "### how you are supposed to do it \n",
    "first_sat_ssps = ssps[0]\n",
    "first_sat_lon = first_sat_ssps[0][0]\n",
    "first_sat_lat = first_sat_ssps[0][1]\n",
    "\n",
    "fig = plt.figure()\n",
    "plt.scatter(first_sat_lon,first_sat_lat,c='k',s=0.5)\n",
    "\n",
    "### embedded\n",
    "fig2 = plot_ctll_gt(ssps)\n",
    "\n",
    "######\n",
    "plt.show()"
   ]
  },
  {
   "cell_type": "markdown",
   "id": "2e23ec01",
   "metadata": {},
   "source": [
    "Now that the plotting is done, you gpu thanks you. Afterwards you may want to do some nice coverage analysis. In order to do this you may have to use the Target module, since the cool methods will only recognize my special and stupid ass class called targets, just wait to see the full path to the targets folders, you will trip your tits out."
   ]
  },
  {
   "cell_type": "code",
   "execution_count": null,
   "id": "345f64d8",
   "metadata": {},
   "outputs": [],
   "source": [
    "from CtllDes.targets.targets import Targets, Target"
   ]
  },
  {
   "cell_type": "markdown",
   "id": "4423df16",
   "metadata": {},
   "source": [
    "so many targets.... But there is a positive side to it, it lets you build the coverage points of sampling from country or states just like described in the cell below. "
   ]
  },
  {
   "cell_type": "code",
   "execution_count": 9,
   "id": "0dd0d901",
   "metadata": {},
   "outputs": [],
   "source": [
    "tgts = Targets.from_country('Argentina',N=10) #N is approximately 0.6 the square of the number of total sample points, more on this later\n",
    "fig = tgts.plot()\n",
    "plt.show()"
   ]
  },
  {
   "cell_type": "markdown",
   "id": "7b3277f6",
   "metadata": {},
   "source": [
    "So lets break it down. First you are building a Target container, correctly named Targets, from a country, just specify the name or ISO code and if not found and error will pop up, don't worry. So what this is actually doing, is sampling inside the territory of the specified country correcting the number of points depending on latitude. This is done in 4 simple steps.\n",
    "<ul>\n",
    "    <li> Check if Country exists, and found the minimum box of coordinates that surround it.\n",
    "    <li> Generate a grid of equally N spaced points in latitude and distribute in $N\\cdot \\cos(latitude)$ points in longitude. This is done in order to dont get overestimations near the poles (imagine what would happen if you distributed uniformly on a mercator projection, forgeting about the sphericity of earth).\n",
    "     <li> Filter those coordinates generated checking if they lay inside the selected country.\n",
    "     </ul>\n",
    " \n",
    "The procedure for states is the same. The only difference is that you have more RegEx tu pick in order to select the state. "
   ]
  },
  {
   "cell_type": "code",
   "execution_count": null,
   "id": "9dbb011c",
   "metadata": {},
   "outputs": [],
   "source": [
    "tgts = Targets.from_state('Buenos Aires')\n",
    "fig = tgts.plot()\n",
    "plt.show()"
   ]
  },
  {
   "cell_type": "markdown",
   "id": "d68a82bf",
   "metadata": {},
   "source": [
    "After doing this you may want to do a coverage analysis, only if your constellation has coverage instruments on it. This is the case for this example so you could build a Coverages object from the classmethod functions. This class is actually a container for the individual Coverage object. You must imagine a Coverage object consisting of a target, a time of propagation, an interval dt of time of integration, and a bunch of merit figures automatically calculated, oriented to assist the design process, checking stuff like revisit time, mean gaps, max gaps, response time etc. If you want more information on this just check Chapter 9 of O.C.D.M. from James R. Wertz. Link in bio\n",
    "\n",
    "<p style=\"text-align:center\">\n",
    "    <a href=\"https://www.amazon.es/Constellation-Design-Management-Technology-Library/dp/1881883078\">\n",
    "        <img src=\"https://images-na.ssl-images-amazon.com/images/I/41Ca0XLUv6L._SX303_BO1,204,203,200_.jpg\">\n",
    "    </a>\n",
    "</p>"
   ]
  },
  {
   "cell_type": "code",
   "execution_count": null,
   "id": "6911947d",
   "metadata": {},
   "outputs": [],
   "source": [
    "from CtllDes.requests.coverage import Coverages\n",
    "\n",
    "covs = Coverages.from_ctll(constellation,tgts,5)"
   ]
  },
  {
   "cell_type": "markdown",
   "id": "3b1d1179",
   "metadata": {},
   "source": [
    "Now you want to grab the dataframe associated to these data. Remember that there will be $ \\# targets \\cdot \\# coverageInstruments$ points. Once you got the data frame, feel free to do some cool graphix, such as the heatmap described below, with the help of <strong>cartopy</strong> and <strong>ccrs</strong>."
   ]
  },
  {
   "cell_type": "code",
   "execution_count": null,
   "id": "a51a5b38",
   "metadata": {},
   "outputs": [],
   "source": [
    "coverage_df = covs.to_df()\n",
    "df"
   ]
  },
  {
   "cell_type": "markdown",
   "id": "5c962585",
   "metadata": {},
   "source": [
    "Now you have the coverages targets repeated #satellites times. So the user must filter out in terms of the desired output, if you want to collapse the coverages from the whole constellation, feel free to do so from the dataframe. But be aware of the fact that the merit figures dont form a linear vector space.\n",
    "\n",
    "So if you want to really collapse and create a new type of coverage you may use Coverages methods. When I say collapse I'm refering to the consideration of just one of something, for example you may collapse the satellites coverage, and end up with just #targets amount of merit figures, since the coverage figures are computed for the whole constellation. "
   ]
  },
  {
   "cell_type": "code",
   "execution_count": null,
   "id": "1464f4b1",
   "metadata": {},
   "outputs": [],
   "source": [
    "col_covs = covs.collapse_sats() #If no argument is specified, collapse all satellites"
   ]
  },
  {
   "cell_type": "markdown",
   "id": "9d8ca9f4",
   "metadata": {},
   "source": [
    "Now with these new figures of merit that represent the whole constellation, we can produce some output, a heatmap parexample."
   ]
  },
  {
   "cell_type": "code",
   "execution_count": null,
   "id": "c22d0d76",
   "metadata": {},
   "outputs": [],
   "source": [
    "### Collapsed dataframe\n",
    "col_coverage_df = col_covs.to_df()\n"
   ]
  },
  {
   "cell_type": "code",
   "execution_count": null,
   "id": "acc0bf4d",
   "metadata": {},
   "outputs": [],
   "source": [
    "### Targets longitude and latitude\n",
    "tgt_latlons = pd.DataFrame(col_coverage_df['Target'].apply(pd.Series))\n",
    "tgt_lon = tgt_latlons[0]\n",
    "tgt_lat = tgt_latlos[1]"
   ]
  },
  {
   "cell_type": "markdown",
   "id": "cd3b680a",
   "metadata": {},
   "source": [
    "The following generated heatmap corresponds to the accumulated time of sight. This does not represent the percentage of coverage, but as you can imagine is very easy to compute "
   ]
  },
  {
   "cell_type": "code",
   "execution_count": null,
   "id": "2dfd2800",
   "metadata": {},
   "outputs": [],
   "source": [
    "import cartopy.crs as ccrs\n",
    "\n",
    "### Integral of time in view of targets\n",
    "accum = col_coverage_df['accumulated'].values #feel free to do a nice heatmap of any of the 6 merit figures.\n",
    "\n",
    "##total seconds of coverage\n",
    "#Tsecs=col_coverag_df['T']*3600*24\n",
    "#pofcov = accum/Tsecs\n",
    "\n",
    "X,Y = np.meshgrid(lon,lats)\n",
    "fig = plt.figure \n",
    "ax = plt.axes(projection=ccrs.PlateCarree())\n",
    "ax.coastlines()\n",
    "plt.pcolormesh(X,Y,accum,cmap='magma') #you may try pofcov as well\n",
    "plt.colorbar()\n",
    "\n",
    "plt.show()\n"
   ]
  },
  {
   "cell_type": "markdown",
   "id": "77af1ab5",
   "metadata": {},
   "source": []
  },
  {
   "cell_type": "code",
   "execution_count": null,
   "id": "47f20a5b",
   "metadata": {},
   "outputs": [],
   "source": []
  },
  {
   "cell_type": "code",
   "execution_count": null,
   "id": "45ff1c16",
   "metadata": {},
   "outputs": [],
   "source": [
    "\n",
    "from poliastro.twobody import states as st\n",
    "from poliastro.bodies import Earth, Mars, Sun\n",
    "from poliastro.frames import Planes\n",
    "from poliastro.twobody import propagation,Orbit\n"
   ]
  },
  {
   "cell_type": "code",
   "execution_count": null,
   "id": "97302333",
   "metadata": {},
   "outputs": [],
   "source": []
  }
 ],
 "metadata": {
  "kernelspec": {
   "display_name": "Python 3",
   "language": "python",
   "name": "python3"
  },
  "language_info": {
   "codemirror_mode": {
    "name": "ipython",
    "version": 3
   },
   "file_extension": ".py",
   "mimetype": "text/x-python",
   "name": "python",
   "nbconvert_exporter": "python",
   "pygments_lexer": "ipython3",
   "version": "3.8.5"
  }
 },
 "nbformat": 4,
 "nbformat_minor": 5
}
