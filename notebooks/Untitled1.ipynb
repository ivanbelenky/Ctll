{
 "cells": [
  {
   "cell_type": "code",
   "execution_count": 1,
   "id": "2cef259c",
   "metadata": {},
   "outputs": [],
   "source": [
    "import os\n",
    "import numpy as np\n",
    "\n",
    "for _ in range(10):\n",
    "    freq = 4*_  # Hz\n",
    "    duration = 1 \n",
    "    os.system('play -nq -t alsa synth {} sine {}'.format(duration, freq))\n",
    "\n"
   ]
  }
 ],
 "metadata": {
  "kernelspec": {
   "display_name": "Python 3",
   "language": "python",
   "name": "python3"
  },
  "language_info": {
   "codemirror_mode": {
    "name": "ipython",
    "version": 3
   },
   "file_extension": ".py",
   "mimetype": "text/x-python",
   "name": "python",
   "nbconvert_exporter": "python",
   "pygments_lexer": "ipython3",
   "version": "3.8.5"
  }
 },
 "nbformat": 4,
 "nbformat_minor": 5
}
