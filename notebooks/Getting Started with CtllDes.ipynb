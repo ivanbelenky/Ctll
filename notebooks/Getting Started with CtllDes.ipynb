{
 "cells": [
  {
   "cell_type": "markdown",
   "id": "4d9ebd4c",
   "metadata": {},
   "source": [
    "<h1>Getting Started</h1>"
   ]
  },
  {
   "cell_type": "code",
   "execution_count": 1,
   "id": "ecbf4dc9",
   "metadata": {},
   "outputs": [
    {
     "name": "stderr",
     "output_type": "stream",
     "text": [
      "WARNING: AstropyDeprecationWarning: The private astropy._erfa module has been made into its own package, pyerfa, which is a dependency of astropy and can be imported directly using \"import erfa\" [astropy._erfa]\n"
     ]
    }
   ],
   "source": [
    "# if you are running in the notebooks folder example cloned from github this line must be included\n",
    "import sys\n",
    "import os\n",
    "sys.path.insert(0, os.path.abspath('../'))\n",
    "\n"
   ]
  },
  {
   "cell_type": "markdown",
   "id": "ad63d43b",
   "metadata": {},
   "source": [
    "<h3>Import CtllDes and poliastro, the core and utils elements </h3>"
   ]
  },
  {
   "cell_type": "code",
   "execution_count": 2,
   "id": "b5c6054d",
   "metadata": {},
   "outputs": [
    {
     "name": "stderr",
     "output_type": "stream",
     "text": [
      "WARNING: AstropyDeprecationWarning: The private astropy._erfa module has been made into its own package, pyerfa, which is a dependency of astropy and can be imported directly using \"import erfa\" [astropy._erfa]\n"
     ]
    }
   ],
   "source": [
    "import numpy as np\n",
    "\n",
    "#Propagator engine\n",
    "import poliastro\n",
    "\n",
    "#The library\n",
    "import CtllDes \n",
    "from CtllDes.core import ctll, satellite\n",
    "\n",
    "#Throughout this examples it will be necessary to use the correct\n",
    "#physical dimensions, astropy.units will help us with that\n",
    "import astropy.units as u"
   ]
  },
  {
   "cell_type": "markdown",
   "id": "4984ae57",
   "metadata": {},
   "source": [
    "# Building an orbit \n",
    "\n",
    "The first step is to define an orbit. You can do this in a variety of ways as showed below."
   ]
  },
  {
   "cell_type": "markdown",
   "id": "5edd0edb",
   "metadata": {},
   "source": [
    "### Building from classical orbit parameters"
   ]
  },
  {
   "cell_type": "code",
   "execution_count": 3,
   "id": "16d48047",
   "metadata": {},
   "outputs": [],
   "source": [
    "#Orbit object, more info on poliastro API reference.\n",
    "from poliastro.twobody import Orbit\n",
    "\n",
    "#The bodies module specifies attractors\n",
    "from poliastro.bodies import Earth\n",
    "\n",
    "\n",
    "#Planes of reference and Epochs, are almost every time \n",
    "#the default ones, but just in case if you want to use \n",
    "#any other, they can be found in the following modules\n",
    "\n",
    "#import planes of reference, EARTH_EQUATOR \n",
    "from poliastro.frames import Planes\n",
    "\n",
    "#import J2000 time reference from constants \n",
    "from poliastro.constants import J2000\n",
    "\n",
    "\n",
    "\n",
    "### Specify classical orbit parameters ###\n",
    "\n",
    "a = 8000 * u.km # semi-major axis [distance]\n",
    "ecc = 0 * u.one # eccentricity [dimensionleess]\n",
    "inc = 98 * u.deg # inclination [angle] \n",
    "raan = 0 * u.rad # right ascencion of the ascending node [angle]\n",
    "argp = 0 * u.rad # perigee argument [angle]\n",
    "nu = 0 * u.rad # true anomaly [angle]\n",
    "\n",
    "plane = Planes.EARTH_EQUATOR # not necessary to specify\n",
    "epoch = J2000 # not necessary to specify\n",
    "\n",
    "#classmethod of Orbit\n",
    "orb = Orbit.from_classical(Earth,\n",
    "                            a,\n",
    "                            ecc,\n",
    "                            inc,\n",
    "                            raan,\n",
    "                            argp,\n",
    "                            nu)\n"
   ]
  },
  {
   "cell_type": "markdown",
   "id": "91e65f43",
   "metadata": {},
   "source": [
    "### Other poliastro.twobody.Orbit classmethods"
   ]
  },
  {
   "cell_type": "code",
   "execution_count": 4,
   "id": "ed8d08c0",
   "metadata": {},
   "outputs": [],
   "source": [
    "#more on poliastro API reference\n",
    "orb = Orbit.heliosynchronous(Earth, a=8000*u.km, ecc=0*u.one)\n",
    "orb = Orbit.from_vectors(Earth, [8000,0,0]*u.km, [0,7,0]*u.km/u.s)"
   ]
  },
  {
   "cell_type": "markdown",
   "id": "efa2e977",
   "metadata": {},
   "source": [
    "### Orbit utilities for repeating ground track and heliosynchronous orbits"
   ]
  },
  {
   "cell_type": "code",
   "execution_count": 5,
   "id": "8e77796b",
   "metadata": {},
   "outputs": [
    {
     "data": {
      "text/html": [
       "<div>\n",
       "<style scoped>\n",
       "    .dataframe tbody tr th:only-of-type {\n",
       "        vertical-align: middle;\n",
       "    }\n",
       "\n",
       "    .dataframe tbody tr th {\n",
       "        vertical-align: top;\n",
       "    }\n",
       "\n",
       "    .dataframe thead th {\n",
       "        text-align: right;\n",
       "    }\n",
       "</style>\n",
       "<table border=\"1\" class=\"dataframe\">\n",
       "  <thead>\n",
       "    <tr style=\"text-align: right;\">\n",
       "      <th></th>\n",
       "      <th>radius</th>\n",
       "      <th>inc</th>\n",
       "      <th>N</th>\n",
       "    </tr>\n",
       "  </thead>\n",
       "  <tbody>\n",
       "    <tr>\n",
       "      <th>0</th>\n",
       "      <td>11544.182918</td>\n",
       "      <td>142.248541</td>\n",
       "      <td>7.000000</td>\n",
       "    </tr>\n",
       "    <tr>\n",
       "      <th>1</th>\n",
       "      <td>11389.626716</td>\n",
       "      <td>138.961424</td>\n",
       "      <td>7.142857</td>\n",
       "    </tr>\n",
       "    <tr>\n",
       "      <th>2</th>\n",
       "      <td>11240.148578</td>\n",
       "      <td>136.071863</td>\n",
       "      <td>7.285714</td>\n",
       "    </tr>\n",
       "    <tr>\n",
       "      <th>3</th>\n",
       "      <td>11095.486092</td>\n",
       "      <td>133.496401</td>\n",
       "      <td>7.428571</td>\n",
       "    </tr>\n",
       "    <tr>\n",
       "      <th>4</th>\n",
       "      <td>10955.395204</td>\n",
       "      <td>131.177130</td>\n",
       "      <td>7.571429</td>\n",
       "    </tr>\n",
       "    <tr>\n",
       "      <th>...</th>\n",
       "      <td>...</td>\n",
       "      <td>...</td>\n",
       "      <td>...</td>\n",
       "    </tr>\n",
       "    <tr>\n",
       "      <th>66</th>\n",
       "      <td>6535.898060</td>\n",
       "      <td>96.204172</td>\n",
       "      <td>16.428571</td>\n",
       "    </tr>\n",
       "    <tr>\n",
       "      <th>67</th>\n",
       "      <td>6498.279346</td>\n",
       "      <td>96.079672</td>\n",
       "      <td>16.571429</td>\n",
       "    </tr>\n",
       "    <tr>\n",
       "      <th>68</th>\n",
       "      <td>6461.197311</td>\n",
       "      <td>95.958727</td>\n",
       "      <td>16.714286</td>\n",
       "    </tr>\n",
       "    <tr>\n",
       "      <th>69</th>\n",
       "      <td>6424.639809</td>\n",
       "      <td>95.841203</td>\n",
       "      <td>16.857143</td>\n",
       "    </tr>\n",
       "    <tr>\n",
       "      <th>70</th>\n",
       "      <td>6388.595066</td>\n",
       "      <td>95.726977</td>\n",
       "      <td>17.000000</td>\n",
       "    </tr>\n",
       "  </tbody>\n",
       "</table>\n",
       "<p>71 rows × 3 columns</p>\n",
       "</div>"
      ],
      "text/plain": [
       "          radius         inc          N\n",
       "0   11544.182918  142.248541   7.000000\n",
       "1   11389.626716  138.961424   7.142857\n",
       "2   11240.148578  136.071863   7.285714\n",
       "3   11095.486092  133.496401   7.428571\n",
       "4   10955.395204  131.177130   7.571429\n",
       "..           ...         ...        ...\n",
       "66   6535.898060   96.204172  16.428571\n",
       "67   6498.279346   96.079672  16.571429\n",
       "68   6461.197311   95.958727  16.714286\n",
       "69   6424.639809   95.841203  16.857143\n",
       "70   6388.595066   95.726977  17.000000\n",
       "\n",
       "[71 rows x 3 columns]"
      ]
     },
     "execution_count": 5,
     "metadata": {},
     "output_type": "execute_result"
    }
   ],
   "source": [
    "from CtllDes.utils import sscalc\n",
    "\n",
    "D = 7 #days of revisit\n",
    "orb_df = sscalc.helio_rgt_synchronous(D) #dataframe\n",
    "orb_df #radius [km], inclination [degrees], revolutions per day."
   ]
  },
  {
   "cell_type": "code",
   "execution_count": 6,
   "id": "58c412ba",
   "metadata": {},
   "outputs": [
    {
     "data": {
      "text/html": [
       "<div>\n",
       "<style scoped>\n",
       "    .dataframe tbody tr th:only-of-type {\n",
       "        vertical-align: middle;\n",
       "    }\n",
       "\n",
       "    .dataframe tbody tr th {\n",
       "        vertical-align: top;\n",
       "    }\n",
       "\n",
       "    .dataframe thead th {\n",
       "        text-align: right;\n",
       "    }\n",
       "</style>\n",
       "<table border=\"1\" class=\"dataframe\">\n",
       "  <thead>\n",
       "    <tr style=\"text-align: right;\">\n",
       "      <th></th>\n",
       "      <th>radius</th>\n",
       "      <th>inc</th>\n",
       "      <th>N</th>\n",
       "    </tr>\n",
       "  </thead>\n",
       "  <tbody>\n",
       "    <tr>\n",
       "      <th>50</th>\n",
       "      <td>7222.422363</td>\n",
       "      <td>98.816646</td>\n",
       "      <td>14.142857</td>\n",
       "    </tr>\n",
       "    <tr>\n",
       "      <th>51</th>\n",
       "      <td>7174.189097</td>\n",
       "      <td>98.610796</td>\n",
       "      <td>14.285714</td>\n",
       "    </tr>\n",
       "    <tr>\n",
       "      <th>52</th>\n",
       "      <td>7126.753168</td>\n",
       "      <td>98.411801</td>\n",
       "      <td>14.428571</td>\n",
       "    </tr>\n",
       "    <tr>\n",
       "      <th>53</th>\n",
       "      <td>7080.093692</td>\n",
       "      <td>98.219362</td>\n",
       "      <td>14.571429</td>\n",
       "    </tr>\n",
       "    <tr>\n",
       "      <th>54</th>\n",
       "      <td>7034.190529</td>\n",
       "      <td>98.033200</td>\n",
       "      <td>14.714286</td>\n",
       "    </tr>\n",
       "    <tr>\n",
       "      <th>55</th>\n",
       "      <td>6989.024251</td>\n",
       "      <td>97.853046</td>\n",
       "      <td>14.857143</td>\n",
       "    </tr>\n",
       "    <tr>\n",
       "      <th>56</th>\n",
       "      <td>6944.576109</td>\n",
       "      <td>97.678649</td>\n",
       "      <td>15.000000</td>\n",
       "    </tr>\n",
       "    <tr>\n",
       "      <th>57</th>\n",
       "      <td>6900.828006</td>\n",
       "      <td>97.509769</td>\n",
       "      <td>15.142857</td>\n",
       "    </tr>\n",
       "  </tbody>\n",
       "</table>\n",
       "</div>"
      ],
      "text/plain": [
       "         radius        inc          N\n",
       "50  7222.422363  98.816646  14.142857\n",
       "51  7174.189097  98.610796  14.285714\n",
       "52  7126.753168  98.411801  14.428571\n",
       "53  7080.093692  98.219362  14.571429\n",
       "54  7034.190529  98.033200  14.714286\n",
       "55  6989.024251  97.853046  14.857143\n",
       "56  6944.576109  97.678649  15.000000\n",
       "57  6900.828006  97.509769  15.142857"
      ]
     },
     "execution_count": 6,
     "metadata": {},
     "output_type": "execute_result"
    }
   ],
   "source": [
    "#use pandas to filter the desired parameters\n",
    "earth_R = Earth.R_mean.to(u.km).value #value in km of earth mean Radius\n",
    "\n",
    "min_radius = 500 + earth_R\n",
    "max_radius = 900 + earth_R\n",
    "\n",
    "filtered = orb_df.loc[(orb_df['radius'].values < max_radius) &\n",
    "                      (orb_df['radius'].values > min_radius)]\n",
    "filtered "
   ]
  },
  {
   "cell_type": "code",
   "execution_count": 7,
   "id": "9d4de993",
   "metadata": {},
   "outputs": [],
   "source": [
    "#select the desired cop, i.e. classical orbit parameters\n",
    "cop = filtered.loc[55] #pick one from the df\n",
    "a = cop['radius']*u.km #radius = semi-major axis\n",
    "ecc = 0 * u.one # this is cant be different than 0 since the helio_rgt is for circular orbits\n",
    "inc = cop['inc']*u.deg\n",
    "\n",
    "#reuse past raan, argp and nu\n",
    "orb = Orbit.from_classical(Earth,\n",
    "                            a,\n",
    "                            ecc,\n",
    "                            inc,\n",
    "                            raan,\n",
    "                            argp,\n",
    "                            nu)"
   ]
  },
  {
   "cell_type": "markdown",
   "id": "162a736f",
   "metadata": {},
   "source": [
    "# Building satellites\n",
    "\n",
    " Satellite is one of the main classes in this library. You can build a satellite reading the docs, you are encouraged to use the classmethods.\n"
   ]
  },
  {
   "cell_type": "code",
   "execution_count": 8,
   "id": "744b1695",
   "metadata": {},
   "outputs": [],
   "source": [
    "from CtllDes.core.satellite import Sat"
   ]
  },
  {
   "cell_type": "markdown",
   "id": "2f4765db",
   "metadata": {},
   "source": [
    "\n",
    "### Building satellite from classmethods."
   ]
  },
  {
   "cell_type": "code",
   "execution_count": 9,
   "id": "441a01b6",
   "metadata": {},
   "outputs": [],
   "source": [
    "sat = Sat.from_orbit(orb) \n",
    "sat = Sat.from_vectors([8000,0,0]*u.km,\n",
    "                       [0,7,0]*u.km/u.s,\n",
    "                      attractor=Earth)\n"
   ]
  },
  {
   "cell_type": "markdown",
   "id": "8bcd9be3",
   "metadata": {},
   "source": [
    "# Satellite's parameters "
   ]
  },
  {
   "cell_type": "code",
   "execution_count": 10,
   "id": "97d45d91",
   "metadata": {},
   "outputs": [
    {
     "name": "stdout",
     "output_type": "stream",
     "text": [
      "id : 6d1f4906-3123-4230-8cfa-3b4f0ee59fed\t[a ecc inc raan argp nu] : [7869.7 km 0.0 0.0 rad 0.0 rad 3.1 rad -3.1 rad]\t\tstatus : Online\n"
     ]
    }
   ],
   "source": [
    "sat.info() #general info at t=0"
   ]
  },
  {
   "cell_type": "markdown",
   "id": "8870e288",
   "metadata": {},
   "source": [
    "### Physical Specifications"
   ]
  },
  {
   "cell_type": "code",
   "execution_count": 11,
   "id": "bc86fdbd",
   "metadata": {},
   "outputs": [
    {
     "name": "stdout",
     "output_type": "stream",
     "text": [
      " m:1.0 kg, Cd:1.0, A:1.0 m2\n"
     ]
    }
   ],
   "source": [
    "print(sat.spec) #None specified, default parameters selected"
   ]
  },
  {
   "cell_type": "markdown",
   "id": "e9f9fb9b",
   "metadata": {},
   "source": [
    "### Status"
   ]
  },
  {
   "cell_type": "code",
   "execution_count": 12,
   "id": "8f64328b",
   "metadata": {},
   "outputs": [
    {
     "data": {
      "text/plain": [
       "'Online'"
      ]
     },
     "execution_count": 12,
     "metadata": {},
     "output_type": "execute_result"
    }
   ],
   "source": [
    "sat.status #None specified, Online status "
   ]
  },
  {
   "cell_type": "markdown",
   "id": "386cf4cc",
   "metadata": {},
   "source": [
    "### Instruments"
   ]
  },
  {
   "cell_type": "code",
   "execution_count": 13,
   "id": "f31dc460",
   "metadata": {},
   "outputs": [
    {
     "data": {
      "text/plain": [
       "[]"
      ]
     },
     "execution_count": 13,
     "metadata": {},
     "output_type": "execute_result"
    }
   ],
   "source": [
    "sat.instruments #None specified, empty list"
   ]
  },
  {
   "cell_type": "markdown",
   "id": "4b0a789a",
   "metadata": {},
   "source": [
    "### Universal Unique Identfier\n"
   ]
  },
  {
   "cell_type": "code",
   "execution_count": 14,
   "id": "12562bd3",
   "metadata": {},
   "outputs": [
    {
     "data": {
      "text/plain": [
       "UUID('6d1f4906-3123-4230-8cfa-3b4f0ee59fed')"
      ]
     },
     "execution_count": 14,
     "metadata": {},
     "output_type": "execute_result"
    }
   ],
   "source": [
    "sat.id"
   ]
  },
  {
   "cell_type": "markdown",
   "id": "aff9d05c",
   "metadata": {},
   "source": [
    "### Attractor"
   ]
  },
  {
   "cell_type": "code",
   "execution_count": 15,
   "id": "57178d5c",
   "metadata": {},
   "outputs": [
    {
     "data": {
      "text/plain": [
       "Earth (♁)"
      ]
     },
     "execution_count": 15,
     "metadata": {},
     "output_type": "execute_result"
    }
   ],
   "source": [
    "sat.attractor"
   ]
  },
  {
   "cell_type": "markdown",
   "id": "c4c0afe0",
   "metadata": {},
   "source": [
    "### Orbit"
   ]
  },
  {
   "cell_type": "code",
   "execution_count": 16,
   "id": "5f6061f1",
   "metadata": {},
   "outputs": [
    {
     "data": {
      "text/plain": [
       "7739 x 8000 km x 0.0 deg (GCRS) orbit around Earth (♁) at epoch J2000.000 (TT)"
      ]
     },
     "execution_count": 16,
     "metadata": {},
     "output_type": "execute_result"
    }
   ],
   "source": [
    "sat.orbit"
   ]
  },
  {
   "cell_type": "markdown",
   "id": "0e2c0bd5",
   "metadata": {},
   "source": [
    "#  Physical Specifications"
   ]
  },
  {
   "cell_type": "code",
   "execution_count": 17,
   "id": "d27f211a",
   "metadata": {},
   "outputs": [],
   "source": [
    "from CtllDes.core import specs"
   ]
  },
  {
   "cell_type": "code",
   "execution_count": 18,
   "id": "3a673d7f",
   "metadata": {},
   "outputs": [],
   "source": [
    "\n",
    "drag_coef = 2.2*u.one\n",
    "mass = 200*u.kg\n",
    "Area = 10*u.m**2\n",
    "\n",
    "spec = specs.Specifications(m=mass, Cd=drag_coef, A=Area)"
   ]
  },
  {
   "cell_type": "code",
   "execution_count": 19,
   "id": "9325b10d",
   "metadata": {},
   "outputs": [
    {
     "name": "stdout",
     "output_type": "stream",
     "text": [
      " m:200.0 kg, Cd:2.2, A:10.0 m2\n"
     ]
    }
   ],
   "source": [
    "sat.update_spec(spec)\n",
    "print(sat.spec)"
   ]
  },
  {
   "cell_type": "markdown",
   "id": "253e8740",
   "metadata": {},
   "source": [
    "#  Status (in dev)"
   ]
  },
  {
   "cell_type": "code",
   "execution_count": 20,
   "id": "8bd52709",
   "metadata": {},
   "outputs": [],
   "source": [
    "#In development. Until now is just a string identifying if the \n",
    "#satellite is Online or not. This will impact when calculating\n",
    "#merit figures. "
   ]
  },
  {
   "cell_type": "code",
   "execution_count": 21,
   "id": "502c5435",
   "metadata": {},
   "outputs": [
    {
     "name": "stdout",
     "output_type": "stream",
     "text": [
      "Warning, notImplemented\n"
     ]
    },
    {
     "data": {
      "text/plain": [
       "'Online'"
      ]
     },
     "execution_count": 21,
     "metadata": {},
     "output_type": "execute_result"
    }
   ],
   "source": [
    "sat.update_status('Shutoff')\n",
    "sat.status"
   ]
  },
  {
   "cell_type": "markdown",
   "id": "54dcfcd4",
   "metadata": {},
   "source": [
    "# Instruments"
   ]
  },
  {
   "cell_type": "markdown",
   "id": "9b2b473b",
   "metadata": {},
   "source": [
    "The instruments module is explained in more detailed in instruments.ipynb. There you can find how to create new instruments and For now, the example below will just update the instrument with a default Camera one. "
   ]
  },
  {
   "cell_type": "code",
   "execution_count": 22,
   "id": "17cb3052",
   "metadata": {},
   "outputs": [],
   "source": [
    "from CtllDes.core import instrument"
   ]
  },
  {
   "cell_type": "code",
   "execution_count": 23,
   "id": "aab540c5",
   "metadata": {},
   "outputs": [
    {
     "data": {
      "text/plain": [
       "[<CtllDes.core.instrument.Camera at 0x7f2c72f5a8e0>]"
      ]
     },
     "execution_count": 23,
     "metadata": {},
     "output_type": "execute_result"
    }
   ],
   "source": [
    "camera = instrument.Camera(800, 0.01) # pixels, angle resolution\n",
    "sat.update_instruments(camera,f=True) # force option\n",
    "sat.instruments"
   ]
  },
  {
   "cell_type": "markdown",
   "id": "b53af32b",
   "metadata": {},
   "source": [
    "# Building a Constellation"
   ]
  },
  {
   "cell_type": "code",
   "execution_count": 24,
   "id": "9ea0acbf",
   "metadata": {},
   "outputs": [],
   "source": [
    "#since a constellation is a set of satellite we will build a few more.\n",
    "\n",
    "sat0 = sat\n",
    "sat1 = Sat.from_vectors([8000,0,0]*u.km,\n",
    "                        [0,7,0]*u.km/u.s,\n",
    "                        attractor=Earth)\n",
    "sat2 = Sat.from_orbit(Orbit.heliosynchronous(Earth,\n",
    "                                             a=8000*u.km,\n",
    "                                             ecc=0*u.one))\n"
   ]
  },
  {
   "cell_type": "code",
   "execution_count": 25,
   "id": "7b425f87",
   "metadata": {},
   "outputs": [],
   "source": [
    "constellation = ctll.Ctll.from_sats([sat0,sat1,sat2])"
   ]
  },
  {
   "cell_type": "code",
   "execution_count": 26,
   "id": "c1e23bfe",
   "metadata": {},
   "outputs": [
    {
     "name": "stdout",
     "output_type": "stream",
     "text": [
      "\n",
      "3 satellites within no Pattern\n"
     ]
    }
   ],
   "source": [
    "constellation.info()"
   ]
  },
  {
   "cell_type": "code",
   "execution_count": 27,
   "id": "6a91dfd1",
   "metadata": {},
   "outputs": [
    {
     "name": "stdout",
     "output_type": "stream",
     "text": [
      "\n",
      "3 satellites in no Pattern\n",
      "\n",
      "id : 29d936dd-0c4d-4384-b0e7-9631b6c33c1a\t[a ecc inc raan argp nu] : [7869.7 km 0.0 0.0 rad 0.0 rad 3.1 rad -3.1 rad]\t\tstatus : Online\n",
      "id : afe6eba3-9390-41be-b2aa-da05992b49f1\t[a ecc inc raan argp nu] : [7869.7 km 0.0 0.0 rad 0.0 rad 3.1 rad -3.1 rad]\t\tstatus : Online\n",
      "id : 7c9d985f-34f9-4154-b6d9-43755fc66ae8\t[a ecc inc raan argp nu] : [8000.0 km 0.0 1.8 rad 610.5 deg 0.0 deg 0.0 deg]\t\tstatus : Online\n"
     ]
    }
   ],
   "source": [
    "constellation.info(v=True)"
   ]
  },
  {
   "cell_type": "code",
   "execution_count": 28,
   "id": "1eb4a65b",
   "metadata": {},
   "outputs": [
    {
     "data": {
      "text/plain": [
       "[UUID('29d936dd-0c4d-4384-b0e7-9631b6c33c1a'),\n",
       " UUID('afe6eba3-9390-41be-b2aa-da05992b49f1'),\n",
       " UUID('7c9d985f-34f9-4154-b6d9-43755fc66ae8')]"
      ]
     },
     "execution_count": 28,
     "metadata": {},
     "output_type": "execute_result"
    }
   ],
   "source": [
    "ids = constellation.online_id\n",
    "ids "
   ]
  },
  {
   "cell_type": "code",
   "execution_count": 29,
   "id": "44a1cff2",
   "metadata": {},
   "outputs": [
    {
     "name": "stdout",
     "output_type": "stream",
     "text": [
      "id : afe6eba3-9390-41be-b2aa-da05992b49f1\t[a ecc inc raan argp nu] : [7869.7 km 0.0 0.0 rad 0.0 rad 3.1 rad -3.1 rad]\t\tstatus : Online\n"
     ]
    }
   ],
   "source": [
    "sat_by_id = constellation.get_sat(ids[1])\n",
    "sat_by_id.info()"
   ]
  },
  {
   "cell_type": "code",
   "execution_count": 30,
   "id": "b31194a9",
   "metadata": {},
   "outputs": [
    {
     "name": "stdout",
     "output_type": "stream",
     "text": [
      "id : afe6eba3-9390-41be-b2aa-da05992b49f1\t[a ecc inc raan argp nu] : [7869.7 km 0.0 0.0 rad 0.0 rad 3.1 rad -3.1 rad]\t\tstatus : Online\n"
     ]
    }
   ],
   "source": [
    "constellation.sats[1].info()"
   ]
  },
  {
   "cell_type": "code",
   "execution_count": 31,
   "id": "7ea1c9d6",
   "metadata": {},
   "outputs": [
    {
     "data": {
      "text/plain": [
       "[[<CtllDes.core.instrument.Camera at 0x7f2c72f5a8e0>], [], []]"
      ]
     },
     "execution_count": 31,
     "metadata": {},
     "output_type": "execute_result"
    }
   ],
   "source": [
    "constellation.instruments"
   ]
  },
  {
   "cell_type": "code",
   "execution_count": 32,
   "id": "b8165a38",
   "metadata": {},
   "outputs": [],
   "source": [
    "camera1 = instrument.Camera(800,0.1)\n",
    "camera2 = instrument.Camera(800,0.04)"
   ]
  },
  {
   "cell_type": "code",
   "execution_count": 33,
   "id": "cced81e3",
   "metadata": {},
   "outputs": [
    {
     "data": {
      "text/plain": [
       "[[<CtllDes.core.instrument.Camera at 0x7f2c72f5a8e0>], [], []]"
      ]
     },
     "execution_count": 33,
     "metadata": {},
     "output_type": "execute_result"
    }
   ],
   "source": [
    "#this wouldnt work since the constellation copies the sat info\n",
    "sat1.update_instruments(camera1,f=True)\n",
    "sat2.update_instruments(camera2,f=True)\n",
    "\n",
    "constellation.instruments"
   ]
  },
  {
   "cell_type": "code",
   "execution_count": 34,
   "id": "9b1f29f2",
   "metadata": {},
   "outputs": [
    {
     "data": {
      "text/plain": [
       "[[<CtllDes.core.instrument.Camera at 0x7f2c72f5a8e0>],\n",
       " [<CtllDes.core.instrument.Camera at 0x7f2c4a4e2c10>],\n",
       " [<CtllDes.core.instrument.Camera at 0x7f2c4a4ec040>]]"
      ]
     },
     "execution_count": 34,
     "metadata": {},
     "output_type": "execute_result"
    }
   ],
   "source": [
    "constellation.sats[1].update_instruments(camera1,f=True)\n",
    "constellation.sats[2].update_instruments(camera2,f=True)\n",
    "\n",
    "constellation.instruments"
   ]
  },
  {
   "cell_type": "markdown",
   "id": "5cd2a637",
   "metadata": {},
   "source": [
    "### Building specific pattern "
   ]
  },
  {
   "cell_type": "code",
   "execution_count": 35,
   "id": "64e1424b",
   "metadata": {},
   "outputs": [],
   "source": [
    "#Build a Walker Delta constellation\n",
    "T = 10\n",
    "P = 5\n",
    "F = 3\n",
    "\n",
    "p = 12000*u.km\n",
    "ecc = 0*u.one\n",
    "inc = 99*u.deg\n",
    "raan = 30*u.deg\n",
    "argp = 20*u.deg\n",
    "nu = 0.3*u.rad\n",
    "\n",
    "WDctll = ctll.Ctll.from_WalkerDelta(T,\n",
    "                                    P,\n",
    "                                    F,\n",
    "                                    p,\n",
    "                                    ecc,\n",
    "                                    inc,\n",
    "                                    argp,\n",
    "                                    raan_offset=raan,\n",
    "                                    nu_offset=nu,\n",
    "                                   )"
   ]
  },
  {
   "cell_type": "code",
   "execution_count": 36,
   "id": "fbd9dbb7",
   "metadata": {},
   "outputs": [
    {
     "name": "stdout",
     "output_type": "stream",
     "text": [
      "\n",
      "10 satellites in Walker Delta Pattern T/P/F = 10/5/3\n",
      "\n",
      "id : ee6f7b79-63bf-4bf3-a75e-545c11dbf65f\t[a ecc inc raan argp nu] : [12000.0 km 0.0 99.0 deg 30.0 deg 20.0 deg 17.2 deg]\t\tstatus : Online\n",
      "id : fddd6840-fe35-467f-b6b7-eafb4ec97129\t[a ecc inc raan argp nu] : [12000.0 km 0.0 99.0 deg 30.0 deg 20.0 deg -162.8 deg]\t\tstatus : Online\n",
      "id : e30dd266-c226-46c6-bbb9-e003df8b3e88\t[a ecc inc raan argp nu] : [12000.0 km 0.0 99.0 deg 102.0 deg 20.0 deg 125.2 deg]\t\tstatus : Online\n",
      "id : 457cf58b-e1be-4e94-9d35-2cc8931155d7\t[a ecc inc raan argp nu] : [12000.0 km 0.0 99.0 deg 102.0 deg 20.0 deg -54.8 deg]\t\tstatus : Online\n",
      "id : 91f155d2-95ba-49d2-a1fc-cf2e0c64e194\t[a ecc inc raan argp nu] : [12000.0 km 0.0 99.0 deg 174.0 deg 20.0 deg -126.8 deg]\t\tstatus : Online\n",
      "id : 8028bdb9-b318-44ad-a58d-e9d56f0272b4\t[a ecc inc raan argp nu] : [12000.0 km 0.0 99.0 deg 174.0 deg 20.0 deg 53.2 deg]\t\tstatus : Online\n",
      "id : 44289ca8-1a5f-4c18-b324-045eab661cce\t[a ecc inc raan argp nu] : [12000.0 km 0.0 99.0 deg 246.0 deg 20.0 deg -18.8 deg]\t\tstatus : Online\n",
      "id : ea30cc33-0d67-4c15-80a5-8ac7053fc49d\t[a ecc inc raan argp nu] : [12000.0 km 0.0 99.0 deg 246.0 deg 20.0 deg 161.2 deg]\t\tstatus : Online\n",
      "id : 7716aa27-6884-46da-9f89-20681b96716e\t[a ecc inc raan argp nu] : [12000.0 km 0.0 99.0 deg 318.0 deg 20.0 deg 89.2 deg]\t\tstatus : Online\n",
      "id : 5186b3f4-4513-4aee-b446-dc7788b9ad29\t[a ecc inc raan argp nu] : [12000.0 km 0.0 99.0 deg 318.0 deg 20.0 deg -90.8 deg]\t\tstatus : Online\n"
     ]
    }
   ],
   "source": [
    "WDctll.info(v=True)"
   ]
  },
  {
   "cell_type": "code",
   "execution_count": 37,
   "id": "f1833319",
   "metadata": {},
   "outputs": [
    {
     "name": "stdout",
     "output_type": "stream",
     "text": [
      "\n",
      "Specifications\n",
      "\n",
      " m:1.0 kg, Cd:1.0, A:1.0 m2\n",
      " m:1.0 kg, Cd:1.0, A:1.0 m2\n",
      " m:1.0 kg, Cd:1.0, A:1.0 m2\n",
      " m:1.0 kg, Cd:1.0, A:1.0 m2\n",
      " m:1.0 kg, Cd:1.0, A:1.0 m2\n",
      " m:1.0 kg, Cd:1.0, A:1.0 m2\n",
      " m:1.0 kg, Cd:1.0, A:1.0 m2\n",
      " m:1.0 kg, Cd:1.0, A:1.0 m2\n",
      " m:1.0 kg, Cd:1.0, A:1.0 m2\n",
      " m:1.0 kg, Cd:1.0, A:1.0 m2\n",
      "\n",
      "Status\n",
      "\n",
      "Online\n",
      "Online\n",
      "Online\n",
      "Online\n",
      "Online\n",
      "Online\n",
      "Online\n",
      "Online\n",
      "Online\n",
      "Online\n",
      "\n",
      "Instruments\n",
      "\n",
      "[]\n",
      "[]\n",
      "[]\n",
      "[]\n",
      "[]\n",
      "[]\n",
      "[]\n",
      "[]\n",
      "[]\n",
      "[]\n"
     ]
    }
   ],
   "source": [
    "#default specs\n",
    "print(\"\\nSpecifications\\n\")\n",
    "for spec in WDctll.specs:\n",
    "    print(spec)\n",
    "\n",
    "#default status\n",
    "print(\"\\nStatus\\n\")\n",
    "for status in WDctll.status:\n",
    "    print(status)\n",
    "\n",
    "#default instruments\n",
    "print(\"\\nInstruments\\n\")\n",
    "for instr in WDctll.instruments:\n",
    "    print(instr)\n"
   ]
  },
  {
   "cell_type": "markdown",
   "id": "917fe9c7",
   "metadata": {},
   "source": [
    "# Changing default instruments, status and specifications."
   ]
  },
  {
   "cell_type": "code",
   "execution_count": 38,
   "id": "c03ae3f9",
   "metadata": {},
   "outputs": [
    {
     "data": {
      "text/plain": [
       "10"
      ]
     },
     "execution_count": 38,
     "metadata": {},
     "output_type": "execute_result"
    }
   ],
   "source": [
    "#check amount of satellites inside Walker Delta Ctll\n",
    "WDctll.N"
   ]
  },
  {
   "cell_type": "markdown",
   "id": "6d145f36",
   "metadata": {},
   "source": [
    "### Specifications"
   ]
  },
  {
   "cell_type": "code",
   "execution_count": 39,
   "id": "63edba20",
   "metadata": {},
   "outputs": [
    {
     "name": "stdout",
     "output_type": "stream",
     "text": [
      " m:30.0 kg, Cd:1.5, A:50.0 m2\n",
      " m:30.0 kg, Cd:1.5, A:50.0 m2\n",
      " m:30.0 kg, Cd:1.5, A:50.0 m2\n",
      " m:30.0 kg, Cd:1.5, A:50.0 m2\n",
      " m:30.0 kg, Cd:1.5, A:50.0 m2\n",
      " m:30.0 kg, Cd:1.5, A:50.0 m2\n",
      " m:30.0 kg, Cd:1.5, A:50.0 m2\n",
      " m:30.0 kg, Cd:1.5, A:50.0 m2\n",
      " m:30.0 kg, Cd:1.5, A:50.0 m2\n",
      " m:30.0 kg, Cd:1.5, A:50.0 m2\n"
     ]
    }
   ],
   "source": [
    "general_spec = specs.Specifications(m=30*u.kg,Cd=1.5*u.one,A=50*u.m**2)\n",
    "spec_lst = [general_spec for _ in range(WDctll.N)]\n",
    "WDctll.update_specs(spec_lst)\n",
    "\n",
    "#new specs\n",
    "for spec in WDctll.specs:\n",
    "    print(spec)"
   ]
  },
  {
   "cell_type": "markdown",
   "id": "81477770",
   "metadata": {},
   "source": [
    "### Instruments"
   ]
  },
  {
   "cell_type": "code",
   "execution_count": 40,
   "id": "ce71d5ce",
   "metadata": {},
   "outputs": [
    {
     "name": "stdout",
     "output_type": "stream",
     "text": [
      "[<CtllDes.core.instrument.Camera object at 0x7f2c4a4f15b0>]\n",
      "[<CtllDes.core.instrument.Camera object at 0x7f2c4a4f1af0>]\n",
      "[<CtllDes.core.instrument.Camera object at 0x7f2c4a4f1a00>]\n",
      "[<CtllDes.core.instrument.Camera object at 0x7f2c4a4ec5b0>]\n",
      "[<CtllDes.core.instrument.Camera object at 0x7f2c4a4eca90>]\n",
      "[<CtllDes.core.instrument.Camera object at 0x7f2c4a4ecca0>]\n",
      "[<CtllDes.core.instrument.Camera object at 0x7f2c4a4ec460>]\n",
      "[<CtllDes.core.instrument.Camera object at 0x7f2c4a4ec190>]\n",
      "[<CtllDes.core.instrument.Camera object at 0x7f2c4a4ec730>]\n",
      "[<CtllDes.core.instrument.Camera object at 0x7f2c4a4e2cd0>]\n"
     ]
    }
   ],
   "source": [
    "general_instrument = instrument.Camera(1000,0.1)\n",
    "instr_lst = [general_instrument for _ in range(WDctll.N)]\n",
    "WDctll.update_instruments(instr_lst,f=True)\n",
    "\n",
    "#new instruments\n",
    "for instr in WDctll.instruments:\n",
    "    print(instr)"
   ]
  },
  {
   "cell_type": "markdown",
   "id": "8bedbf60",
   "metadata": {},
   "source": [
    "### Status (in dev)"
   ]
  },
  {
   "cell_type": "code",
   "execution_count": null,
   "id": "3c1b4ba6",
   "metadata": {},
   "outputs": [],
   "source": []
  },
  {
   "cell_type": "markdown",
   "id": "676179ee",
   "metadata": {},
   "source": [
    "# Adding Constellations  "
   ]
  },
  {
   "cell_type": "code",
   "execution_count": 41,
   "id": "33cdb730",
   "metadata": {},
   "outputs": [
    {
     "name": "stdout",
     "output_type": "stream",
     "text": [
      "\n",
      "10 satellites in Walker Delta Pattern T/P/F = 10/5/3\n",
      "\n",
      "id : fd5019e2-1ec3-448d-ad36-3a593062638c\t[a ecc inc raan argp nu] : [12000.0 km 0.0 99.0 deg 30.0 deg 20.0 deg 17.2 deg]\t\tstatus : Online\n",
      "id : 0bb5f4aa-e334-41df-a448-73ce7cf1c410\t[a ecc inc raan argp nu] : [12000.0 km 0.0 99.0 deg 30.0 deg 20.0 deg -162.8 deg]\t\tstatus : Online\n",
      "id : e0ac6c78-2b58-4b43-a380-d916cb748a24\t[a ecc inc raan argp nu] : [12000.0 km 0.0 99.0 deg 102.0 deg 20.0 deg 125.2 deg]\t\tstatus : Online\n",
      "id : 39453e13-13a5-4814-8698-62d503bf4bb6\t[a ecc inc raan argp nu] : [12000.0 km 0.0 99.0 deg 102.0 deg 20.0 deg -54.8 deg]\t\tstatus : Online\n",
      "id : 7d3852b3-2266-4de0-b9bd-7f903221614b\t[a ecc inc raan argp nu] : [12000.0 km 0.0 99.0 deg 174.0 deg 20.0 deg -126.8 deg]\t\tstatus : Online\n",
      "id : a56387a1-42fa-42bc-b31d-939bbe5399fd\t[a ecc inc raan argp nu] : [12000.0 km 0.0 99.0 deg 174.0 deg 20.0 deg 53.2 deg]\t\tstatus : Online\n",
      "id : 044a1943-0371-4111-be20-12ee54d1d1ed\t[a ecc inc raan argp nu] : [12000.0 km 0.0 99.0 deg 246.0 deg 20.0 deg -18.8 deg]\t\tstatus : Online\n",
      "id : 86e9d8e0-f86d-4d81-8418-189bde5437fb\t[a ecc inc raan argp nu] : [12000.0 km 0.0 99.0 deg 246.0 deg 20.0 deg 161.2 deg]\t\tstatus : Online\n",
      "id : 7358d4df-d98a-4a2f-9906-89ff6a46f225\t[a ecc inc raan argp nu] : [12000.0 km 0.0 99.0 deg 318.0 deg 20.0 deg 89.2 deg]\t\tstatus : Online\n",
      "id : 3bcbd926-fa42-4678-a382-cc206bd0bf44\t[a ecc inc raan argp nu] : [12000.0 km 0.0 99.0 deg 318.0 deg 20.0 deg -90.8 deg]\t\tstatus : Online\n",
      "\n",
      "3 satellites in no Pattern\n",
      "\n",
      "id : b601a156-45d5-4d76-8f7e-6ad38fa587a3\t[a ecc inc raan argp nu] : [7869.7 km 0.0 0.0 rad 0.0 rad 3.1 rad -3.1 rad]\t\tstatus : Online\n",
      "id : 08485502-d3e6-4417-a35e-05b2d7ff610a\t[a ecc inc raan argp nu] : [7869.7 km 0.0 0.0 rad 0.0 rad 3.1 rad -3.1 rad]\t\tstatus : Online\n",
      "id : 6d1754f1-3e45-4107-a94f-2c0c409adcaf\t[a ecc inc raan argp nu] : [8000.0 km 0.0 1.8 rad 610.5 deg 0.0 deg 0.0 deg]\t\tstatus : Online\n"
     ]
    }
   ],
   "source": [
    "added_ctll = constellation + WDctll\n",
    "added_ctll.info(v=True)\n"
   ]
  },
  {
   "cell_type": "code",
   "execution_count": 42,
   "id": "bb8d16e8",
   "metadata": {},
   "outputs": [
    {
     "name": "stdout",
     "output_type": "stream",
     "text": [
      "\n",
      "13 satellites in no Pattern\n",
      "\n",
      "id : c3d27c98-6db2-4925-a778-ad4608effd5e\t[a ecc inc raan argp nu] : [7869.7 km 0.0 0.0 rad 0.0 rad 3.1 rad -3.1 rad]\t\tstatus : Online\n",
      "id : 2ce1b4b7-7862-4804-90b2-93e7e1b3c759\t[a ecc inc raan argp nu] : [7869.7 km 0.0 0.0 rad 0.0 rad 3.1 rad -3.1 rad]\t\tstatus : Online\n",
      "id : fab8b312-9704-4eca-8909-403c54bbea8c\t[a ecc inc raan argp nu] : [8000.0 km 0.0 1.8 rad 610.5 deg 0.0 deg 0.0 deg]\t\tstatus : Online\n",
      "id : 53fb8f04-9f18-45a8-8cad-76710294a38e\t[a ecc inc raan argp nu] : [12000.0 km 0.0 99.0 deg 30.0 deg 20.0 deg 17.2 deg]\t\tstatus : Online\n",
      "id : 45bfc4eb-d247-4a49-b931-270cff75e0d1\t[a ecc inc raan argp nu] : [12000.0 km 0.0 99.0 deg 30.0 deg 20.0 deg -162.8 deg]\t\tstatus : Online\n",
      "id : f97f38d5-abde-45cf-8f91-5cea2e3bd419\t[a ecc inc raan argp nu] : [12000.0 km 0.0 99.0 deg 102.0 deg 20.0 deg 125.2 deg]\t\tstatus : Online\n",
      "id : d697da05-e0ff-41a7-bfd7-3504f23ca9a9\t[a ecc inc raan argp nu] : [12000.0 km 0.0 99.0 deg 102.0 deg 20.0 deg -54.8 deg]\t\tstatus : Online\n",
      "id : c7dbf50b-1f31-428e-935b-8a9a232c5fcc\t[a ecc inc raan argp nu] : [12000.0 km 0.0 99.0 deg 174.0 deg 20.0 deg -126.8 deg]\t\tstatus : Online\n",
      "id : 47c9b4e5-90f9-443d-9553-7fb0d88eede1\t[a ecc inc raan argp nu] : [12000.0 km 0.0 99.0 deg 174.0 deg 20.0 deg 53.2 deg]\t\tstatus : Online\n",
      "id : 6335637c-a499-4c0f-bc2e-633ba3acd222\t[a ecc inc raan argp nu] : [12000.0 km 0.0 99.0 deg 246.0 deg 20.0 deg -18.8 deg]\t\tstatus : Online\n",
      "id : 8b98c5b0-f526-486c-93c2-6fc2ce1d6a8c\t[a ecc inc raan argp nu] : [12000.0 km 0.0 99.0 deg 246.0 deg 20.0 deg 161.2 deg]\t\tstatus : Online\n",
      "id : 99416e18-d418-49d4-806a-a56c954bca4a\t[a ecc inc raan argp nu] : [12000.0 km 0.0 99.0 deg 318.0 deg 20.0 deg 89.2 deg]\t\tstatus : Online\n",
      "id : 0ee7716d-d201-4deb-b505-8c44ba29d3cd\t[a ecc inc raan argp nu] : [12000.0 km 0.0 99.0 deg 318.0 deg 20.0 deg -90.8 deg]\t\tstatus : Online\n"
     ]
    }
   ],
   "source": [
    "#the above cell is equivalent to the following except from the fact that the patterns are not inherited\n",
    "added_ctll = ctll.Ctll.from_sats(constellation.sats+WDctll.sats)\n",
    "added_ctll.info(v=True)"
   ]
  },
  {
   "cell_type": "markdown",
   "id": "36c620a4",
   "metadata": {},
   "source": [
    "# Propagation"
   ]
  },
  {
   "cell_type": "markdown",
   "id": "9efb8fe7",
   "metadata": {},
   "source": [
    "In order to obtain the ephemerides of the satellite you can use the rv method for the Sat class as well as the Ctll class."
   ]
  },
  {
   "cell_type": "markdown",
   "id": "cc434bcb",
   "metadata": {},
   "source": [
    "### Satellite"
   ]
  },
  {
   "cell_type": "code",
   "execution_count": 43,
   "id": "5fee832d",
   "metadata": {},
   "outputs": [],
   "source": [
    "#As you can see in the documentation \n",
    "\n",
    "#T days \n",
    "#dt interval in seconds\n",
    "#drag and J2, perturbations used in propagation\n",
    "r_sat,v_sat = added_ctll.sats[0].rv(30,dt=50, J2=True, drag=False)\n",
    "lon_sat,lat_sat = added_ctll.sats[0].ssps(4,J2=False)"
   ]
  },
  {
   "cell_type": "markdown",
   "id": "38f4f270",
   "metadata": {},
   "source": [
    "### Constellation"
   ]
  },
  {
   "cell_type": "code",
   "execution_count": 44,
   "id": "a2bd9198",
   "metadata": {},
   "outputs": [],
   "source": [
    "rv_ctll = added_ctll.rv(30, dt=10, drag = True, J2=True)\n",
    "r,v = rv_ctll[0]\n",
    "\n",
    "lonlat_ctll = added_ctll.ssps(5,dt=10,J2=True,drag=True)\n",
    "lon,lat = lonlat_ctll[0]"
   ]
  },
  {
   "cell_type": "markdown",
   "id": "62e72578",
   "metadata": {},
   "source": [
    "### Plotting r (xyz)"
   ]
  },
  {
   "cell_type": "code",
   "execution_count": 45,
   "id": "8951019b",
   "metadata": {},
   "outputs": [],
   "source": [
    "import matplotlib.pyplot as plt\n",
    "%matplotlib qt5"
   ]
  },
  {
   "cell_type": "code",
   "execution_count": 46,
   "id": "f5e62d85",
   "metadata": {},
   "outputs": [],
   "source": [
    "fig = plt.figure(figsize=(10,10))\n",
    "ax = fig.add_subplot(111, projection='3d')\n",
    "ax.scatter(r_sat[::50,0], r_sat[::50,1], r_sat[::50,2],s=0.5,c='k') #xyz obviously\n",
    "ax.scatter(0,0,0,c='blue', s=6370)\n",
    "\n",
    "plt.show()\n"
   ]
  },
  {
   "cell_type": "code",
   "execution_count": 50,
   "id": "3abe18af",
   "metadata": {},
   "outputs": [
    {
     "data": {
      "image/png": "[encoded data removed]",
      "text/plain": [
       "<Figure size 720x720 with 1 Axes>"
      ]
     },
     "metadata": {
      "needs_background": "light"
     },
     "output_type": "display_data"
    }
   ],
   "source": [
    "fig = plt.figure(figsize=(10,10))\n",
    "ax = fig.add_subplot(111, projection='3d')\n",
    "ax.scatter(r[::50,0], r[::50,1], r[::50,2],s=0.5,c='k') #xyz obviously\n",
    "ax.scatter(0,0,0,c='blue',s=6370)\n",
    "\n",
    "plt.show()"
   ]
  },
  {
   "cell_type": "markdown",
   "id": "55dfdba4",
   "metadata": {},
   "source": [
    "### Plotting groundtrack "
   ]
  },
  {
   "cell_type": "code",
   "execution_count": 48,
   "id": "14c30d6e",
   "metadata": {},
   "outputs": [
    {
     "data": {
      "image/png": "[encoded data removed]",
      "text/plain": [
       "<Figure size 432x288 with 1 Axes>"
      ]
     },
     "metadata": {
      "needs_background": "light"
     },
     "output_type": "display_data"
    }
   ],
   "source": [
    "%matplotlib inline \n",
    "lons, lats = added_ctll.sats[-1].ssps(1,J2=True,drag=False)\n",
    "\n",
    "fig = plt.figure()\n",
    "plt.scatter(lons[::10],lats[::10],c='k',s=0.1)\n",
    "plt.show()\n",
    " "
   ]
  }
 ],
 "metadata": {
  "kernelspec": {
   "display_name": "Python 3",
   "language": "python",
   "name": "python3"
  },
  "language_info": {
   "codemirror_mode": {
    "name": "ipython",
    "version": 3
   },
   "file_extension": ".py",
   "mimetype": "text/x-python",
   "name": "python",
   "nbconvert_exporter": "python",
   "pygments_lexer": "ipython3",
   "version": "3.8.5"
  }
 },
 "nbformat": 4,
 "nbformat_minor": 5
}
