{
 "cells": [
  {
   "cell_type": "markdown",
   "id": "781a9a0b",
   "metadata": {},
   "source": [
    "<h1>Getting Started</h1>"
   ]
  },
  {
   "cell_type": "code",
   "execution_count": 1,
   "id": "afcf50ff",
   "metadata": {},
   "outputs": [],
   "source": [
    "# if you are running in the notebooks folder example cloned from github this line must be included\n",
    "import sys\n",
    "import os\n",
    "sys.path.insert(0, os.path.abspath('../'))"
   ]
  },
  {
   "cell_type": "markdown",
   "id": "a158cbd0",
   "metadata": {},
   "source": [
    "<h3>Import CtllDes and poliastro, the core and utils elements </h3>"
   ]
  },
  {
   "cell_type": "code",
   "execution_count": 2,
   "id": "55fb2aed",
   "metadata": {},
   "outputs": [
    {
     "name": "stderr",
     "output_type": "stream",
     "text": [
      "WARNING: AstropyDeprecationWarning: The private astropy._erfa module has been made into its own package, pyerfa, which is a dependency of astropy and can be imported directly using \"import erfa\" [astropy._erfa]\n"
     ]
    }
   ],
   "source": [
    "import numpy as np\n",
    "\n",
    "#Propagator engine\n",
    "import poliastro\n",
    "\n",
    "#The library\n",
    "import CtllDes \n",
    "from CtllDes.core import ctll, satellite\n",
    "\n",
    "#Throughout this examples it will be necessary to use the correct\n",
    "#physical dimensions, astropy.units will help us with that\n",
    "import astropy.units as u"
   ]
  },
  {
   "cell_type": "markdown",
   "id": "9e9ec706",
   "metadata": {},
   "source": [
    "# Building an orbit \n",
    "\n",
    "The first step is to define an orbit. You can do this in a variety of ways as showed below."
   ]
  },
  {
   "cell_type": "markdown",
   "id": "6efdd10d",
   "metadata": {},
   "source": [
    "### Building from classical orbit parameters"
   ]
  },
  {
   "cell_type": "code",
   "execution_count": 3,
   "id": "78e8be29",
   "metadata": {},
   "outputs": [],
   "source": [
    "#Orbit object, more info on poliastro API reference.\n",
    "from poliastro.twobody import Orbit\n",
    "\n",
    "#The bodies module specifies attractors\n",
    "from poliastro.bodies import Earth\n",
    "\n",
    "\n",
    "#Planes of reference and Epochs, are almost every time \n",
    "#the default ones, but just in case if you want to use \n",
    "#any other, they can be found in the following modules\n",
    "\n",
    "#import planes of reference, EARTH_EQUATOR \n",
    "from poliastro.frames import Planes\n",
    "\n",
    "#import J2000 time reference from constants \n",
    "from poliastro.constants import J2000\n",
    "\n",
    "\n",
    "\n",
    "### Specify classical orbit parameters ###\n",
    "\n",
    "a = 8000 * u.km # semi-major axis [distance]\n",
    "ecc = 0 * u.one # eccentricity [dimensionleess]\n",
    "inc = 98 * u.deg # inclination [angle] \n",
    "raan = 0 * u.rad # right ascencion of the ascending node [angle]\n",
    "argp = 0 * u.rad # perigee argument [angle]\n",
    "nu = 0 * u.rad # true anomaly [angle]\n",
    "\n",
    "plane = Planes.EARTH_EQUATOR # not necessary to specify\n",
    "epoch = J2000 # not necessary to specify\n",
    "\n",
    "#classmethod of Orbit\n",
    "orb = Orbit.from_classical(Earth,\n",
    "                            a,\n",
    "                            ecc,\n",
    "                            inc,\n",
    "                            raan,\n",
    "                            argp,\n",
    "                            nu)\n"
   ]
  },
  {
   "cell_type": "markdown",
   "id": "a3d758fd",
   "metadata": {},
   "source": [
    "### Other poliastro.twobody.Orbit classmethods"
   ]
  },
  {
   "cell_type": "code",
   "execution_count": 4,
   "id": "023c7cff",
   "metadata": {},
   "outputs": [],
   "source": [
    "#more on poliastro API reference\n",
    "orb = Orbit.heliosynchronous(Earth, a=8000*u.km, ecc=0*u.one)\n",
    "orb = Orbit.from_vectors(Earth, [8000,0,0]*u.km, [0,7,0]*u.km/u.s)"
   ]
  },
  {
   "cell_type": "markdown",
   "id": "c4543bbd",
   "metadata": {},
   "source": [
    "### Orbit utilities for repeating ground track and heliosynchronous orbits"
   ]
  },
  {
   "cell_type": "code",
   "execution_count": 5,
   "id": "8d66904a",
   "metadata": {},
   "outputs": [
    {
     "data": {
      "text/html": [
       "<div>\n",
       "<style scoped>\n",
       "    .dataframe tbody tr th:only-of-type {\n",
       "        vertical-align: middle;\n",
       "    }\n",
       "\n",
       "    .dataframe tbody tr th {\n",
       "        vertical-align: top;\n",
       "    }\n",
       "\n",
       "    .dataframe thead th {\n",
       "        text-align: right;\n",
       "    }\n",
       "</style>\n",
       "<table border=\"1\" class=\"dataframe\">\n",
       "  <thead>\n",
       "    <tr style=\"text-align: right;\">\n",
       "      <th></th>\n",
       "      <th>radius</th>\n",
       "      <th>inc</th>\n",
       "      <th>N</th>\n",
       "    </tr>\n",
       "  </thead>\n",
       "  <tbody>\n",
       "    <tr>\n",
       "      <th>0</th>\n",
       "      <td>11544.182918</td>\n",
       "      <td>142.248541</td>\n",
       "      <td>7.000000</td>\n",
       "    </tr>\n",
       "    <tr>\n",
       "      <th>1</th>\n",
       "      <td>11389.626716</td>\n",
       "      <td>138.961424</td>\n",
       "      <td>7.142857</td>\n",
       "    </tr>\n",
       "    <tr>\n",
       "      <th>2</th>\n",
       "      <td>11240.148578</td>\n",
       "      <td>136.071863</td>\n",
       "      <td>7.285714</td>\n",
       "    </tr>\n",
       "    <tr>\n",
       "      <th>3</th>\n",
       "      <td>11095.486092</td>\n",
       "      <td>133.496401</td>\n",
       "      <td>7.428571</td>\n",
       "    </tr>\n",
       "    <tr>\n",
       "      <th>4</th>\n",
       "      <td>10955.395204</td>\n",
       "      <td>131.177130</td>\n",
       "      <td>7.571429</td>\n",
       "    </tr>\n",
       "    <tr>\n",
       "      <th>...</th>\n",
       "      <td>...</td>\n",
       "      <td>...</td>\n",
       "      <td>...</td>\n",
       "    </tr>\n",
       "    <tr>\n",
       "      <th>66</th>\n",
       "      <td>6535.898060</td>\n",
       "      <td>96.204172</td>\n",
       "      <td>16.428571</td>\n",
       "    </tr>\n",
       "    <tr>\n",
       "      <th>67</th>\n",
       "      <td>6498.279346</td>\n",
       "      <td>96.079672</td>\n",
       "      <td>16.571429</td>\n",
       "    </tr>\n",
       "    <tr>\n",
       "      <th>68</th>\n",
       "      <td>6461.197311</td>\n",
       "      <td>95.958727</td>\n",
       "      <td>16.714286</td>\n",
       "    </tr>\n",
       "    <tr>\n",
       "      <th>69</th>\n",
       "      <td>6424.639809</td>\n",
       "      <td>95.841203</td>\n",
       "      <td>16.857143</td>\n",
       "    </tr>\n",
       "    <tr>\n",
       "      <th>70</th>\n",
       "      <td>6388.595066</td>\n",
       "      <td>95.726977</td>\n",
       "      <td>17.000000</td>\n",
       "    </tr>\n",
       "  </tbody>\n",
       "</table>\n",
       "<p>71 rows × 3 columns</p>\n",
       "</div>"
      ],
      "text/plain": [
       "          radius         inc          N\n",
       "0   11544.182918  142.248541   7.000000\n",
       "1   11389.626716  138.961424   7.142857\n",
       "2   11240.148578  136.071863   7.285714\n",
       "3   11095.486092  133.496401   7.428571\n",
       "4   10955.395204  131.177130   7.571429\n",
       "..           ...         ...        ...\n",
       "66   6535.898060   96.204172  16.428571\n",
       "67   6498.279346   96.079672  16.571429\n",
       "68   6461.197311   95.958727  16.714286\n",
       "69   6424.639809   95.841203  16.857143\n",
       "70   6388.595066   95.726977  17.000000\n",
       "\n",
       "[71 rows x 3 columns]"
      ]
     },
     "execution_count": 5,
     "metadata": {},
     "output_type": "execute_result"
    }
   ],
   "source": [
    "from CtllDes.utils import sscalc\n",
    "\n",
    "D = 7 #days of revisit\n",
    "orb_df = sscalc.helio_rgt_synchronous(D) #dataframe\n",
    "orb_df #radius [km], inclination [degrees], revolutions per day."
   ]
  },
  {
   "cell_type": "code",
   "execution_count": 6,
   "id": "055330c7",
   "metadata": {},
   "outputs": [
    {
     "data": {
      "text/html": [
       "<div>\n",
       "<style scoped>\n",
       "    .dataframe tbody tr th:only-of-type {\n",
       "        vertical-align: middle;\n",
       "    }\n",
       "\n",
       "    .dataframe tbody tr th {\n",
       "        vertical-align: top;\n",
       "    }\n",
       "\n",
       "    .dataframe thead th {\n",
       "        text-align: right;\n",
       "    }\n",
       "</style>\n",
       "<table border=\"1\" class=\"dataframe\">\n",
       "  <thead>\n",
       "    <tr style=\"text-align: right;\">\n",
       "      <th></th>\n",
       "      <th>radius</th>\n",
       "      <th>inc</th>\n",
       "      <th>N</th>\n",
       "    </tr>\n",
       "  </thead>\n",
       "  <tbody>\n",
       "    <tr>\n",
       "      <th>50</th>\n",
       "      <td>7222.422363</td>\n",
       "      <td>98.816646</td>\n",
       "      <td>14.142857</td>\n",
       "    </tr>\n",
       "    <tr>\n",
       "      <th>51</th>\n",
       "      <td>7174.189097</td>\n",
       "      <td>98.610796</td>\n",
       "      <td>14.285714</td>\n",
       "    </tr>\n",
       "    <tr>\n",
       "      <th>52</th>\n",
       "      <td>7126.753168</td>\n",
       "      <td>98.411801</td>\n",
       "      <td>14.428571</td>\n",
       "    </tr>\n",
       "    <tr>\n",
       "      <th>53</th>\n",
       "      <td>7080.093692</td>\n",
       "      <td>98.219362</td>\n",
       "      <td>14.571429</td>\n",
       "    </tr>\n",
       "    <tr>\n",
       "      <th>54</th>\n",
       "      <td>7034.190529</td>\n",
       "      <td>98.033200</td>\n",
       "      <td>14.714286</td>\n",
       "    </tr>\n",
       "    <tr>\n",
       "      <th>55</th>\n",
       "      <td>6989.024251</td>\n",
       "      <td>97.853046</td>\n",
       "      <td>14.857143</td>\n",
       "    </tr>\n",
       "    <tr>\n",
       "      <th>56</th>\n",
       "      <td>6944.576109</td>\n",
       "      <td>97.678649</td>\n",
       "      <td>15.000000</td>\n",
       "    </tr>\n",
       "    <tr>\n",
       "      <th>57</th>\n",
       "      <td>6900.828006</td>\n",
       "      <td>97.509769</td>\n",
       "      <td>15.142857</td>\n",
       "    </tr>\n",
       "  </tbody>\n",
       "</table>\n",
       "</div>"
      ],
      "text/plain": [
       "         radius        inc          N\n",
       "50  7222.422363  98.816646  14.142857\n",
       "51  7174.189097  98.610796  14.285714\n",
       "52  7126.753168  98.411801  14.428571\n",
       "53  7080.093692  98.219362  14.571429\n",
       "54  7034.190529  98.033200  14.714286\n",
       "55  6989.024251  97.853046  14.857143\n",
       "56  6944.576109  97.678649  15.000000\n",
       "57  6900.828006  97.509769  15.142857"
      ]
     },
     "execution_count": 6,
     "metadata": {},
     "output_type": "execute_result"
    }
   ],
   "source": [
    "#use pandas to filter the desired parameters\n",
    "earth_R = Earth.R_mean.to(u.km).value #value in km of earth mean Radius\n",
    "\n",
    "min_radius = 500 + earth_R\n",
    "max_radius = 900 + earth_R\n",
    "filtered = orb_df.loc[(orb_df['radius'].values < max_radius) &\n",
    "                      (orb_df['radius'].values > min_radius)]\n",
    "filtered "
   ]
  },
  {
   "cell_type": "code",
   "execution_count": 7,
   "id": "2eb0b88f",
   "metadata": {},
   "outputs": [],
   "source": [
    "#select the desired cop, i.e. classical orbit parameters\n",
    "cop = filtered.loc[55] #pick one from the df\n",
    "a = cop['radius']*u.km #radius = semi-major axis\n",
    "ecc = 0 * u.one # this is cant be different than 0 since the helio_rgt is for circular orbits\n",
    "inc = cop['inc']*u.deg\n",
    "\n",
    "#reuse past raan, argp and nu\n",
    "orb = Orbit.from_classical(Earth,\n",
    "                            a,\n",
    "                            ecc,\n",
    "                            inc,\n",
    "                            raan,\n",
    "                            argp,\n",
    "                            nu)"
   ]
  },
  {
   "cell_type": "markdown",
   "id": "fe6e04a1",
   "metadata": {},
   "source": [
    "# Building satellites\n",
    "\n",
    " Satellite is one of the main classes in this library. You can build a satellite reading the docs, you are encouraged to use the classmethods.\n"
   ]
  },
  {
   "cell_type": "code",
   "execution_count": 8,
   "id": "b1a94934",
   "metadata": {},
   "outputs": [],
   "source": [
    "from CtllDes.core.satellite import Sat"
   ]
  },
  {
   "cell_type": "markdown",
   "id": "dbc99b71",
   "metadata": {},
   "source": [
    "\n",
    "### Building satellite from classmethods."
   ]
  },
  {
   "cell_type": "code",
   "execution_count": 9,
   "id": "c8bacbbf",
   "metadata": {},
   "outputs": [],
   "source": [
    "sat = Sat.from_orbit(orb) \n",
    "sat = Sat.from_vectors([8000,0,0]*u.km,\n",
    "                       [0,7,0]*u.km/u.s,\n",
    "                      attractor=Earth)\n"
   ]
  },
  {
   "cell_type": "markdown",
   "id": "46f6d7a8",
   "metadata": {},
   "source": [
    "# Satellite's parameters "
   ]
  },
  {
   "cell_type": "code",
   "execution_count": 10,
   "id": "c2ece00b",
   "metadata": {},
   "outputs": [
    {
     "name": "stdout",
     "output_type": "stream",
     "text": [
      "id : a0f6e9db-9705-4306-bf6b-149fddb22080\t[a ecc inc raan argp nu] : [7869.7 km 0.0 0.0 rad 0.0 rad 3.1 rad -3.1 rad]\t\tstatus : Online\n"
     ]
    }
   ],
   "source": [
    "sat.info() #general info at t=0"
   ]
  },
  {
   "cell_type": "markdown",
   "id": "2a6fa42c",
   "metadata": {},
   "source": [
    "### Physical Specifications"
   ]
  },
  {
   "cell_type": "code",
   "execution_count": 11,
   "id": "3ee43a1d",
   "metadata": {},
   "outputs": [
    {
     "name": "stdout",
     "output_type": "stream",
     "text": [
      " m:1.0 kg, Cd:1.0, A:1.0 m2\n"
     ]
    }
   ],
   "source": [
    "print(sat.spec) #None specified, default parameters selected"
   ]
  },
  {
   "cell_type": "markdown",
   "id": "711ee240",
   "metadata": {},
   "source": [
    "### Status"
   ]
  },
  {
   "cell_type": "code",
   "execution_count": 12,
   "id": "96d40253",
   "metadata": {},
   "outputs": [
    {
     "data": {
      "text/plain": [
       "'Online'"
      ]
     },
     "execution_count": 12,
     "metadata": {},
     "output_type": "execute_result"
    }
   ],
   "source": [
    "sat.status #None specified, Online status "
   ]
  },
  {
   "cell_type": "markdown",
   "id": "5918b7bf",
   "metadata": {},
   "source": [
    "### Instruments"
   ]
  },
  {
   "cell_type": "code",
   "execution_count": 13,
   "id": "a5fbbd92",
   "metadata": {},
   "outputs": [
    {
     "data": {
      "text/plain": [
       "[]"
      ]
     },
     "execution_count": 13,
     "metadata": {},
     "output_type": "execute_result"
    }
   ],
   "source": [
    "sat.instruments #None specified, empty list"
   ]
  },
  {
   "cell_type": "markdown",
   "id": "7fc96a61",
   "metadata": {},
   "source": [
    "### Universal Unique Identfier\n"
   ]
  },
  {
   "cell_type": "code",
   "execution_count": 14,
   "id": "b4187058",
   "metadata": {},
   "outputs": [
    {
     "data": {
      "text/plain": [
       "UUID('a0f6e9db-9705-4306-bf6b-149fddb22080')"
      ]
     },
     "execution_count": 14,
     "metadata": {},
     "output_type": "execute_result"
    }
   ],
   "source": [
    "sat.id"
   ]
  },
  {
   "cell_type": "markdown",
   "id": "750df865",
   "metadata": {},
   "source": [
    "### Attractor"
   ]
  },
  {
   "cell_type": "code",
   "execution_count": 15,
   "id": "9b3f4ee2",
   "metadata": {},
   "outputs": [
    {
     "data": {
      "text/plain": [
       "Earth (♁)"
      ]
     },
     "execution_count": 15,
     "metadata": {},
     "output_type": "execute_result"
    }
   ],
   "source": [
    "sat.attractor"
   ]
  },
  {
   "cell_type": "markdown",
   "id": "75534caf",
   "metadata": {},
   "source": [
    "### Orbit"
   ]
  },
  {
   "cell_type": "code",
   "execution_count": 16,
   "id": "bb28b51e",
   "metadata": {},
   "outputs": [
    {
     "data": {
      "text/plain": [
       "7739 x 8000 km x 0.0 deg (GCRS) orbit around Earth (♁) at epoch J2000.000 (TT)"
      ]
     },
     "execution_count": 16,
     "metadata": {},
     "output_type": "execute_result"
    }
   ],
   "source": [
    "sat.orbit"
   ]
  },
  {
   "cell_type": "markdown",
   "id": "7dfc47cc",
   "metadata": {},
   "source": [
    "#  Physical Specifications"
   ]
  },
  {
   "cell_type": "code",
   "execution_count": 17,
   "id": "19457538",
   "metadata": {},
   "outputs": [],
   "source": [
    "from CtllDes.core import specs"
   ]
  },
  {
   "cell_type": "code",
   "execution_count": 18,
   "id": "e06505e2",
   "metadata": {},
   "outputs": [],
   "source": [
    "\n",
    "drag_coef = 2.2*u.one\n",
    "mass = 200*u.kg\n",
    "Area = 10*u.m**2\n",
    "\n",
    "spec = specs.Specifications(m=mass, Cd=drag_coef, A=Area)"
   ]
  },
  {
   "cell_type": "code",
   "execution_count": 19,
   "id": "4f90968c",
   "metadata": {},
   "outputs": [
    {
     "name": "stdout",
     "output_type": "stream",
     "text": [
      " m:200.0 kg, Cd:2.2, A:10.0 m2\n"
     ]
    }
   ],
   "source": [
    "sat.update_spec(spec)\n",
    "print(sat.spec)"
   ]
  },
  {
   "cell_type": "markdown",
   "id": "377d757d",
   "metadata": {},
   "source": [
    "#  Status (in dev)"
   ]
  },
  {
   "cell_type": "code",
   "execution_count": 20,
   "id": "dc1c0fa2",
   "metadata": {},
   "outputs": [],
   "source": [
    "#In development. Until now is just a string identifying if the \n",
    "#satellite is Online or not. This will impact when calculating\n",
    "#merit figures. "
   ]
  },
  {
   "cell_type": "code",
   "execution_count": 21,
   "id": "2f371c46",
   "metadata": {},
   "outputs": [
    {
     "name": "stdout",
     "output_type": "stream",
     "text": [
      "Warning, notImplemented\n"
     ]
    },
    {
     "data": {
      "text/plain": [
       "'Online'"
      ]
     },
     "execution_count": 21,
     "metadata": {},
     "output_type": "execute_result"
    }
   ],
   "source": [
    "sat.update_status('Shutoff')\n",
    "sat.status"
   ]
  },
  {
   "cell_type": "markdown",
   "id": "bd61b6a3",
   "metadata": {},
   "source": [
    "# Instruments"
   ]
  },
  {
   "cell_type": "markdown",
   "id": "72fbdcf0",
   "metadata": {},
   "source": [
    "The instruments module is explained in more detailed in instruments.ipynb. There you can find how to create new instruments and For now, the example below will just update the instrument with a default Camera one. "
   ]
  },
  {
   "cell_type": "code",
   "execution_count": 22,
   "id": "3a097564",
   "metadata": {},
   "outputs": [],
   "source": [
    "from CtllDes.core import instrument"
   ]
  },
  {
   "cell_type": "code",
   "execution_count": 23,
   "id": "278ed728",
   "metadata": {},
   "outputs": [
    {
     "data": {
      "text/plain": [
       "[<CtllDes.core.instrument.Camera at 0x7f3deac65250>]"
      ]
     },
     "execution_count": 23,
     "metadata": {},
     "output_type": "execute_result"
    }
   ],
   "source": [
    "camera = instrument.Camera(800, 0.01) # pixels, angle resolution\n",
    "sat.update_instruments(camera,f=True) # force option\n",
    "sat.instruments"
   ]
  },
  {
   "cell_type": "markdown",
   "id": "ddb76fc7",
   "metadata": {},
   "source": [
    "# Building a Constellation"
   ]
  },
  {
   "cell_type": "code",
   "execution_count": 24,
   "id": "b9bff54e",
   "metadata": {},
   "outputs": [],
   "source": [
    "#since a constellation is a set of satellite we will build a few more.\n",
    "\n",
    "sat0 = sat\n",
    "sat1 = Sat.from_vectors([8000,0,0]*u.km,\n",
    "                        [0,7,0]*u.km/u.s,\n",
    "                        attractor=Earth)\n",
    "sat2 = Sat.from_orbit(Orbit.heliosynchronous(Earth,\n",
    "                                             a=8000*u.km,\n",
    "                                             ecc=0*u.one))\n"
   ]
  },
  {
   "cell_type": "code",
   "execution_count": 25,
   "id": "272e57e7",
   "metadata": {},
   "outputs": [],
   "source": [
    "constellation = ctll.Ctll.from_sats([sat0,sat1,sat2])"
   ]
  },
  {
   "cell_type": "code",
   "execution_count": 26,
   "id": "7d2ed7dd",
   "metadata": {},
   "outputs": [
    {
     "name": "stdout",
     "output_type": "stream",
     "text": [
      "\n",
      "3 satellites within no Pattern\n"
     ]
    }
   ],
   "source": [
    "constellation.info()"
   ]
  },
  {
   "cell_type": "code",
   "execution_count": 27,
   "id": "58b90bb8",
   "metadata": {},
   "outputs": [
    {
     "name": "stdout",
     "output_type": "stream",
     "text": [
      "\n",
      "3 satellites in no Pattern\n",
      "\n",
      "id : 1b5a6666-0af1-4a7e-96ba-c183c0797ba6\t[a ecc inc raan argp nu] : [7869.7 km 0.0 0.0 rad 0.0 rad 3.1 rad -3.1 rad]\t\tstatus : Online\n",
      "id : 0cf53a33-8c11-4924-9882-99a6c3ed4f88\t[a ecc inc raan argp nu] : [7869.7 km 0.0 0.0 rad 0.0 rad 3.1 rad -3.1 rad]\t\tstatus : Online\n",
      "id : 7e272f81-4c54-49bf-b5c0-183569efaaf1\t[a ecc inc raan argp nu] : [8000.0 km 0.0 1.8 rad 610.5 deg 0.0 deg 0.0 deg]\t\tstatus : Online\n"
     ]
    }
   ],
   "source": [
    "constellation.info(v=True)"
   ]
  },
  {
   "cell_type": "code",
   "execution_count": 28,
   "id": "1e84a003",
   "metadata": {},
   "outputs": [
    {
     "data": {
      "text/plain": [
       "[UUID('1b5a6666-0af1-4a7e-96ba-c183c0797ba6'),\n",
       " UUID('0cf53a33-8c11-4924-9882-99a6c3ed4f88'),\n",
       " UUID('7e272f81-4c54-49bf-b5c0-183569efaaf1')]"
      ]
     },
     "execution_count": 28,
     "metadata": {},
     "output_type": "execute_result"
    }
   ],
   "source": [
    "ids = constellation.online_id\n",
    "ids "
   ]
  },
  {
   "cell_type": "code",
   "execution_count": 29,
   "id": "61987eeb",
   "metadata": {},
   "outputs": [
    {
     "name": "stdout",
     "output_type": "stream",
     "text": [
      "id : 0cf53a33-8c11-4924-9882-99a6c3ed4f88\t[a ecc inc raan argp nu] : [7869.7 km 0.0 0.0 rad 0.0 rad 3.1 rad -3.1 rad]\t\tstatus : Online\n"
     ]
    }
   ],
   "source": [
    "sat_by_id = constellation.get_sat(ids[1])\n",
    "sat_by_id.info()"
   ]
  },
  {
   "cell_type": "code",
   "execution_count": 30,
   "id": "7c63b430",
   "metadata": {},
   "outputs": [
    {
     "name": "stdout",
     "output_type": "stream",
     "text": [
      "id : 0cf53a33-8c11-4924-9882-99a6c3ed4f88\t[a ecc inc raan argp nu] : [7869.7 km 0.0 0.0 rad 0.0 rad 3.1 rad -3.1 rad]\t\tstatus : Online\n"
     ]
    }
   ],
   "source": [
    "constellation.sats[1].info()"
   ]
  },
  {
   "cell_type": "code",
   "execution_count": 31,
   "id": "d28399a0",
   "metadata": {},
   "outputs": [
    {
     "data": {
      "text/plain": [
       "[[<CtllDes.core.instrument.Camera at 0x7f3deac65250>], [], []]"
      ]
     },
     "execution_count": 31,
     "metadata": {},
     "output_type": "execute_result"
    }
   ],
   "source": [
    "constellation.instruments"
   ]
  },
  {
   "cell_type": "code",
   "execution_count": 32,
   "id": "d4b5aa97",
   "metadata": {},
   "outputs": [],
   "source": [
    "camera1 = instrument.Camera(800,0.1)\n",
    "camera2 = instrument.Camera(800,0.04)"
   ]
  },
  {
   "cell_type": "code",
   "execution_count": 33,
   "id": "b50cb69f",
   "metadata": {},
   "outputs": [
    {
     "data": {
      "text/plain": [
       "[[<CtllDes.core.instrument.Camera at 0x7f3deac65250>], [], []]"
      ]
     },
     "execution_count": 33,
     "metadata": {},
     "output_type": "execute_result"
    }
   ],
   "source": [
    "#this wouldnt work since the constellation copies the sat info\n",
    "sat1.update_instruments(camera1,f=True)\n",
    "sat2.update_instruments(camera2,f=True)\n",
    "\n",
    "constellation.instruments"
   ]
  },
  {
   "cell_type": "code",
   "execution_count": 34,
   "id": "a9fc3c96",
   "metadata": {},
   "outputs": [
    {
     "data": {
      "text/plain": [
       "[[<CtllDes.core.instrument.Camera at 0x7f3deac65250>],\n",
       " [<CtllDes.core.instrument.Camera at 0x7f3deac502b0>],\n",
       " [<CtllDes.core.instrument.Camera at 0x7f3deac506a0>]]"
      ]
     },
     "execution_count": 34,
     "metadata": {},
     "output_type": "execute_result"
    }
   ],
   "source": [
    "constellation.sats[1].update_instruments(camera1,f=True)\n",
    "constellation.sats[2].update_instruments(camera2,f=True)\n",
    "\n",
    "constellation.instruments"
   ]
  },
  {
   "cell_type": "markdown",
   "id": "53e1efc8",
   "metadata": {},
   "source": [
    "### Building specific pattern "
   ]
  },
  {
   "cell_type": "code",
   "execution_count": 35,
   "id": "a61dc35c",
   "metadata": {},
   "outputs": [],
   "source": [
    "#Build a Walker Delta constellation\n",
    "T = 10\n",
    "P = 5\n",
    "F = 3\n",
    "\n",
    "p = 12000*u.km\n",
    "ecc = 0.3*u.one\n",
    "inc = 99*u.deg\n",
    "raan = 30*u.deg\n",
    "argp = 20*u.deg\n",
    "nu = 0.3*u.rad\n",
    "\n",
    "WDctll = ctll.Ctll.from_WalkerDelta(T,\n",
    "                                    P,\n",
    "                                    F,\n",
    "                                    p,\n",
    "                                    ecc,\n",
    "                                    inc,\n",
    "                                    argp,\n",
    "                                    raan_offset=raan,\n",
    "                                    nu_offset=nu,\n",
    "                                   )"
   ]
  },
  {
   "cell_type": "code",
   "execution_count": 36,
   "id": "07cca214",
   "metadata": {},
   "outputs": [
    {
     "name": "stdout",
     "output_type": "stream",
     "text": [
      "\n",
      "10 satellites in Walker Delta Pattern T/P/F = 10/5/3\n",
      "\n",
      "id : 1d6f25aa-f0d9-40aa-bdfb-9191bbff789a\t[a ecc inc raan argp nu] : [13186.8 km 0.3 99.0 deg 30.0 deg 20.0 deg 17.2 deg]\t\tstatus : Online\n",
      "id : 6c9b0cca-23da-4109-bfc7-cfc31f22fa1c\t[a ecc inc raan argp nu] : [13186.8 km 0.3 99.0 deg 30.0 deg 20.0 deg -162.8 deg]\t\tstatus : Online\n",
      "id : 82693a58-8fe6-4783-bac2-2acb672af236\t[a ecc inc raan argp nu] : [13186.8 km 0.3 99.0 deg 102.0 deg 20.0 deg 125.2 deg]\t\tstatus : Online\n",
      "id : 6161eb63-2372-4739-af6a-b0f9bc005633\t[a ecc inc raan argp nu] : [13186.8 km 0.3 99.0 deg 102.0 deg 20.0 deg -54.8 deg]\t\tstatus : Online\n",
      "id : 23b68105-4a6c-4145-89c2-334b490f49ae\t[a ecc inc raan argp nu] : [13186.8 km 0.3 99.0 deg 174.0 deg 20.0 deg -126.8 deg]\t\tstatus : Online\n",
      "id : 3aa28312-3d85-4e5c-bef2-109e12af03bd\t[a ecc inc raan argp nu] : [13186.8 km 0.3 99.0 deg 174.0 deg 20.0 deg 53.2 deg]\t\tstatus : Online\n",
      "id : f54f0c1b-ac2a-40eb-9473-11631bc45677\t[a ecc inc raan argp nu] : [13186.8 km 0.3 99.0 deg 246.0 deg 20.0 deg -18.8 deg]\t\tstatus : Online\n",
      "id : f2f9738e-3c2d-4fca-8fce-fab076bd9d6f\t[a ecc inc raan argp nu] : [13186.8 km 0.3 99.0 deg 246.0 deg 20.0 deg 161.2 deg]\t\tstatus : Online\n",
      "id : 3e41d62c-f501-4a9f-8e5a-41e2790fd4b2\t[a ecc inc raan argp nu] : [13186.8 km 0.3 99.0 deg 318.0 deg 20.0 deg 89.2 deg]\t\tstatus : Online\n",
      "id : 2e752d28-901e-46c7-83f9-8e9bc9234146\t[a ecc inc raan argp nu] : [13186.8 km 0.3 99.0 deg 318.0 deg 20.0 deg -90.8 deg]\t\tstatus : Online\n"
     ]
    }
   ],
   "source": [
    "WDctll.info(v=True)"
   ]
  },
  {
   "cell_type": "code",
   "execution_count": 37,
   "id": "23e29ecb",
   "metadata": {},
   "outputs": [
    {
     "name": "stdout",
     "output_type": "stream",
     "text": [
      "\n",
      "Specifications\n",
      "\n",
      " m:1.0 kg, Cd:1.0, A:1.0 m2\n",
      " m:1.0 kg, Cd:1.0, A:1.0 m2\n",
      " m:1.0 kg, Cd:1.0, A:1.0 m2\n",
      " m:1.0 kg, Cd:1.0, A:1.0 m2\n",
      " m:1.0 kg, Cd:1.0, A:1.0 m2\n",
      " m:1.0 kg, Cd:1.0, A:1.0 m2\n",
      " m:1.0 kg, Cd:1.0, A:1.0 m2\n",
      " m:1.0 kg, Cd:1.0, A:1.0 m2\n",
      " m:1.0 kg, Cd:1.0, A:1.0 m2\n",
      " m:1.0 kg, Cd:1.0, A:1.0 m2\n",
      "\n",
      "Status\n",
      "\n",
      "Online\n",
      "Online\n",
      "Online\n",
      "Online\n",
      "Online\n",
      "Online\n",
      "Online\n",
      "Online\n",
      "Online\n",
      "Online\n",
      "\n",
      "Instruments\n",
      "\n",
      "[]\n",
      "[]\n",
      "[]\n",
      "[]\n",
      "[]\n",
      "[]\n",
      "[]\n",
      "[]\n",
      "[]\n",
      "[]\n"
     ]
    }
   ],
   "source": [
    "#default specs\n",
    "print(\"\\nSpecifications\\n\")\n",
    "for spec in WDctll.specs:\n",
    "    print(spec)\n",
    "\n",
    "#default status\n",
    "print(\"\\nStatus\\n\")\n",
    "for status in WDctll.status:\n",
    "    print(status)\n",
    "\n",
    "#default instruments\n",
    "print(\"\\nInstruments\\n\")\n",
    "for instr in WDctll.instruments:\n",
    "    print(instr)\n"
   ]
  },
  {
   "cell_type": "markdown",
   "id": "e8a76faf",
   "metadata": {},
   "source": [
    "# Changing default instruments, status and specifications."
   ]
  },
  {
   "cell_type": "code",
   "execution_count": 38,
   "id": "e1c138dd",
   "metadata": {},
   "outputs": [
    {
     "data": {
      "text/plain": [
       "10"
      ]
     },
     "execution_count": 38,
     "metadata": {},
     "output_type": "execute_result"
    }
   ],
   "source": [
    "#check amount of satellites inside Walker Delta Ctll\n",
    "WDctll.N"
   ]
  },
  {
   "cell_type": "markdown",
   "id": "636b0fa2",
   "metadata": {},
   "source": [
    "### Specifications"
   ]
  },
  {
   "cell_type": "code",
   "execution_count": 39,
   "id": "759896af",
   "metadata": {},
   "outputs": [
    {
     "name": "stdout",
     "output_type": "stream",
     "text": [
      " m:30.0 kg, Cd:1.5, A:50.0 m2\n",
      " m:30.0 kg, Cd:1.5, A:50.0 m2\n",
      " m:30.0 kg, Cd:1.5, A:50.0 m2\n",
      " m:30.0 kg, Cd:1.5, A:50.0 m2\n",
      " m:30.0 kg, Cd:1.5, A:50.0 m2\n",
      " m:30.0 kg, Cd:1.5, A:50.0 m2\n",
      " m:30.0 kg, Cd:1.5, A:50.0 m2\n",
      " m:30.0 kg, Cd:1.5, A:50.0 m2\n",
      " m:30.0 kg, Cd:1.5, A:50.0 m2\n",
      " m:30.0 kg, Cd:1.5, A:50.0 m2\n"
     ]
    }
   ],
   "source": [
    "general_spec = specs.Specifications(m=30*u.kg,Cd=1.5*u.one,A=50*u.m**2)\n",
    "spec_lst = [general_spec for _ in range(WDctll.N)]\n",
    "WDctll.update_specs(spec_lst)\n",
    "\n",
    "#new specs\n",
    "for spec in WDctll.specs:\n",
    "    print(spec)"
   ]
  },
  {
   "cell_type": "markdown",
   "id": "c918053f",
   "metadata": {},
   "source": [
    "### Instruments"
   ]
  },
  {
   "cell_type": "code",
   "execution_count": 40,
   "id": "57b93620",
   "metadata": {},
   "outputs": [
    {
     "name": "stdout",
     "output_type": "stream",
     "text": [
      "[<CtllDes.core.instrument.Camera object at 0x7f3deac50610>]\n",
      "[<CtllDes.core.instrument.Camera object at 0x7f3deac50a00>]\n",
      "[<CtllDes.core.instrument.Camera object at 0x7f3deac38760>]\n",
      "[<CtllDes.core.instrument.Camera object at 0x7f3deac38640>]\n",
      "[<CtllDes.core.instrument.Camera object at 0x7f3deac384c0>]\n",
      "[<CtllDes.core.instrument.Camera object at 0x7f3deac382e0>]\n",
      "[<CtllDes.core.instrument.Camera object at 0x7f3deac38340>]\n",
      "[<CtllDes.core.instrument.Camera object at 0x7f3deac38160>]\n",
      "[<CtllDes.core.instrument.Camera object at 0x7f3deac38850>]\n",
      "[<CtllDes.core.instrument.Camera object at 0x7f3deac38100>]\n"
     ]
    }
   ],
   "source": [
    "general_instrument = instrument.Camera(1000,0.1)\n",
    "instr_lst = [general_instrument for _ in range(WDctll.N)]\n",
    "WDctll.update_instruments(instr_lst,f=True)\n",
    "\n",
    "#new instruments\n",
    "for instr in WDctll.instruments:\n",
    "    print(instr)"
   ]
  },
  {
   "cell_type": "markdown",
   "id": "18a5cc9e",
   "metadata": {},
   "source": [
    "### Status (in dev)"
   ]
  },
  {
   "cell_type": "code",
   "execution_count": 41,
   "id": "1fbf38fb",
   "metadata": {},
   "outputs": [],
   "source": [
    "#"
   ]
  },
  {
   "cell_type": "markdown",
   "id": "13bc8af3",
   "metadata": {},
   "source": [
    "# Adding Constellations  "
   ]
  },
  {
   "cell_type": "code",
   "execution_count": 42,
   "id": "d3773876",
   "metadata": {},
   "outputs": [
    {
     "name": "stdout",
     "output_type": "stream",
     "text": [
      "\n",
      "10 satellites in Walker Delta Pattern T/P/F = 10/5/3\n",
      "\n",
      "id : a2d0826a-fd87-4ede-8a14-ef406a7311e3\t[a ecc inc raan argp nu] : [13186.8 km 0.3 99.0 deg 30.0 deg 20.0 deg 17.2 deg]\t\tstatus : Online\n",
      "id : b8859aaf-5620-4103-97f9-131a207424e2\t[a ecc inc raan argp nu] : [13186.8 km 0.3 99.0 deg 30.0 deg 20.0 deg -162.8 deg]\t\tstatus : Online\n",
      "id : bcea4771-2bda-4d72-ab8b-dfe035bef979\t[a ecc inc raan argp nu] : [13186.8 km 0.3 99.0 deg 102.0 deg 20.0 deg 125.2 deg]\t\tstatus : Online\n",
      "id : 35085395-01bf-4949-9dac-697d0f6b5e57\t[a ecc inc raan argp nu] : [13186.8 km 0.3 99.0 deg 102.0 deg 20.0 deg -54.8 deg]\t\tstatus : Online\n",
      "id : 9570a04f-0cb9-4fc0-8d4a-60600c348779\t[a ecc inc raan argp nu] : [13186.8 km 0.3 99.0 deg 174.0 deg 20.0 deg -126.8 deg]\t\tstatus : Online\n",
      "id : d301834d-3152-476c-abee-cbf4fafb170d\t[a ecc inc raan argp nu] : [13186.8 km 0.3 99.0 deg 174.0 deg 20.0 deg 53.2 deg]\t\tstatus : Online\n",
      "id : fb0171ef-8179-4b30-92ca-3129a2e5c73d\t[a ecc inc raan argp nu] : [13186.8 km 0.3 99.0 deg 246.0 deg 20.0 deg -18.8 deg]\t\tstatus : Online\n",
      "id : a7cce142-e946-4daf-b3e7-b8587e112a5c\t[a ecc inc raan argp nu] : [13186.8 km 0.3 99.0 deg 246.0 deg 20.0 deg 161.2 deg]\t\tstatus : Online\n",
      "id : ea847499-2760-4a27-979e-9ecca446ff62\t[a ecc inc raan argp nu] : [13186.8 km 0.3 99.0 deg 318.0 deg 20.0 deg 89.2 deg]\t\tstatus : Online\n",
      "id : 5452f845-4aed-4f3d-95ab-1979adcc972e\t[a ecc inc raan argp nu] : [13186.8 km 0.3 99.0 deg 318.0 deg 20.0 deg -90.8 deg]\t\tstatus : Online\n",
      "\n",
      "3 satellites in no Pattern\n",
      "\n",
      "id : 0d52fcc5-62aa-4b03-9a90-3699934f9f34\t[a ecc inc raan argp nu] : [7869.7 km 0.0 0.0 rad 0.0 rad 3.1 rad -3.1 rad]\t\tstatus : Online\n",
      "id : d480f085-a807-488c-8d89-d201a4822da7\t[a ecc inc raan argp nu] : [7869.7 km 0.0 0.0 rad 0.0 rad 3.1 rad -3.1 rad]\t\tstatus : Online\n",
      "id : b42ba097-5d5b-4a55-8aa0-f48229205b98\t[a ecc inc raan argp nu] : [8000.0 km 0.0 1.8 rad 610.5 deg 0.0 deg 0.0 deg]\t\tstatus : Online\n"
     ]
    }
   ],
   "source": [
    "added_ctll = constellation + WDctll\n",
    "added_ctll.info(v=True)\n"
   ]
  },
  {
   "cell_type": "code",
   "execution_count": 43,
   "id": "920a5cdf",
   "metadata": {},
   "outputs": [
    {
     "name": "stdout",
     "output_type": "stream",
     "text": [
      "\n",
      "13 satellites in no Pattern\n",
      "\n",
      "id : 2b6c6289-c337-4fbe-903a-ed3079493721\t[a ecc inc raan argp nu] : [7869.7 km 0.0 0.0 rad 0.0 rad 3.1 rad -3.1 rad]\t\tstatus : Online\n",
      "id : cfcad128-941f-4461-9816-0533fdb62697\t[a ecc inc raan argp nu] : [7869.7 km 0.0 0.0 rad 0.0 rad 3.1 rad -3.1 rad]\t\tstatus : Online\n",
      "id : 7fff2561-07e2-4243-80c2-5dc14b5736db\t[a ecc inc raan argp nu] : [8000.0 km 0.0 1.8 rad 610.5 deg 0.0 deg 0.0 deg]\t\tstatus : Online\n",
      "id : 37c619bc-e620-4c33-afe4-18c5c4f658a7\t[a ecc inc raan argp nu] : [13186.8 km 0.3 99.0 deg 30.0 deg 20.0 deg 17.2 deg]\t\tstatus : Online\n",
      "id : 8fbeb826-17c5-45ff-bc33-bc657fa7edde\t[a ecc inc raan argp nu] : [13186.8 km 0.3 99.0 deg 30.0 deg 20.0 deg -162.8 deg]\t\tstatus : Online\n",
      "id : b3c177a0-b452-4239-8415-232335134ca4\t[a ecc inc raan argp nu] : [13186.8 km 0.3 99.0 deg 102.0 deg 20.0 deg 125.2 deg]\t\tstatus : Online\n",
      "id : 6cd89de4-8fc3-4d66-823d-d809d065e24e\t[a ecc inc raan argp nu] : [13186.8 km 0.3 99.0 deg 102.0 deg 20.0 deg -54.8 deg]\t\tstatus : Online\n",
      "id : 14d35116-59fd-4ea5-aed8-0ed6830da947\t[a ecc inc raan argp nu] : [13186.8 km 0.3 99.0 deg 174.0 deg 20.0 deg -126.8 deg]\t\tstatus : Online\n",
      "id : 30108ab5-3593-4065-947f-9098964ae2f3\t[a ecc inc raan argp nu] : [13186.8 km 0.3 99.0 deg 174.0 deg 20.0 deg 53.2 deg]\t\tstatus : Online\n",
      "id : 21e748e4-62ef-41c8-9688-6c3e1cf48021\t[a ecc inc raan argp nu] : [13186.8 km 0.3 99.0 deg 246.0 deg 20.0 deg -18.8 deg]\t\tstatus : Online\n",
      "id : 2110aaea-8d06-4e53-a70c-b7ffd6e2ecbb\t[a ecc inc raan argp nu] : [13186.8 km 0.3 99.0 deg 246.0 deg 20.0 deg 161.2 deg]\t\tstatus : Online\n",
      "id : d7991574-f93f-4480-894a-fb22982e343a\t[a ecc inc raan argp nu] : [13186.8 km 0.3 99.0 deg 318.0 deg 20.0 deg 89.2 deg]\t\tstatus : Online\n",
      "id : f85ae65c-d52b-444c-83ab-66b8a6bdd8a4\t[a ecc inc raan argp nu] : [13186.8 km 0.3 99.0 deg 318.0 deg 20.0 deg -90.8 deg]\t\tstatus : Online\n"
     ]
    }
   ],
   "source": [
    "#the above cell is equivalent to the following except from the fact that the patterns are not inherited\n",
    "added_ctll = ctll.Ctll.from_sats(constellation.sats+WDctll.sats)\n",
    "added_ctll.info(v=True)"
   ]
  },
  {
   "cell_type": "markdown",
   "id": "de564005",
   "metadata": {},
   "source": [
    "# Propagation"
   ]
  },
  {
   "cell_type": "markdown",
   "id": "59c05f8d",
   "metadata": {},
   "source": [
    "In order to obtain the ephemerides of the satellite you can use the rv method for the Sat class as well as the Ctll class."
   ]
  },
  {
   "cell_type": "markdown",
   "id": "2858b621",
   "metadata": {},
   "source": [
    "### Satellite"
   ]
  },
  {
   "cell_type": "code",
   "execution_count": 44,
   "id": "b8a6ccbc",
   "metadata": {},
   "outputs": [],
   "source": [
    "#As you can see in the documentation \n",
    "\n",
    "#T days \n",
    "#dt interval in seconds\n",
    "#drag and J2, perturbations used in propagation\n",
    "r_sat,v_sat = added_ctll.sats[0].rv(30,dt=50, J2=True, drag=False)\n",
    "lon_sat,lat_sat = added_ctll.sats[0].ssps(4,J2=False)"
   ]
  },
  {
   "cell_type": "markdown",
   "id": "4fe88181",
   "metadata": {},
   "source": [
    "### Constellation"
   ]
  },
  {
   "cell_type": "code",
   "execution_count": 45,
   "id": "0916a487",
   "metadata": {},
   "outputs": [],
   "source": [
    "rv_ctll = added_ctll.rv(30, dt=10, drag = True, J2=True)\n",
    "r,v = rv_ctll[0]\n",
    "\n",
    "lonlat_ctll = added_ctll.ssps(5,dt=10,J2=True,drag=True)\n",
    "lon,lat = lonlat_ctll[0]"
   ]
  },
  {
   "cell_type": "markdown",
   "id": "53baf5c9",
   "metadata": {},
   "source": [
    "### Plotting r (xyz)"
   ]
  },
  {
   "cell_type": "code",
   "execution_count": 46,
   "id": "c92c7db0",
   "metadata": {},
   "outputs": [],
   "source": [
    "import matplotlib.pyplot as plt\n",
    "%matplotlib qt5"
   ]
  },
  {
   "cell_type": "code",
   "execution_count": 47,
   "id": "742a542b",
   "metadata": {},
   "outputs": [],
   "source": [
    "fig = plt.figure(figsize=(10,10))\n",
    "ax = fig.add_subplot(111, projection='3d')\n",
    "ax.scatter(r_sat[::50,0], r_sat[::50,1], r_sat[::50,2],s=0.5,c='k') #xyz obviously\n",
    "ax.scatter(0,0,0,c='blue', s=6370)\n",
    "\n",
    "plt.show()\n"
   ]
  },
  {
   "cell_type": "code",
   "execution_count": 48,
   "id": "d17379cd",
   "metadata": {},
   "outputs": [],
   "source": [
    "fig = plt.figure(figsize=(10,10))\n",
    "ax = fig.add_subplot(111, projection='3d')\n",
    "ax.scatter(r[::50,0], r[::50,1], r[::50,2],s=0.5,c='k') #xyz obviously\n",
    "ax.scatter(0,0,0,c='blue',s=6370)\n",
    "\n",
    "plt.show()"
   ]
  },
  {
   "cell_type": "markdown",
   "id": "b97f1aa7",
   "metadata": {},
   "source": [
    "### Plotting groundtrack "
   ]
  },
  {
   "cell_type": "code",
   "execution_count": 88,
   "id": "16791136",
   "metadata": {},
   "outputs": [],
   "source": [
    "lons, lats = added_ctll.sats[-1].ssps(1,J2=True,drag=False)\n",
    "\n",
    "fig = plt.figure()\n",
    "plt.scatter(lons[::10],lats[::10],c='k',s=0.1)\n",
    "plt.show()\n"
   ]
  }
 ],
 "metadata": {
  "kernelspec": {
   "display_name": "Python 3",
   "language": "python",
   "name": "python3"
  },
  "language_info": {
   "codemirror_mode": {
    "name": "ipython",
    "version": 3
   },
   "file_extension": ".py",
   "mimetype": "text/x-python",
   "name": "python",
   "nbconvert_exporter": "python",
   "pygments_lexer": "ipython3",
   "version": "3.8.5"
  }
 },
 "nbformat": 4,
 "nbformat_minor": 5
}
