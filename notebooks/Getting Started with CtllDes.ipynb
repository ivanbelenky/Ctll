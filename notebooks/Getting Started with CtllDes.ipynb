{
 "cells": [
  {
   "cell_type": "markdown",
   "id": "0470a951",
   "metadata": {},
   "source": [
    "<h1>Getting Started</h1>"
   ]
  },
  {
   "cell_type": "code",
   "execution_count": 1,
   "id": "0f4c6411",
   "metadata": {},
   "outputs": [],
   "source": [
    "# if you are running in the notebooks folder example cloned from github this line must be included\n",
    "import sys\n",
    "import os\n",
    "sys.path.insert(0, os.path.abspath('../'))"
   ]
  },
  {
   "cell_type": "markdown",
   "id": "b4717eed",
   "metadata": {},
   "source": [
    "<h3>Import CtllDes and poliastro, the core and utils elements </h3>"
   ]
  },
  {
   "cell_type": "code",
   "execution_count": 2,
   "id": "7f107713",
   "metadata": {},
   "outputs": [
    {
     "name": "stderr",
     "output_type": "stream",
     "text": [
      "WARNING: AstropyDeprecationWarning: The private astropy._erfa module has been made into its own package, pyerfa, which is a dependency of astropy and can be imported directly using \"import erfa\" [astropy._erfa]\n"
     ]
    }
   ],
   "source": [
    "import numpy as np\n",
    "\n",
    "#Propagator engine\n",
    "import poliastro\n",
    "\n",
    "#The library\n",
    "import CtllDes \n",
    "from CtllDes.core import ctll, satellite\n",
    "\n",
    "#Throughout this examples it will be necessary to use the correct\n",
    "#physical dimensions, astropy.units will help us with that\n",
    "import astropy.units as u"
   ]
  },
  {
   "cell_type": "markdown",
   "id": "30ff76aa",
   "metadata": {},
   "source": [
    "# Building an orbit \n",
    "\n",
    "The first step is to define an orbit. You can do this in a variety of ways as showed below."
   ]
  },
  {
   "cell_type": "markdown",
   "id": "e704a9c4",
   "metadata": {},
   "source": [
    "### Building from classical orbit parameters"
   ]
  },
  {
   "cell_type": "code",
   "execution_count": 3,
   "id": "8d5d6992",
   "metadata": {},
   "outputs": [],
   "source": [
    "#Orbit object, more info on poliastro API reference.\n",
    "from poliastro.twobody import Orbit\n",
    "\n",
    "#The bodies module specifies attractors\n",
    "from poliastro.bodies import Earth\n",
    "\n",
    "\n",
    "#Planes of reference and Epochs, are almost every time \n",
    "#the default ones, but just in case if you want to use \n",
    "#any other, they can be found in the following modules\n",
    "\n",
    "#import planes of reference, EARTH_EQUATOR \n",
    "from poliastro.frames import Planes\n",
    "\n",
    "#import J2000 time reference from constants \n",
    "from poliastro.constants import J2000\n",
    "\n",
    "\n",
    "\n",
    "### Specify classical orbit parameters ###\n",
    "\n",
    "a = 8000 * u.km # semi-major axis [distance]\n",
    "ecc = 0 * u.one # eccentricity [dimensionleess]\n",
    "inc = 98 * u.deg # inclination [angle] \n",
    "raan = 0 * u.rad # right ascencion of the ascending node [angle]\n",
    "argp = 0 * u.rad # perigee argument [angle]\n",
    "nu = 0 * u.rad # true anomaly [angle]\n",
    "\n",
    "plane = Planes.EARTH_EQUATOR # not necessary to specify\n",
    "epoch = J2000 # not necessary to specify\n",
    "\n",
    "#classmethod of Orbit\n",
    "orb = Orbit.from_classical(Earth,\n",
    "                            a,\n",
    "                            ecc,\n",
    "                            inc,\n",
    "                            raan,\n",
    "                            argp,\n",
    "                            nu)\n"
   ]
  },
  {
   "cell_type": "markdown",
   "id": "9d7af34f",
   "metadata": {},
   "source": [
    "### Other poliastro.twobody.Orbit classmethods"
   ]
  },
  {
   "cell_type": "code",
   "execution_count": 4,
   "id": "ece83671",
   "metadata": {},
   "outputs": [],
   "source": [
    "#more on poliastro API reference\n",
    "orb = Orbit.heliosynchronous(Earth, a=8000*u.km, ecc=0*u.one)\n",
    "orb = Orbit.from_vectors(Earth, [8000,0,0]*u.km, [0,7,0]*u.km/u.s)"
   ]
  },
  {
   "cell_type": "markdown",
   "id": "1629fa26",
   "metadata": {},
   "source": [
    "### Orbit utilities for repeating ground track and heliosynchronous orbits"
   ]
  },
  {
   "cell_type": "code",
   "execution_count": 5,
   "id": "b695eb08",
   "metadata": {},
   "outputs": [
    {
     "data": {
      "text/html": [
       "<div>\n",
       "<style scoped>\n",
       "    .dataframe tbody tr th:only-of-type {\n",
       "        vertical-align: middle;\n",
       "    }\n",
       "\n",
       "    .dataframe tbody tr th {\n",
       "        vertical-align: top;\n",
       "    }\n",
       "\n",
       "    .dataframe thead th {\n",
       "        text-align: right;\n",
       "    }\n",
       "</style>\n",
       "<table border=\"1\" class=\"dataframe\">\n",
       "  <thead>\n",
       "    <tr style=\"text-align: right;\">\n",
       "      <th></th>\n",
       "      <th>radius</th>\n",
       "      <th>inc</th>\n",
       "      <th>N</th>\n",
       "    </tr>\n",
       "  </thead>\n",
       "  <tbody>\n",
       "    <tr>\n",
       "      <th>0</th>\n",
       "      <td>11544.182918</td>\n",
       "      <td>142.248541</td>\n",
       "      <td>7.000000</td>\n",
       "    </tr>\n",
       "    <tr>\n",
       "      <th>1</th>\n",
       "      <td>11389.626716</td>\n",
       "      <td>138.961424</td>\n",
       "      <td>7.142857</td>\n",
       "    </tr>\n",
       "    <tr>\n",
       "      <th>2</th>\n",
       "      <td>11240.148578</td>\n",
       "      <td>136.071863</td>\n",
       "      <td>7.285714</td>\n",
       "    </tr>\n",
       "    <tr>\n",
       "      <th>3</th>\n",
       "      <td>11095.486092</td>\n",
       "      <td>133.496401</td>\n",
       "      <td>7.428571</td>\n",
       "    </tr>\n",
       "    <tr>\n",
       "      <th>4</th>\n",
       "      <td>10955.395204</td>\n",
       "      <td>131.177130</td>\n",
       "      <td>7.571429</td>\n",
       "    </tr>\n",
       "    <tr>\n",
       "      <th>...</th>\n",
       "      <td>...</td>\n",
       "      <td>...</td>\n",
       "      <td>...</td>\n",
       "    </tr>\n",
       "    <tr>\n",
       "      <th>66</th>\n",
       "      <td>6535.898060</td>\n",
       "      <td>96.204172</td>\n",
       "      <td>16.428571</td>\n",
       "    </tr>\n",
       "    <tr>\n",
       "      <th>67</th>\n",
       "      <td>6498.279346</td>\n",
       "      <td>96.079672</td>\n",
       "      <td>16.571429</td>\n",
       "    </tr>\n",
       "    <tr>\n",
       "      <th>68</th>\n",
       "      <td>6461.197311</td>\n",
       "      <td>95.958727</td>\n",
       "      <td>16.714286</td>\n",
       "    </tr>\n",
       "    <tr>\n",
       "      <th>69</th>\n",
       "      <td>6424.639809</td>\n",
       "      <td>95.841203</td>\n",
       "      <td>16.857143</td>\n",
       "    </tr>\n",
       "    <tr>\n",
       "      <th>70</th>\n",
       "      <td>6388.595066</td>\n",
       "      <td>95.726977</td>\n",
       "      <td>17.000000</td>\n",
       "    </tr>\n",
       "  </tbody>\n",
       "</table>\n",
       "<p>71 rows × 3 columns</p>\n",
       "</div>"
      ],
      "text/plain": [
       "          radius         inc          N\n",
       "0   11544.182918  142.248541   7.000000\n",
       "1   11389.626716  138.961424   7.142857\n",
       "2   11240.148578  136.071863   7.285714\n",
       "3   11095.486092  133.496401   7.428571\n",
       "4   10955.395204  131.177130   7.571429\n",
       "..           ...         ...        ...\n",
       "66   6535.898060   96.204172  16.428571\n",
       "67   6498.279346   96.079672  16.571429\n",
       "68   6461.197311   95.958727  16.714286\n",
       "69   6424.639809   95.841203  16.857143\n",
       "70   6388.595066   95.726977  17.000000\n",
       "\n",
       "[71 rows x 3 columns]"
      ]
     },
     "execution_count": 5,
     "metadata": {},
     "output_type": "execute_result"
    }
   ],
   "source": [
    "from CtllDes.utils import sscalc\n",
    "\n",
    "D = 7 #days of revisit\n",
    "orb_df = sscalc.helio_rgt_synchronous(D) #dataframe\n",
    "orb_df #radius [km], inclination [degrees], revolutions per day."
   ]
  },
  {
   "cell_type": "code",
   "execution_count": 6,
   "id": "785535b0",
   "metadata": {},
   "outputs": [
    {
     "data": {
      "text/html": [
       "<div>\n",
       "<style scoped>\n",
       "    .dataframe tbody tr th:only-of-type {\n",
       "        vertical-align: middle;\n",
       "    }\n",
       "\n",
       "    .dataframe tbody tr th {\n",
       "        vertical-align: top;\n",
       "    }\n",
       "\n",
       "    .dataframe thead th {\n",
       "        text-align: right;\n",
       "    }\n",
       "</style>\n",
       "<table border=\"1\" class=\"dataframe\">\n",
       "  <thead>\n",
       "    <tr style=\"text-align: right;\">\n",
       "      <th></th>\n",
       "      <th>radius</th>\n",
       "      <th>inc</th>\n",
       "      <th>N</th>\n",
       "    </tr>\n",
       "  </thead>\n",
       "  <tbody>\n",
       "    <tr>\n",
       "      <th>50</th>\n",
       "      <td>7222.422363</td>\n",
       "      <td>98.816646</td>\n",
       "      <td>14.142857</td>\n",
       "    </tr>\n",
       "    <tr>\n",
       "      <th>51</th>\n",
       "      <td>7174.189097</td>\n",
       "      <td>98.610796</td>\n",
       "      <td>14.285714</td>\n",
       "    </tr>\n",
       "    <tr>\n",
       "      <th>52</th>\n",
       "      <td>7126.753168</td>\n",
       "      <td>98.411801</td>\n",
       "      <td>14.428571</td>\n",
       "    </tr>\n",
       "    <tr>\n",
       "      <th>53</th>\n",
       "      <td>7080.093692</td>\n",
       "      <td>98.219362</td>\n",
       "      <td>14.571429</td>\n",
       "    </tr>\n",
       "    <tr>\n",
       "      <th>54</th>\n",
       "      <td>7034.190529</td>\n",
       "      <td>98.033200</td>\n",
       "      <td>14.714286</td>\n",
       "    </tr>\n",
       "    <tr>\n",
       "      <th>55</th>\n",
       "      <td>6989.024251</td>\n",
       "      <td>97.853046</td>\n",
       "      <td>14.857143</td>\n",
       "    </tr>\n",
       "    <tr>\n",
       "      <th>56</th>\n",
       "      <td>6944.576109</td>\n",
       "      <td>97.678649</td>\n",
       "      <td>15.000000</td>\n",
       "    </tr>\n",
       "    <tr>\n",
       "      <th>57</th>\n",
       "      <td>6900.828006</td>\n",
       "      <td>97.509769</td>\n",
       "      <td>15.142857</td>\n",
       "    </tr>\n",
       "  </tbody>\n",
       "</table>\n",
       "</div>"
      ],
      "text/plain": [
       "         radius        inc          N\n",
       "50  7222.422363  98.816646  14.142857\n",
       "51  7174.189097  98.610796  14.285714\n",
       "52  7126.753168  98.411801  14.428571\n",
       "53  7080.093692  98.219362  14.571429\n",
       "54  7034.190529  98.033200  14.714286\n",
       "55  6989.024251  97.853046  14.857143\n",
       "56  6944.576109  97.678649  15.000000\n",
       "57  6900.828006  97.509769  15.142857"
      ]
     },
     "execution_count": 6,
     "metadata": {},
     "output_type": "execute_result"
    }
   ],
   "source": [
    "#use pandas to filter the desired parameters\n",
    "earth_R = Earth.R_mean.to(u.km).value #value in km of earth mean Radius\n",
    "\n",
    "min_radius = 500 + earth_R\n",
    "max_radius = 900 + earth_R\n",
    "\n",
    "filtered = orb_df.loc[(orb_df['radius'].values < max_radius) &\n",
    "                      (orb_df['radius'].values > min_radius)]\n",
    "filtered "
   ]
  },
  {
   "cell_type": "code",
   "execution_count": 7,
   "id": "57f9cdab",
   "metadata": {},
   "outputs": [],
   "source": [
    "#select the desired cop, i.e. classical orbit parameters\n",
    "cop = filtered.loc[55] #pick one from the df\n",
    "a = cop['radius']*u.km #radius = semi-major axis\n",
    "ecc = 0 * u.one # this is cant be different than 0 since the helio_rgt is for circular orbits\n",
    "inc = cop['inc']*u.deg\n",
    "\n",
    "#reuse past raan, argp and nu\n",
    "orb = Orbit.from_classical(Earth,\n",
    "                            a,\n",
    "                            ecc,\n",
    "                            inc,\n",
    "                            raan,\n",
    "                            argp,\n",
    "                            nu)"
   ]
  },
  {
   "cell_type": "markdown",
   "id": "70209879",
   "metadata": {},
   "source": [
    "# Building satellites\n",
    "\n",
    " Satellite is one of the main classes in this library. You can build a satellite reading the docs, you are encouraged to use the classmethods.\n"
   ]
  },
  {
   "cell_type": "code",
   "execution_count": 8,
   "id": "10e28f82",
   "metadata": {},
   "outputs": [],
   "source": [
    "from CtllDes.core.satellite import Sat"
   ]
  },
  {
   "cell_type": "markdown",
   "id": "9950ac4c",
   "metadata": {},
   "source": [
    "\n",
    "### Building satellite from classmethods."
   ]
  },
  {
   "cell_type": "code",
   "execution_count": 9,
   "id": "3258e85c",
   "metadata": {},
   "outputs": [],
   "source": [
    "sat = Sat.from_orbit(orb) \n",
    "sat = Sat.from_vectors([8000,0,0]*u.km,\n",
    "                       [0,7,0]*u.km/u.s,\n",
    "                      attractor=Earth)\n"
   ]
  },
  {
   "cell_type": "markdown",
   "id": "e6f5294f",
   "metadata": {},
   "source": [
    "# Satellite's parameters "
   ]
  },
  {
   "cell_type": "code",
   "execution_count": 10,
   "id": "fdcd552a",
   "metadata": {},
   "outputs": [
    {
     "name": "stdout",
     "output_type": "stream",
     "text": [
      "id : c6176a40-1514-471f-8a1b-ec4cddaf0362\t[a ecc inc raan argp nu] : [7869.7 km 0.0 0.0 rad 0.0 rad 3.1 rad -3.1 rad]\t\tstatus : Online\n"
     ]
    }
   ],
   "source": [
    "sat.info() #general info at t=0"
   ]
  },
  {
   "cell_type": "markdown",
   "id": "d2b9e3de",
   "metadata": {},
   "source": [
    "### Physical Specifications"
   ]
  },
  {
   "cell_type": "code",
   "execution_count": 11,
   "id": "5494524a",
   "metadata": {},
   "outputs": [
    {
     "name": "stdout",
     "output_type": "stream",
     "text": [
      " m:1.0 kg, Cd:1.0, A:1.0 m2\n"
     ]
    }
   ],
   "source": [
    "print(sat.spec) #None specified, default parameters selected"
   ]
  },
  {
   "cell_type": "markdown",
   "id": "87478622",
   "metadata": {},
   "source": [
    "### Status"
   ]
  },
  {
   "cell_type": "code",
   "execution_count": 12,
   "id": "379bc2c9",
   "metadata": {},
   "outputs": [
    {
     "data": {
      "text/plain": [
       "'Online'"
      ]
     },
     "execution_count": 12,
     "metadata": {},
     "output_type": "execute_result"
    }
   ],
   "source": [
    "sat.status #None specified, Online status "
   ]
  },
  {
   "cell_type": "markdown",
   "id": "250de1f2",
   "metadata": {},
   "source": [
    "### Instruments"
   ]
  },
  {
   "cell_type": "code",
   "execution_count": 13,
   "id": "07871440",
   "metadata": {},
   "outputs": [
    {
     "data": {
      "text/plain": [
       "[]"
      ]
     },
     "execution_count": 13,
     "metadata": {},
     "output_type": "execute_result"
    }
   ],
   "source": [
    "sat.instruments #None specified, empty list"
   ]
  },
  {
   "cell_type": "markdown",
   "id": "66e2ce23",
   "metadata": {},
   "source": [
    "### Universal Unique Identfier\n"
   ]
  },
  {
   "cell_type": "code",
   "execution_count": 14,
   "id": "329dbd88",
   "metadata": {},
   "outputs": [
    {
     "data": {
      "text/plain": [
       "UUID('c6176a40-1514-471f-8a1b-ec4cddaf0362')"
      ]
     },
     "execution_count": 14,
     "metadata": {},
     "output_type": "execute_result"
    }
   ],
   "source": [
    "sat.id"
   ]
  },
  {
   "cell_type": "markdown",
   "id": "a5a19e9b",
   "metadata": {},
   "source": [
    "### Attractor"
   ]
  },
  {
   "cell_type": "code",
   "execution_count": 15,
   "id": "7c3fb7c4",
   "metadata": {},
   "outputs": [
    {
     "data": {
      "text/plain": [
       "Earth (♁)"
      ]
     },
     "execution_count": 15,
     "metadata": {},
     "output_type": "execute_result"
    }
   ],
   "source": [
    "sat.attractor"
   ]
  },
  {
   "cell_type": "markdown",
   "id": "4044b13d",
   "metadata": {},
   "source": [
    "### Orbit"
   ]
  },
  {
   "cell_type": "code",
   "execution_count": 16,
   "id": "100b0c2e",
   "metadata": {},
   "outputs": [
    {
     "data": {
      "text/plain": [
       "7739 x 8000 km x 0.0 deg (GCRS) orbit around Earth (♁) at epoch J2000.000 (TT)"
      ]
     },
     "execution_count": 16,
     "metadata": {},
     "output_type": "execute_result"
    }
   ],
   "source": [
    "sat.orbit"
   ]
  },
  {
   "cell_type": "markdown",
   "id": "9ef070c7",
   "metadata": {},
   "source": [
    "#  Physical Specifications"
   ]
  },
  {
   "cell_type": "code",
   "execution_count": 17,
   "id": "894c6863",
   "metadata": {},
   "outputs": [],
   "source": [
    "from CtllDes.core import specs"
   ]
  },
  {
   "cell_type": "code",
   "execution_count": 18,
   "id": "652ea86e",
   "metadata": {},
   "outputs": [],
   "source": [
    "\n",
    "drag_coef = 2.2*u.one\n",
    "mass = 200*u.kg\n",
    "Area = 10*u.m**2\n",
    "\n",
    "spec = specs.Specifications(m=mass, Cd=drag_coef, A=Area)"
   ]
  },
  {
   "cell_type": "code",
   "execution_count": 19,
   "id": "18ad9797",
   "metadata": {},
   "outputs": [
    {
     "name": "stdout",
     "output_type": "stream",
     "text": [
      " m:200.0 kg, Cd:2.2, A:10.0 m2\n"
     ]
    }
   ],
   "source": [
    "sat.update_spec(spec)\n",
    "print(sat.spec)"
   ]
  },
  {
   "cell_type": "markdown",
   "id": "7b2f24e4",
   "metadata": {},
   "source": [
    "#  Status (in dev)"
   ]
  },
  {
   "cell_type": "code",
   "execution_count": 20,
   "id": "d8f41fcf",
   "metadata": {},
   "outputs": [],
   "source": [
    "#In development. Until now is just a string identifying if the \n",
    "#satellite is Online or not. This will impact when calculating\n",
    "#merit figures. "
   ]
  },
  {
   "cell_type": "code",
   "execution_count": 21,
   "id": "2bde3342",
   "metadata": {},
   "outputs": [
    {
     "name": "stdout",
     "output_type": "stream",
     "text": [
      "Warning, notImplemented\n"
     ]
    },
    {
     "data": {
      "text/plain": [
       "'Online'"
      ]
     },
     "execution_count": 21,
     "metadata": {},
     "output_type": "execute_result"
    }
   ],
   "source": [
    "sat.update_status('Shutoff')\n",
    "sat.status"
   ]
  },
  {
   "cell_type": "markdown",
   "id": "6dedd788",
   "metadata": {},
   "source": [
    "# Instruments"
   ]
  },
  {
   "cell_type": "markdown",
   "id": "29b7c37c",
   "metadata": {},
   "source": [
    "The instruments module is explained in more detailed in instruments.ipynb. There you can find how to create new instruments and For now, the example below will just update the instrument with a default Camera one. "
   ]
  },
  {
   "cell_type": "code",
   "execution_count": 22,
   "id": "d5ba9a3d",
   "metadata": {},
   "outputs": [],
   "source": [
    "from CtllDes.core import instrument"
   ]
  },
  {
   "cell_type": "code",
   "execution_count": 23,
   "id": "941473e4",
   "metadata": {},
   "outputs": [
    {
     "data": {
      "text/plain": [
       "[<CtllDes.core.instrument.Camera at 0x7fb534489340>]"
      ]
     },
     "execution_count": 23,
     "metadata": {},
     "output_type": "execute_result"
    }
   ],
   "source": [
    "camera = instrument.Camera(800, 0.01) # pixels, angle resolution\n",
    "sat.update_instruments(camera,f=True) # force option\n",
    "sat.instruments"
   ]
  },
  {
   "cell_type": "markdown",
   "id": "473a62a7",
   "metadata": {},
   "source": [
    "# Building a Constellation"
   ]
  },
  {
   "cell_type": "code",
   "execution_count": 24,
   "id": "75e8d33b",
   "metadata": {},
   "outputs": [],
   "source": [
    "#since a constellation is a set of satellite we will build a few more.\n",
    "\n",
    "sat0 = sat\n",
    "sat1 = Sat.from_vectors([8000,0,0]*u.km,\n",
    "                        [0,7,0]*u.km/u.s,\n",
    "                        attractor=Earth)\n",
    "sat2 = Sat.from_orbit(Orbit.heliosynchronous(Earth,\n",
    "                                             a=8000*u.km,\n",
    "                                             ecc=0*u.one))\n"
   ]
  },
  {
   "cell_type": "code",
   "execution_count": 25,
   "id": "6f4cd289",
   "metadata": {},
   "outputs": [],
   "source": [
    "constellation = ctll.Ctll.from_sats([sat0,sat1,sat2])"
   ]
  },
  {
   "cell_type": "code",
   "execution_count": 26,
   "id": "fedcd3ee",
   "metadata": {},
   "outputs": [
    {
     "name": "stdout",
     "output_type": "stream",
     "text": [
      "\n",
      "3 satellites within no Pattern\n"
     ]
    }
   ],
   "source": [
    "constellation.info()"
   ]
  },
  {
   "cell_type": "code",
   "execution_count": 27,
   "id": "de4da211",
   "metadata": {},
   "outputs": [
    {
     "name": "stdout",
     "output_type": "stream",
     "text": [
      "\n",
      "3 satellites in no Pattern\n",
      "\n",
      "id : 6e03bf80-cdfb-4aef-a1be-f42fdce755f4\t[a ecc inc raan argp nu] : [7869.7 km 0.0 0.0 rad 0.0 rad 3.1 rad -3.1 rad]\t\tstatus : Online\n",
      "id : 17d994b7-a930-429b-8cc3-9d66bbd52f4c\t[a ecc inc raan argp nu] : [7869.7 km 0.0 0.0 rad 0.0 rad 3.1 rad -3.1 rad]\t\tstatus : Online\n",
      "id : ca7522d4-1630-4d98-afa5-23dd4def73c5\t[a ecc inc raan argp nu] : [8000.0 km 0.0 1.8 rad 610.5 deg 0.0 deg 0.0 deg]\t\tstatus : Online\n"
     ]
    }
   ],
   "source": [
    "constellation.info(v=True)"
   ]
  },
  {
   "cell_type": "code",
   "execution_count": 28,
   "id": "0cc0ffd7",
   "metadata": {},
   "outputs": [
    {
     "data": {
      "text/plain": [
       "[UUID('6e03bf80-cdfb-4aef-a1be-f42fdce755f4'),\n",
       " UUID('17d994b7-a930-429b-8cc3-9d66bbd52f4c'),\n",
       " UUID('ca7522d4-1630-4d98-afa5-23dd4def73c5')]"
      ]
     },
     "execution_count": 28,
     "metadata": {},
     "output_type": "execute_result"
    }
   ],
   "source": [
    "ids = constellation.online_id\n",
    "ids "
   ]
  },
  {
   "cell_type": "code",
   "execution_count": 29,
   "id": "8110ac22",
   "metadata": {},
   "outputs": [
    {
     "name": "stdout",
     "output_type": "stream",
     "text": [
      "id : 17d994b7-a930-429b-8cc3-9d66bbd52f4c\t[a ecc inc raan argp nu] : [7869.7 km 0.0 0.0 rad 0.0 rad 3.1 rad -3.1 rad]\t\tstatus : Online\n"
     ]
    }
   ],
   "source": [
    "sat_by_id = constellation.get_sat(ids[1])\n",
    "sat_by_id.info()"
   ]
  },
  {
   "cell_type": "code",
   "execution_count": 30,
   "id": "0c9705e2",
   "metadata": {},
   "outputs": [
    {
     "name": "stdout",
     "output_type": "stream",
     "text": [
      "id : 17d994b7-a930-429b-8cc3-9d66bbd52f4c\t[a ecc inc raan argp nu] : [7869.7 km 0.0 0.0 rad 0.0 rad 3.1 rad -3.1 rad]\t\tstatus : Online\n"
     ]
    }
   ],
   "source": [
    "constellation.sats[1].info()"
   ]
  },
  {
   "cell_type": "code",
   "execution_count": 31,
   "id": "657067fd",
   "metadata": {},
   "outputs": [
    {
     "data": {
      "text/plain": [
       "[[<CtllDes.core.instrument.Camera at 0x7fb534489340>], [], []]"
      ]
     },
     "execution_count": 31,
     "metadata": {},
     "output_type": "execute_result"
    }
   ],
   "source": [
    "constellation.instruments"
   ]
  },
  {
   "cell_type": "code",
   "execution_count": 32,
   "id": "dd9f4dd0",
   "metadata": {},
   "outputs": [],
   "source": [
    "camera1 = instrument.Camera(800,0.1)\n",
    "camera2 = instrument.Camera(800,0.04)"
   ]
  },
  {
   "cell_type": "code",
   "execution_count": 33,
   "id": "f2371d63",
   "metadata": {},
   "outputs": [
    {
     "data": {
      "text/plain": [
       "[[<CtllDes.core.instrument.Camera at 0x7fb534489340>], [], []]"
      ]
     },
     "execution_count": 33,
     "metadata": {},
     "output_type": "execute_result"
    }
   ],
   "source": [
    "#this wouldnt work since the constellation copies the sat info\n",
    "sat1.update_instruments(camera1,f=True)\n",
    "sat2.update_instruments(camera2,f=True)\n",
    "\n",
    "constellation.instruments"
   ]
  },
  {
   "cell_type": "code",
   "execution_count": 34,
   "id": "6358dfa5",
   "metadata": {},
   "outputs": [
    {
     "data": {
      "text/plain": [
       "[[<CtllDes.core.instrument.Camera at 0x7fb534489340>],\n",
       " [<CtllDes.core.instrument.Camera at 0x7fb53449b2b0>],\n",
       " [<CtllDes.core.instrument.Camera at 0x7fb53449bac0>]]"
      ]
     },
     "execution_count": 34,
     "metadata": {},
     "output_type": "execute_result"
    }
   ],
   "source": [
    "constellation.sats[1].update_instruments(camera1,f=True)\n",
    "constellation.sats[2].update_instruments(camera2,f=True)\n",
    "\n",
    "constellation.instruments"
   ]
  },
  {
   "cell_type": "markdown",
   "id": "623676eb",
   "metadata": {},
   "source": [
    "### Building specific pattern "
   ]
  },
  {
   "cell_type": "code",
   "execution_count": 35,
   "id": "4829e01f",
   "metadata": {},
   "outputs": [],
   "source": [
    "#Build a Walker Delta constellation\n",
    "T = 10\n",
    "P = 5\n",
    "F = 3\n",
    "\n",
    "p = 12000*u.km\n",
    "ecc = 0.3*u.one\n",
    "inc = 99*u.deg\n",
    "raan = 30*u.deg\n",
    "argp = 20*u.deg\n",
    "nu = 0.3*u.rad\n",
    "\n",
    "WDctll = ctll.Ctll.from_WalkerDelta(T,\n",
    "                                    P,\n",
    "                                    F,\n",
    "                                    p,\n",
    "                                    ecc,\n",
    "                                    inc,\n",
    "                                    argp,\n",
    "                                    raan_offset=raan,\n",
    "                                    nu_offset=nu,\n",
    "                                   )"
   ]
  },
  {
   "cell_type": "code",
   "execution_count": 36,
   "id": "5321e722",
   "metadata": {},
   "outputs": [
    {
     "name": "stdout",
     "output_type": "stream",
     "text": [
      "\n",
      "10 satellites in Walker Delta Pattern T/P/F = 10/5/3\n",
      "\n",
      "id : cc77c85e-db30-46d0-ad0e-6fb4e78be4ea\t[a ecc inc raan argp nu] : [13186.8 km 0.3 99.0 deg 30.0 deg 20.0 deg 17.2 deg]\t\tstatus : Online\n",
      "id : bde771b2-4011-4e7e-b3d4-81f78b6e228e\t[a ecc inc raan argp nu] : [13186.8 km 0.3 99.0 deg 30.0 deg 20.0 deg -162.8 deg]\t\tstatus : Online\n",
      "id : 22c398fa-4f05-464e-a79c-5a76e1a0badb\t[a ecc inc raan argp nu] : [13186.8 km 0.3 99.0 deg 102.0 deg 20.0 deg 125.2 deg]\t\tstatus : Online\n",
      "id : 57c3aa56-e8c8-4cb7-9ad9-4eed990338f0\t[a ecc inc raan argp nu] : [13186.8 km 0.3 99.0 deg 102.0 deg 20.0 deg -54.8 deg]\t\tstatus : Online\n",
      "id : 0191d048-fd3d-4f09-baf8-46b0679ef444\t[a ecc inc raan argp nu] : [13186.8 km 0.3 99.0 deg 174.0 deg 20.0 deg -126.8 deg]\t\tstatus : Online\n",
      "id : 9827c668-172f-4515-903e-3aaf1d096268\t[a ecc inc raan argp nu] : [13186.8 km 0.3 99.0 deg 174.0 deg 20.0 deg 53.2 deg]\t\tstatus : Online\n",
      "id : 777075a6-f492-4446-9740-1b4433ab0101\t[a ecc inc raan argp nu] : [13186.8 km 0.3 99.0 deg 246.0 deg 20.0 deg -18.8 deg]\t\tstatus : Online\n",
      "id : 3536a500-7c6a-48d4-8304-89dc687775de\t[a ecc inc raan argp nu] : [13186.8 km 0.3 99.0 deg 246.0 deg 20.0 deg 161.2 deg]\t\tstatus : Online\n",
      "id : e5a1b772-a9ad-4ad1-a3e5-c8cfb91041b3\t[a ecc inc raan argp nu] : [13186.8 km 0.3 99.0 deg 318.0 deg 20.0 deg 89.2 deg]\t\tstatus : Online\n",
      "id : 189413a0-954f-4ff5-b435-33c2ffb272e2\t[a ecc inc raan argp nu] : [13186.8 km 0.3 99.0 deg 318.0 deg 20.0 deg -90.8 deg]\t\tstatus : Online\n"
     ]
    }
   ],
   "source": [
    "WDctll.info(v=True)"
   ]
  },
  {
   "cell_type": "code",
   "execution_count": 37,
   "id": "706ff78b",
   "metadata": {},
   "outputs": [
    {
     "name": "stdout",
     "output_type": "stream",
     "text": [
      "\n",
      "Specifications\n",
      "\n",
      " m:1.0 kg, Cd:1.0, A:1.0 m2\n",
      " m:1.0 kg, Cd:1.0, A:1.0 m2\n",
      " m:1.0 kg, Cd:1.0, A:1.0 m2\n",
      " m:1.0 kg, Cd:1.0, A:1.0 m2\n",
      " m:1.0 kg, Cd:1.0, A:1.0 m2\n",
      " m:1.0 kg, Cd:1.0, A:1.0 m2\n",
      " m:1.0 kg, Cd:1.0, A:1.0 m2\n",
      " m:1.0 kg, Cd:1.0, A:1.0 m2\n",
      " m:1.0 kg, Cd:1.0, A:1.0 m2\n",
      " m:1.0 kg, Cd:1.0, A:1.0 m2\n",
      "\n",
      "Status\n",
      "\n",
      "Online\n",
      "Online\n",
      "Online\n",
      "Online\n",
      "Online\n",
      "Online\n",
      "Online\n",
      "Online\n",
      "Online\n",
      "Online\n",
      "\n",
      "Instruments\n",
      "\n",
      "[]\n",
      "[]\n",
      "[]\n",
      "[]\n",
      "[]\n",
      "[]\n",
      "[]\n",
      "[]\n",
      "[]\n",
      "[]\n"
     ]
    }
   ],
   "source": [
    "#default specs\n",
    "print(\"\\nSpecifications\\n\")\n",
    "for spec in WDctll.specs:\n",
    "    print(spec)\n",
    "\n",
    "#default status\n",
    "print(\"\\nStatus\\n\")\n",
    "for status in WDctll.status:\n",
    "    print(status)\n",
    "\n",
    "#default instruments\n",
    "print(\"\\nInstruments\\n\")\n",
    "for instr in WDctll.instruments:\n",
    "    print(instr)\n"
   ]
  },
  {
   "cell_type": "markdown",
   "id": "40daaa71",
   "metadata": {},
   "source": [
    "# Changing default instruments, status and specifications."
   ]
  },
  {
   "cell_type": "code",
   "execution_count": 38,
   "id": "7e67bf8e",
   "metadata": {},
   "outputs": [
    {
     "data": {
      "text/plain": [
       "10"
      ]
     },
     "execution_count": 38,
     "metadata": {},
     "output_type": "execute_result"
    }
   ],
   "source": [
    "#check amount of satellites inside Walker Delta Ctll\n",
    "WDctll.N"
   ]
  },
  {
   "cell_type": "markdown",
   "id": "0623a23e",
   "metadata": {},
   "source": [
    "### Specifications"
   ]
  },
  {
   "cell_type": "code",
   "execution_count": 39,
   "id": "2a0c5c3e",
   "metadata": {},
   "outputs": [
    {
     "name": "stdout",
     "output_type": "stream",
     "text": [
      " m:30.0 kg, Cd:1.5, A:50.0 m2\n",
      " m:30.0 kg, Cd:1.5, A:50.0 m2\n",
      " m:30.0 kg, Cd:1.5, A:50.0 m2\n",
      " m:30.0 kg, Cd:1.5, A:50.0 m2\n",
      " m:30.0 kg, Cd:1.5, A:50.0 m2\n",
      " m:30.0 kg, Cd:1.5, A:50.0 m2\n",
      " m:30.0 kg, Cd:1.5, A:50.0 m2\n",
      " m:30.0 kg, Cd:1.5, A:50.0 m2\n",
      " m:30.0 kg, Cd:1.5, A:50.0 m2\n",
      " m:30.0 kg, Cd:1.5, A:50.0 m2\n"
     ]
    }
   ],
   "source": [
    "general_spec = specs.Specifications(m=30*u.kg,Cd=1.5*u.one,A=50*u.m**2)\n",
    "spec_lst = [general_spec for _ in range(WDctll.N)]\n",
    "WDctll.update_specs(spec_lst)\n",
    "\n",
    "#new specs\n",
    "for spec in WDctll.specs:\n",
    "    print(spec)"
   ]
  },
  {
   "cell_type": "markdown",
   "id": "96f982f3",
   "metadata": {},
   "source": [
    "### Instruments"
   ]
  },
  {
   "cell_type": "code",
   "execution_count": 40,
   "id": "22b0d26d",
   "metadata": {},
   "outputs": [
    {
     "name": "stdout",
     "output_type": "stream",
     "text": [
      "[<CtllDes.core.instrument.Camera object at 0x7fb533e35100>]\n",
      "[<CtllDes.core.instrument.Camera object at 0x7fb533e35160>]\n",
      "[<CtllDes.core.instrument.Camera object at 0x7fb533e35340>]\n",
      "[<CtllDes.core.instrument.Camera object at 0x7fb533e35250>]\n",
      "[<CtllDes.core.instrument.Camera object at 0x7fb533e35b20>]\n",
      "[<CtllDes.core.instrument.Camera object at 0x7fb533e355e0>]\n",
      "[<CtllDes.core.instrument.Camera object at 0x7fb533e35f40>]\n",
      "[<CtllDes.core.instrument.Camera object at 0x7fb533e356a0>]\n",
      "[<CtllDes.core.instrument.Camera object at 0x7fb533e35400>]\n",
      "[<CtllDes.core.instrument.Camera object at 0x7fb533e35c70>]\n"
     ]
    }
   ],
   "source": [
    "general_instrument = instrument.Camera(1000,0.1)\n",
    "instr_lst = [general_instrument for _ in range(WDctll.N)]\n",
    "WDctll.update_instruments(instr_lst,f=True)\n",
    "\n",
    "#new instruments\n",
    "for instr in WDctll.instruments:\n",
    "    print(instr)"
   ]
  },
  {
   "cell_type": "markdown",
   "id": "a6097da5",
   "metadata": {},
   "source": [
    "### Status (in dev)"
   ]
  },
  {
   "cell_type": "code",
   "execution_count": 41,
   "id": "995169d7",
   "metadata": {},
   "outputs": [],
   "source": [
    "#"
   ]
  },
  {
   "cell_type": "markdown",
   "id": "74fa9463",
   "metadata": {},
   "source": [
    "# Adding Constellations  "
   ]
  },
  {
   "cell_type": "code",
   "execution_count": 42,
   "id": "f3d03355",
   "metadata": {},
   "outputs": [
    {
     "ename": "KeyboardInterrupt",
     "evalue": "",
     "output_type": "error",
     "traceback": [
      "\u001b[0;31m---------------------------------------------------------------------------\u001b[0m",
      "\u001b[0;31mKeyboardInterrupt\u001b[0m                         Traceback (most recent call last)",
      "\u001b[0;32m<ipython-input-42-3af345409eaa>\u001b[0m in \u001b[0;36m<module>\u001b[0;34m\u001b[0m\n\u001b[0;32m----> 1\u001b[0;31m \u001b[0madded_ctll\u001b[0m \u001b[0;34m=\u001b[0m \u001b[0mconstellation\u001b[0m \u001b[0;34m+\u001b[0m \u001b[0mWDctll\u001b[0m\u001b[0;34m\u001b[0m\u001b[0;34m\u001b[0m\u001b[0m\n\u001b[0m\u001b[1;32m      2\u001b[0m \u001b[0madded_ctll\u001b[0m\u001b[0;34m.\u001b[0m\u001b[0minfo\u001b[0m\u001b[0;34m(\u001b[0m\u001b[0mv\u001b[0m\u001b[0;34m=\u001b[0m\u001b[0;32mTrue\u001b[0m\u001b[0;34m)\u001b[0m\u001b[0;34m\u001b[0m\u001b[0;34m\u001b[0m\u001b[0m\n",
      "\u001b[0;32m~/Documents/Instituto Balseiro/6to semestre/pi/CtllDes/CtllDes/core/ctll.py\u001b[0m in \u001b[0;36m__add__\u001b[0;34m(self, other)\u001b[0m\n\u001b[1;32m    407\u001b[0m                         \u001b[0mepoch\u001b[0m \u001b[0;34m=\u001b[0m \u001b[0mself\u001b[0m\u001b[0;34m.\u001b[0m\u001b[0mepoch\u001b[0m\u001b[0;34m\u001b[0m\u001b[0;34m\u001b[0m\u001b[0m\n\u001b[1;32m    408\u001b[0m \u001b[0;34m\u001b[0m\u001b[0m\n\u001b[0;32m--> 409\u001b[0;31m \t\t\treturn Ctll(new_states, new_status, new_specs, new_instruments,\n\u001b[0m\u001b[1;32m    410\u001b[0m \t\t\tnew_pattern,epoch)\n\u001b[1;32m    411\u001b[0m \u001b[0;34m\u001b[0m\u001b[0m\n",
      "\u001b[0;32m~/Documents/Instituto Balseiro/6to semestre/pi/CtllDes/CtllDes/core/ctll.py\u001b[0m in \u001b[0;36m__init__\u001b[0;34m(self, states, status, specs, instruments, pattern, epoch)\u001b[0m\n\u001b[1;32m     65\u001b[0m                 \u001b[0mself\u001b[0m\u001b[0;34m.\u001b[0m\u001b[0m_epoch\u001b[0m \u001b[0;34m=\u001b[0m \u001b[0mepoch\u001b[0m\u001b[0;34m\u001b[0m\u001b[0;34m\u001b[0m\u001b[0m\n\u001b[1;32m     66\u001b[0m \u001b[0;34m\u001b[0m\u001b[0m\n\u001b[0;32m---> 67\u001b[0;31m                 \u001b[0mself\u001b[0m\u001b[0;34m.\u001b[0m\u001b[0m_sats\u001b[0m \u001b[0;34m=\u001b[0m \u001b[0mself\u001b[0m\u001b[0;34m.\u001b[0m\u001b[0m_set_sats\u001b[0m\u001b[0;34m(\u001b[0m\u001b[0;34m)\u001b[0m\u001b[0;34m\u001b[0m\u001b[0;34m\u001b[0m\u001b[0m\n\u001b[0m\u001b[1;32m     68\u001b[0m \u001b[0;34m\u001b[0m\u001b[0m\n\u001b[1;32m     69\u001b[0m \u001b[0;34m\u001b[0m\u001b[0m\n",
      "\u001b[0;32m~/Documents/Instituto Balseiro/6to semestre/pi/CtllDes/CtllDes/core/ctll.py\u001b[0m in \u001b[0;36m_set_sats\u001b[0;34m(self)\u001b[0m\n\u001b[1;32m    337\u001b[0m                 \u001b[0;34m\"\"\"Returns sats attribute: list of sats\"\"\"\u001b[0m\u001b[0;34m\u001b[0m\u001b[0;34m\u001b[0m\u001b[0m\n\u001b[1;32m    338\u001b[0m \u001b[0;34m\u001b[0m\u001b[0m\n\u001b[0;32m--> 339\u001b[0;31m \t\treturn [Sat(st,status,spec,instr) for st,status,instr,spec\n\u001b[0m\u001b[1;32m    340\u001b[0m \t\t in zip(self.states,self.status,self.instruments,self.specs)]\n\u001b[1;32m    341\u001b[0m \u001b[0;34m\u001b[0m\u001b[0m\n",
      "\u001b[0;32m~/Documents/Instituto Balseiro/6to semestre/pi/CtllDes/CtllDes/core/ctll.py\u001b[0m in \u001b[0;36m<listcomp>\u001b[0;34m(.0)\u001b[0m\n\u001b[1;32m    337\u001b[0m                 \u001b[0;34m\"\"\"Returns sats attribute: list of sats\"\"\"\u001b[0m\u001b[0;34m\u001b[0m\u001b[0;34m\u001b[0m\u001b[0m\n\u001b[1;32m    338\u001b[0m \u001b[0;34m\u001b[0m\u001b[0m\n\u001b[0;32m--> 339\u001b[0;31m \t\treturn [Sat(st,status,spec,instr) for st,status,instr,spec\n\u001b[0m\u001b[1;32m    340\u001b[0m \t\t in zip(self.states,self.status,self.instruments,self.specs)]\n\u001b[1;32m    341\u001b[0m \u001b[0;34m\u001b[0m\u001b[0m\n",
      "\u001b[0;32m~/Documents/Instituto Balseiro/6to semestre/pi/CtllDes/CtllDes/core/satellite.py\u001b[0m in \u001b[0;36m__init__\u001b[0;34m(self, state, status, spec, instruments, epoch)\u001b[0m\n\u001b[1;32m     83\u001b[0m                 \u001b[0mself\u001b[0m\u001b[0;34m.\u001b[0m\u001b[0m_orbit\u001b[0m \u001b[0;34m=\u001b[0m \u001b[0mOrbit\u001b[0m\u001b[0;34m(\u001b[0m\u001b[0mstate\u001b[0m\u001b[0;34m,\u001b[0m\u001b[0mepoch\u001b[0m\u001b[0;34m)\u001b[0m\u001b[0;34m\u001b[0m\u001b[0;34m\u001b[0m\u001b[0m\n\u001b[1;32m     84\u001b[0m \u001b[0;34m\u001b[0m\u001b[0m\n\u001b[0;32m---> 85\u001b[0;31m                 \u001b[0mself\u001b[0m\u001b[0;34m.\u001b[0m\u001b[0m_Propagator\u001b[0m \u001b[0;34m=\u001b[0m \u001b[0mPropagator\u001b[0m\u001b[0;34m(\u001b[0m\u001b[0mself\u001b[0m\u001b[0;34m.\u001b[0m\u001b[0morbit\u001b[0m\u001b[0;34m)\u001b[0m\u001b[0;34m\u001b[0m\u001b[0;34m\u001b[0m\u001b[0m\n\u001b[0m\u001b[1;32m     86\u001b[0m \u001b[0;34m\u001b[0m\u001b[0m\n\u001b[1;32m     87\u001b[0m \u001b[0;34m\u001b[0m\u001b[0m\n",
      "\u001b[0;32m~/Documents/Instituto Balseiro/6to semestre/pi/CtllDes/CtllDes/core/satellite.py\u001b[0m in \u001b[0;36m__init__\u001b[0;34m(self, orbit, T, method, **kwargs)\u001b[0m\n\u001b[1;32m    426\u001b[0m \u001b[0;34m\u001b[0m\u001b[0m\n\u001b[1;32m    427\u001b[0m                 \u001b[0mself\u001b[0m\u001b[0;34m.\u001b[0m\u001b[0mtofs\u001b[0m \u001b[0;34m=\u001b[0m \u001b[0;32mNone\u001b[0m\u001b[0;34m\u001b[0m\u001b[0;34m\u001b[0m\u001b[0m\n\u001b[0;32m--> 428\u001b[0;31m                 \u001b[0mself\u001b[0m\u001b[0;34m.\u001b[0m\u001b[0m_setcoords\u001b[0m\u001b[0;34m(\u001b[0m\u001b[0;34m)\u001b[0m\u001b[0;34m\u001b[0m\u001b[0;34m\u001b[0m\u001b[0m\n\u001b[0m\u001b[1;32m    429\u001b[0m \u001b[0;34m\u001b[0m\u001b[0m\n\u001b[1;32m    430\u001b[0m \u001b[0;34m\u001b[0m\u001b[0m\n",
      "\u001b[0;32m~/Documents/Instituto Balseiro/6to semestre/pi/CtllDes/CtllDes/core/satellite.py\u001b[0m in \u001b[0;36m_setcoords\u001b[0;34m(self)\u001b[0m\n\u001b[1;32m    498\u001b[0m \t\t num=int(self.T*24*3600/self._DT)))\n\u001b[1;32m    499\u001b[0m \u001b[0;34m\u001b[0m\u001b[0m\n\u001b[0;32m--> 500\u001b[0;31m \t\tself.coords = propagation.propagate(self.orbit,\n\u001b[0m\u001b[1;32m    501\u001b[0m \t\t\tself.tofs,method=self.method,**self.kwargs)\n\u001b[1;32m    502\u001b[0m \u001b[0;34m\u001b[0m\u001b[0m\n",
      "\u001b[0;32m~/Documents/Instituto Balseiro/6to semestre/pi/CtllDes/venv/lib/python3.8/site-packages/poliastro/twobody/propagation.py\u001b[0m in \u001b[0;36mpropagate\u001b[0;34m(orbit, time_of_flight, method, rtol, **kwargs)\u001b[0m\n\u001b[1;32m    478\u001b[0m \u001b[0;34m\u001b[0m\u001b[0m\n\u001b[1;32m    479\u001b[0m \u001b[0;34m\u001b[0m\u001b[0m\n\u001b[0;32m--> 480\u001b[0;31m     rr, vv = method(\n\u001b[0m\u001b[1;32m    481\u001b[0m         \u001b[0morbit\u001b[0m\u001b[0;34m.\u001b[0m\u001b[0mattractor\u001b[0m\u001b[0;34m.\u001b[0m\u001b[0mk\u001b[0m\u001b[0;34m,\u001b[0m\u001b[0;34m\u001b[0m\u001b[0;34m\u001b[0m\u001b[0m\n\u001b[1;32m    482\u001b[0m         \u001b[0morbit\u001b[0m\u001b[0;34m.\u001b[0m\u001b[0mr\u001b[0m\u001b[0;34m,\u001b[0m\u001b[0;34m\u001b[0m\u001b[0;34m\u001b[0m\u001b[0m\n",
      "\u001b[0;31mKeyboardInterrupt\u001b[0m: "
     ]
    }
   ],
   "source": [
    "added_ctll = constellation + WDctll\n",
    "added_ctll.info(v=True)\n"
   ]
  },
  {
   "cell_type": "code",
   "execution_count": null,
   "id": "d00b4124",
   "metadata": {},
   "outputs": [],
   "source": [
    "#the above cell is equivalent to the following except from the fact that the patterns are not inherited\n",
    "added_ctll = ctll.Ctll.from_sats(constellation.sats+WDctll.sats)\n",
    "added_ctll.info(v=True)"
   ]
  },
  {
   "cell_type": "markdown",
   "id": "de84a0e8",
   "metadata": {},
   "source": [
    "# Propagation"
   ]
  },
  {
   "cell_type": "markdown",
   "id": "fa5f1586",
   "metadata": {},
   "source": [
    "In order to obtain the ephemerides of the satellite you can use the rv method for the Sat class as well as the Ctll class."
   ]
  },
  {
   "cell_type": "markdown",
   "id": "004d80ed",
   "metadata": {},
   "source": [
    "### Satellite"
   ]
  },
  {
   "cell_type": "code",
   "execution_count": null,
   "id": "fe275324",
   "metadata": {},
   "outputs": [],
   "source": [
    "#As you can see in the documentation \n",
    "\n",
    "#T days \n",
    "#dt interval in seconds\n",
    "#drag and J2, perturbations used in propagation\n",
    "r_sat,v_sat = added_ctll.sats[0].rv(30,dt=50, J2=True, drag=False)\n",
    "lon_sat,lat_sat = added_ctll.sats[0].ssps(4,J2=False)"
   ]
  },
  {
   "cell_type": "markdown",
   "id": "9f266358",
   "metadata": {},
   "source": [
    "### Constellation"
   ]
  },
  {
   "cell_type": "code",
   "execution_count": null,
   "id": "3cb67fd8",
   "metadata": {},
   "outputs": [],
   "source": [
    "rv_ctll = added_ctll.rv(30, dt=10, drag = True, J2=True)\n",
    "r,v = rv_ctll[0]\n",
    "\n",
    "lonlat_ctll = added_ctll.ssps(5,dt=10,J2=True,drag=True)\n",
    "lon,lat = lonlat_ctll[0]"
   ]
  },
  {
   "cell_type": "markdown",
   "id": "b190760f",
   "metadata": {},
   "source": [
    "### Plotting r (xyz)"
   ]
  },
  {
   "cell_type": "code",
   "execution_count": null,
   "id": "37540020",
   "metadata": {},
   "outputs": [],
   "source": [
    "import matplotlib.pyplot as plt\n",
    "%matplotlib qt5"
   ]
  },
  {
   "cell_type": "code",
   "execution_count": null,
   "id": "478887ca",
   "metadata": {},
   "outputs": [],
   "source": [
    "fig = plt.figure(figsize=(10,10))\n",
    "ax = fig.add_subplot(111, projection='3d')\n",
    "ax.scatter(r_sat[::50,0], r_sat[::50,1], r_sat[::50,2],s=0.5,c='k') #xyz obviously\n",
    "ax.scatter(0,0,0,c='blue', s=6370)\n",
    "\n",
    "plt.show()\n"
   ]
  },
  {
   "cell_type": "code",
   "execution_count": null,
   "id": "d11d5df7",
   "metadata": {},
   "outputs": [],
   "source": [
    "fig = plt.figure(figsize=(10,10))\n",
    "ax = fig.add_subplot(111, projection='3d')\n",
    "ax.scatter(r[::50,0], r[::50,1], r[::50,2],s=0.5,c='k') #xyz obviously\n",
    "ax.scatter(0,0,0,c='blue',s=6370)\n",
    "\n",
    "plt.show()"
   ]
  },
  {
   "cell_type": "markdown",
   "id": "04a778f5",
   "metadata": {},
   "source": [
    "### Plotting groundtrack "
   ]
  },
  {
   "cell_type": "code",
   "execution_count": null,
   "id": "c0cadbd6",
   "metadata": {},
   "outputs": [],
   "source": [
    "%matplotlib inline \n",
    "lons, lats = added_ctll.sats[-1].ssps(1,J2=True,drag=False)\n",
    "\n",
    "fig = plt.figure()\n",
    "plt.scatter(lons[::10],lats[::10],c='k',s=0.1)\n",
    "plt.show()\n",
    " "
   ]
  },
  {
   "cell_type": "code",
   "execution_count": null,
   "id": "f05ac9ea",
   "metadata": {},
   "outputs": [],
   "source": [
    "len(r_sat[5])"
   ]
  }
 ],
 "metadata": {
  "kernelspec": {
   "display_name": "Python 3",
   "language": "python",
   "name": "python3"
  },
  "language_info": {
   "codemirror_mode": {
    "name": "ipython",
    "version": 3
   },
   "file_extension": ".py",
   "mimetype": "text/x-python",
   "name": "python",
   "nbconvert_exporter": "python",
   "pygments_lexer": "ipython3",
   "version": "3.8.5"
  }
 },
 "nbformat": 4,
 "nbformat_minor": 5
}
