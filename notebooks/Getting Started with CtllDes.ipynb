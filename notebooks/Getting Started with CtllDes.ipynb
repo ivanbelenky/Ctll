{
 "cells": [
  {
   "cell_type": "markdown",
   "id": "a884b74c",
   "metadata": {},
   "source": [
    "<h1>Getting Started</h1>"
   ]
  },
  {
   "cell_type": "code",
   "execution_count": 5,
   "id": "9aba77ab",
   "metadata": {},
   "outputs": [],
   "source": [
    "# if you are running in the notebooks folder example cloned from github this line must be included\n",
    "import sys\n",
    "import os\n",
    "sys.path.insert(0, os.path.abspath('../'))"
   ]
  },
  {
   "cell_type": "markdown",
   "id": "7ccabd58",
   "metadata": {},
   "source": [
    "<h3>Import CtllDes and poliastro, the core and utils elements </h3>"
   ]
  },
  {
   "cell_type": "code",
   "execution_count": 6,
   "id": "c49fc423",
   "metadata": {},
   "outputs": [
    {
     "name": "stderr",
     "output_type": "stream",
     "text": [
      "WARNING: AstropyDeprecationWarning: The private astropy._erfa module has been made into its own package, pyerfa, which is a dependency of astropy and can be imported directly using \"import erfa\" [astropy._erfa]\n"
     ]
    }
   ],
   "source": [
    "import numpy as np\n",
    "\n",
    "#Propagator engine\n",
    "import poliastro\n",
    "\n",
    "#The library\n",
    "import CtllDes \n",
    "from CtllDes.core import ctll, satellite\n",
    "\n",
    "#Throughout this examples it will be necessary to use the correct\n",
    "#physical dimensions, astropy.units will help us with that\n",
    "import astropy.units as u"
   ]
  },
  {
   "cell_type": "markdown",
   "id": "bff3110e",
   "metadata": {},
   "source": [
    "# Building an orbit \n",
    "\n",
    "The first step is to define an orbit. You can do this in a variety of ways as showed below."
   ]
  },
  {
   "cell_type": "markdown",
   "id": "0acbb421",
   "metadata": {},
   "source": [
    "### Building from classical orbit parameters"
   ]
  },
  {
   "cell_type": "code",
   "execution_count": 7,
   "id": "44aecc4d",
   "metadata": {},
   "outputs": [],
   "source": [
    "#Orbit object, more info on poliastro API reference.\n",
    "from poliastro.twobody import Orbit\n",
    "\n",
    "#The bodies module specifies attractors\n",
    "from poliastro.bodies import Earth\n",
    "\n",
    "\n",
    "#Planes of reference and Epochs, are almost every time \n",
    "#the default ones, but just in case if you want to use \n",
    "#any other, they can be found in the following modules\n",
    "\n",
    "#import planes of reference, EARTH_EQUATOR \n",
    "from poliastro.frames import Planes\n",
    "\n",
    "#import J2000 time reference from constants \n",
    "from poliastro.constants import J2000\n",
    "\n",
    "\n",
    "\n",
    "### Specify classical orbit parameters ###\n",
    "\n",
    "a = 8000 * u.km # semi-major axis [distance]\n",
    "ecc = 0 * u.one # eccentricity [dimensionleess]\n",
    "inc = 98 * u.deg # inclination [angle] \n",
    "raan = 0 * u.rad # right ascencion of the ascending node [angle]\n",
    "argp = 0 * u.rad # perigee argument [angle]\n",
    "nu = 0 * u.rad # true anomaly [angle]\n",
    "\n",
    "plane = Planes.EARTH_EQUATOR # not necessary to specify\n",
    "epoch = J2000 # not necessary to specify\n",
    "\n",
    "#classmethod of Orbit\n",
    "orb = Orbit.from_classical(Earth,\n",
    "                            a,\n",
    "                            ecc,\n",
    "                            inc,\n",
    "                            raan,\n",
    "                            argp,\n",
    "                            nu)\n"
   ]
  },
  {
   "cell_type": "markdown",
   "id": "9811d3e0",
   "metadata": {},
   "source": [
    "### Other poliastro.twobody.Orbit classmethods"
   ]
  },
  {
   "cell_type": "code",
   "execution_count": 8,
   "id": "dbb473d6",
   "metadata": {},
   "outputs": [],
   "source": [
    "#more on poliastro API reference\n",
    "orb = Orbit.heliosynchronous(Earth, a=8000*u.km, ecc=0*u.one)\n",
    "orb = Orbit.from_vectors(Earth, [8000,0,0]*u.km, [0,7,0]*u.km/u.s)"
   ]
  },
  {
   "cell_type": "markdown",
   "id": "79ebcffc",
   "metadata": {},
   "source": [
    "### Orbit utilities for repeating ground track and heliosynchronous orbits"
   ]
  },
  {
   "cell_type": "code",
   "execution_count": 9,
   "id": "b6a9be46",
   "metadata": {},
   "outputs": [
    {
     "data": {
      "text/html": [
       "<div>\n",
       "<style scoped>\n",
       "    .dataframe tbody tr th:only-of-type {\n",
       "        vertical-align: middle;\n",
       "    }\n",
       "\n",
       "    .dataframe tbody tr th {\n",
       "        vertical-align: top;\n",
       "    }\n",
       "\n",
       "    .dataframe thead th {\n",
       "        text-align: right;\n",
       "    }\n",
       "</style>\n",
       "<table border=\"1\" class=\"dataframe\">\n",
       "  <thead>\n",
       "    <tr style=\"text-align: right;\">\n",
       "      <th></th>\n",
       "      <th>radius</th>\n",
       "      <th>inc</th>\n",
       "      <th>N</th>\n",
       "    </tr>\n",
       "  </thead>\n",
       "  <tbody>\n",
       "    <tr>\n",
       "      <th>0</th>\n",
       "      <td>11544.182918</td>\n",
       "      <td>142.248541</td>\n",
       "      <td>7.000000</td>\n",
       "    </tr>\n",
       "    <tr>\n",
       "      <th>1</th>\n",
       "      <td>11389.626716</td>\n",
       "      <td>138.961424</td>\n",
       "      <td>7.142857</td>\n",
       "    </tr>\n",
       "    <tr>\n",
       "      <th>2</th>\n",
       "      <td>11240.148578</td>\n",
       "      <td>136.071863</td>\n",
       "      <td>7.285714</td>\n",
       "    </tr>\n",
       "    <tr>\n",
       "      <th>3</th>\n",
       "      <td>11095.486092</td>\n",
       "      <td>133.496401</td>\n",
       "      <td>7.428571</td>\n",
       "    </tr>\n",
       "    <tr>\n",
       "      <th>4</th>\n",
       "      <td>10955.395204</td>\n",
       "      <td>131.177130</td>\n",
       "      <td>7.571429</td>\n",
       "    </tr>\n",
       "    <tr>\n",
       "      <th>...</th>\n",
       "      <td>...</td>\n",
       "      <td>...</td>\n",
       "      <td>...</td>\n",
       "    </tr>\n",
       "    <tr>\n",
       "      <th>66</th>\n",
       "      <td>6535.898060</td>\n",
       "      <td>96.204172</td>\n",
       "      <td>16.428571</td>\n",
       "    </tr>\n",
       "    <tr>\n",
       "      <th>67</th>\n",
       "      <td>6498.279346</td>\n",
       "      <td>96.079672</td>\n",
       "      <td>16.571429</td>\n",
       "    </tr>\n",
       "    <tr>\n",
       "      <th>68</th>\n",
       "      <td>6461.197311</td>\n",
       "      <td>95.958727</td>\n",
       "      <td>16.714286</td>\n",
       "    </tr>\n",
       "    <tr>\n",
       "      <th>69</th>\n",
       "      <td>6424.639809</td>\n",
       "      <td>95.841203</td>\n",
       "      <td>16.857143</td>\n",
       "    </tr>\n",
       "    <tr>\n",
       "      <th>70</th>\n",
       "      <td>6388.595066</td>\n",
       "      <td>95.726977</td>\n",
       "      <td>17.000000</td>\n",
       "    </tr>\n",
       "  </tbody>\n",
       "</table>\n",
       "<p>71 rows × 3 columns</p>\n",
       "</div>"
      ],
      "text/plain": [
       "          radius         inc          N\n",
       "0   11544.182918  142.248541   7.000000\n",
       "1   11389.626716  138.961424   7.142857\n",
       "2   11240.148578  136.071863   7.285714\n",
       "3   11095.486092  133.496401   7.428571\n",
       "4   10955.395204  131.177130   7.571429\n",
       "..           ...         ...        ...\n",
       "66   6535.898060   96.204172  16.428571\n",
       "67   6498.279346   96.079672  16.571429\n",
       "68   6461.197311   95.958727  16.714286\n",
       "69   6424.639809   95.841203  16.857143\n",
       "70   6388.595066   95.726977  17.000000\n",
       "\n",
       "[71 rows x 3 columns]"
      ]
     },
     "execution_count": 9,
     "metadata": {},
     "output_type": "execute_result"
    }
   ],
   "source": [
    "from CtllDes.utils import sscalc\n",
    "\n",
    "D = 7 #days of revisit\n",
    "orb_df = sscalc.helio_rgt_synchronous(D) #dataframe\n",
    "orb_df #radius [km], inclination [degrees], revolutions per day."
   ]
  },
  {
   "cell_type": "code",
   "execution_count": 10,
   "id": "70b13a11",
   "metadata": {},
   "outputs": [
    {
     "data": {
      "text/html": [
       "<div>\n",
       "<style scoped>\n",
       "    .dataframe tbody tr th:only-of-type {\n",
       "        vertical-align: middle;\n",
       "    }\n",
       "\n",
       "    .dataframe tbody tr th {\n",
       "        vertical-align: top;\n",
       "    }\n",
       "\n",
       "    .dataframe thead th {\n",
       "        text-align: right;\n",
       "    }\n",
       "</style>\n",
       "<table border=\"1\" class=\"dataframe\">\n",
       "  <thead>\n",
       "    <tr style=\"text-align: right;\">\n",
       "      <th></th>\n",
       "      <th>radius</th>\n",
       "      <th>inc</th>\n",
       "      <th>N</th>\n",
       "    </tr>\n",
       "  </thead>\n",
       "  <tbody>\n",
       "    <tr>\n",
       "      <th>50</th>\n",
       "      <td>7222.422363</td>\n",
       "      <td>98.816646</td>\n",
       "      <td>14.142857</td>\n",
       "    </tr>\n",
       "    <tr>\n",
       "      <th>51</th>\n",
       "      <td>7174.189097</td>\n",
       "      <td>98.610796</td>\n",
       "      <td>14.285714</td>\n",
       "    </tr>\n",
       "    <tr>\n",
       "      <th>52</th>\n",
       "      <td>7126.753168</td>\n",
       "      <td>98.411801</td>\n",
       "      <td>14.428571</td>\n",
       "    </tr>\n",
       "    <tr>\n",
       "      <th>53</th>\n",
       "      <td>7080.093692</td>\n",
       "      <td>98.219362</td>\n",
       "      <td>14.571429</td>\n",
       "    </tr>\n",
       "    <tr>\n",
       "      <th>54</th>\n",
       "      <td>7034.190529</td>\n",
       "      <td>98.033200</td>\n",
       "      <td>14.714286</td>\n",
       "    </tr>\n",
       "    <tr>\n",
       "      <th>55</th>\n",
       "      <td>6989.024251</td>\n",
       "      <td>97.853046</td>\n",
       "      <td>14.857143</td>\n",
       "    </tr>\n",
       "    <tr>\n",
       "      <th>56</th>\n",
       "      <td>6944.576109</td>\n",
       "      <td>97.678649</td>\n",
       "      <td>15.000000</td>\n",
       "    </tr>\n",
       "    <tr>\n",
       "      <th>57</th>\n",
       "      <td>6900.828006</td>\n",
       "      <td>97.509769</td>\n",
       "      <td>15.142857</td>\n",
       "    </tr>\n",
       "  </tbody>\n",
       "</table>\n",
       "</div>"
      ],
      "text/plain": [
       "         radius        inc          N\n",
       "50  7222.422363  98.816646  14.142857\n",
       "51  7174.189097  98.610796  14.285714\n",
       "52  7126.753168  98.411801  14.428571\n",
       "53  7080.093692  98.219362  14.571429\n",
       "54  7034.190529  98.033200  14.714286\n",
       "55  6989.024251  97.853046  14.857143\n",
       "56  6944.576109  97.678649  15.000000\n",
       "57  6900.828006  97.509769  15.142857"
      ]
     },
     "execution_count": 10,
     "metadata": {},
     "output_type": "execute_result"
    }
   ],
   "source": [
    "#use pandas to filter the desired parameters\n",
    "earth_R = Earth.R_mean.to(u.km).value #value in km of earth mean Radius\n",
    "\n",
    "min_radius = 500 + earth_R\n",
    "max_radius = 900 + earth_R\n",
    "filtered = orb_df.loc[(orb_df['radius'].values < max_radius) &\n",
    "                      (orb_df['radius'].values > min_radius)]\n",
    "filtered "
   ]
  },
  {
   "cell_type": "code",
   "execution_count": 11,
   "id": "5cf813ce",
   "metadata": {},
   "outputs": [],
   "source": [
    "#select the desired cop, i.e. classical orbit parameters\n",
    "cop = filtered.loc[55] #pick one from the df\n",
    "a = cop['radius']*u.km #radius = semi-major axis\n",
    "ecc = 0 * u.one # this is cant be different than 0 since the helio_rgt is for circular orbits\n",
    "inc = cop['inc']*u.deg\n",
    "\n",
    "#reuse past raan, argp and nu\n",
    "orb = Orbit.from_classical(Earth,\n",
    "                            a,\n",
    "                            ecc,\n",
    "                            inc,\n",
    "                            raan,\n",
    "                            argp,\n",
    "                            nu)"
   ]
  },
  {
   "cell_type": "markdown",
   "id": "2c7136cb",
   "metadata": {},
   "source": [
    "# Building satellites\n",
    "\n",
    " Satellite is one of the main classes in this library. You can build a satellite reading the docs, you are encouraged to use the classmethods.\n"
   ]
  },
  {
   "cell_type": "code",
   "execution_count": 12,
   "id": "3c62838e",
   "metadata": {},
   "outputs": [],
   "source": [
    "from CtllDes.core.satellite import Sat"
   ]
  },
  {
   "cell_type": "markdown",
   "id": "6eb361cc",
   "metadata": {},
   "source": [
    "\n",
    "### Building satellite from classmethods."
   ]
  },
  {
   "cell_type": "code",
   "execution_count": 13,
   "id": "f4650ffd",
   "metadata": {},
   "outputs": [],
   "source": [
    "sat = Sat.from_orbit(orb) \n",
    "sat = Sat.from_vectors([8000,0,0]*u.km,\n",
    "                       [0,7,0]*u.km/u.s,\n",
    "                      attractor=Earth)\n"
   ]
  },
  {
   "cell_type": "markdown",
   "id": "77f7af76",
   "metadata": {},
   "source": [
    "# Satellite's parameters "
   ]
  },
  {
   "cell_type": "code",
   "execution_count": 14,
   "id": "c6d6c3ac",
   "metadata": {},
   "outputs": [
    {
     "name": "stdout",
     "output_type": "stream",
     "text": [
      "id : 8cb757cf-9a8b-4fa5-b63b-60680cbda73f\t[a ecc inc raan argp nu] : [7869.7 km 0.0 0.0 rad 0.0 rad 3.1 rad -3.1 rad]\t\tstatus : Online\n"
     ]
    }
   ],
   "source": [
    "sat.info() #general info at t=0"
   ]
  },
  {
   "cell_type": "markdown",
   "id": "c59f604a",
   "metadata": {},
   "source": [
    "### Physical Specifications"
   ]
  },
  {
   "cell_type": "code",
   "execution_count": 15,
   "id": "5cf96d98",
   "metadata": {},
   "outputs": [
    {
     "name": "stdout",
     "output_type": "stream",
     "text": [
      " m:1.0 kg, Cd:1.0, A:1.0 m2\n"
     ]
    }
   ],
   "source": [
    "print(sat.spec) #None specified, default parameters selected"
   ]
  },
  {
   "cell_type": "markdown",
   "id": "fd287b41",
   "metadata": {},
   "source": [
    "### Status"
   ]
  },
  {
   "cell_type": "code",
   "execution_count": 16,
   "id": "47009b23",
   "metadata": {},
   "outputs": [
    {
     "data": {
      "text/plain": [
       "'Online'"
      ]
     },
     "execution_count": 16,
     "metadata": {},
     "output_type": "execute_result"
    }
   ],
   "source": [
    "sat.status #None specified, Online status "
   ]
  },
  {
   "cell_type": "markdown",
   "id": "7922b012",
   "metadata": {},
   "source": [
    "### Instruments"
   ]
  },
  {
   "cell_type": "code",
   "execution_count": 17,
   "id": "23ebe9b5",
   "metadata": {},
   "outputs": [
    {
     "data": {
      "text/plain": [
       "[]"
      ]
     },
     "execution_count": 17,
     "metadata": {},
     "output_type": "execute_result"
    }
   ],
   "source": [
    "sat.instruments #None specified, empty list"
   ]
  },
  {
   "cell_type": "markdown",
   "id": "6ad67133",
   "metadata": {},
   "source": [
    "### Universal Unique Identfier\n"
   ]
  },
  {
   "cell_type": "code",
   "execution_count": 18,
   "id": "d17c16af",
   "metadata": {},
   "outputs": [
    {
     "data": {
      "text/plain": [
       "UUID('8cb757cf-9a8b-4fa5-b63b-60680cbda73f')"
      ]
     },
     "execution_count": 18,
     "metadata": {},
     "output_type": "execute_result"
    }
   ],
   "source": [
    "sat.id"
   ]
  },
  {
   "cell_type": "markdown",
   "id": "18ea72bb",
   "metadata": {},
   "source": [
    "### Attractor"
   ]
  },
  {
   "cell_type": "code",
   "execution_count": 19,
   "id": "4a012139",
   "metadata": {},
   "outputs": [
    {
     "data": {
      "text/plain": [
       "Earth (♁)"
      ]
     },
     "execution_count": 19,
     "metadata": {},
     "output_type": "execute_result"
    }
   ],
   "source": [
    "sat.attractor"
   ]
  },
  {
   "cell_type": "markdown",
   "id": "cc4c5fb5",
   "metadata": {},
   "source": [
    "### Orbit"
   ]
  },
  {
   "cell_type": "code",
   "execution_count": 20,
   "id": "e5f4ea6b",
   "metadata": {},
   "outputs": [
    {
     "data": {
      "text/plain": [
       "7739 x 8000 km x 0.0 deg (GCRS) orbit around Earth (♁) at epoch J2000.000 (TT)"
      ]
     },
     "execution_count": 20,
     "metadata": {},
     "output_type": "execute_result"
    }
   ],
   "source": [
    "sat.orbit"
   ]
  },
  {
   "cell_type": "markdown",
   "id": "35da142a",
   "metadata": {},
   "source": [
    "#  Physical Specifications"
   ]
  },
  {
   "cell_type": "code",
   "execution_count": 21,
   "id": "a44a774f",
   "metadata": {},
   "outputs": [],
   "source": [
    "from CtllDes.core import specs"
   ]
  },
  {
   "cell_type": "code",
   "execution_count": 22,
   "id": "88f1105e",
   "metadata": {},
   "outputs": [],
   "source": [
    "\n",
    "drag_coef = 2.2*u.one\n",
    "mass = 200*u.kg\n",
    "Area = 10*u.m**2\n",
    "\n",
    "spec = specs.Specifications(m=mass, Cd=drag_coef, A=Area)"
   ]
  },
  {
   "cell_type": "code",
   "execution_count": 23,
   "id": "75ad6b34",
   "metadata": {},
   "outputs": [
    {
     "name": "stdout",
     "output_type": "stream",
     "text": [
      " m:200.0 kg, Cd:2.2, A:10.0 m2\n"
     ]
    }
   ],
   "source": [
    "sat.update_spec(spec)\n",
    "print(sat.spec)"
   ]
  },
  {
   "cell_type": "markdown",
   "id": "c157b00d",
   "metadata": {},
   "source": [
    "#  Status (in dev)"
   ]
  },
  {
   "cell_type": "code",
   "execution_count": 24,
   "id": "d68ef1ba",
   "metadata": {},
   "outputs": [],
   "source": [
    "#In development. Until now is just a string identifying if the \n",
    "#satellite is Online or not. This will impact when calculating\n",
    "#merit figures. "
   ]
  },
  {
   "cell_type": "code",
   "execution_count": 25,
   "id": "122247d0",
   "metadata": {},
   "outputs": [
    {
     "name": "stdout",
     "output_type": "stream",
     "text": [
      "Warning, notImplemented\n"
     ]
    },
    {
     "data": {
      "text/plain": [
       "'Online'"
      ]
     },
     "execution_count": 25,
     "metadata": {},
     "output_type": "execute_result"
    }
   ],
   "source": [
    "sat.update_status('Shutoff')\n",
    "sat.status"
   ]
  },
  {
   "cell_type": "markdown",
   "id": "26e8cb09",
   "metadata": {},
   "source": [
    "# Instruments"
   ]
  },
  {
   "cell_type": "markdown",
   "id": "6a7b987f",
   "metadata": {},
   "source": [
    "The instruments module is explained in more detailed in instruments.ipynb. There you can find how to create new instruments and For now, the example below will just update the instrument with a default Camera one. "
   ]
  },
  {
   "cell_type": "code",
   "execution_count": 26,
   "id": "e84d0772",
   "metadata": {},
   "outputs": [],
   "source": [
    "from CtllDes.core import instrument"
   ]
  },
  {
   "cell_type": "code",
   "execution_count": 27,
   "id": "bd673f42",
   "metadata": {},
   "outputs": [
    {
     "data": {
      "text/plain": [
       "[<CtllDes.core.instrument.Camera at 0x7fd94a011310>]"
      ]
     },
     "execution_count": 27,
     "metadata": {},
     "output_type": "execute_result"
    }
   ],
   "source": [
    "camera = instrument.Camera(800, 0.01) # pixels, angle resolution\n",
    "sat.update_instruments(camera,f=True) # force option\n",
    "sat.instruments"
   ]
  },
  {
   "cell_type": "markdown",
   "id": "5604c818",
   "metadata": {},
   "source": [
    "# Building a Constellation"
   ]
  },
  {
   "cell_type": "code",
   "execution_count": 28,
   "id": "a69bddfd",
   "metadata": {},
   "outputs": [],
   "source": [
    "#since a constellation is a set of satellite we will build a few more.\n",
    "\n",
    "sat0 = sat\n",
    "sat1 = Sat.from_vectors([8000,0,0]*u.km,\n",
    "                        [0,7,0]*u.km/u.s,\n",
    "                        attractor=Earth)\n",
    "sat2 = Sat.from_orbit(Orbit.heliosynchronous(Earth,\n",
    "                                             a=8000*u.km,\n",
    "                                             ecc=0*u.one))\n"
   ]
  },
  {
   "cell_type": "code",
   "execution_count": 29,
   "id": "4b8d72a6",
   "metadata": {},
   "outputs": [],
   "source": [
    "constellation = ctll.Ctll.from_sats([sat0,sat1,sat2])"
   ]
  },
  {
   "cell_type": "code",
   "execution_count": 30,
   "id": "1153b6de",
   "metadata": {},
   "outputs": [
    {
     "name": "stdout",
     "output_type": "stream",
     "text": [
      "\n",
      "3 satellites within no Pattern\n"
     ]
    }
   ],
   "source": [
    "constellation.info()"
   ]
  },
  {
   "cell_type": "code",
   "execution_count": 31,
   "id": "9cc8b675",
   "metadata": {},
   "outputs": [
    {
     "name": "stdout",
     "output_type": "stream",
     "text": [
      "\n",
      "3 satellites in no Pattern\n",
      "\n",
      "id : b1b7e743-a13e-40b4-bbe6-df258e79715b\t[a ecc inc raan argp nu] : [7869.7 km 0.0 0.0 rad 0.0 rad 3.1 rad -3.1 rad]\t\tstatus : Online\n",
      "id : 5668e285-2298-46bd-a8d4-7a6f76714a30\t[a ecc inc raan argp nu] : [7869.7 km 0.0 0.0 rad 0.0 rad 3.1 rad -3.1 rad]\t\tstatus : Online\n",
      "id : ce95bc3d-6ab2-4365-b5e3-4323812a0ff7\t[a ecc inc raan argp nu] : [8000.0 km 0.0 1.8 rad 610.5 deg 0.0 deg 0.0 deg]\t\tstatus : Online\n"
     ]
    }
   ],
   "source": [
    "constellation.info(v=True)"
   ]
  },
  {
   "cell_type": "code",
   "execution_count": 32,
   "id": "4b2392b3",
   "metadata": {},
   "outputs": [
    {
     "data": {
      "text/plain": [
       "[UUID('b1b7e743-a13e-40b4-bbe6-df258e79715b'),\n",
       " UUID('5668e285-2298-46bd-a8d4-7a6f76714a30'),\n",
       " UUID('ce95bc3d-6ab2-4365-b5e3-4323812a0ff7')]"
      ]
     },
     "execution_count": 32,
     "metadata": {},
     "output_type": "execute_result"
    }
   ],
   "source": [
    "ids = constellation.online_id\n",
    "ids "
   ]
  },
  {
   "cell_type": "code",
   "execution_count": 33,
   "id": "fd391e12",
   "metadata": {},
   "outputs": [
    {
     "name": "stdout",
     "output_type": "stream",
     "text": [
      "id : 5668e285-2298-46bd-a8d4-7a6f76714a30\t[a ecc inc raan argp nu] : [7869.7 km 0.0 0.0 rad 0.0 rad 3.1 rad -3.1 rad]\t\tstatus : Online\n"
     ]
    }
   ],
   "source": [
    "sat_by_id = constellation.get_sat(ids[1])\n",
    "sat_by_id.info()"
   ]
  },
  {
   "cell_type": "code",
   "execution_count": 34,
   "id": "565f565d",
   "metadata": {},
   "outputs": [
    {
     "name": "stdout",
     "output_type": "stream",
     "text": [
      "id : 5668e285-2298-46bd-a8d4-7a6f76714a30\t[a ecc inc raan argp nu] : [7869.7 km 0.0 0.0 rad 0.0 rad 3.1 rad -3.1 rad]\t\tstatus : Online\n"
     ]
    }
   ],
   "source": [
    "constellation.sats[1].info()"
   ]
  },
  {
   "cell_type": "code",
   "execution_count": 35,
   "id": "7c515135",
   "metadata": {},
   "outputs": [
    {
     "data": {
      "text/plain": [
       "[[<CtllDes.core.instrument.Camera at 0x7fd94a011310>], [], []]"
      ]
     },
     "execution_count": 35,
     "metadata": {},
     "output_type": "execute_result"
    }
   ],
   "source": [
    "constellation.instruments"
   ]
  },
  {
   "cell_type": "code",
   "execution_count": 36,
   "id": "05fb371f",
   "metadata": {},
   "outputs": [],
   "source": [
    "camera1 = instrument.Camera(800,0.1)\n",
    "camera2 = instrument.Camera(800,0.04)"
   ]
  },
  {
   "cell_type": "code",
   "execution_count": 37,
   "id": "3b6acb84",
   "metadata": {},
   "outputs": [
    {
     "data": {
      "text/plain": [
       "[[<CtllDes.core.instrument.Camera at 0x7fd94a011310>], [], []]"
      ]
     },
     "execution_count": 37,
     "metadata": {},
     "output_type": "execute_result"
    }
   ],
   "source": [
    "#this wouldnt work since the constellation copies the sat info\n",
    "sat1.update_instruments(camera1,f=True)\n",
    "sat2.update_instruments(camera2,f=True)\n",
    "\n",
    "constellation.instruments"
   ]
  },
  {
   "cell_type": "code",
   "execution_count": 38,
   "id": "37a70bb3",
   "metadata": {},
   "outputs": [
    {
     "data": {
      "text/plain": [
       "[[<CtllDes.core.instrument.Camera at 0x7fd94a011310>],\n",
       " [<CtllDes.core.instrument.Camera at 0x7fd94b7530d0>],\n",
       " [<CtllDes.core.instrument.Camera at 0x7fd94b7539a0>]]"
      ]
     },
     "execution_count": 38,
     "metadata": {},
     "output_type": "execute_result"
    }
   ],
   "source": [
    "constellation.sats[1].update_instruments(camera1,f=True)\n",
    "constellation.sats[2].update_instruments(camera2,f=True)\n",
    "\n",
    "constellation.instruments"
   ]
  },
  {
   "cell_type": "markdown",
   "id": "0d03ff88",
   "metadata": {},
   "source": [
    "### Building specific pattern "
   ]
  },
  {
   "cell_type": "code",
   "execution_count": 39,
   "id": "64c84219",
   "metadata": {},
   "outputs": [],
   "source": [
    "#Build a Walker Delta constellation\n",
    "T = 10\n",
    "P = 5\n",
    "F = 3\n",
    "\n",
    "p = 12000*u.km\n",
    "ecc = 0.3*u.one\n",
    "inc = 99*u.deg\n",
    "raan = 30*u.deg\n",
    "argp = 20*u.deg\n",
    "nu = 0.3*u.rad\n",
    "\n",
    "WDctll = ctll.Ctll.from_WalkerDelta(T,\n",
    "                                    P,\n",
    "                                    F,\n",
    "                                    p,\n",
    "                                    ecc,\n",
    "                                    inc,\n",
    "                                    argp,\n",
    "                                    raan_offset=raan,\n",
    "                                    nu_offset=nu,\n",
    "                                   )"
   ]
  },
  {
   "cell_type": "code",
   "execution_count": 40,
   "id": "6b239977",
   "metadata": {},
   "outputs": [
    {
     "name": "stdout",
     "output_type": "stream",
     "text": [
      "\n",
      "10 satellites in Walker Delta Pattern T/P/F = 10/5/3\n",
      "\n",
      "id : bc5f88e1-1cfd-4a05-b1b8-d3a738157a14\t[a ecc inc raan argp nu] : [13186.8 km 0.3 99.0 deg 30.0 deg 20.0 deg 17.2 deg]\t\tstatus : Online\n",
      "id : 46dcf50f-35c3-4ee7-8eac-946e2ab93500\t[a ecc inc raan argp nu] : [13186.8 km 0.3 99.0 deg 30.0 deg 20.0 deg -162.8 deg]\t\tstatus : Online\n",
      "id : 4c1caa67-7c6d-4e4c-b6fe-f052e58e5fd8\t[a ecc inc raan argp nu] : [13186.8 km 0.3 99.0 deg 102.0 deg 20.0 deg 125.2 deg]\t\tstatus : Online\n",
      "id : 6f848a57-8079-48c3-9446-2446882f38e9\t[a ecc inc raan argp nu] : [13186.8 km 0.3 99.0 deg 102.0 deg 20.0 deg -54.8 deg]\t\tstatus : Online\n",
      "id : a5f1e4c4-3c28-4750-a16f-1ff77f334ece\t[a ecc inc raan argp nu] : [13186.8 km 0.3 99.0 deg 174.0 deg 20.0 deg -126.8 deg]\t\tstatus : Online\n",
      "id : b298a7ae-abd1-4a26-9a1c-2801ee1220ba\t[a ecc inc raan argp nu] : [13186.8 km 0.3 99.0 deg 174.0 deg 20.0 deg 53.2 deg]\t\tstatus : Online\n",
      "id : ebde6ae6-b133-4733-95c2-21c1a73fa20f\t[a ecc inc raan argp nu] : [13186.8 km 0.3 99.0 deg 246.0 deg 20.0 deg -18.8 deg]\t\tstatus : Online\n",
      "id : 4df92284-e22d-4a03-9ce1-5f4a4e984c3b\t[a ecc inc raan argp nu] : [13186.8 km 0.3 99.0 deg 246.0 deg 20.0 deg 161.2 deg]\t\tstatus : Online\n",
      "id : 8aef5bf0-6d5a-430e-a073-f4976e3ae2ac\t[a ecc inc raan argp nu] : [13186.8 km 0.3 99.0 deg 318.0 deg 20.0 deg 89.2 deg]\t\tstatus : Online\n",
      "id : bf5d63e2-c7ba-4cec-b631-a517fe2ede8c\t[a ecc inc raan argp nu] : [13186.8 km 0.3 99.0 deg 318.0 deg 20.0 deg -90.8 deg]\t\tstatus : Online\n"
     ]
    }
   ],
   "source": [
    "WDctll.info(v=True)"
   ]
  },
  {
   "cell_type": "code",
   "execution_count": 41,
   "id": "2d1528f1",
   "metadata": {},
   "outputs": [
    {
     "name": "stdout",
     "output_type": "stream",
     "text": [
      "\n",
      "Specifications\n",
      "\n",
      " m:1.0 kg, Cd:1.0, A:1.0 m2\n",
      " m:1.0 kg, Cd:1.0, A:1.0 m2\n",
      " m:1.0 kg, Cd:1.0, A:1.0 m2\n",
      " m:1.0 kg, Cd:1.0, A:1.0 m2\n",
      " m:1.0 kg, Cd:1.0, A:1.0 m2\n",
      " m:1.0 kg, Cd:1.0, A:1.0 m2\n",
      " m:1.0 kg, Cd:1.0, A:1.0 m2\n",
      " m:1.0 kg, Cd:1.0, A:1.0 m2\n",
      " m:1.0 kg, Cd:1.0, A:1.0 m2\n",
      " m:1.0 kg, Cd:1.0, A:1.0 m2\n",
      "\n",
      "Status\n",
      "\n",
      "Online\n",
      "Online\n",
      "Online\n",
      "Online\n",
      "Online\n",
      "Online\n",
      "Online\n",
      "Online\n",
      "Online\n",
      "Online\n",
      "\n",
      "Instruments\n",
      "\n",
      "[]\n",
      "[]\n",
      "[]\n",
      "[]\n",
      "[]\n",
      "[]\n",
      "[]\n",
      "[]\n",
      "[]\n",
      "[]\n"
     ]
    }
   ],
   "source": [
    "#default specs\n",
    "print(\"\\nSpecifications\\n\")\n",
    "for spec in WDctll.specs:\n",
    "    print(spec)\n",
    "\n",
    "#default status\n",
    "print(\"\\nStatus\\n\")\n",
    "for status in WDctll.status:\n",
    "    print(status)\n",
    "\n",
    "#default instruments\n",
    "print(\"\\nInstruments\\n\")\n",
    "for instr in WDctll.instruments:\n",
    "    print(instr)\n"
   ]
  },
  {
   "cell_type": "markdown",
   "id": "c95734f3",
   "metadata": {},
   "source": [
    "# Changing default instruments, status and specifications."
   ]
  },
  {
   "cell_type": "code",
   "execution_count": 42,
   "id": "2ec03ecf",
   "metadata": {},
   "outputs": [
    {
     "data": {
      "text/plain": [
       "10"
      ]
     },
     "execution_count": 42,
     "metadata": {},
     "output_type": "execute_result"
    }
   ],
   "source": [
    "#check amount of satellites inside Walker Delta Ctll\n",
    "WDctll.N"
   ]
  },
  {
   "cell_type": "markdown",
   "id": "a8b28eb0",
   "metadata": {},
   "source": [
    "### Specifications"
   ]
  },
  {
   "cell_type": "code",
   "execution_count": 43,
   "id": "698292f8",
   "metadata": {},
   "outputs": [
    {
     "name": "stdout",
     "output_type": "stream",
     "text": [
      " m:30.0 kg, Cd:1.5, A:50.0 m2\n",
      " m:30.0 kg, Cd:1.5, A:50.0 m2\n",
      " m:30.0 kg, Cd:1.5, A:50.0 m2\n",
      " m:30.0 kg, Cd:1.5, A:50.0 m2\n",
      " m:30.0 kg, Cd:1.5, A:50.0 m2\n",
      " m:30.0 kg, Cd:1.5, A:50.0 m2\n",
      " m:30.0 kg, Cd:1.5, A:50.0 m2\n",
      " m:30.0 kg, Cd:1.5, A:50.0 m2\n",
      " m:30.0 kg, Cd:1.5, A:50.0 m2\n",
      " m:30.0 kg, Cd:1.5, A:50.0 m2\n"
     ]
    }
   ],
   "source": [
    "general_spec = specs.Specifications(m=30*u.kg,Cd=1.5*u.one,A=50*u.m**2)\n",
    "spec_lst = [general_spec for _ in range(WDctll.N)]\n",
    "WDctll.update_specs(spec_lst)\n",
    "\n",
    "#new specs\n",
    "for spec in WDctll.specs:\n",
    "    print(spec)"
   ]
  },
  {
   "cell_type": "markdown",
   "id": "c61afa44",
   "metadata": {},
   "source": [
    "### Instruments"
   ]
  },
  {
   "cell_type": "code",
   "execution_count": 44,
   "id": "9faac7d7",
   "metadata": {},
   "outputs": [
    {
     "name": "stdout",
     "output_type": "stream",
     "text": [
      "[<CtllDes.core.instrument.Camera object at 0x7fd94d7e45e0>]\n",
      "[<CtllDes.core.instrument.Camera object at 0x7fd94b753670>]\n",
      "[<CtllDes.core.instrument.Camera object at 0x7fd94d7b4640>]\n",
      "[<CtllDes.core.instrument.Camera object at 0x7fd94d7b42b0>]\n",
      "[<CtllDes.core.instrument.Camera object at 0x7fd94d7b4970>]\n",
      "[<CtllDes.core.instrument.Camera object at 0x7fd94d7b4940>]\n",
      "[<CtllDes.core.instrument.Camera object at 0x7fd94d7b4b20>]\n",
      "[<CtllDes.core.instrument.Camera object at 0x7fd94d7b40d0>]\n",
      "[<CtllDes.core.instrument.Camera object at 0x7fd94d7b43a0>]\n",
      "[<CtllDes.core.instrument.Camera object at 0x7fd94d7b44c0>]\n"
     ]
    }
   ],
   "source": [
    "general_instrument = instrument.Camera(1000,0.1)\n",
    "instr_lst = [general_instrument for _ in range(WDctll.N)]\n",
    "WDctll.update_instruments(instr_lst,f=True)\n",
    "\n",
    "#new instruments\n",
    "for instr in WDctll.instruments:\n",
    "    print(instr)"
   ]
  },
  {
   "cell_type": "markdown",
   "id": "32cb78bd",
   "metadata": {},
   "source": [
    "### Status (in dev)"
   ]
  },
  {
   "cell_type": "code",
   "execution_count": 45,
   "id": "aa87c1d1",
   "metadata": {},
   "outputs": [],
   "source": [
    "#"
   ]
  },
  {
   "cell_type": "markdown",
   "id": "e5978047",
   "metadata": {},
   "source": [
    "# Adding Constellations  "
   ]
  },
  {
   "cell_type": "code",
   "execution_count": 46,
   "id": "84125314",
   "metadata": {},
   "outputs": [
    {
     "name": "stdout",
     "output_type": "stream",
     "text": [
      "\n",
      "10 satellites in Walker Delta Pattern T/P/F = 10/5/3\n",
      "\n",
      "id : 4606a4f5-6658-4314-adbc-610dacc0192c\t[a ecc inc raan argp nu] : [13186.8 km 0.3 99.0 deg 30.0 deg 20.0 deg 17.2 deg]\t\tstatus : Online\n",
      "id : 3a05a2e7-a58d-4737-b253-1422af418001\t[a ecc inc raan argp nu] : [13186.8 km 0.3 99.0 deg 30.0 deg 20.0 deg -162.8 deg]\t\tstatus : Online\n",
      "id : f3717400-bb8f-421d-ba84-42d84c0ed5e3\t[a ecc inc raan argp nu] : [13186.8 km 0.3 99.0 deg 102.0 deg 20.0 deg 125.2 deg]\t\tstatus : Online\n",
      "id : a5f238a1-8a94-4b8d-8466-075ede948846\t[a ecc inc raan argp nu] : [13186.8 km 0.3 99.0 deg 102.0 deg 20.0 deg -54.8 deg]\t\tstatus : Online\n",
      "id : 1a9ce704-e69f-4dea-9391-c41ec2940e08\t[a ecc inc raan argp nu] : [13186.8 km 0.3 99.0 deg 174.0 deg 20.0 deg -126.8 deg]\t\tstatus : Online\n",
      "id : 6bebfa48-9109-40be-8224-7579ed6f2957\t[a ecc inc raan argp nu] : [13186.8 km 0.3 99.0 deg 174.0 deg 20.0 deg 53.2 deg]\t\tstatus : Online\n",
      "id : 46dac602-87ad-4db5-8bcf-42e013604494\t[a ecc inc raan argp nu] : [13186.8 km 0.3 99.0 deg 246.0 deg 20.0 deg -18.8 deg]\t\tstatus : Online\n",
      "id : 4cd5f025-c0c7-40e3-a3a1-80f35425d5bf\t[a ecc inc raan argp nu] : [13186.8 km 0.3 99.0 deg 246.0 deg 20.0 deg 161.2 deg]\t\tstatus : Online\n",
      "id : 459f0323-9f68-4106-9e67-0c28f2595eb2\t[a ecc inc raan argp nu] : [13186.8 km 0.3 99.0 deg 318.0 deg 20.0 deg 89.2 deg]\t\tstatus : Online\n",
      "id : 731172fe-a14d-4bd1-a647-1854d1bbe78a\t[a ecc inc raan argp nu] : [13186.8 km 0.3 99.0 deg 318.0 deg 20.0 deg -90.8 deg]\t\tstatus : Online\n",
      "\n",
      "3 satellites in no Pattern\n",
      "\n",
      "id : 31a83f25-8cfa-4588-8dd0-d9f4310fa02c\t[a ecc inc raan argp nu] : [7869.7 km 0.0 0.0 rad 0.0 rad 3.1 rad -3.1 rad]\t\tstatus : Online\n",
      "id : e3b9dbad-28fe-4c54-8c70-d6783d6bbb6f\t[a ecc inc raan argp nu] : [7869.7 km 0.0 0.0 rad 0.0 rad 3.1 rad -3.1 rad]\t\tstatus : Online\n",
      "id : 05c26517-f36e-48c1-8af3-9d4736999da5\t[a ecc inc raan argp nu] : [8000.0 km 0.0 1.8 rad 610.5 deg 0.0 deg 0.0 deg]\t\tstatus : Online\n"
     ]
    }
   ],
   "source": [
    "added_ctll = constellation + WDctll\n",
    "added_ctll.info(v=True)\n"
   ]
  },
  {
   "cell_type": "code",
   "execution_count": 47,
   "id": "bae01f50",
   "metadata": {},
   "outputs": [
    {
     "name": "stdout",
     "output_type": "stream",
     "text": [
      "\n",
      "13 satellites in no Pattern\n",
      "\n",
      "id : b630a2b9-bb8a-43bd-b61d-89d636bd904a\t[a ecc inc raan argp nu] : [7869.7 km 0.0 0.0 rad 0.0 rad 3.1 rad -3.1 rad]\t\tstatus : Online\n",
      "id : 55873648-ed29-4ecc-99a5-f9061f4fdf4f\t[a ecc inc raan argp nu] : [7869.7 km 0.0 0.0 rad 0.0 rad 3.1 rad -3.1 rad]\t\tstatus : Online\n",
      "id : c8a744a7-ca0a-4c01-b0b4-930c0d9da1bb\t[a ecc inc raan argp nu] : [8000.0 km 0.0 1.8 rad 610.5 deg 0.0 deg 0.0 deg]\t\tstatus : Online\n",
      "id : 0eb119cb-2c0d-4ab1-b6f7-97becd705fa9\t[a ecc inc raan argp nu] : [13186.8 km 0.3 99.0 deg 30.0 deg 20.0 deg 17.2 deg]\t\tstatus : Online\n",
      "id : 4ca6baa5-58b0-483a-be38-0d24674f34fd\t[a ecc inc raan argp nu] : [13186.8 km 0.3 99.0 deg 30.0 deg 20.0 deg -162.8 deg]\t\tstatus : Online\n",
      "id : 00e1cdc8-bc72-4b15-97d4-653e7dd210cf\t[a ecc inc raan argp nu] : [13186.8 km 0.3 99.0 deg 102.0 deg 20.0 deg 125.2 deg]\t\tstatus : Online\n",
      "id : 014d1452-396d-4743-8076-fb1286e2072e\t[a ecc inc raan argp nu] : [13186.8 km 0.3 99.0 deg 102.0 deg 20.0 deg -54.8 deg]\t\tstatus : Online\n",
      "id : d0b6f656-0bac-414d-96fa-6c575c6f190d\t[a ecc inc raan argp nu] : [13186.8 km 0.3 99.0 deg 174.0 deg 20.0 deg -126.8 deg]\t\tstatus : Online\n",
      "id : 86d3bcec-c6ef-48de-b9f9-b0f8453343e4\t[a ecc inc raan argp nu] : [13186.8 km 0.3 99.0 deg 174.0 deg 20.0 deg 53.2 deg]\t\tstatus : Online\n",
      "id : 6a187818-02ff-4818-95d5-45731896cbb7\t[a ecc inc raan argp nu] : [13186.8 km 0.3 99.0 deg 246.0 deg 20.0 deg -18.8 deg]\t\tstatus : Online\n",
      "id : 261eecec-f331-4193-9a55-2e146ec98708\t[a ecc inc raan argp nu] : [13186.8 km 0.3 99.0 deg 246.0 deg 20.0 deg 161.2 deg]\t\tstatus : Online\n",
      "id : 832af3f9-9603-44eb-9309-410b4a25b7fd\t[a ecc inc raan argp nu] : [13186.8 km 0.3 99.0 deg 318.0 deg 20.0 deg 89.2 deg]\t\tstatus : Online\n",
      "id : be6cc3c3-a2a4-414f-a821-a7c0c702aaae\t[a ecc inc raan argp nu] : [13186.8 km 0.3 99.0 deg 318.0 deg 20.0 deg -90.8 deg]\t\tstatus : Online\n"
     ]
    }
   ],
   "source": [
    "#the above cell is equivalent to the following except from the fact that the patterns are not inherited\n",
    "added_ctll = ctll.Ctll.from_sats(constellation.sats+WDctll.sats)\n",
    "added_ctll.info(v=True)"
   ]
  },
  {
   "cell_type": "markdown",
   "id": "634e65a2",
   "metadata": {},
   "source": [
    "# Propagation"
   ]
  },
  {
   "cell_type": "markdown",
   "id": "a70fd082",
   "metadata": {},
   "source": [
    "In order to obtain the ephemerides of the satellite you can use the rv method for the Sat class as well as the Ctll class."
   ]
  },
  {
   "cell_type": "markdown",
   "id": "7980eacc",
   "metadata": {},
   "source": [
    "### Satellite"
   ]
  },
  {
   "cell_type": "code",
   "execution_count": 48,
   "id": "342c46a5",
   "metadata": {},
   "outputs": [],
   "source": [
    "#As you can see in the documentation \n",
    "\n",
    "#T days \n",
    "#dt interval in seconds\n",
    "#drag and J2, perturbations used in propagation\n",
    "r_sat,v_sat = added_ctll.sats[0].rv(30,dt=50, J2=True, drag=False)\n",
    "lon_sat,lat_sat = added_ctll.sats[0].ssps(4,J2=False)"
   ]
  },
  {
   "cell_type": "markdown",
   "id": "6a3e6359",
   "metadata": {},
   "source": [
    "### Constellation"
   ]
  },
  {
   "cell_type": "code",
   "execution_count": 49,
   "id": "948a79cb",
   "metadata": {},
   "outputs": [],
   "source": [
    "rv_ctll = added_ctll.rv(30, dt=10, drag = True, J2=True)\n",
    "r,v = rv_ctll[0]\n",
    "\n",
    "lonlat_ctll = added_ctll.ssps(5,dt=10,J2=True,drag=True)\n",
    "lon,lat = lonlat_ctll[0]"
   ]
  },
  {
   "cell_type": "markdown",
   "id": "a48b888f",
   "metadata": {},
   "source": [
    "### Plotting r (xyz)"
   ]
  },
  {
   "cell_type": "code",
   "execution_count": 50,
   "id": "12f22729",
   "metadata": {},
   "outputs": [],
   "source": [
    "import matplotlib.pyplot as plt\n",
    "%matplotlib qt5"
   ]
  },
  {
   "cell_type": "code",
   "execution_count": 51,
   "id": "7115ae32",
   "metadata": {},
   "outputs": [],
   "source": [
    "fig = plt.figure(figsize=(10,10))\n",
    "ax = fig.add_subplot(111, projection='3d')\n",
    "ax.scatter(r_sat[::50,0], r_sat[::50,1], r_sat[::50,2],s=0.5,c='k') #xyz obviously\n",
    "ax.scatter(0,0,0,c='blue', s=6370)\n",
    "\n",
    "plt.show()\n"
   ]
  },
  {
   "cell_type": "code",
   "execution_count": 52,
   "id": "eac1de1e",
   "metadata": {},
   "outputs": [],
   "source": [
    "fig = plt.figure(figsize=(10,10))\n",
    "ax = fig.add_subplot(111, projection='3d')\n",
    "ax.scatter(r[::50,0], r[::50,1], r[::50,2],s=0.5,c='k') #xyz obviously\n",
    "ax.scatter(0,0,0,c='blue',s=6370)\n",
    "\n",
    "plt.show()"
   ]
  },
  {
   "cell_type": "markdown",
   "id": "c6fa71f1",
   "metadata": {},
   "source": [
    "### Plotting groundtrack "
   ]
  },
  {
   "cell_type": "code",
   "execution_count": 53,
   "id": "f44b3e9b",
   "metadata": {},
   "outputs": [],
   "source": [
    "lons, lats = added_ctll.sats[-1].ssps(1,J2=True,drag=False)\n",
    "\n",
    "fig = plt.figure()\n",
    "plt.scatter(lons[::10],lats[::10],c='k',s=0.1)\n",
    "plt.show()\n",
    " "
   ]
  },
  {
   "cell_type": "code",
   "execution_count": 85,
   "id": "3806ac58",
   "metadata": {},
   "outputs": [
    {
     "data": {
      "text/plain": [
       "array([1.04719755, 1.23095942])"
      ]
     },
     "execution_count": 85,
     "metadata": {},
     "output_type": "execute_result"
    }
   ],
   "source": []
  }
 ],
 "metadata": {
  "kernelspec": {
   "display_name": "Python 3",
   "language": "python",
   "name": "python3"
  },
  "language_info": {
   "codemirror_mode": {
    "name": "ipython",
    "version": 3
   },
   "file_extension": ".py",
   "mimetype": "text/x-python",
   "name": "python",
   "nbconvert_exporter": "python",
   "pygments_lexer": "ipython3",
   "version": "3.8.5"
  }
 },
 "nbformat": 4,
 "nbformat_minor": 5
}
