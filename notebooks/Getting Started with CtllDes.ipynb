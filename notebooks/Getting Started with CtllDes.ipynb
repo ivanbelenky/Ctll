{
 "cells": [
  {
   "cell_type": "markdown",
   "id": "0df41e04",
   "metadata": {},
   "source": [
    "<h1>Getting Started</h1>"
   ]
  },
  {
   "cell_type": "code",
   "execution_count": 1,
   "id": "12da2b75",
   "metadata": {},
   "outputs": [],
   "source": [
    "# if you are running in the notebooks folder example cloned from github this line must be included\n",
    "import sys\n",
    "import os\n",
    "sys.path.insert(0, os.path.abspath('../'))"
   ]
  },
  {
   "cell_type": "markdown",
   "id": "9e60742b",
   "metadata": {},
   "source": [
    "<h3>Import CtllDes and poliastro, the core and utils elements </h3>"
   ]
  },
  {
   "cell_type": "code",
   "execution_count": 2,
   "id": "5e209cd3",
   "metadata": {},
   "outputs": [
    {
     "name": "stderr",
     "output_type": "stream",
     "text": [
      "WARNING: AstropyDeprecationWarning: The private astropy._erfa module has been made into its own package, pyerfa, which is a dependency of astropy and can be imported directly using \"import erfa\" [astropy._erfa]\n"
     ]
    }
   ],
   "source": [
    "import numpy as np\n",
    "\n",
    "#Propagator engine\n",
    "import poliastro\n",
    "\n",
    "#The library\n",
    "import CtllDes \n",
    "from CtllDes.core import ctll, satellite\n",
    "\n",
    "#Throughout this examples it will be necessary to use the correct\n",
    "#physical dimensions, astropy.units will help us with that\n",
    "import astropy.units as u"
   ]
  },
  {
   "cell_type": "markdown",
   "id": "baf7c1b7",
   "metadata": {},
   "source": [
    "# Building an orbit \n",
    "\n",
    "The first step is to define an orbit. You can do this in a variety of ways as showed below."
   ]
  },
  {
   "cell_type": "markdown",
   "id": "d3d8e2b4",
   "metadata": {},
   "source": [
    "### Building from classical orbit parameters"
   ]
  },
  {
   "cell_type": "code",
   "execution_count": 3,
   "id": "83414a66",
   "metadata": {},
   "outputs": [],
   "source": [
    "#Orbit object, more info on poliastro API reference.\n",
    "from poliastro.twobody import Orbit\n",
    "\n",
    "#The bodies module specifies attractors\n",
    "from poliastro.bodies import Earth\n",
    "\n",
    "\n",
    "#Planes of reference and Epochs, are almost every time \n",
    "#the default ones, but just in case if you want to use \n",
    "#any other, they can be found in the following modules\n",
    "\n",
    "#import planes of reference, EARTH_EQUATOR \n",
    "from poliastro.frames import Planes\n",
    "\n",
    "#import J2000 time reference from constants \n",
    "from poliastro.constants import J2000\n",
    "\n",
    "\n",
    "\n",
    "### Specify classical orbit parameters ###\n",
    "\n",
    "a = 8000 * u.km # semi-major axis [distance]\n",
    "ecc = 0 * u.one # eccentricity [dimensionleess]\n",
    "inc = 98 * u.deg # inclination [angle] \n",
    "raan = 0 * u.rad # right ascencion of the ascending node [angle]\n",
    "argp = 0 * u.rad # perigee argument [angle]\n",
    "nu = 0 * u.rad # true anomaly [angle]\n",
    "\n",
    "plane = Planes.EARTH_EQUATOR # not necessary to specify\n",
    "epoch = J2000 # not necessary to specify\n",
    "\n",
    "#classmethod of Orbit\n",
    "orb = Orbit.from_classical(Earth,\n",
    "                            a,\n",
    "                            ecc,\n",
    "                            inc,\n",
    "                            raan,\n",
    "                            argp,\n",
    "                            nu)\n"
   ]
  },
  {
   "cell_type": "markdown",
   "id": "ed83e84d",
   "metadata": {},
   "source": [
    "### Other poliastro.twobody.Orbit classmethods"
   ]
  },
  {
   "cell_type": "code",
   "execution_count": 4,
   "id": "dc882a85",
   "metadata": {},
   "outputs": [],
   "source": [
    "#more on poliastro API reference\n",
    "orb = Orbit.heliosynchronous(Earth, a=8000*u.km, ecc=0*u.one)\n",
    "orb = Orbit.from_vectors(Earth, [8000,0,0]*u.km, [0,7,0]*u.km/u.s)"
   ]
  },
  {
   "cell_type": "markdown",
   "id": "f1f9f2a6",
   "metadata": {},
   "source": [
    "### Orbit utilities for repeating ground track and heliosynchronous orbits"
   ]
  },
  {
   "cell_type": "code",
   "execution_count": 5,
   "id": "c024f654",
   "metadata": {},
   "outputs": [
    {
     "data": {
      "text/html": [
       "<div>\n",
       "<style scoped>\n",
       "    .dataframe tbody tr th:only-of-type {\n",
       "        vertical-align: middle;\n",
       "    }\n",
       "\n",
       "    .dataframe tbody tr th {\n",
       "        vertical-align: top;\n",
       "    }\n",
       "\n",
       "    .dataframe thead th {\n",
       "        text-align: right;\n",
       "    }\n",
       "</style>\n",
       "<table border=\"1\" class=\"dataframe\">\n",
       "  <thead>\n",
       "    <tr style=\"text-align: right;\">\n",
       "      <th></th>\n",
       "      <th>radius</th>\n",
       "      <th>inc</th>\n",
       "      <th>N</th>\n",
       "    </tr>\n",
       "  </thead>\n",
       "  <tbody>\n",
       "    <tr>\n",
       "      <th>0</th>\n",
       "      <td>11544.182918</td>\n",
       "      <td>142.248541</td>\n",
       "      <td>7.000000</td>\n",
       "    </tr>\n",
       "    <tr>\n",
       "      <th>1</th>\n",
       "      <td>11389.626716</td>\n",
       "      <td>138.961424</td>\n",
       "      <td>7.142857</td>\n",
       "    </tr>\n",
       "    <tr>\n",
       "      <th>2</th>\n",
       "      <td>11240.148578</td>\n",
       "      <td>136.071863</td>\n",
       "      <td>7.285714</td>\n",
       "    </tr>\n",
       "    <tr>\n",
       "      <th>3</th>\n",
       "      <td>11095.486092</td>\n",
       "      <td>133.496401</td>\n",
       "      <td>7.428571</td>\n",
       "    </tr>\n",
       "    <tr>\n",
       "      <th>4</th>\n",
       "      <td>10955.395204</td>\n",
       "      <td>131.177130</td>\n",
       "      <td>7.571429</td>\n",
       "    </tr>\n",
       "    <tr>\n",
       "      <th>...</th>\n",
       "      <td>...</td>\n",
       "      <td>...</td>\n",
       "      <td>...</td>\n",
       "    </tr>\n",
       "    <tr>\n",
       "      <th>66</th>\n",
       "      <td>6535.898060</td>\n",
       "      <td>96.204172</td>\n",
       "      <td>16.428571</td>\n",
       "    </tr>\n",
       "    <tr>\n",
       "      <th>67</th>\n",
       "      <td>6498.279346</td>\n",
       "      <td>96.079672</td>\n",
       "      <td>16.571429</td>\n",
       "    </tr>\n",
       "    <tr>\n",
       "      <th>68</th>\n",
       "      <td>6461.197311</td>\n",
       "      <td>95.958727</td>\n",
       "      <td>16.714286</td>\n",
       "    </tr>\n",
       "    <tr>\n",
       "      <th>69</th>\n",
       "      <td>6424.639809</td>\n",
       "      <td>95.841203</td>\n",
       "      <td>16.857143</td>\n",
       "    </tr>\n",
       "    <tr>\n",
       "      <th>70</th>\n",
       "      <td>6388.595066</td>\n",
       "      <td>95.726977</td>\n",
       "      <td>17.000000</td>\n",
       "    </tr>\n",
       "  </tbody>\n",
       "</table>\n",
       "<p>71 rows × 3 columns</p>\n",
       "</div>"
      ],
      "text/plain": [
       "          radius         inc          N\n",
       "0   11544.182918  142.248541   7.000000\n",
       "1   11389.626716  138.961424   7.142857\n",
       "2   11240.148578  136.071863   7.285714\n",
       "3   11095.486092  133.496401   7.428571\n",
       "4   10955.395204  131.177130   7.571429\n",
       "..           ...         ...        ...\n",
       "66   6535.898060   96.204172  16.428571\n",
       "67   6498.279346   96.079672  16.571429\n",
       "68   6461.197311   95.958727  16.714286\n",
       "69   6424.639809   95.841203  16.857143\n",
       "70   6388.595066   95.726977  17.000000\n",
       "\n",
       "[71 rows x 3 columns]"
      ]
     },
     "execution_count": 5,
     "metadata": {},
     "output_type": "execute_result"
    }
   ],
   "source": [
    "from CtllDes.utils import sscalc\n",
    "\n",
    "D = 7 #days of revisit\n",
    "orb_df = sscalc.helio_rgt_synchronous(D) #dataframe\n",
    "orb_df #radius [km], inclination [degrees], revolutions per day."
   ]
  },
  {
   "cell_type": "code",
   "execution_count": 6,
   "id": "f9570566",
   "metadata": {},
   "outputs": [
    {
     "data": {
      "text/html": [
       "<div>\n",
       "<style scoped>\n",
       "    .dataframe tbody tr th:only-of-type {\n",
       "        vertical-align: middle;\n",
       "    }\n",
       "\n",
       "    .dataframe tbody tr th {\n",
       "        vertical-align: top;\n",
       "    }\n",
       "\n",
       "    .dataframe thead th {\n",
       "        text-align: right;\n",
       "    }\n",
       "</style>\n",
       "<table border=\"1\" class=\"dataframe\">\n",
       "  <thead>\n",
       "    <tr style=\"text-align: right;\">\n",
       "      <th></th>\n",
       "      <th>radius</th>\n",
       "      <th>inc</th>\n",
       "      <th>N</th>\n",
       "    </tr>\n",
       "  </thead>\n",
       "  <tbody>\n",
       "    <tr>\n",
       "      <th>50</th>\n",
       "      <td>7222.422363</td>\n",
       "      <td>98.816646</td>\n",
       "      <td>14.142857</td>\n",
       "    </tr>\n",
       "    <tr>\n",
       "      <th>51</th>\n",
       "      <td>7174.189097</td>\n",
       "      <td>98.610796</td>\n",
       "      <td>14.285714</td>\n",
       "    </tr>\n",
       "    <tr>\n",
       "      <th>52</th>\n",
       "      <td>7126.753168</td>\n",
       "      <td>98.411801</td>\n",
       "      <td>14.428571</td>\n",
       "    </tr>\n",
       "    <tr>\n",
       "      <th>53</th>\n",
       "      <td>7080.093692</td>\n",
       "      <td>98.219362</td>\n",
       "      <td>14.571429</td>\n",
       "    </tr>\n",
       "    <tr>\n",
       "      <th>54</th>\n",
       "      <td>7034.190529</td>\n",
       "      <td>98.033200</td>\n",
       "      <td>14.714286</td>\n",
       "    </tr>\n",
       "    <tr>\n",
       "      <th>55</th>\n",
       "      <td>6989.024251</td>\n",
       "      <td>97.853046</td>\n",
       "      <td>14.857143</td>\n",
       "    </tr>\n",
       "    <tr>\n",
       "      <th>56</th>\n",
       "      <td>6944.576109</td>\n",
       "      <td>97.678649</td>\n",
       "      <td>15.000000</td>\n",
       "    </tr>\n",
       "    <tr>\n",
       "      <th>57</th>\n",
       "      <td>6900.828006</td>\n",
       "      <td>97.509769</td>\n",
       "      <td>15.142857</td>\n",
       "    </tr>\n",
       "  </tbody>\n",
       "</table>\n",
       "</div>"
      ],
      "text/plain": [
       "         radius        inc          N\n",
       "50  7222.422363  98.816646  14.142857\n",
       "51  7174.189097  98.610796  14.285714\n",
       "52  7126.753168  98.411801  14.428571\n",
       "53  7080.093692  98.219362  14.571429\n",
       "54  7034.190529  98.033200  14.714286\n",
       "55  6989.024251  97.853046  14.857143\n",
       "56  6944.576109  97.678649  15.000000\n",
       "57  6900.828006  97.509769  15.142857"
      ]
     },
     "execution_count": 6,
     "metadata": {},
     "output_type": "execute_result"
    }
   ],
   "source": [
    "#use pandas to filter the desired parameters\n",
    "earth_R = Earth.R_mean.to(u.km).value #value in km of earth mean Radius\n",
    "\n",
    "min_radius = 500 + earth_R\n",
    "max_radius = 900 + earth_R\n",
    "filtered = orb_df.loc[(orb_df['radius'].values < max_radius) &\n",
    "                      (orb_df['radius'].values > min_radius)]\n",
    "filtered "
   ]
  },
  {
   "cell_type": "code",
   "execution_count": 7,
   "id": "5e61cfee",
   "metadata": {},
   "outputs": [],
   "source": [
    "#select the desired cop, i.e. classical orbit parameters\n",
    "cop = filtered.loc[55] #pick one from the df\n",
    "a = cop['radius']*u.km #radius = semi-major axis\n",
    "ecc = 0 * u.one # this is cant be different than 0 since the helio_rgt is for circular orbits\n",
    "inc = cop['inc']*u.deg\n",
    "\n",
    "#reuse past raan, argp and nu\n",
    "orb = Orbit.from_classical(Earth,\n",
    "                            a,\n",
    "                            ecc,\n",
    "                            inc,\n",
    "                            raan,\n",
    "                            argp,\n",
    "                            nu)"
   ]
  },
  {
   "cell_type": "markdown",
   "id": "1fa6771a",
   "metadata": {},
   "source": [
    "# Building satellites\n",
    "\n",
    " Satellite is one of the main classes in this library. You can build a satellite reading the docs, you are encouraged to use the classmethods.\n"
   ]
  },
  {
   "cell_type": "code",
   "execution_count": 8,
   "id": "532cc603",
   "metadata": {},
   "outputs": [],
   "source": [
    "from CtllDes.core.satellite import Sat"
   ]
  },
  {
   "cell_type": "markdown",
   "id": "a03de478",
   "metadata": {},
   "source": [
    "\n",
    "### Building satellite from classmethods."
   ]
  },
  {
   "cell_type": "code",
   "execution_count": 9,
   "id": "a14e868b",
   "metadata": {},
   "outputs": [],
   "source": [
    "sat = Sat.from_orbit(orb) \n",
    "sat = Sat.from_vectors([8000,0,0]*u.km,\n",
    "                       [0,7,0]*u.km/u.s,\n",
    "                      attractor=Earth)\n"
   ]
  },
  {
   "cell_type": "markdown",
   "id": "fadee1e7",
   "metadata": {},
   "source": [
    "# Satellite's parameters "
   ]
  },
  {
   "cell_type": "code",
   "execution_count": 10,
   "id": "267d7e8b",
   "metadata": {},
   "outputs": [
    {
     "name": "stdout",
     "output_type": "stream",
     "text": [
      "id : 8c05f97e-81f9-49e4-a05f-19c1ecd5f106\t[a ecc inc raan argp nu] : [7869.7 km 0.0 0.0 rad 0.0 rad 3.1 rad -3.1 rad]\t\tstatus : Online\n"
     ]
    }
   ],
   "source": [
    "sat.info() #general info at t=0"
   ]
  },
  {
   "cell_type": "markdown",
   "id": "8ed7c3b6",
   "metadata": {},
   "source": [
    "### Physical Specifications"
   ]
  },
  {
   "cell_type": "code",
   "execution_count": 11,
   "id": "98050653",
   "metadata": {},
   "outputs": [
    {
     "name": "stdout",
     "output_type": "stream",
     "text": [
      " m:1.0 kg, Cd:1.0, A:1.0 m2\n"
     ]
    }
   ],
   "source": [
    "print(sat.spec) #None specified, default parameters selected"
   ]
  },
  {
   "cell_type": "markdown",
   "id": "1e4e16c8",
   "metadata": {},
   "source": [
    "### Status"
   ]
  },
  {
   "cell_type": "code",
   "execution_count": 12,
   "id": "0d8d813d",
   "metadata": {},
   "outputs": [
    {
     "data": {
      "text/plain": [
       "'Online'"
      ]
     },
     "execution_count": 12,
     "metadata": {},
     "output_type": "execute_result"
    }
   ],
   "source": [
    "sat.status #None specified, Online status "
   ]
  },
  {
   "cell_type": "markdown",
   "id": "823be4f7",
   "metadata": {},
   "source": [
    "### Instruments"
   ]
  },
  {
   "cell_type": "code",
   "execution_count": 13,
   "id": "2ddc226a",
   "metadata": {},
   "outputs": [
    {
     "data": {
      "text/plain": [
       "[]"
      ]
     },
     "execution_count": 13,
     "metadata": {},
     "output_type": "execute_result"
    }
   ],
   "source": [
    "sat.instruments #None specified, empty list"
   ]
  },
  {
   "cell_type": "markdown",
   "id": "c3968bd4",
   "metadata": {},
   "source": [
    "### Universal Unique Identfier\n"
   ]
  },
  {
   "cell_type": "code",
   "execution_count": 14,
   "id": "594cbbba",
   "metadata": {},
   "outputs": [
    {
     "data": {
      "text/plain": [
       "UUID('8c05f97e-81f9-49e4-a05f-19c1ecd5f106')"
      ]
     },
     "execution_count": 14,
     "metadata": {},
     "output_type": "execute_result"
    }
   ],
   "source": [
    "sat.id"
   ]
  },
  {
   "cell_type": "markdown",
   "id": "7e7cf184",
   "metadata": {},
   "source": [
    "### Attractor"
   ]
  },
  {
   "cell_type": "code",
   "execution_count": 15,
   "id": "7dfc7706",
   "metadata": {},
   "outputs": [
    {
     "data": {
      "text/plain": [
       "Earth (♁)"
      ]
     },
     "execution_count": 15,
     "metadata": {},
     "output_type": "execute_result"
    }
   ],
   "source": [
    "sat.attractor"
   ]
  },
  {
   "cell_type": "markdown",
   "id": "a335e469",
   "metadata": {},
   "source": [
    "### Orbit"
   ]
  },
  {
   "cell_type": "code",
   "execution_count": 16,
   "id": "e101cd1b",
   "metadata": {},
   "outputs": [
    {
     "data": {
      "text/plain": [
       "7739 x 8000 km x 0.0 deg (GCRS) orbit around Earth (♁) at epoch J2000.000 (TT)"
      ]
     },
     "execution_count": 16,
     "metadata": {},
     "output_type": "execute_result"
    }
   ],
   "source": [
    "sat.orbit"
   ]
  },
  {
   "cell_type": "markdown",
   "id": "8043e762",
   "metadata": {},
   "source": [
    "#  Physical Specifications"
   ]
  },
  {
   "cell_type": "code",
   "execution_count": 17,
   "id": "28da84ad",
   "metadata": {},
   "outputs": [],
   "source": [
    "from CtllDes.core import specs"
   ]
  },
  {
   "cell_type": "code",
   "execution_count": 18,
   "id": "3d0aa0c9",
   "metadata": {},
   "outputs": [],
   "source": [
    "\n",
    "drag_coef = 2.2*u.one\n",
    "mass = 200*u.kg\n",
    "Area = 10*u.m**2\n",
    "\n",
    "spec = specs.Specifications(m=mass, Cd=drag_coef, A=Area)"
   ]
  },
  {
   "cell_type": "code",
   "execution_count": 19,
   "id": "25e06005",
   "metadata": {},
   "outputs": [
    {
     "name": "stdout",
     "output_type": "stream",
     "text": [
      " m:200.0 kg, Cd:2.2, A:10.0 m2\n"
     ]
    }
   ],
   "source": [
    "sat.update_spec(spec)\n",
    "print(sat.spec)"
   ]
  },
  {
   "cell_type": "markdown",
   "id": "5f29ac9b",
   "metadata": {},
   "source": [
    "#  Status (in dev)"
   ]
  },
  {
   "cell_type": "code",
   "execution_count": 20,
   "id": "0b3beb35",
   "metadata": {},
   "outputs": [],
   "source": [
    "#In development. Until now is just a string identifying if the \n",
    "#satellite is Online or not. This will impact when calculating\n",
    "#merit figures. "
   ]
  },
  {
   "cell_type": "code",
   "execution_count": 21,
   "id": "e8d23337",
   "metadata": {},
   "outputs": [
    {
     "name": "stdout",
     "output_type": "stream",
     "text": [
      "Warning, notImplemented\n"
     ]
    },
    {
     "data": {
      "text/plain": [
       "'Online'"
      ]
     },
     "execution_count": 21,
     "metadata": {},
     "output_type": "execute_result"
    }
   ],
   "source": [
    "sat.update_status('Shutoff')\n",
    "sat.status"
   ]
  },
  {
   "cell_type": "markdown",
   "id": "907d0377",
   "metadata": {},
   "source": [
    "# Instruments"
   ]
  },
  {
   "cell_type": "markdown",
   "id": "bf136646",
   "metadata": {},
   "source": [
    "The instruments module is explained in more detailed in instruments.ipynb. There you can find how to create new instruments and For now, the example below will just update the instrument with a default Camera one. "
   ]
  },
  {
   "cell_type": "code",
   "execution_count": 22,
   "id": "915185a3",
   "metadata": {},
   "outputs": [],
   "source": [
    "from CtllDes.core import instrument"
   ]
  },
  {
   "cell_type": "code",
   "execution_count": 23,
   "id": "6e563b5b",
   "metadata": {},
   "outputs": [
    {
     "data": {
      "text/plain": [
       "[<CtllDes.core.instrument.Camera at 0x7fd1fc226730>]"
      ]
     },
     "execution_count": 23,
     "metadata": {},
     "output_type": "execute_result"
    }
   ],
   "source": [
    "camera = instrument.Camera(800, 0.01) # pixels, angle resolution\n",
    "sat.update_instruments(camera,f=True) # force option\n",
    "sat.instruments"
   ]
  },
  {
   "cell_type": "markdown",
   "id": "90da987f",
   "metadata": {},
   "source": [
    "# Building a Constellation"
   ]
  },
  {
   "cell_type": "code",
   "execution_count": 24,
   "id": "313e8166",
   "metadata": {},
   "outputs": [],
   "source": [
    "#since a constellation is a set of satellite we will build a few more.\n",
    "\n",
    "sat0 = sat\n",
    "sat1 = Sat.from_vectors([8000,0,0]*u.km,\n",
    "                        [0,7,0]*u.km/u.s,\n",
    "                        attractor=Earth)\n",
    "sat2 = Sat.from_orbit(Orbit.heliosynchronous(Earth,\n",
    "                                             a=8000*u.km,\n",
    "                                             ecc=0*u.one))\n"
   ]
  },
  {
   "cell_type": "code",
   "execution_count": 25,
   "id": "e34648b9",
   "metadata": {},
   "outputs": [],
   "source": [
    "constellation = ctll.Ctll.from_sats([sat0,sat1,sat2])"
   ]
  },
  {
   "cell_type": "code",
   "execution_count": 26,
   "id": "ff06892f",
   "metadata": {},
   "outputs": [
    {
     "name": "stdout",
     "output_type": "stream",
     "text": [
      "\n",
      "3 satellites within no Pattern\n"
     ]
    }
   ],
   "source": [
    "constellation.info()"
   ]
  },
  {
   "cell_type": "code",
   "execution_count": 27,
   "id": "9297282c",
   "metadata": {},
   "outputs": [
    {
     "name": "stdout",
     "output_type": "stream",
     "text": [
      "\n",
      "3 satellites in no Pattern\n",
      "\n",
      "id : 7857d23c-ae1d-4a83-a810-8b608d753d1a\t[a ecc inc raan argp nu] : [7869.7 km 0.0 0.0 rad 0.0 rad 3.1 rad -3.1 rad]\t\tstatus : Online\n",
      "id : 2d7dae8a-022c-4c44-8872-69592ee713d2\t[a ecc inc raan argp nu] : [7869.7 km 0.0 0.0 rad 0.0 rad 3.1 rad -3.1 rad]\t\tstatus : Online\n",
      "id : 1f433ac5-da18-443b-aa59-ba26d72b2957\t[a ecc inc raan argp nu] : [8000.0 km 0.0 1.8 rad 610.5 deg 0.0 deg 0.0 deg]\t\tstatus : Online\n"
     ]
    }
   ],
   "source": [
    "constellation.info(v=True)"
   ]
  },
  {
   "cell_type": "code",
   "execution_count": 28,
   "id": "94c77765",
   "metadata": {},
   "outputs": [
    {
     "data": {
      "text/plain": [
       "[UUID('7857d23c-ae1d-4a83-a810-8b608d753d1a'),\n",
       " UUID('2d7dae8a-022c-4c44-8872-69592ee713d2'),\n",
       " UUID('1f433ac5-da18-443b-aa59-ba26d72b2957')]"
      ]
     },
     "execution_count": 28,
     "metadata": {},
     "output_type": "execute_result"
    }
   ],
   "source": [
    "ids = constellation.online_id\n",
    "ids "
   ]
  },
  {
   "cell_type": "code",
   "execution_count": 29,
   "id": "1a20a16d",
   "metadata": {},
   "outputs": [
    {
     "name": "stdout",
     "output_type": "stream",
     "text": [
      "id : 2d7dae8a-022c-4c44-8872-69592ee713d2\t[a ecc inc raan argp nu] : [7869.7 km 0.0 0.0 rad 0.0 rad 3.1 rad -3.1 rad]\t\tstatus : Online\n"
     ]
    }
   ],
   "source": [
    "sat_by_id = constellation.get_sat(ids[1])\n",
    "sat_by_id.info()"
   ]
  },
  {
   "cell_type": "code",
   "execution_count": 30,
   "id": "872febc8",
   "metadata": {},
   "outputs": [
    {
     "name": "stdout",
     "output_type": "stream",
     "text": [
      "id : 2d7dae8a-022c-4c44-8872-69592ee713d2\t[a ecc inc raan argp nu] : [7869.7 km 0.0 0.0 rad 0.0 rad 3.1 rad -3.1 rad]\t\tstatus : Online\n"
     ]
    }
   ],
   "source": [
    "constellation.sats[1].info()"
   ]
  },
  {
   "cell_type": "code",
   "execution_count": 31,
   "id": "89e911ba",
   "metadata": {},
   "outputs": [
    {
     "data": {
      "text/plain": [
       "[[<CtllDes.core.instrument.Camera at 0x7fd1fc226730>], [], []]"
      ]
     },
     "execution_count": 31,
     "metadata": {},
     "output_type": "execute_result"
    }
   ],
   "source": [
    "constellation.instruments"
   ]
  },
  {
   "cell_type": "code",
   "execution_count": 32,
   "id": "7911a0cd",
   "metadata": {},
   "outputs": [],
   "source": [
    "camera1 = instrument.Camera(800,0.1)\n",
    "camera2 = instrument.Camera(800,0.04)"
   ]
  },
  {
   "cell_type": "code",
   "execution_count": 33,
   "id": "aa60dd1c",
   "metadata": {},
   "outputs": [
    {
     "data": {
      "text/plain": [
       "[[<CtllDes.core.instrument.Camera at 0x7fd1fc226730>], [], []]"
      ]
     },
     "execution_count": 33,
     "metadata": {},
     "output_type": "execute_result"
    }
   ],
   "source": [
    "#this wouldnt work since the constellation copies the sat info\n",
    "sat1.update_instruments(camera1,f=True)\n",
    "sat2.update_instruments(camera2,f=True)\n",
    "\n",
    "constellation.instruments"
   ]
  },
  {
   "cell_type": "code",
   "execution_count": 34,
   "id": "2a8c0470",
   "metadata": {},
   "outputs": [
    {
     "data": {
      "text/plain": [
       "[[<CtllDes.core.instrument.Camera at 0x7fd1fc226730>],\n",
       " [<CtllDes.core.instrument.Camera at 0x7fd1ff102a90>],\n",
       " [<CtllDes.core.instrument.Camera at 0x7fd1ff102910>]]"
      ]
     },
     "execution_count": 34,
     "metadata": {},
     "output_type": "execute_result"
    }
   ],
   "source": [
    "constellation.sats[1].update_instruments(camera1,f=True)\n",
    "constellation.sats[2].update_instruments(camera2,f=True)\n",
    "\n",
    "constellation.instruments"
   ]
  },
  {
   "cell_type": "markdown",
   "id": "4351c081",
   "metadata": {},
   "source": [
    "### Building specific pattern "
   ]
  },
  {
   "cell_type": "code",
   "execution_count": 35,
   "id": "4defbfc1",
   "metadata": {},
   "outputs": [],
   "source": [
    "#Build a Walker Delta constellation\n",
    "T = 10\n",
    "P = 5\n",
    "F = 3\n",
    "\n",
    "p = 12000*u.km\n",
    "ecc = 0.3*u.one\n",
    "inc = 99*u.deg\n",
    "raan = 30*u.deg\n",
    "argp = 20*u.deg\n",
    "nu = 0.3*u.rad\n",
    "\n",
    "WDctll = ctll.Ctll.from_WalkerDelta(T,\n",
    "                                    P,\n",
    "                                    F,\n",
    "                                    p,\n",
    "                                    ecc,\n",
    "                                    inc,\n",
    "                                    argp,\n",
    "                                    raan_offset=raan,\n",
    "                                    nu_offset=nu,\n",
    "                                   )"
   ]
  },
  {
   "cell_type": "code",
   "execution_count": 36,
   "id": "fa7878c3",
   "metadata": {},
   "outputs": [
    {
     "name": "stdout",
     "output_type": "stream",
     "text": [
      "\n",
      "10 satellites in Walker Delta Pattern T/P/F = 10/5/3\n",
      "\n",
      "id : ae7c2e12-159a-4252-8737-3b92ccbbfe3e\t[a ecc inc raan argp nu] : [13186.8 km 0.3 99.0 deg 30.0 deg 20.0 deg 17.2 deg]\t\tstatus : Online\n",
      "id : db941d40-3f3a-4621-9e81-6616e893ae78\t[a ecc inc raan argp nu] : [13186.8 km 0.3 99.0 deg 30.0 deg 20.0 deg -162.8 deg]\t\tstatus : Online\n",
      "id : 144202d1-ebd5-49a0-b3ed-7999286c3d05\t[a ecc inc raan argp nu] : [13186.8 km 0.3 99.0 deg 102.0 deg 20.0 deg 125.2 deg]\t\tstatus : Online\n",
      "id : 1f627dad-f37e-4c42-95fc-29753834814b\t[a ecc inc raan argp nu] : [13186.8 km 0.3 99.0 deg 102.0 deg 20.0 deg -54.8 deg]\t\tstatus : Online\n",
      "id : 4b5df611-9773-4f6a-935d-86c04b7dc988\t[a ecc inc raan argp nu] : [13186.8 km 0.3 99.0 deg 174.0 deg 20.0 deg -126.8 deg]\t\tstatus : Online\n",
      "id : 1d10c7ff-9ed0-48f9-bc91-9032d27a7521\t[a ecc inc raan argp nu] : [13186.8 km 0.3 99.0 deg 174.0 deg 20.0 deg 53.2 deg]\t\tstatus : Online\n",
      "id : 13828c36-2c04-4c77-a241-868615de4c81\t[a ecc inc raan argp nu] : [13186.8 km 0.3 99.0 deg 246.0 deg 20.0 deg -18.8 deg]\t\tstatus : Online\n",
      "id : b5eadc74-5345-4203-9186-517f0c1d30cd\t[a ecc inc raan argp nu] : [13186.8 km 0.3 99.0 deg 246.0 deg 20.0 deg 161.2 deg]\t\tstatus : Online\n",
      "id : 3729114d-e40a-492f-ae5d-0f0f16ec0d15\t[a ecc inc raan argp nu] : [13186.8 km 0.3 99.0 deg 318.0 deg 20.0 deg 89.2 deg]\t\tstatus : Online\n",
      "id : 36c7d162-a599-4b33-ac8f-d1f20f293c81\t[a ecc inc raan argp nu] : [13186.8 km 0.3 99.0 deg 318.0 deg 20.0 deg -90.8 deg]\t\tstatus : Online\n"
     ]
    }
   ],
   "source": [
    "WDctll.info(v=True)"
   ]
  },
  {
   "cell_type": "code",
   "execution_count": 37,
   "id": "4d09746a",
   "metadata": {},
   "outputs": [
    {
     "name": "stdout",
     "output_type": "stream",
     "text": [
      "\n",
      "Specifications\n",
      "\n",
      " m:1.0 kg, Cd:1.0, A:1.0 m2\n",
      " m:1.0 kg, Cd:1.0, A:1.0 m2\n",
      " m:1.0 kg, Cd:1.0, A:1.0 m2\n",
      " m:1.0 kg, Cd:1.0, A:1.0 m2\n",
      " m:1.0 kg, Cd:1.0, A:1.0 m2\n",
      " m:1.0 kg, Cd:1.0, A:1.0 m2\n",
      " m:1.0 kg, Cd:1.0, A:1.0 m2\n",
      " m:1.0 kg, Cd:1.0, A:1.0 m2\n",
      " m:1.0 kg, Cd:1.0, A:1.0 m2\n",
      " m:1.0 kg, Cd:1.0, A:1.0 m2\n",
      "\n",
      "Status\n",
      "\n",
      "Online\n",
      "Online\n",
      "Online\n",
      "Online\n",
      "Online\n",
      "Online\n",
      "Online\n",
      "Online\n",
      "Online\n",
      "Online\n",
      "\n",
      "Instruments\n",
      "\n",
      "[]\n",
      "[]\n",
      "[]\n",
      "[]\n",
      "[]\n",
      "[]\n",
      "[]\n",
      "[]\n",
      "[]\n",
      "[]\n"
     ]
    }
   ],
   "source": [
    "#default specs\n",
    "print(\"\\nSpecifications\\n\")\n",
    "for spec in WDctll.specs:\n",
    "    print(spec)\n",
    "\n",
    "#default status\n",
    "print(\"\\nStatus\\n\")\n",
    "for status in WDctll.status:\n",
    "    print(status)\n",
    "\n",
    "#default instruments\n",
    "print(\"\\nInstruments\\n\")\n",
    "for instr in WDctll.instruments:\n",
    "    print(instr)\n"
   ]
  },
  {
   "cell_type": "markdown",
   "id": "8c46c937",
   "metadata": {},
   "source": [
    "# Changing default instruments, status and specifications."
   ]
  },
  {
   "cell_type": "code",
   "execution_count": 38,
   "id": "0049f537",
   "metadata": {},
   "outputs": [
    {
     "data": {
      "text/plain": [
       "10"
      ]
     },
     "execution_count": 38,
     "metadata": {},
     "output_type": "execute_result"
    }
   ],
   "source": [
    "#check amount of satellites inside Walker Delta Ctll\n",
    "WDctll.N"
   ]
  },
  {
   "cell_type": "markdown",
   "id": "86aefb1a",
   "metadata": {},
   "source": [
    "### Specifications"
   ]
  },
  {
   "cell_type": "code",
   "execution_count": 39,
   "id": "4c00d7a4",
   "metadata": {},
   "outputs": [
    {
     "name": "stdout",
     "output_type": "stream",
     "text": [
      " m:30.0 kg, Cd:1.5, A:50.0 m2\n",
      " m:30.0 kg, Cd:1.5, A:50.0 m2\n",
      " m:30.0 kg, Cd:1.5, A:50.0 m2\n",
      " m:30.0 kg, Cd:1.5, A:50.0 m2\n",
      " m:30.0 kg, Cd:1.5, A:50.0 m2\n",
      " m:30.0 kg, Cd:1.5, A:50.0 m2\n",
      " m:30.0 kg, Cd:1.5, A:50.0 m2\n",
      " m:30.0 kg, Cd:1.5, A:50.0 m2\n",
      " m:30.0 kg, Cd:1.5, A:50.0 m2\n",
      " m:30.0 kg, Cd:1.5, A:50.0 m2\n"
     ]
    }
   ],
   "source": [
    "general_spec = specs.Specifications(m=30*u.kg,Cd=1.5*u.one,A=50*u.m**2)\n",
    "spec_lst = [general_spec for _ in range(WDctll.N)]\n",
    "WDctll.update_specs(spec_lst)\n",
    "\n",
    "#new specs\n",
    "for spec in WDctll.specs:\n",
    "    print(spec)"
   ]
  },
  {
   "cell_type": "markdown",
   "id": "646da6bd",
   "metadata": {},
   "source": [
    "### Instruments"
   ]
  },
  {
   "cell_type": "code",
   "execution_count": 40,
   "id": "c3278884",
   "metadata": {},
   "outputs": [
    {
     "name": "stdout",
     "output_type": "stream",
     "text": [
      "[<CtllDes.core.instrument.Camera object at 0x7fd1ff0d0e80>]\n",
      "[<CtllDes.core.instrument.Camera object at 0x7fd1ff10b250>]\n",
      "[<CtllDes.core.instrument.Camera object at 0x7fd1ff10b670>]\n",
      "[<CtllDes.core.instrument.Camera object at 0x7fd1ff10b550>]\n",
      "[<CtllDes.core.instrument.Camera object at 0x7fd1ff0d7e80>]\n",
      "[<CtllDes.core.instrument.Camera object at 0x7fd1ff0d7610>]\n",
      "[<CtllDes.core.instrument.Camera object at 0x7fd1ff0d7640>]\n",
      "[<CtllDes.core.instrument.Camera object at 0x7fd1ff0d7a30>]\n",
      "[<CtllDes.core.instrument.Camera object at 0x7fd1ff0d70a0>]\n",
      "[<CtllDes.core.instrument.Camera object at 0x7fd1ff0d7040>]\n"
     ]
    }
   ],
   "source": [
    "general_instrument = instrument.Camera(1000,0.1)\n",
    "instr_lst = [general_instrument for _ in range(WDctll.N)]\n",
    "WDctll.update_instruments(instr_lst,f=True)\n",
    "\n",
    "#new instruments\n",
    "for instr in WDctll.instruments:\n",
    "    print(instr)"
   ]
  },
  {
   "cell_type": "markdown",
   "id": "ba355070",
   "metadata": {},
   "source": [
    "### Status (in dev)"
   ]
  },
  {
   "cell_type": "code",
   "execution_count": 41,
   "id": "3ededd37",
   "metadata": {},
   "outputs": [],
   "source": [
    "#"
   ]
  },
  {
   "cell_type": "markdown",
   "id": "7c5a5f63",
   "metadata": {},
   "source": [
    "# Adding Constellations  "
   ]
  },
  {
   "cell_type": "code",
   "execution_count": 42,
   "id": "d837888c",
   "metadata": {},
   "outputs": [
    {
     "name": "stdout",
     "output_type": "stream",
     "text": [
      "\n",
      "10 satellites in Walker Delta Pattern T/P/F = 10/5/3\n",
      "\n",
      "id : c3e40617-47f2-46b8-8259-5105dd5395b8\t[a ecc inc raan argp nu] : [13186.8 km 0.3 99.0 deg 30.0 deg 20.0 deg 17.2 deg]\t\tstatus : Online\n",
      "id : a4545d8c-1066-442f-bbb3-0ad8ccdca236\t[a ecc inc raan argp nu] : [13186.8 km 0.3 99.0 deg 30.0 deg 20.0 deg -162.8 deg]\t\tstatus : Online\n",
      "id : 96eb155c-74a3-4b6b-9810-dc619cc0b226\t[a ecc inc raan argp nu] : [13186.8 km 0.3 99.0 deg 102.0 deg 20.0 deg 125.2 deg]\t\tstatus : Online\n",
      "id : 499bda20-d29e-4c53-957c-0f1e85e9d4ac\t[a ecc inc raan argp nu] : [13186.8 km 0.3 99.0 deg 102.0 deg 20.0 deg -54.8 deg]\t\tstatus : Online\n",
      "id : 3e827729-2e67-49bd-a5ee-ed98026b7bd4\t[a ecc inc raan argp nu] : [13186.8 km 0.3 99.0 deg 174.0 deg 20.0 deg -126.8 deg]\t\tstatus : Online\n",
      "id : 1d229f32-7907-453e-80fb-f445a0d5b6fe\t[a ecc inc raan argp nu] : [13186.8 km 0.3 99.0 deg 174.0 deg 20.0 deg 53.2 deg]\t\tstatus : Online\n",
      "id : eb838dd8-ca35-452f-80b2-2a5701e0fa97\t[a ecc inc raan argp nu] : [13186.8 km 0.3 99.0 deg 246.0 deg 20.0 deg -18.8 deg]\t\tstatus : Online\n",
      "id : 76d574a7-d198-44c2-b33e-6429ce5b4194\t[a ecc inc raan argp nu] : [13186.8 km 0.3 99.0 deg 246.0 deg 20.0 deg 161.2 deg]\t\tstatus : Online\n",
      "id : 07f883c0-63d4-4850-b927-f8054d760c56\t[a ecc inc raan argp nu] : [13186.8 km 0.3 99.0 deg 318.0 deg 20.0 deg 89.2 deg]\t\tstatus : Online\n",
      "id : d8a1668a-83c7-4e6c-ac3e-1fb2a6196057\t[a ecc inc raan argp nu] : [13186.8 km 0.3 99.0 deg 318.0 deg 20.0 deg -90.8 deg]\t\tstatus : Online\n",
      "\n",
      "3 satellites in no Pattern\n",
      "\n",
      "id : 925e6bff-9b7e-4e7e-8202-c7e90f73117c\t[a ecc inc raan argp nu] : [7869.7 km 0.0 0.0 rad 0.0 rad 3.1 rad -3.1 rad]\t\tstatus : Online\n",
      "id : 004126e8-ce4a-425e-9637-f9a53669ce3e\t[a ecc inc raan argp nu] : [7869.7 km 0.0 0.0 rad 0.0 rad 3.1 rad -3.1 rad]\t\tstatus : Online\n",
      "id : 2bac19ea-2d6a-4e3f-8eda-1f0ee256d8d2\t[a ecc inc raan argp nu] : [8000.0 km 0.0 1.8 rad 610.5 deg 0.0 deg 0.0 deg]\t\tstatus : Online\n"
     ]
    }
   ],
   "source": [
    "added_ctll = constellation + WDctll\n",
    "added_ctll.info(v=True)\n"
   ]
  },
  {
   "cell_type": "code",
   "execution_count": 43,
   "id": "03769d91",
   "metadata": {},
   "outputs": [
    {
     "name": "stdout",
     "output_type": "stream",
     "text": [
      "\n",
      "13 satellites in no Pattern\n",
      "\n",
      "id : 754089bc-c6c6-4d53-b795-94a8e4d8aa23\t[a ecc inc raan argp nu] : [7869.7 km 0.0 0.0 rad 0.0 rad 3.1 rad -3.1 rad]\t\tstatus : Online\n",
      "id : 369e3ba6-06a1-4d7a-9f30-1cf2bd33d9a5\t[a ecc inc raan argp nu] : [7869.7 km 0.0 0.0 rad 0.0 rad 3.1 rad -3.1 rad]\t\tstatus : Online\n",
      "id : cf8750d8-c2e1-4988-a2d3-b58cf4c04379\t[a ecc inc raan argp nu] : [8000.0 km 0.0 1.8 rad 610.5 deg 0.0 deg 0.0 deg]\t\tstatus : Online\n",
      "id : bc410860-f245-4090-9dce-85596c802e10\t[a ecc inc raan argp nu] : [13186.8 km 0.3 99.0 deg 30.0 deg 20.0 deg 17.2 deg]\t\tstatus : Online\n",
      "id : e66883d7-cd1b-43c5-bb2d-d33d1358d6a6\t[a ecc inc raan argp nu] : [13186.8 km 0.3 99.0 deg 30.0 deg 20.0 deg -162.8 deg]\t\tstatus : Online\n",
      "id : b64355c4-6644-4db6-ae51-8a22d8ae8f4f\t[a ecc inc raan argp nu] : [13186.8 km 0.3 99.0 deg 102.0 deg 20.0 deg 125.2 deg]\t\tstatus : Online\n",
      "id : 25f40ad7-19bb-4acb-8745-a38e77b3be9f\t[a ecc inc raan argp nu] : [13186.8 km 0.3 99.0 deg 102.0 deg 20.0 deg -54.8 deg]\t\tstatus : Online\n",
      "id : 239b39c5-3ef4-4bc3-a518-37fc6661281c\t[a ecc inc raan argp nu] : [13186.8 km 0.3 99.0 deg 174.0 deg 20.0 deg -126.8 deg]\t\tstatus : Online\n",
      "id : 04dc7e7d-26dd-409d-971b-4e39646b18db\t[a ecc inc raan argp nu] : [13186.8 km 0.3 99.0 deg 174.0 deg 20.0 deg 53.2 deg]\t\tstatus : Online\n",
      "id : 85f0c72f-ba85-48ef-9630-40f5d2f2085d\t[a ecc inc raan argp nu] : [13186.8 km 0.3 99.0 deg 246.0 deg 20.0 deg -18.8 deg]\t\tstatus : Online\n",
      "id : 568f7462-0d1d-4d13-983a-cfdf230ce46e\t[a ecc inc raan argp nu] : [13186.8 km 0.3 99.0 deg 246.0 deg 20.0 deg 161.2 deg]\t\tstatus : Online\n",
      "id : f99005ae-ae0a-4a28-9715-0b319db87834\t[a ecc inc raan argp nu] : [13186.8 km 0.3 99.0 deg 318.0 deg 20.0 deg 89.2 deg]\t\tstatus : Online\n",
      "id : ea96a06c-6bcf-4885-804c-bb7877c42148\t[a ecc inc raan argp nu] : [13186.8 km 0.3 99.0 deg 318.0 deg 20.0 deg -90.8 deg]\t\tstatus : Online\n"
     ]
    }
   ],
   "source": [
    "#the above cell is equivalent to the following except from the fact that the patterns are not inherited\n",
    "added_ctll = ctll.Ctll.from_sats(constellation.sats+WDctll.sats)\n",
    "added_ctll.info(v=True)"
   ]
  },
  {
   "cell_type": "markdown",
   "id": "bebc3f0c",
   "metadata": {},
   "source": [
    "# Propagation"
   ]
  },
  {
   "cell_type": "markdown",
   "id": "a5868cee",
   "metadata": {},
   "source": [
    "In order to obtain the ephemerides of the satellite you can use the rv method for the Sat class as well as the Ctll class."
   ]
  },
  {
   "cell_type": "markdown",
   "id": "2913a8f7",
   "metadata": {},
   "source": [
    "### Satellite"
   ]
  },
  {
   "cell_type": "code",
   "execution_count": 44,
   "id": "6c8f8494",
   "metadata": {},
   "outputs": [],
   "source": [
    "#As you can see in the documentation \n",
    "\n",
    "#T days \n",
    "#dt interval in seconds\n",
    "#drag and J2, perturbations used in propagation\n",
    "r_sat,v_sat = added_ctll.sats[0].rv(30,dt=50, J2=True, drag=False)\n",
    "lon_sat,lat_sat = added_ctll.sats[0].ssps(4,J2=False)"
   ]
  },
  {
   "cell_type": "markdown",
   "id": "cabceae5",
   "metadata": {},
   "source": [
    "### Constellation"
   ]
  },
  {
   "cell_type": "code",
   "execution_count": 45,
   "id": "e579270e",
   "metadata": {},
   "outputs": [],
   "source": [
    "rv_ctll = added_ctll.rv(30, dt=10, drag = True, J2=True)\n",
    "r,v = rv_ctll[0]\n",
    "\n",
    "lonlat_ctll = added_ctll.ssps(5,dt=10,J2=True,drag=True)\n",
    "lon,lat = lonlat_ctll[0]"
   ]
  },
  {
   "cell_type": "markdown",
   "id": "9e582a6f",
   "metadata": {},
   "source": [
    "### Plotting r (xyz)"
   ]
  },
  {
   "cell_type": "code",
   "execution_count": 46,
   "id": "9f9d2fad",
   "metadata": {},
   "outputs": [],
   "source": [
    "import matplotlib.pyplot as plt\n",
    "%matplotlib qt5"
   ]
  },
  {
   "cell_type": "code",
   "execution_count": 47,
   "id": "b8775f06",
   "metadata": {},
   "outputs": [],
   "source": [
    "fig = plt.figure(figsize=(10,10))\n",
    "ax = fig.add_subplot(111, projection='3d')\n",
    "ax.scatter(r_sat[::50,0], r_sat[::50,1], r_sat[::50,2],s=0.5,c='k') #xyz obviously\n",
    "ax.scatter(0,0,0,c='blue', s=6370)\n",
    "\n",
    "plt.show()\n"
   ]
  },
  {
   "cell_type": "code",
   "execution_count": 48,
   "id": "d0207432",
   "metadata": {},
   "outputs": [],
   "source": [
    "fig = plt.figure(figsize=(10,10))\n",
    "ax = fig.add_subplot(111, projection='3d')\n",
    "ax.scatter(r[::50,0], r[::50,1], r[::50,2],s=0.5,c='k') #xyz obviously\n",
    "ax.scatter(0,0,0,c='blue',s=6370)\n",
    "\n",
    "plt.show()"
   ]
  },
  {
   "cell_type": "markdown",
   "id": "083ca91d",
   "metadata": {},
   "source": [
    "### Plotting groundtrack "
   ]
  },
  {
   "cell_type": "code",
   "execution_count": 49,
   "id": "953ad3fe",
   "metadata": {},
   "outputs": [],
   "source": [
    "lons, lats = added_ctll.sats[-1].ssps(1,J2=True,drag=False)\n",
    "\n",
    "fig = plt.figure()\n",
    "plt.scatter(lons[::10],lats[::10],c='k',s=0.1)\n",
    "plt.show()\n",
    " "
   ]
  },
  {
   "cell_type": "code",
   "execution_count": null,
   "id": "e40836a3",
   "metadata": {},
   "outputs": [],
   "source": []
  }
 ],
 "metadata": {
  "kernelspec": {
   "display_name": "Python 3",
   "language": "python",
   "name": "python3"
  },
  "language_info": {
   "codemirror_mode": {
    "name": "ipython",
    "version": 3
   },
   "file_extension": ".py",
   "mimetype": "text/x-python",
   "name": "python",
   "nbconvert_exporter": "python",
   "pygments_lexer": "ipython3",
   "version": "3.8.5"
  }
 },
 "nbformat": 4,
 "nbformat_minor": 5
}
