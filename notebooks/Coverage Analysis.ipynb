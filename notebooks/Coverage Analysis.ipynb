{
 "cells": [
  {
   "cell_type": "markdown",
   "id": "f8ab7aaa",
   "metadata": {},
   "source": [
    "# Coverage Analysis"
   ]
  },
  {
   "cell_type": "code",
   "execution_count": 1,
   "id": "5a7761ff",
   "metadata": {},
   "outputs": [
    {
     "name": "stderr",
     "output_type": "stream",
     "text": [
      "WARNING: AstropyDeprecationWarning: The private astropy._erfa module has been made into its own package, pyerfa, which is a dependency of astropy and can be imported directly using \"import erfa\" [astropy._erfa]\n"
     ]
    }
   ],
   "source": [
    "import sys\n",
    "import os\n",
    "sys.path.insert(0, os.path.abspath('../'))\n",
    "\n",
    "import numpy as np\n",
    "import matplotlib.pyplot as plt\n",
    "\n",
    "import astropy.units as u\n",
    "import poliastro \n",
    "\n",
    "import CtllDes \n",
    "from CtllDes.core import ctll, satellite\n"
   ]
  },
  {
   "cell_type": "markdown",
   "id": "1681839c",
   "metadata": {},
   "source": [
    "### Building test satellite"
   ]
  },
  {
   "cell_type": "code",
   "execution_count": 2,
   "id": "0b77dcd7",
   "metadata": {},
   "outputs": [],
   "source": [
    "from poliastro.bodies import Earth\n",
    "\n",
    "sat = satellite.Sat.from_vectors([8000,0,0]*u.km,\n",
    "                       [0,5,2.5]*u.km/u.s,\n",
    "                      attractor=Earth)"
   ]
  },
  {
   "cell_type": "markdown",
   "id": "49df8fd9",
   "metadata": {},
   "source": [
    "### Add Coverage Instrument"
   ]
  },
  {
   "cell_type": "code",
   "execution_count": 3,
   "id": "1972b501",
   "metadata": {},
   "outputs": [
    {
     "data": {
      "text/plain": [
       "[<CtllDes.core.instrument.Camera at 0x7ff9e8eff2b0>]"
      ]
     },
     "execution_count": 3,
     "metadata": {},
     "output_type": "execute_result"
    }
   ],
   "source": [
    "from CtllDes.core.instrument import Instrument, Camera\n",
    "cam = Camera(10,3)\n",
    "sat.update_instruments(cam,f=True)\n",
    "\n",
    "#check if Camera is a Coverage instrument, more on this later \n",
    "sat.cov_instruments"
   ]
  },
  {
   "cell_type": "markdown",
   "id": "002bea2a",
   "metadata": {},
   "source": [
    "# Defining targets "
   ]
  },
  {
   "cell_type": "code",
   "execution_count": 4,
   "id": "6108bc96",
   "metadata": {},
   "outputs": [
    {
     "data": {
      "image/png": "[encoded data removed]",
      "text/plain": [
       "<Figure size 432x288 with 1 Axes>"
      ]
     },
     "metadata": {
      "needs_background": "light"
     },
     "output_type": "display_data"
    },
    {
     "data": {
      "image/png": "[encoded data removed]",
      "text/plain": [
       "<Figure size 432x288 with 1 Axes>"
      ]
     },
     "metadata": {
      "needs_background": "light"
     },
     "output_type": "display_data"
    }
   ],
   "source": [
    "#In order to do a coverage analysis you must have targets. The module targets is the one in charge of that.\n",
    "from CtllDes.targets.targets import Targets, Target\n",
    "from shapely.geometry import Point\n",
    "\n",
    "#simple target\n",
    "tgt = Target(0,0)\n",
    "\n",
    "#multiple targets\n",
    "tgts = Targets([Target(i,i) for i in range(0,180,10)],tag='linear targets')\n",
    "\n",
    "#define targets from country, administration level 0. \n",
    "tgts = Targets.from_country('Argentina')\n",
    "figc = tgts.plot()\n",
    "\n",
    "#define targets from state name, administration level 1\n",
    "tgts = Targets.from_state('Buenos Aires')\n",
    "figs = tgts.plot()\n",
    "\n",
    "\n",
    "plt.show()"
   ]
  },
  {
   "cell_type": "code",
   "execution_count": 5,
   "id": "ac8d733e",
   "metadata": {},
   "outputs": [],
   "source": [
    "# less points for city targets\n",
    "tgts = Targets.from_country('Argentina', N=8)"
   ]
  },
  {
   "cell_type": "markdown",
   "id": "e2ece159",
   "metadata": {},
   "source": [
    "# Building Coverages\n",
    "Coverages is the main container for Coverage analysis, it consist on Coverage (singular) objects. This objects are defined by \n",
    "\n",
    "<ul>\n",
    "    <li>covs, an array with length = T*3600*24/dt containing ones or zeroes depending if the target is on sight or not.\n",
    "    <li>Targets described earlier in this notebook\n",
    "    <li>T == Time of propagation analysis\n",
    "    <li>dt == Time interval of integration \n",
    "    <li>Merit figures\n",
    "</ul>\n",
    "\n",
    "If you want more information on the merit figures calculated for each target, I recommend reading the chapter 9 of O.C.D.M. from James R. Wertz.\n",
    "\n",
    "<p style=\"text-align:center\">\n",
    "    <a href=\"https://www.amazon.es/Constellation-Design-Management-Technology-Library/dp/1881883078\">\n",
    "        <img src=\"https://images-na.ssl-images-amazon.com/images/I/41Ca0XLUv6L._SX303_BO1,204,203,200_.jpg\">\n",
    "    </a>\n",
    "</p>"
   ]
  },
  {
   "cell_type": "code",
   "execution_count": 6,
   "id": "97460ccc",
   "metadata": {},
   "outputs": [],
   "source": [
    "from CtllDes.requests.coverage import Coverages"
   ]
  },
  {
   "cell_type": "code",
   "execution_count": 7,
   "id": "9a1404b9",
   "metadata": {},
   "outputs": [
    {
     "name": "stderr",
     "output_type": "stream",
     "text": [
      "/home/vancii/Documents/Instituto Balseiro/6to semestre/pi/CtllDes/venv/lib/python3.8/site-packages/astropy/units/quantity.py:477: RuntimeWarning: invalid value encountered in arcsin\n",
      "  result = super().__array_ufunc__(function, method, *arrays, **kwargs)\n"
     ]
    },
    {
     "name": "stdout",
     "output_type": "stream",
     "text": [
      "target 0° 0°. 1 of 1\n"
     ]
    },
    {
     "data": {
      "text/html": [
       "<div>\n",
       "<style scoped>\n",
       "    .dataframe tbody tr th:only-of-type {\n",
       "        vertical-align: middle;\n",
       "    }\n",
       "\n",
       "    .dataframe tbody tr th {\n",
       "        vertical-align: top;\n",
       "    }\n",
       "\n",
       "    .dataframe thead th {\n",
       "        text-align: right;\n",
       "    }\n",
       "</style>\n",
       "<table border=\"1\" class=\"dataframe\">\n",
       "  <thead>\n",
       "    <tr style=\"text-align: right;\">\n",
       "      <th></th>\n",
       "      <th>T</th>\n",
       "      <th>dt</th>\n",
       "      <th>Satellite ID</th>\n",
       "      <th>Target</th>\n",
       "      <th>accumulated</th>\n",
       "      <th>mean gap light</th>\n",
       "      <th>mean gap dark</th>\n",
       "      <th>response time</th>\n",
       "      <th>average time gap</th>\n",
       "      <th>max gap</th>\n",
       "    </tr>\n",
       "  </thead>\n",
       "  <tbody>\n",
       "    <tr>\n",
       "      <th>0</th>\n",
       "      <td>10</td>\n",
       "      <td>1</td>\n",
       "      <td>121ef7de-ba66-4b88-a593-0a087039835c</td>\n",
       "      <td>(0, 0)</td>\n",
       "      <td>766</td>\n",
       "      <td>153.2</td>\n",
       "      <td>172646.8</td>\n",
       "      <td>90562.392259</td>\n",
       "      <td>181124.068887</td>\n",
       "      <td>368321</td>\n",
       "    </tr>\n",
       "  </tbody>\n",
       "</table>\n",
       "</div>"
      ],
      "text/plain": [
       "    T dt                          Satellite ID  Target accumulated  \\\n",
       "0  10  1  121ef7de-ba66-4b88-a593-0a087039835c  (0, 0)         766   \n",
       "\n",
       "   mean gap light  mean gap dark  response time  average time gap max gap  \n",
       "0           153.2       172646.8   90562.392259     181124.068887  368321  "
      ]
     },
     "execution_count": 7,
     "metadata": {},
     "output_type": "execute_result"
    }
   ],
   "source": [
    "#Build Coverages from satellite and single target\n",
    "covs = Coverages.from_sat(sat, tgt, 10, dt=1, J2=True, drag=False)\n",
    "\n",
    "#transform coverages into dataframe\n",
    "covs.to_df()"
   ]
  },
  {
   "cell_type": "code",
   "execution_count": 8,
   "id": "5d7e50ae",
   "metadata": {},
   "outputs": [
    {
     "name": "stderr",
     "output_type": "stream",
     "text": [
      "/home/vancii/Documents/Instituto Balseiro/6to semestre/pi/CtllDes/venv/lib/python3.8/site-packages/astropy/units/quantity.py:477: RuntimeWarning: invalid value encountered in arcsin\n",
      "  result = super().__array_ufunc__(function, method, *arrays, **kwargs)\n"
     ]
    },
    {
     "name": "stdout",
     "output_type": "stream",
     "text": [
      "target -68.63965974999991° -45.54563028571425°. 1 of 13\n",
      "target -69.6284513999999° -40.7926084285714°. 2 of 13\n",
      "target -65.67328479999992° -40.7926084285714°. 3 of 13\n",
      "target -69.6284513999999° -36.03958657142854°. 4 of 13\n",
      "target -65.67328479999992° -36.03958657142854°. 5 of 13\n",
      "target -61.718118199999935° -36.03958657142854°. 6 of 13\n",
      "target -57.76295159999995° -36.03958657142854°. 7 of 13\n",
      "target -69.6284513999999° -31.28656471428568°. 8 of 13\n",
      "target -65.67328479999992° -31.28656471428568°. 9 of 13\n",
      "target -61.718118199999935° -31.28656471428568°. 10 of 13\n",
      "target -66.99167366666659° -26.533542857142827°. 11 of 13\n",
      "target -63.69570149999993° -26.533542857142827°. 12 of 13\n",
      "target -60.399729333333276° -26.533542857142827°. 13 of 13\n"
     ]
    },
    {
     "data": {
      "text/html": [
       "<div>\n",
       "<style scoped>\n",
       "    .dataframe tbody tr th:only-of-type {\n",
       "        vertical-align: middle;\n",
       "    }\n",
       "\n",
       "    .dataframe tbody tr th {\n",
       "        vertical-align: top;\n",
       "    }\n",
       "\n",
       "    .dataframe thead th {\n",
       "        text-align: right;\n",
       "    }\n",
       "</style>\n",
       "<table border=\"1\" class=\"dataframe\">\n",
       "  <thead>\n",
       "    <tr style=\"text-align: right;\">\n",
       "      <th></th>\n",
       "      <th>T</th>\n",
       "      <th>dt</th>\n",
       "      <th>Satellite ID</th>\n",
       "      <th>Target</th>\n",
       "      <th>accumulated</th>\n",
       "      <th>mean gap light</th>\n",
       "      <th>mean gap dark</th>\n",
       "      <th>response time</th>\n",
       "      <th>average time gap</th>\n",
       "      <th>max gap</th>\n",
       "    </tr>\n",
       "  </thead>\n",
       "  <tbody>\n",
       "    <tr>\n",
       "      <th>0</th>\n",
       "      <td>10</td>\n",
       "      <td>5</td>\n",
       "      <td>121ef7de-ba66-4b88-a593-0a087039835c</td>\n",
       "      <td>(-68.63965974999991, -45.54563028571425)</td>\n",
       "      <td>0</td>\n",
       "      <td>0.000000</td>\n",
       "      <td>864000.000000</td>\n",
       "      <td>0.000000</td>\n",
       "      <td>0.000000</td>\n",
       "      <td>0</td>\n",
       "    </tr>\n",
       "    <tr>\n",
       "      <th>1</th>\n",
       "      <td>10</td>\n",
       "      <td>5</td>\n",
       "      <td>121ef7de-ba66-4b88-a593-0a087039835c</td>\n",
       "      <td>(-69.6284513999999, -40.7926084285714)</td>\n",
       "      <td>0</td>\n",
       "      <td>0.000000</td>\n",
       "      <td>864000.000000</td>\n",
       "      <td>0.000000</td>\n",
       "      <td>0.000000</td>\n",
       "      <td>0</td>\n",
       "    </tr>\n",
       "    <tr>\n",
       "      <th>2</th>\n",
       "      <td>10</td>\n",
       "      <td>5</td>\n",
       "      <td>121ef7de-ba66-4b88-a593-0a087039835c</td>\n",
       "      <td>(-65.67328479999992, -40.7926084285714)</td>\n",
       "      <td>0</td>\n",
       "      <td>0.000000</td>\n",
       "      <td>864000.000000</td>\n",
       "      <td>0.000000</td>\n",
       "      <td>0.000000</td>\n",
       "      <td>0</td>\n",
       "    </tr>\n",
       "    <tr>\n",
       "      <th>3</th>\n",
       "      <td>10</td>\n",
       "      <td>5</td>\n",
       "      <td>121ef7de-ba66-4b88-a593-0a087039835c</td>\n",
       "      <td>(-69.6284513999999, -36.03958657142854)</td>\n",
       "      <td>0</td>\n",
       "      <td>0.000000</td>\n",
       "      <td>864000.000000</td>\n",
       "      <td>0.000000</td>\n",
       "      <td>0.000000</td>\n",
       "      <td>0</td>\n",
       "    </tr>\n",
       "    <tr>\n",
       "      <th>4</th>\n",
       "      <td>10</td>\n",
       "      <td>5</td>\n",
       "      <td>121ef7de-ba66-4b88-a593-0a087039835c</td>\n",
       "      <td>(-65.67328479999992, -36.03958657142854)</td>\n",
       "      <td>0</td>\n",
       "      <td>0.000000</td>\n",
       "      <td>864000.000000</td>\n",
       "      <td>0.000000</td>\n",
       "      <td>0.000000</td>\n",
       "      <td>0</td>\n",
       "    </tr>\n",
       "    <tr>\n",
       "      <th>5</th>\n",
       "      <td>10</td>\n",
       "      <td>5</td>\n",
       "      <td>121ef7de-ba66-4b88-a593-0a087039835c</td>\n",
       "      <td>(-61.718118199999935, -36.03958657142854)</td>\n",
       "      <td>0</td>\n",
       "      <td>0.000000</td>\n",
       "      <td>864000.000000</td>\n",
       "      <td>0.000000</td>\n",
       "      <td>0.000000</td>\n",
       "      <td>0</td>\n",
       "    </tr>\n",
       "    <tr>\n",
       "      <th>6</th>\n",
       "      <td>10</td>\n",
       "      <td>5</td>\n",
       "      <td>121ef7de-ba66-4b88-a593-0a087039835c</td>\n",
       "      <td>(-57.76295159999995, -36.03958657142854)</td>\n",
       "      <td>0</td>\n",
       "      <td>0.000000</td>\n",
       "      <td>864000.000000</td>\n",
       "      <td>0.000000</td>\n",
       "      <td>0.000000</td>\n",
       "      <td>0</td>\n",
       "    </tr>\n",
       "    <tr>\n",
       "      <th>7</th>\n",
       "      <td>10</td>\n",
       "      <td>5</td>\n",
       "      <td>121ef7de-ba66-4b88-a593-0a087039835c</td>\n",
       "      <td>(-69.6284513999999, -31.28656471428568)</td>\n",
       "      <td>0</td>\n",
       "      <td>0.000000</td>\n",
       "      <td>864000.000000</td>\n",
       "      <td>0.000000</td>\n",
       "      <td>0.000000</td>\n",
       "      <td>0</td>\n",
       "    </tr>\n",
       "    <tr>\n",
       "      <th>8</th>\n",
       "      <td>10</td>\n",
       "      <td>5</td>\n",
       "      <td>121ef7de-ba66-4b88-a593-0a087039835c</td>\n",
       "      <td>(-65.67328479999992, -31.28656471428568)</td>\n",
       "      <td>0</td>\n",
       "      <td>0.000000</td>\n",
       "      <td>864000.000000</td>\n",
       "      <td>0.000000</td>\n",
       "      <td>0.000000</td>\n",
       "      <td>0</td>\n",
       "    </tr>\n",
       "    <tr>\n",
       "      <th>9</th>\n",
       "      <td>10</td>\n",
       "      <td>5</td>\n",
       "      <td>121ef7de-ba66-4b88-a593-0a087039835c</td>\n",
       "      <td>(-61.718118199999935, -31.28656471428568)</td>\n",
       "      <td>0</td>\n",
       "      <td>0.000000</td>\n",
       "      <td>864000.000000</td>\n",
       "      <td>0.000000</td>\n",
       "      <td>0.000000</td>\n",
       "      <td>0</td>\n",
       "    </tr>\n",
       "    <tr>\n",
       "      <th>10</th>\n",
       "      <td>10</td>\n",
       "      <td>5</td>\n",
       "      <td>121ef7de-ba66-4b88-a593-0a087039835c</td>\n",
       "      <td>(-66.99167366666659, -26.533542857142827)</td>\n",
       "      <td>4875</td>\n",
       "      <td>139.285714</td>\n",
       "      <td>107878.125000</td>\n",
       "      <td>252360.389988</td>\n",
       "      <td>504716.020052</td>\n",
       "      <td>651420</td>\n",
       "    </tr>\n",
       "    <tr>\n",
       "      <th>11</th>\n",
       "      <td>10</td>\n",
       "      <td>5</td>\n",
       "      <td>121ef7de-ba66-4b88-a593-0a087039835c</td>\n",
       "      <td>(-63.69570149999993, -26.533542857142827)</td>\n",
       "      <td>4500</td>\n",
       "      <td>180.000000</td>\n",
       "      <td>143850.000000</td>\n",
       "      <td>312175.871383</td>\n",
       "      <td>624346.982118</td>\n",
       "      <td>730210</td>\n",
       "    </tr>\n",
       "    <tr>\n",
       "      <th>12</th>\n",
       "      <td>10</td>\n",
       "      <td>5</td>\n",
       "      <td>121ef7de-ba66-4b88-a593-0a087039835c</td>\n",
       "      <td>(-60.399729333333276, -26.533542857142827)</td>\n",
       "      <td>3950</td>\n",
       "      <td>158.000000</td>\n",
       "      <td>143868.333333</td>\n",
       "      <td>312241.321991</td>\n",
       "      <td>624477.882523</td>\n",
       "      <td>730285</td>\n",
       "    </tr>\n",
       "  </tbody>\n",
       "</table>\n",
       "</div>"
      ],
      "text/plain": [
       "     T dt                          Satellite ID  \\\n",
       "0   10  5  121ef7de-ba66-4b88-a593-0a087039835c   \n",
       "1   10  5  121ef7de-ba66-4b88-a593-0a087039835c   \n",
       "2   10  5  121ef7de-ba66-4b88-a593-0a087039835c   \n",
       "3   10  5  121ef7de-ba66-4b88-a593-0a087039835c   \n",
       "4   10  5  121ef7de-ba66-4b88-a593-0a087039835c   \n",
       "5   10  5  121ef7de-ba66-4b88-a593-0a087039835c   \n",
       "6   10  5  121ef7de-ba66-4b88-a593-0a087039835c   \n",
       "7   10  5  121ef7de-ba66-4b88-a593-0a087039835c   \n",
       "8   10  5  121ef7de-ba66-4b88-a593-0a087039835c   \n",
       "9   10  5  121ef7de-ba66-4b88-a593-0a087039835c   \n",
       "10  10  5  121ef7de-ba66-4b88-a593-0a087039835c   \n",
       "11  10  5  121ef7de-ba66-4b88-a593-0a087039835c   \n",
       "12  10  5  121ef7de-ba66-4b88-a593-0a087039835c   \n",
       "\n",
       "                                        Target accumulated  mean gap light  \\\n",
       "0     (-68.63965974999991, -45.54563028571425)           0        0.000000   \n",
       "1       (-69.6284513999999, -40.7926084285714)           0        0.000000   \n",
       "2      (-65.67328479999992, -40.7926084285714)           0        0.000000   \n",
       "3      (-69.6284513999999, -36.03958657142854)           0        0.000000   \n",
       "4     (-65.67328479999992, -36.03958657142854)           0        0.000000   \n",
       "5    (-61.718118199999935, -36.03958657142854)           0        0.000000   \n",
       "6     (-57.76295159999995, -36.03958657142854)           0        0.000000   \n",
       "7      (-69.6284513999999, -31.28656471428568)           0        0.000000   \n",
       "8     (-65.67328479999992, -31.28656471428568)           0        0.000000   \n",
       "9    (-61.718118199999935, -31.28656471428568)           0        0.000000   \n",
       "10   (-66.99167366666659, -26.533542857142827)        4875      139.285714   \n",
       "11   (-63.69570149999993, -26.533542857142827)        4500      180.000000   \n",
       "12  (-60.399729333333276, -26.533542857142827)        3950      158.000000   \n",
       "\n",
       "    mean gap dark  response time  average time gap max gap  \n",
       "0   864000.000000       0.000000          0.000000       0  \n",
       "1   864000.000000       0.000000          0.000000       0  \n",
       "2   864000.000000       0.000000          0.000000       0  \n",
       "3   864000.000000       0.000000          0.000000       0  \n",
       "4   864000.000000       0.000000          0.000000       0  \n",
       "5   864000.000000       0.000000          0.000000       0  \n",
       "6   864000.000000       0.000000          0.000000       0  \n",
       "7   864000.000000       0.000000          0.000000       0  \n",
       "8   864000.000000       0.000000          0.000000       0  \n",
       "9   864000.000000       0.000000          0.000000       0  \n",
       "10  107878.125000  252360.389988     504716.020052  651420  \n",
       "11  143850.000000  312175.871383     624346.982118  730210  \n",
       "12  143868.333333  312241.321991     624477.882523  730285  "
      ]
     },
     "execution_count": 8,
     "metadata": {},
     "output_type": "execute_result"
    }
   ],
   "source": [
    "from CtllDes.requests.coverage import Coverages\n",
    "covs = Coverages.from_sat(sat, tgts, 10, dt=5, J2=True, drag=False)\n",
    "covs.to_df()"
   ]
  },
  {
   "cell_type": "markdown",
   "id": "0d59149c",
   "metadata": {},
   "source": [
    "# What is a Coverage Instrument?\n",
    "\n",
    "In order to be a Coverage Instrument first of all the object must be an Instrument. The coverage ability is defined by the interface of the library, i.e. a coverage method must be overwritten. See the example below."
   ]
  },
  {
   "cell_type": "code",
   "execution_count": 9,
   "id": "22a5ef43",
   "metadata": {},
   "outputs": [
    {
     "name": "stdout",
     "output_type": "stream",
     "text": [
      "Help on function coverage in module CtllDes.core.instrument:\n",
      "\n",
      "coverage(self, lons, lats, r, v, target, R)\n",
      "    Coverage functions is associated with the coverage module.\n",
      "    Any overwrited child method coverage must accept the specified parameters\n",
      "    and return a list or iterable with 1 or 0, in view or not respectively.\n",
      "    \n",
      "    Parameters\n",
      "    ----------\n",
      "    lons : ~astropy.units.quantity.Quantity \n",
      "            array of longitudes as they come from the ssps method.\n",
      "    lats : ~astropy.units.quantity.Quantity \n",
      "            array of latittudes as they come from the ssps method\n",
      "    r : ~astropy.units.quantity.Quantity\n",
      "            satellite's positions\n",
      "    v : ~astropy.units.quantity.Quantity\n",
      "            satellite's velocities\n",
      "    target : ~CtllDes.targets.targets.Target\n",
      "            desired target of coverage analysis\n",
      "    R : ~astropy.units.quantity.Quantity \n",
      "            attractor mean radius \n",
      "    \n",
      "    Returns\n",
      "    -------\n",
      "    cov : Iterable\n",
      "            elements from iterable must be 1 or 0 indicating if target is in view \n",
      "            or not.\n",
      "\n"
     ]
    }
   ],
   "source": [
    "#first lets check out the coverage method requirements to be correcly overwritten.\n",
    "help(Instrument.coverage)"
   ]
  },
  {
   "cell_type": "code",
   "execution_count": 10,
   "id": "4d8cc55b",
   "metadata": {},
   "outputs": [],
   "source": [
    "#So if you want to build a taylor made instrument, first you must specify \n",
    "#the correct arguments to the coverage method. And most importantly, return\n",
    "#an Iterable containing ones or zeroes depending on the target being seen or not\n",
    "#at that r,v. \n",
    "\n",
    "class GodInstrument(Instrument):\n",
    "    def __init__(self):\n",
    "        super().__init__()\n",
    "\n",
    "    def coverage(self, lons, lats, r, v, target, R):\n",
    "        return [1 for _ in range(len(r))]\n",
    "    \n",
    "#as you can see this is a silly example, God sees it all."
   ]
  },
  {
   "cell_type": "code",
   "execution_count": 11,
   "id": "c05a6525",
   "metadata": {},
   "outputs": [
    {
     "name": "stdout",
     "output_type": "stream",
     "text": [
      "Help on function symmetric_disk in module CtllDes.requests.coverage:\n",
      "\n",
      "symmetric_disk(FOV_min, FOV_max, lons, lats, r, target, R)\n",
      "    coverage method.\n",
      "    \n",
      "    Disk of coverage centered on subsatellite point.\n",
      "    \n",
      "    Parameters\n",
      "    ----------\n",
      "    FOV_min : ~Astropy.units.quantity.Quantity\n",
      "            minimum field of view in radians\n",
      "    FOV_max : ~Astropy.units.quantity.Quantity\n",
      "            maximum field of view in radians\n",
      "    \n",
      "    * : default coverage parameters\n",
      "            help(CtllDes.request.coverage.Instrument.coverage) for more\n",
      "            info.\n",
      "\n"
     ]
    }
   ],
   "source": [
    "from CtllDes.requests.coverage import symmetric_disk\n",
    "\n",
    "#What does exactly symmetric_disk do?\n",
    "help(symmetric_disk)\n",
    "\n",
    "\n",
    "\n",
    "#A more realistic Instrument that uses one of the few coverage methods already written.\n",
    "\n",
    "class DiskInstrument(Instrument):\n",
    "    def __init__(self):\n",
    "        super().__init__()\n",
    "        self.FOV_min = 0.1*u.rad\n",
    "        self.FOV_max = 0.2*u.rad\n",
    "        \n",
    "    def coverage(self, lons, lats, r, v, target, R):\n",
    "        return coverage.symmetric_disk(self.FOV_min,\n",
    "                                      self.FOV_max,\n",
    "                                      lons,\n",
    "                                      lats,\n",
    "                                      r,\n",
    "                                      v,\n",
    "                                      target,\n",
    "                                      R)\n"
   ]
  },
  {
   "cell_type": "markdown",
   "id": "6845ff61",
   "metadata": {},
   "source": [
    "So the intuition here you must get is that the interface is the coverage method, with the default parameters needed to compute coverage figures.If you have extra parameters that define the coverage, for example, a roll angle allowed, this must be included as a parameter of the specific Instrument child class. \n"
   ]
  },
  {
   "cell_type": "code",
   "execution_count": 12,
   "id": "2f270fd0",
   "metadata": {},
   "outputs": [],
   "source": [
    "#Define your own parameters.\n",
    "\n",
    "from CtllDes.utils import trigsf\n",
    "\n",
    "\n",
    "class OnOffCamera(Instrument):\n",
    "    def __init__(self, thresh):\n",
    "        super().__init__()\n",
    "        self.threshold = thresh\n",
    "        self._FOV = np.pi*u.rad/8\n",
    "        \n",
    "    @property\n",
    "    def threshold(self):\n",
    "        return self._threshold\n",
    "    \n",
    "    @threshold.setter\n",
    "    def threshold(self,thresh):\n",
    "        if not isinstance(thresh,u.Quantity):\n",
    "            thresh = thresh * u.km\n",
    "        elif thresh.unit.physical_type != 'length':\n",
    "            raise ValueError(\"threshold must be length quantity\")\n",
    "        self._threshold = thresh.to(u.km)\n",
    "    \n",
    "    @property\n",
    "    def FOV(self):\n",
    "        return self._FOV\n",
    "    \n",
    "    \n",
    "    def coverage(self,lons,lats,r,v,target,R):\n",
    "        lams = trigsf.get_lam(r,self.FOV,R)\n",
    "        \n",
    "        angles = trigsf.get_angles(lons,lats,(target.x*u.deg).to(u.rad),\n",
    "\t\t(target.y*u.deg).to(u.rad))\n",
    "        \n",
    "        radiis = np.sqrt(np.sum(r**2,axis=1))\n",
    "        \n",
    "        cov = []\n",
    "        for lam,angle,radii in zip(lams,angles,radiis):\n",
    "            if angle < lam:\n",
    "                if self.threshold < radii < 2*R :\n",
    "                    cov.append(1)\n",
    "                else:\n",
    "                    cov.append(0)\n",
    "            else:\n",
    "                cov.append(0)\n",
    "                \n",
    "        return cov\n"
   ]
  },
  {
   "cell_type": "code",
   "execution_count": 13,
   "id": "99eed8dd",
   "metadata": {},
   "outputs": [
    {
     "data": {
      "text/plain": [
       "[<__main__.OnOffCamera at 0x7ff9e8d900d0>]"
      ]
     },
     "execution_count": 13,
     "metadata": {},
     "output_type": "execute_result"
    }
   ],
   "source": [
    "onoffcam = OnOffCamera(300)\n",
    "sat.update_instruments(onoffcam,f=True)\n",
    "sat.instruments"
   ]
  },
  {
   "cell_type": "code",
   "execution_count": 14,
   "id": "67fee402",
   "metadata": {},
   "outputs": [
    {
     "name": "stderr",
     "output_type": "stream",
     "text": [
      "/home/vancii/Documents/Instituto Balseiro/6to semestre/pi/CtllDes/venv/lib/python3.8/site-packages/astropy/units/quantity.py:477: RuntimeWarning: invalid value encountered in arcsin\n",
      "  result = super().__array_ufunc__(function, method, *arrays, **kwargs)\n"
     ]
    },
    {
     "name": "stdout",
     "output_type": "stream",
     "text": [
      "target -68.63965974999991° -45.54563028571425°. 1 of 13\n",
      "target -69.6284513999999° -40.7926084285714°. 2 of 13\n",
      "target -65.67328479999992° -40.7926084285714°. 3 of 13\n",
      "target -69.6284513999999° -36.03958657142854°. 4 of 13\n",
      "target -65.67328479999992° -36.03958657142854°. 5 of 13\n",
      "target -61.718118199999935° -36.03958657142854°. 6 of 13\n",
      "target -57.76295159999995° -36.03958657142854°. 7 of 13\n",
      "target -69.6284513999999° -31.28656471428568°. 8 of 13\n",
      "target -65.67328479999992° -31.28656471428568°. 9 of 13\n",
      "target -61.718118199999935° -31.28656471428568°. 10 of 13\n",
      "target -66.99167366666659° -26.533542857142827°. 11 of 13\n",
      "target -63.69570149999993° -26.533542857142827°. 12 of 13\n",
      "target -60.399729333333276° -26.533542857142827°. 13 of 13\n"
     ]
    }
   ],
   "source": [
    "newcovs = Coverages.from_sat(sat, tgts, 5, dt=5, J2=True)"
   ]
  },
  {
   "cell_type": "markdown",
   "id": "ba755c13",
   "metadata": {},
   "source": [
    "More spherical trigonometry calculations will be added (in development right now) to create coverage methods easier and faster."
   ]
  },
  {
   "cell_type": "code",
   "execution_count": 15,
   "id": "2e414b18",
   "metadata": {},
   "outputs": [],
   "source": [
    "constellation = ctll.Ctll.from_sats(sat)"
   ]
  }
 ],
 "metadata": {
  "kernelspec": {
   "display_name": "Python 3",
   "language": "python",
   "name": "python3"
  },
  "language_info": {
   "codemirror_mode": {
    "name": "ipython",
    "version": 3
   },
   "file_extension": ".py",
   "mimetype": "text/x-python",
   "name": "python",
   "nbconvert_exporter": "python",
   "pygments_lexer": "ipython3",
   "version": "3.8.5"
  }
 },
 "nbformat": 4,
 "nbformat_minor": 5
}
