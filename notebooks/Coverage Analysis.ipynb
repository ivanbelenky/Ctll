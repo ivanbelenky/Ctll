{
 "cells": [
  {
   "cell_type": "markdown",
   "id": "c3728c0f",
   "metadata": {},
   "source": [
    "# Coverage Analysis"
   ]
  },
  {
   "cell_type": "code",
   "execution_count": 1,
   "id": "5f1ab36f",
   "metadata": {},
   "outputs": [
    {
     "name": "stderr",
     "output_type": "stream",
     "text": [
      "WARNING: AstropyDeprecationWarning: The private astropy._erfa module has been made into its own package, pyerfa, which is a dependency of astropy and can be imported directly using \"import erfa\" [astropy._erfa]\n"
     ]
    }
   ],
   "source": [
    "import sys\n",
    "import os\n",
    "sys.path.insert(0, os.path.abspath('../'))\n",
    "\n",
    "import numpy as np\n",
    "import matplotlib.pyplot as plt\n",
    "\n",
    "import astropy.units as u\n",
    "import poliastro \n",
    "\n",
    "import CtllDes \n",
    "from CtllDes.core import ctll, satellite\n"
   ]
  },
  {
   "cell_type": "markdown",
   "id": "6a40d878",
   "metadata": {},
   "source": [
    "### Building test satellite"
   ]
  },
  {
   "cell_type": "code",
   "execution_count": 2,
   "id": "e56b084d",
   "metadata": {},
   "outputs": [],
   "source": [
    "from poliastro.bodies import Earth\n",
    "\n",
    "sat = satellite.Sat.from_vectors([8000,0,0]*u.km,\n",
    "                       [0,5,2.5]*u.km/u.s,\n",
    "                      attractor=Earth)"
   ]
  },
  {
   "cell_type": "markdown",
   "id": "f21dee11",
   "metadata": {},
   "source": [
    "### Add Coverage Instrument"
   ]
  },
  {
   "cell_type": "markdown",
   "id": "5007cd41",
   "metadata": {},
   "source": [
    "#### Camera symmetric FOV"
   ]
  },
  {
   "cell_type": "code",
   "execution_count": 3,
   "id": "bc564fd9",
   "metadata": {},
   "outputs": [
    {
     "data": {
      "text/plain": [
       "[<CtllDes.core.instrument.Camera at 0x7f2bd01d57f0>]"
      ]
     },
     "execution_count": 3,
     "metadata": {},
     "output_type": "execute_result"
    }
   ],
   "source": [
    "from CtllDes.core.instrument import Instrument, Camera\n",
    "cam = Camera(10,3)\n",
    "sat.update_instruments(cam,f=True)\n",
    "\n",
    "#check if Camera is a Coverage instrument, more on this later \n",
    "sat.cov_instruments"
   ]
  },
  {
   "cell_type": "markdown",
   "id": "d6ebcc51",
   "metadata": {},
   "source": [
    "#### Push Broom Instrument"
   ]
  },
  {
   "cell_type": "code",
   "execution_count": 4,
   "id": "a41694f1",
   "metadata": {},
   "outputs": [
    {
     "data": {
      "text/plain": [
       "[<CtllDes.core.instrument.PushBroom at 0x7f2bd01d5190>]"
      ]
     },
     "execution_count": 4,
     "metadata": {},
     "output_type": "execute_result"
    }
   ],
   "source": [
    "from CtllDes.core.instrument import PushBroom\n",
    "\n",
    "broom = PushBroom(0.314*u.rad)\n",
    "sat.update_instruments(broom,f=True)\n",
    "\n",
    "#check if PushBroom is a Coverage instrument, more on this later \n",
    "sat.cov_instruments"
   ]
  },
  {
   "cell_type": "markdown",
   "id": "37f6d063",
   "metadata": {},
   "source": [
    "# Defining targets "
   ]
  },
  {
   "cell_type": "code",
   "execution_count": 5,
   "id": "795320d9",
   "metadata": {},
   "outputs": [
    {
     "data": {
      "image/png": "[encoded data removed]",
      "text/plain": [
       "<Figure size 432x288 with 1 Axes>"
      ]
     },
     "metadata": {
      "needs_background": "light"
     },
     "output_type": "display_data"
    },
    {
     "data": {
      "image/png": "[encoded data removed]",
      "text/plain": [
       "<Figure size 432x288 with 1 Axes>"
      ]
     },
     "metadata": {
      "needs_background": "light"
     },
     "output_type": "display_data"
    }
   ],
   "source": [
    "#In order to do a coverage analysis you must have targets. The module targets is the one in charge of that.\n",
    "from CtllDes.targets.targets import Targets, Target\n",
    "from shapely.geometry import Point\n",
    "\n",
    "#simple target\n",
    "tgt = Target(0,0)\n",
    "\n",
    "#multiple targets\n",
    "tgts = Targets([Target(i,i) for i in range(0,180,10)],tag='linear targets')\n",
    "\n",
    "#define targets from country, administration level 0. \n",
    "tgts = Targets.from_country('Argentina')\n",
    "figc = tgts.plot()\n",
    "plt.title(\"Argentina, N=50\")\n",
    "plt.grid()\n",
    "plt.xlabel(\"longitude [°]\")\n",
    "plt.ylabel(\"latitude [°]\")\n",
    "plt.show()\n",
    "\n",
    "\n",
    "#define targets from state name, administration level 1\n",
    "tgts = Targets.from_state('Río Negro', N=100)\n",
    "figs = tgts.plot()\n",
    "plt.title(\"Río Negro, N=100\")\n",
    "plt.xlabel(\"longitude [°]\")\n",
    "plt.ylabel(\"latitude [°]\")\n",
    "plt.grid()\n",
    "\n",
    "plt.show()"
   ]
  },
  {
   "cell_type": "code",
   "execution_count": 6,
   "id": "bb5b941b",
   "metadata": {},
   "outputs": [],
   "source": [
    "# less points for country targets\n",
    "tgts = Targets.from_country('Peru', N=6)"
   ]
  },
  {
   "cell_type": "markdown",
   "id": "543794d6",
   "metadata": {},
   "source": [
    "# Building Coverages\n",
    "Coverages is the main container for Coverage analysis, it consist on Coverage (singular) objects. This objects are defined by \n",
    "\n",
    "<ul>\n",
    "    <li>covs, an array with length = T*3600*24/dt containing ones or zeroes depending if the target is on sight or not.\n",
    "    <li>Targets described earlier in this notebook\n",
    "    <li>T == Time of propagation analysis\n",
    "    <li>dt == Time interval of integration \n",
    "    <li>Merit figures\n",
    "</ul>\n",
    "\n",
    "If you want more information on the merit figures calculated for each target, I recommend reading the chapter 9 of O.C.D.M. from James R. Wertz.\n",
    "\n",
    "<p style=\"text-align:center\">\n",
    "    <a href=\"https://www.amazon.es/Constellation-Design-Management-Technology-Library/dp/1881883078\">\n",
    "        <img src=\"https://images-na.ssl-images-amazon.com/images/I/41Ca0XLUv6L._SX303_BO1,204,203,200_.jpg\">\n",
    "    </a>\n",
    "</p>"
   ]
  },
  {
   "cell_type": "code",
   "execution_count": 7,
   "id": "7bfa8acf",
   "metadata": {},
   "outputs": [],
   "source": [
    "from CtllDes.requests.coverage import Coverages"
   ]
  },
  {
   "cell_type": "code",
   "execution_count": 8,
   "id": "49dcc42a",
   "metadata": {},
   "outputs": [
    {
     "name": "stderr",
     "output_type": "stream",
     "text": [
      "/home/vancii/Documents/Instituto Balseiro/6to semestre/pi/CtllDes/venv/lib/python3.8/site-packages/astropy/units/quantity.py:477: RuntimeWarning: invalid value encountered in arccos\n",
      "  result = super().__array_ufunc__(function, method, *arrays, **kwargs)\n",
      "/home/vancii/Documents/Instituto Balseiro/6to semestre/pi/CtllDes/CtllDes/utils/trigsf.py:59: RuntimeWarning: invalid value encountered in double_scalars\n",
      "  A = np.arccos((cos_a-cos_b*cos_c)/(sin_b*sin_c))\n",
      "/home/vancii/Documents/Instituto Balseiro/6to semestre/pi/CtllDes/CtllDes/utils/trigsf.py:60: RuntimeWarning: invalid value encountered in double_scalars\n",
      "  B = np.arccos((cos_b-cos_a*cos_c)/(sin_a*sin_c))\n"
     ]
    },
    {
     "name": "stdout",
     "output_type": "stream",
     "text": [
      "target 0.00° 0.00°. 1 of 1\n"
     ]
    },
    {
     "data": {
      "text/html": [
       "<div>\n",
       "<style scoped>\n",
       "    .dataframe tbody tr th:only-of-type {\n",
       "        vertical-align: middle;\n",
       "    }\n",
       "\n",
       "    .dataframe tbody tr th {\n",
       "        vertical-align: top;\n",
       "    }\n",
       "\n",
       "    .dataframe thead th {\n",
       "        text-align: right;\n",
       "    }\n",
       "</style>\n",
       "<table border=\"1\" class=\"dataframe\">\n",
       "  <thead>\n",
       "    <tr style=\"text-align: right;\">\n",
       "      <th></th>\n",
       "      <th>T</th>\n",
       "      <th>dt</th>\n",
       "      <th>Satellite ID</th>\n",
       "      <th>Target</th>\n",
       "      <th>accumulated</th>\n",
       "      <th>mean gap light</th>\n",
       "      <th>mean gap dark</th>\n",
       "      <th>response time</th>\n",
       "      <th>average time gap</th>\n",
       "      <th>max gap</th>\n",
       "    </tr>\n",
       "  </thead>\n",
       "  <tbody>\n",
       "    <tr>\n",
       "      <th>0</th>\n",
       "      <td>10</td>\n",
       "      <td>10</td>\n",
       "      <td>ff5795d6-184f-4a68-b677-0c7b43c10c5c</td>\n",
       "      <td>(0, 0)</td>\n",
       "      <td>40</td>\n",
       "      <td>10.0</td>\n",
       "      <td>172790.0</td>\n",
       "      <td>125407.039202</td>\n",
       "      <td>250804.078867</td>\n",
       "      <td>368430</td>\n",
       "    </tr>\n",
       "  </tbody>\n",
       "</table>\n",
       "</div>"
      ],
      "text/plain": [
       "    T  dt                          Satellite ID  Target accumulated  \\\n",
       "0  10  10  ff5795d6-184f-4a68-b677-0c7b43c10c5c  (0, 0)          40   \n",
       "\n",
       "   mean gap light  mean gap dark  response time  average time gap max gap  \n",
       "0            10.0       172790.0  125407.039202     250804.078867  368430  "
      ]
     },
     "execution_count": 8,
     "metadata": {},
     "output_type": "execute_result"
    }
   ],
   "source": [
    "#Build Coverages from satellite and single target\n",
    "covs = Coverages.from_sat(sat, tgt, 10, dt=10, J2=True, drag=False)\n",
    "\n",
    "#transform coverages into dataframe\n",
    "covs.to_df()\n"
   ]
  },
  {
   "cell_type": "code",
   "execution_count": 9,
   "id": "0065b68d",
   "metadata": {},
   "outputs": [
    {
     "name": "stderr",
     "output_type": "stream",
     "text": [
      "/home/vancii/Documents/Instituto Balseiro/6to semestre/pi/CtllDes/venv/lib/python3.8/site-packages/astropy/units/quantity.py:477: RuntimeWarning: invalid value encountered in arccos\n",
      "  result = super().__array_ufunc__(function, method, *arrays, **kwargs)\n"
     ]
    },
    {
     "name": "stdout",
     "output_type": "stream",
     "text": [
      "target -74.98° -14.70°. 1 of 9\n",
      "target -71.83° -14.70°. 2 of 9\n",
      "target -74.98° -11.05°. 3 of 9\n",
      "target -71.83° -11.05°. 4 of 9\n",
      "target -78.14° -7.40°. 5 of 9\n",
      "target -74.98° -7.40°. 6 of 9\n",
      "target -78.14° -3.76°. 7 of 9\n",
      "target -74.98° -3.76°. 8 of 9\n",
      "target -71.83° -3.76°. 9 of 9\n"
     ]
    }
   ],
   "source": [
    "from CtllDes.requests.coverage import Coverages\n",
    "covs = Coverages.from_sat(sat, tgts, 10, dt=100, J2=True, drag=False)\n",
    "dfcov = covs.to_df()"
   ]
  },
  {
   "cell_type": "code",
   "execution_count": 10,
   "id": "d578c9d2",
   "metadata": {},
   "outputs": [
    {
     "data": {
      "text/html": [
       "<div>\n",
       "<style scoped>\n",
       "    .dataframe tbody tr th:only-of-type {\n",
       "        vertical-align: middle;\n",
       "    }\n",
       "\n",
       "    .dataframe tbody tr th {\n",
       "        vertical-align: top;\n",
       "    }\n",
       "\n",
       "    .dataframe thead th {\n",
       "        text-align: right;\n",
       "    }\n",
       "</style>\n",
       "<table border=\"1\" class=\"dataframe\">\n",
       "  <thead>\n",
       "    <tr style=\"text-align: right;\">\n",
       "      <th></th>\n",
       "      <th>T</th>\n",
       "      <th>dt</th>\n",
       "      <th>Satellite ID</th>\n",
       "      <th>Target</th>\n",
       "      <th>accumulated</th>\n",
       "      <th>mean gap light</th>\n",
       "      <th>mean gap dark</th>\n",
       "      <th>response time</th>\n",
       "      <th>average time gap</th>\n",
       "      <th>max gap</th>\n",
       "    </tr>\n",
       "  </thead>\n",
       "  <tbody>\n",
       "    <tr>\n",
       "      <th>0</th>\n",
       "      <td>10</td>\n",
       "      <td>100</td>\n",
       "      <td>ff5795d6-184f-4a68-b677-0c7b43c10c5c</td>\n",
       "      <td>(-74.98181899999996, -14.700607799999977)</td>\n",
       "      <td>200</td>\n",
       "      <td>100.0</td>\n",
       "      <td>287900.0</td>\n",
       "      <td>253402.951731</td>\n",
       "      <td>506705.926612</td>\n",
       "      <td>641500</td>\n",
       "    </tr>\n",
       "    <tr>\n",
       "      <th>1</th>\n",
       "      <td>10</td>\n",
       "      <td>100</td>\n",
       "      <td>ff5795d6-184f-4a68-b677-0c7b43c10c5c</td>\n",
       "      <td>(-71.82786149999998, -14.700607799999977)</td>\n",
       "      <td>300</td>\n",
       "      <td>100.0</td>\n",
       "      <td>215900.0</td>\n",
       "      <td>199459.972219</td>\n",
       "      <td>398819.979164</td>\n",
       "      <td>558000</td>\n",
       "    </tr>\n",
       "    <tr>\n",
       "      <th>2</th>\n",
       "      <td>10</td>\n",
       "      <td>100</td>\n",
       "      <td>ff5795d6-184f-4a68-b677-0c7b43c10c5c</td>\n",
       "      <td>(-74.98181899999996, -11.052670599999981)</td>\n",
       "      <td>400</td>\n",
       "      <td>100.0</td>\n",
       "      <td>172700.0</td>\n",
       "      <td>191395.115175</td>\n",
       "      <td>382690.276652</td>\n",
       "      <td>545200</td>\n",
       "    </tr>\n",
       "    <tr>\n",
       "      <th>3</th>\n",
       "      <td>10</td>\n",
       "      <td>100</td>\n",
       "      <td>ff5795d6-184f-4a68-b677-0c7b43c10c5c</td>\n",
       "      <td>(-71.82786149999998, -11.052670599999981)</td>\n",
       "      <td>300</td>\n",
       "      <td>100.0</td>\n",
       "      <td>215900.0</td>\n",
       "      <td>204867.496238</td>\n",
       "      <td>409635.027202</td>\n",
       "      <td>545300</td>\n",
       "    </tr>\n",
       "    <tr>\n",
       "      <th>4</th>\n",
       "      <td>10</td>\n",
       "      <td>100</td>\n",
       "      <td>ff5795d6-184f-4a68-b677-0c7b43c10c5c</td>\n",
       "      <td>(-78.13577649999993, -7.404733399999987)</td>\n",
       "      <td>300</td>\n",
       "      <td>100.0</td>\n",
       "      <td>215900.0</td>\n",
       "      <td>166909.399236</td>\n",
       "      <td>333718.833198</td>\n",
       "      <td>474200</td>\n",
       "    </tr>\n",
       "    <tr>\n",
       "      <th>5</th>\n",
       "      <td>10</td>\n",
       "      <td>100</td>\n",
       "      <td>ff5795d6-184f-4a68-b677-0c7b43c10c5c</td>\n",
       "      <td>(-74.98181899999996, -7.404733399999987)</td>\n",
       "      <td>200</td>\n",
       "      <td>100.0</td>\n",
       "      <td>287900.0</td>\n",
       "      <td>255259.208242</td>\n",
       "      <td>510418.439634</td>\n",
       "      <td>623800</td>\n",
       "    </tr>\n",
       "    <tr>\n",
       "      <th>6</th>\n",
       "      <td>10</td>\n",
       "      <td>100</td>\n",
       "      <td>ff5795d6-184f-4a68-b677-0c7b43c10c5c</td>\n",
       "      <td>(-78.13577649999993, -3.7567961999999913)</td>\n",
       "      <td>300</td>\n",
       "      <td>100.0</td>\n",
       "      <td>215900.0</td>\n",
       "      <td>200086.005325</td>\n",
       "      <td>400072.045376</td>\n",
       "      <td>535400</td>\n",
       "    </tr>\n",
       "    <tr>\n",
       "      <th>7</th>\n",
       "      <td>10</td>\n",
       "      <td>100</td>\n",
       "      <td>ff5795d6-184f-4a68-b677-0c7b43c10c5c</td>\n",
       "      <td>(-74.98181899999996, -3.7567961999999913)</td>\n",
       "      <td>300</td>\n",
       "      <td>100.0</td>\n",
       "      <td>215900.0</td>\n",
       "      <td>200061.708531</td>\n",
       "      <td>400023.451788</td>\n",
       "      <td>535400</td>\n",
       "    </tr>\n",
       "    <tr>\n",
       "      <th>8</th>\n",
       "      <td>10</td>\n",
       "      <td>100</td>\n",
       "      <td>ff5795d6-184f-4a68-b677-0c7b43c10c5c</td>\n",
       "      <td>(-71.82786149999998, -3.7567961999999913)</td>\n",
       "      <td>300</td>\n",
       "      <td>100.0</td>\n",
       "      <td>215900.0</td>\n",
       "      <td>203002.164602</td>\n",
       "      <td>405904.363931</td>\n",
       "      <td>540300</td>\n",
       "    </tr>\n",
       "  </tbody>\n",
       "</table>\n",
       "</div>"
      ],
      "text/plain": [
       "    T   dt                          Satellite ID  \\\n",
       "0  10  100  ff5795d6-184f-4a68-b677-0c7b43c10c5c   \n",
       "1  10  100  ff5795d6-184f-4a68-b677-0c7b43c10c5c   \n",
       "2  10  100  ff5795d6-184f-4a68-b677-0c7b43c10c5c   \n",
       "3  10  100  ff5795d6-184f-4a68-b677-0c7b43c10c5c   \n",
       "4  10  100  ff5795d6-184f-4a68-b677-0c7b43c10c5c   \n",
       "5  10  100  ff5795d6-184f-4a68-b677-0c7b43c10c5c   \n",
       "6  10  100  ff5795d6-184f-4a68-b677-0c7b43c10c5c   \n",
       "7  10  100  ff5795d6-184f-4a68-b677-0c7b43c10c5c   \n",
       "8  10  100  ff5795d6-184f-4a68-b677-0c7b43c10c5c   \n",
       "\n",
       "                                      Target accumulated  mean gap light  \\\n",
       "0  (-74.98181899999996, -14.700607799999977)         200           100.0   \n",
       "1  (-71.82786149999998, -14.700607799999977)         300           100.0   \n",
       "2  (-74.98181899999996, -11.052670599999981)         400           100.0   \n",
       "3  (-71.82786149999998, -11.052670599999981)         300           100.0   \n",
       "4   (-78.13577649999993, -7.404733399999987)         300           100.0   \n",
       "5   (-74.98181899999996, -7.404733399999987)         200           100.0   \n",
       "6  (-78.13577649999993, -3.7567961999999913)         300           100.0   \n",
       "7  (-74.98181899999996, -3.7567961999999913)         300           100.0   \n",
       "8  (-71.82786149999998, -3.7567961999999913)         300           100.0   \n",
       "\n",
       "   mean gap dark  response time  average time gap max gap  \n",
       "0       287900.0  253402.951731     506705.926612  641500  \n",
       "1       215900.0  199459.972219     398819.979164  558000  \n",
       "2       172700.0  191395.115175     382690.276652  545200  \n",
       "3       215900.0  204867.496238     409635.027202  545300  \n",
       "4       215900.0  166909.399236     333718.833198  474200  \n",
       "5       287900.0  255259.208242     510418.439634  623800  \n",
       "6       215900.0  200086.005325     400072.045376  535400  \n",
       "7       215900.0  200061.708531     400023.451788  535400  \n",
       "8       215900.0  203002.164602     405904.363931  540300  "
      ]
     },
     "execution_count": 10,
     "metadata": {},
     "output_type": "execute_result"
    }
   ],
   "source": [
    "dfcov"
   ]
  },
  {
   "cell_type": "code",
   "execution_count": 11,
   "id": "9d41e176",
   "metadata": {},
   "outputs": [],
   "source": [
    "lons,lats = sat.ssps(10, dt=5, J2=True, drag=False)\n",
    "lons = lons*180/np.pi\n",
    "lats = lats*180/np.pi"
   ]
  },
  {
   "cell_type": "code",
   "execution_count": 12,
   "id": "1d8700f7",
   "metadata": {},
   "outputs": [
    {
     "data": {
      "text/plain": [
       "<matplotlib.collections.PathCollection at 0x7f2bd016d9d0>"
      ]
     },
     "execution_count": 12,
     "metadata": {},
     "output_type": "execute_result"
    }
   ],
   "source": [
    "%matplotlib qt5\n",
    "\n",
    "target_lons = [tgts.targets[i].lon + 180 for i in range(len(tgts.targets))]\n",
    "target_lats = [tgts.targets[i].lat for i in range(len(tgts.targets))]\n",
    "\n",
    "plt.figure(figsize=(10,10))\n",
    "plt.scatter(lons,lats,c='red',s=1)\n",
    "plt.ylim(-90,90)\n",
    "plt.scatter(target_lons,target_lats,c='k', s=5)"
   ]
  },
  {
   "cell_type": "code",
   "execution_count": 13,
   "id": "6c762fd5",
   "metadata": {},
   "outputs": [
    {
     "data": {
      "text/plain": [
       "<mpl_toolkits.mplot3d.art3d.Path3DCollection at 0x7f2bcd83f9d0>"
      ]
     },
     "execution_count": 13,
     "metadata": {},
     "output_type": "execute_result"
    }
   ],
   "source": [
    "accum = dfcov['accumulated'].values\n",
    "accum = np.array([float(i) for i in accum])\n",
    "fig = plt.figure(figsize=(10,10))\n",
    "ax = fig.add_subplot(projection='3d')\n",
    "ax.plot_trisurf(target_lons, target_lats, accum,\n",
    "               antialiased=False)\n",
    "ax.set_xlim(min(target_lons),max(target_lons))\n",
    "ax.set_ylim(min(target_lats),max(target_lats))\n",
    "#ax.scatter(lons,lats, np.zeros(len(lats)),s=1)\n",
    "ax.scatter(target_lons,target_lats, np.zeros(len(target_lons)),s=100,c='k')"
   ]
  },
  {
   "cell_type": "markdown",
   "id": "c8084f2a",
   "metadata": {},
   "source": [
    "# What is a Coverage Instrument?\n",
    "\n",
    "In order to be a Coverage Instrument first of all the object must be an Instrument. The coverage ability is defined by the interface of the library, i.e. a coverage method must be overwritten. See the example below."
   ]
  },
  {
   "cell_type": "code",
   "execution_count": 14,
   "id": "4f65c782",
   "metadata": {},
   "outputs": [
    {
     "name": "stdout",
     "output_type": "stream",
     "text": [
      "Help on function coverage in module CtllDes.core.instrument:\n",
      "\n",
      "coverage(self, lons, lats, r, v, target, R)\n",
      "    Coverage functions is associated with the coverage module.\n",
      "    Any overwrited child method coverage must accept the specified parameters\n",
      "    and return a list or iterable with 1 or 0, in view or not respectively.\n",
      "    \n",
      "    Parameters\n",
      "    ----------\n",
      "    lons : ~astropy.units.quantity.Quantity \n",
      "            array of longitudes as they come from the ssps method.\n",
      "    lats : ~astropy.units.quantity.Quantity \n",
      "            array of latittudes as they come from the ssps method\n",
      "    r : ~astropy.units.quantity.Quantity\n",
      "            satellite's positions\n",
      "    v : ~astropy.units.quantity.Quantity\n",
      "            satellite's velocities\n",
      "    target : ~CtllDes.targets.targets.Target\n",
      "            desired target of coverage analysis\n",
      "    R : ~astropy.units.quantity.Quantity \n",
      "            attractor mean radius \n",
      "    \n",
      "    Returns\n",
      "    -------\n",
      "    cov : Iterable\n",
      "            elements from iterable must be 1 or 0 indicating if target is in view \n",
      "            or not.\n",
      "\n"
     ]
    }
   ],
   "source": [
    "#first lets check out the coverage method requirements to be correcly overwritten.\n",
    "help(Instrument.coverage)"
   ]
  },
  {
   "cell_type": "code",
   "execution_count": 15,
   "id": "fcc60a7f",
   "metadata": {},
   "outputs": [],
   "source": [
    "#So if you want to build a taylor made instrument, first you must specify \n",
    "#the correct arguments to the coverage method. And most importantly, return\n",
    "#an Iterable containing ones or zeroes depending on the target being seen or not\n",
    "#at that r,v. \n",
    "\n",
    "class GodInstrument(Instrument):\n",
    "    def __init__(self):\n",
    "        super().__init__()\n",
    "\n",
    "    def coverage(self, lons, lats, r, v, target, R):\n",
    "        return [1 for _ in range(len(r))]\n",
    "    \n",
    "#as you can see this is a silly example, God sees it all."
   ]
  },
  {
   "cell_type": "code",
   "execution_count": 16,
   "id": "576485a9",
   "metadata": {},
   "outputs": [
    {
     "name": "stdout",
     "output_type": "stream",
     "text": [
      "Help on function symmetric_disk in module CtllDes.requests.coverage:\n",
      "\n",
      "symmetric_disk(FOV_min, FOV_max, lons, lats, r, target, R)\n",
      "    coverage method.\n",
      "    \n",
      "    Disk of coverage centered on subsatellite point.\n",
      "    \n",
      "    Parameters\n",
      "    ----------\n",
      "    FOV_min : ~astropy.units.quantity.Quantity\n",
      "            minimum field of view in radians\n",
      "    FOV_max : ~astropy.units.quantity.Quantity\n",
      "            maximum field of view in radians\n",
      "    \n",
      "    * : default coverage parameters\n",
      "            help(CtllDes.request.coverage.Instrument.coverage) for more\n",
      "            info.\n",
      "\n"
     ]
    }
   ],
   "source": [
    "from CtllDes.requests.coverage import symmetric_disk\n",
    "\n",
    "#What does exactly symmetric_disk do?\n",
    "help(symmetric_disk)\n",
    "\n",
    "\n",
    "\n",
    "#A more realistic Instrument that uses one of the few coverage methods already written.\n",
    "\n",
    "class DiskInstrument(Instrument):\n",
    "    def __init__(self):\n",
    "        super().__init__()\n",
    "        self.FOV_min = 0.1*u.rad\n",
    "        self.FOV_max = 0.2*u.rad\n",
    "        \n",
    "    def coverage(self, lons, lats, r, v, target, R):\n",
    "        return coverage.symmetric_disk(self.FOV_min,\n",
    "                                      self.FOV_max,\n",
    "                                      lons,\n",
    "                                      lats,\n",
    "                                      r,\n",
    "                                      v,\n",
    "                                      target,\n",
    "                                      R)\n"
   ]
  },
  {
   "cell_type": "markdown",
   "id": "71cf82e8",
   "metadata": {},
   "source": [
    "So the intuition here you must get is that the interface is the coverage method, with the default parameters needed to compute coverage figures.If you have extra parameters that define the coverage, for example, a roll angle allowed, this must be included as a parameter of the specific Instrument child class. \n"
   ]
  },
  {
   "cell_type": "code",
   "execution_count": 17,
   "id": "ee6b99f7",
   "metadata": {},
   "outputs": [],
   "source": [
    "#Define your own parameters.\n",
    "\n",
    "from CtllDes.utils import trigsf\n",
    "\n",
    "\n",
    "class OnOffCamera(Instrument):\n",
    "    def __init__(self, thresh):\n",
    "        super().__init__()\n",
    "        self.threshold = thresh\n",
    "        self._FOV = np.pi*u.rad/8\n",
    "        \n",
    "    @property\n",
    "    def threshold(self):\n",
    "        return self._threshold\n",
    "    \n",
    "    @threshold.setter\n",
    "    def threshold(self,thresh):\n",
    "        if not isinstance(thresh,u.Quantity):\n",
    "            thresh = thresh * u.km\n",
    "        elif thresh.unit.physical_type != 'length':\n",
    "            raise ValueError(\"threshold must be length quantity\")\n",
    "        self._threshold = thresh.to(u.km)\n",
    "    \n",
    "    @property\n",
    "    def FOV(self):\n",
    "        return self._FOV\n",
    "    \n",
    "    \n",
    "    def coverage(self,lons,lats,r,v,target,R):\n",
    "        lams = trigsf.get_lam(r,self.FOV,R)\n",
    "        \n",
    "        angles = trigsf.get_angles(lons,lats,(target.x*u.deg).to(u.rad),\n",
    "\t\t(target.y*u.deg).to(u.rad))\n",
    "        \n",
    "        radiis = np.sqrt(np.sum(r**2,axis=1))\n",
    "        \n",
    "        cov = []\n",
    "        for lam,angle,radii in zip(lams,angles,radiis):\n",
    "            if angle < lam:\n",
    "                if self.threshold < radii < 2*R :\n",
    "                    cov.append(1)\n",
    "                else:\n",
    "                    cov.append(0)\n",
    "            else:\n",
    "                cov.append(0)\n",
    "                \n",
    "        return cov\n"
   ]
  },
  {
   "cell_type": "code",
   "execution_count": 18,
   "id": "1526c35b",
   "metadata": {},
   "outputs": [
    {
     "data": {
      "text/plain": [
       "[<__main__.OnOffCamera at 0x7f2bd01c85e0>]"
      ]
     },
     "execution_count": 18,
     "metadata": {},
     "output_type": "execute_result"
    }
   ],
   "source": [
    "onoffcam = OnOffCamera(300)\n",
    "sat.update_instruments(onoffcam,f=True)\n",
    "sat.instruments"
   ]
  },
  {
   "cell_type": "code",
   "execution_count": 19,
   "id": "4e9bb816",
   "metadata": {},
   "outputs": [
    {
     "name": "stderr",
     "output_type": "stream",
     "text": [
      "/home/vancii/Documents/Instituto Balseiro/6to semestre/pi/CtllDes/venv/lib/python3.8/site-packages/astropy/units/quantity.py:477: RuntimeWarning: invalid value encountered in arcsin\n",
      "  result = super().__array_ufunc__(function, method, *arrays, **kwargs)\n"
     ]
    },
    {
     "name": "stdout",
     "output_type": "stream",
     "text": [
      "target -74.98° -14.70°. 1 of 9\n",
      "target -71.83° -14.70°. 2 of 9\n",
      "target -74.98° -11.05°. 3 of 9\n",
      "target -71.83° -11.05°. 4 of 9\n",
      "target -78.14° -7.40°. 5 of 9\n",
      "target -74.98° -7.40°. 6 of 9\n",
      "target -78.14° -3.76°. 7 of 9\n",
      "target -74.98° -3.76°. 8 of 9\n",
      "target -71.83° -3.76°. 9 of 9\n"
     ]
    }
   ],
   "source": [
    "newcovs = Coverages.from_sat(sat, tgts, 5, dt=5, J2=True)"
   ]
  },
  {
   "cell_type": "markdown",
   "id": "8ccd7f84",
   "metadata": {},
   "source": [
    "More spherical trigonometry calculations will be added (in development right now) to create coverage methods easier and faster."
   ]
  },
  {
   "cell_type": "code",
   "execution_count": 20,
   "id": "1279fc87",
   "metadata": {},
   "outputs": [
    {
     "data": {
      "text/html": [
       "<div>\n",
       "<style scoped>\n",
       "    .dataframe tbody tr th:only-of-type {\n",
       "        vertical-align: middle;\n",
       "    }\n",
       "\n",
       "    .dataframe tbody tr th {\n",
       "        vertical-align: top;\n",
       "    }\n",
       "\n",
       "    .dataframe thead th {\n",
       "        text-align: right;\n",
       "    }\n",
       "</style>\n",
       "<table border=\"1\" class=\"dataframe\">\n",
       "  <thead>\n",
       "    <tr style=\"text-align: right;\">\n",
       "      <th></th>\n",
       "      <th>T</th>\n",
       "      <th>dt</th>\n",
       "      <th>Satellite ID</th>\n",
       "      <th>Target</th>\n",
       "      <th>accumulated</th>\n",
       "      <th>mean gap light</th>\n",
       "      <th>mean gap dark</th>\n",
       "      <th>response time</th>\n",
       "      <th>average time gap</th>\n",
       "      <th>max gap</th>\n",
       "    </tr>\n",
       "  </thead>\n",
       "  <tbody>\n",
       "    <tr>\n",
       "      <th>0</th>\n",
       "      <td>5</td>\n",
       "      <td>5</td>\n",
       "      <td>ff5795d6-184f-4a68-b677-0c7b43c10c5c</td>\n",
       "      <td>(-74.98181899999996, -14.700607799999977)</td>\n",
       "      <td>0</td>\n",
       "      <td>0.000000</td>\n",
       "      <td>432000.000000</td>\n",
       "      <td>216002.500000</td>\n",
       "      <td>432000.000000</td>\n",
       "      <td>432000</td>\n",
       "    </tr>\n",
       "    <tr>\n",
       "      <th>1</th>\n",
       "      <td>5</td>\n",
       "      <td>5</td>\n",
       "      <td>ff5795d6-184f-4a68-b677-0c7b43c10c5c</td>\n",
       "      <td>(-71.82786149999998, -14.700607799999977)</td>\n",
       "      <td>30</td>\n",
       "      <td>30.000000</td>\n",
       "      <td>215985.000000</td>\n",
       "      <td>208231.967940</td>\n",
       "      <td>416458.936227</td>\n",
       "      <td>424085</td>\n",
       "    </tr>\n",
       "    <tr>\n",
       "      <th>2</th>\n",
       "      <td>5</td>\n",
       "      <td>5</td>\n",
       "      <td>ff5795d6-184f-4a68-b677-0c7b43c10c5c</td>\n",
       "      <td>(-74.98181899999996, -11.052670599999981)</td>\n",
       "      <td>200</td>\n",
       "      <td>200.000000</td>\n",
       "      <td>215900.000000</td>\n",
       "      <td>203622.944444</td>\n",
       "      <td>407240.891204</td>\n",
       "      <td>419250</td>\n",
       "    </tr>\n",
       "    <tr>\n",
       "      <th>3</th>\n",
       "      <td>5</td>\n",
       "      <td>5</td>\n",
       "      <td>ff5795d6-184f-4a68-b677-0c7b43c10c5c</td>\n",
       "      <td>(-71.82786149999998, -11.052670599999981)</td>\n",
       "      <td>190</td>\n",
       "      <td>190.000000</td>\n",
       "      <td>215905.000000</td>\n",
       "      <td>203566.758738</td>\n",
       "      <td>407128.519676</td>\n",
       "      <td>419190</td>\n",
       "    </tr>\n",
       "    <tr>\n",
       "      <th>4</th>\n",
       "      <td>5</td>\n",
       "      <td>5</td>\n",
       "      <td>ff5795d6-184f-4a68-b677-0c7b43c10c5c</td>\n",
       "      <td>(-78.13577649999993, -7.404733399999987)</td>\n",
       "      <td>195</td>\n",
       "      <td>97.500000</td>\n",
       "      <td>143935.000000</td>\n",
       "      <td>199094.056424</td>\n",
       "      <td>398183.115104</td>\n",
       "      <td>414530</td>\n",
       "    </tr>\n",
       "    <tr>\n",
       "      <th>5</th>\n",
       "      <td>5</td>\n",
       "      <td>5</td>\n",
       "      <td>ff5795d6-184f-4a68-b677-0c7b43c10c5c</td>\n",
       "      <td>(-74.98181899999996, -7.404733399999987)</td>\n",
       "      <td>260</td>\n",
       "      <td>130.000000</td>\n",
       "      <td>143913.333333</td>\n",
       "      <td>138674.448206</td>\n",
       "      <td>277343.899421</td>\n",
       "      <td>335690</td>\n",
       "    </tr>\n",
       "    <tr>\n",
       "      <th>6</th>\n",
       "      <td>5</td>\n",
       "      <td>5</td>\n",
       "      <td>ff5795d6-184f-4a68-b677-0c7b43c10c5c</td>\n",
       "      <td>(-78.13577649999993, -3.7567961999999913)</td>\n",
       "      <td>285</td>\n",
       "      <td>285.000000</td>\n",
       "      <td>215857.500000</td>\n",
       "      <td>199085.040278</td>\n",
       "      <td>398165.083854</td>\n",
       "      <td>414375</td>\n",
       "    </tr>\n",
       "    <tr>\n",
       "      <th>7</th>\n",
       "      <td>5</td>\n",
       "      <td>5</td>\n",
       "      <td>ff5795d6-184f-4a68-b677-0c7b43c10c5c</td>\n",
       "      <td>(-74.98181899999996, -3.7567961999999913)</td>\n",
       "      <td>240</td>\n",
       "      <td>240.000000</td>\n",
       "      <td>215880.000000</td>\n",
       "      <td>199040.907002</td>\n",
       "      <td>398076.816782</td>\n",
       "      <td>414325</td>\n",
       "    </tr>\n",
       "    <tr>\n",
       "      <th>8</th>\n",
       "      <td>5</td>\n",
       "      <td>5</td>\n",
       "      <td>ff5795d6-184f-4a68-b677-0c7b43c10c5c</td>\n",
       "      <td>(-71.82786149999998, -3.7567961999999913)</td>\n",
       "      <td>380</td>\n",
       "      <td>126.666667</td>\n",
       "      <td>107905.000000</td>\n",
       "      <td>137726.031192</td>\n",
       "      <td>275447.066782</td>\n",
       "      <td>335595</td>\n",
       "    </tr>\n",
       "  </tbody>\n",
       "</table>\n",
       "</div>"
      ],
      "text/plain": [
       "   T dt                          Satellite ID  \\\n",
       "0  5  5  ff5795d6-184f-4a68-b677-0c7b43c10c5c   \n",
       "1  5  5  ff5795d6-184f-4a68-b677-0c7b43c10c5c   \n",
       "2  5  5  ff5795d6-184f-4a68-b677-0c7b43c10c5c   \n",
       "3  5  5  ff5795d6-184f-4a68-b677-0c7b43c10c5c   \n",
       "4  5  5  ff5795d6-184f-4a68-b677-0c7b43c10c5c   \n",
       "5  5  5  ff5795d6-184f-4a68-b677-0c7b43c10c5c   \n",
       "6  5  5  ff5795d6-184f-4a68-b677-0c7b43c10c5c   \n",
       "7  5  5  ff5795d6-184f-4a68-b677-0c7b43c10c5c   \n",
       "8  5  5  ff5795d6-184f-4a68-b677-0c7b43c10c5c   \n",
       "\n",
       "                                      Target accumulated  mean gap light  \\\n",
       "0  (-74.98181899999996, -14.700607799999977)           0        0.000000   \n",
       "1  (-71.82786149999998, -14.700607799999977)          30       30.000000   \n",
       "2  (-74.98181899999996, -11.052670599999981)         200      200.000000   \n",
       "3  (-71.82786149999998, -11.052670599999981)         190      190.000000   \n",
       "4   (-78.13577649999993, -7.404733399999987)         195       97.500000   \n",
       "5   (-74.98181899999996, -7.404733399999987)         260      130.000000   \n",
       "6  (-78.13577649999993, -3.7567961999999913)         285      285.000000   \n",
       "7  (-74.98181899999996, -3.7567961999999913)         240      240.000000   \n",
       "8  (-71.82786149999998, -3.7567961999999913)         380      126.666667   \n",
       "\n",
       "   mean gap dark  response time  average time gap max gap  \n",
       "0  432000.000000  216002.500000     432000.000000  432000  \n",
       "1  215985.000000  208231.967940     416458.936227  424085  \n",
       "2  215900.000000  203622.944444     407240.891204  419250  \n",
       "3  215905.000000  203566.758738     407128.519676  419190  \n",
       "4  143935.000000  199094.056424     398183.115104  414530  \n",
       "5  143913.333333  138674.448206     277343.899421  335690  \n",
       "6  215857.500000  199085.040278     398165.083854  414375  \n",
       "7  215880.000000  199040.907002     398076.816782  414325  \n",
       "8  107905.000000  137726.031192     275447.066782  335595  "
      ]
     },
     "execution_count": 20,
     "metadata": {},
     "output_type": "execute_result"
    }
   ],
   "source": [
    "newcovs.to_df()"
   ]
  },
  {
   "cell_type": "code",
   "execution_count": 21,
   "id": "7d82c507",
   "metadata": {},
   "outputs": [],
   "source": [
    "constellation = ctll.Ctll.from_sats(sat)"
   ]
  },
  {
   "cell_type": "code",
   "execution_count": 22,
   "id": "ba0b014b",
   "metadata": {},
   "outputs": [
    {
     "name": "stdout",
     "output_type": "stream",
     "text": [
      "Help on class Camera in module CtllDes.core.instrument:\n",
      "\n",
      "class Camera(Instrument)\n",
      " |  Camera(f_l, s_w)\n",
      " |  \n",
      " |  Method resolution order:\n",
      " |      Camera\n",
      " |      Instrument\n",
      " |      builtins.object\n",
      " |  \n",
      " |  Methods defined here:\n",
      " |  \n",
      " |  __init__(self, f_l, s_w)\n",
      " |      Initialize self.  See help(type(self)) for accurate signature.\n",
      " |  \n",
      " |  coverage(self, lons, lats, r, v, target, R)\n",
      " |      Coverage functions is associated with the coverage module.\n",
      " |      Any overwrited child method coverage must accept the specified parameters\n",
      " |      and return a list or iterable with 1 or 0, in view or not respectively.\n",
      " |      \n",
      " |      Parameters\n",
      " |      ----------\n",
      " |      lons : ~astropy.units.quantity.Quantity \n",
      " |              array of longitudes as they come from the ssps method.\n",
      " |      lats : ~astropy.units.quantity.Quantity \n",
      " |              array of latittudes as they come from the ssps method\n",
      " |      r : ~astropy.units.quantity.Quantity\n",
      " |              satellite's positions\n",
      " |      v : ~astropy.units.quantity.Quantity\n",
      " |              satellite's velocities\n",
      " |      target : ~CtllDes.targets.targets.Target\n",
      " |              desired target of coverage analysis\n",
      " |      R : ~astropy.units.quantity.Quantity \n",
      " |              attractor mean radius \n",
      " |      \n",
      " |      Returns\n",
      " |      -------\n",
      " |      cov : Iterable\n",
      " |              elements from iterable must be 1 or 0 indicating if target is in view \n",
      " |              or not.\n",
      " |  \n",
      " |  ----------------------------------------------------------------------\n",
      " |  Data and other attributes defined here:\n",
      " |  \n",
      " |  __slotnames__ = []\n",
      " |  \n",
      " |  ----------------------------------------------------------------------\n",
      " |  Methods inherited from Instrument:\n",
      " |  \n",
      " |  communications(self)\n",
      " |  \n",
      " |  ----------------------------------------------------------------------\n",
      " |  Readonly properties inherited from Instrument:\n",
      " |  \n",
      " |  id\n",
      " |  \n",
      " |  ----------------------------------------------------------------------\n",
      " |  Data descriptors inherited from Instrument:\n",
      " |  \n",
      " |  __dict__\n",
      " |      dictionary for instance variables (if defined)\n",
      " |  \n",
      " |  __weakref__\n",
      " |      list of weak references to the object (if defined)\n",
      "\n"
     ]
    }
   ],
   "source": [
    "help(Camera)"
   ]
  },
  {
   "cell_type": "code",
   "execution_count": 23,
   "id": "82cbe03f",
   "metadata": {},
   "outputs": [
    {
     "name": "stdout",
     "output_type": "stream",
     "text": [
      "Help on function symmetric_with_roll in module CtllDes.requests.coverage:\n",
      "\n",
      "symmetric_with_roll(FOV, lons, lats, r, v, target, R, roll_angle=0)\n",
      "    coverage method \n",
      "    \n",
      "    This coverage method, is symmetric with the roll capabilities.\n",
      "    It is just a potential coverage obtained by stipulating the new field of\n",
      "    view, obtained by the roll angle in any direction. Perpendicular to velocity\n",
      "    rolls are not taken into account since, increase in coverage from this \n",
      "    analysis are restricted to a few seconds of the satellite passing.\n",
      "\n"
     ]
    }
   ],
   "source": [
    "from CtllDes.requests.coverage import symmetric_with_roll\n",
    "\n",
    "#What does exactly symmetric_disk do?\n",
    "help(symmetric_with_roll)\n",
    "\n",
    "\n",
    "\n",
    "#A more realistic Instrument that uses one of the few coverage methods already written.\n",
    "\n",
    "class RollCamera(Instrument):\n",
    "    def __init__(self,FOV,roll_angle):\n",
    "        \"\"\"Constructor for RollCamera.\n",
    "        \n",
    "        Parameters\n",
    "        ----------\n",
    "        FOV : ~astropy.units.quantity.Quantity\n",
    "            field of view, angle quantity\n",
    "        roll_angle : ~astropy.units.quantity.Quantity\n",
    "            maximum rolling angle\n",
    "        \"\"\"\n",
    "        \n",
    "        super().__init__()\n",
    "        self.FOV = FOV.to(u.rad)\n",
    "        self.roll = roll_angle.to(u.rad)\n",
    "        \n",
    "    def coverage(self, lons, lats, r, v, target, R):\n",
    "        return symmetric_with_roll(self.FOV,\n",
    "                                      lons,\n",
    "                                      lats,\n",
    "                                      r,\n",
    "                                      v,\n",
    "                                      target,\n",
    "                                      R,\n",
    "                                      roll_angle = self.roll)\n"
   ]
  },
  {
   "cell_type": "code",
   "execution_count": 24,
   "id": "a0bf3ba5",
   "metadata": {},
   "outputs": [
    {
     "data": {
      "text/plain": [
       "<__main__.RollCamera at 0x7f2bd01c8b80>"
      ]
     },
     "execution_count": 24,
     "metadata": {},
     "output_type": "execute_result"
    }
   ],
   "source": [
    "roll_cam = RollCamera(0.15*u.rad,15*u.deg)\n",
    "sat.update_instruments(roll_cam, f=True)\n",
    "sat.instruments[0]"
   ]
  },
  {
   "cell_type": "code",
   "execution_count": 27,
   "id": "1f5c1b06",
   "metadata": {},
   "outputs": [
    {
     "name": "stdout",
     "output_type": "stream",
     "text": [
      "target -74.98° -14.70°. 1 of 9\n",
      "target -71.83° -14.70°. 2 of 9\n",
      "target -74.98° -11.05°. 3 of 9\n",
      "target -71.83° -11.05°. 4 of 9\n",
      "target -78.14° -7.40°. 5 of 9\n",
      "target -74.98° -7.40°. 6 of 9\n",
      "target -78.14° -3.76°. 7 of 9\n",
      "target -74.98° -3.76°. 8 of 9\n",
      "target -71.83° -3.76°. 9 of 9\n"
     ]
    }
   ],
   "source": [
    "roll_cov = Coverages.from_sat(sat,tgts,20, dt=5, drag=False, J2=True)"
   ]
  },
  {
   "cell_type": "code",
   "execution_count": 28,
   "id": "c693350a",
   "metadata": {},
   "outputs": [
    {
     "data": {
      "text/html": [
       "<div>\n",
       "<style scoped>\n",
       "    .dataframe tbody tr th:only-of-type {\n",
       "        vertical-align: middle;\n",
       "    }\n",
       "\n",
       "    .dataframe tbody tr th {\n",
       "        vertical-align: top;\n",
       "    }\n",
       "\n",
       "    .dataframe thead th {\n",
       "        text-align: right;\n",
       "    }\n",
       "</style>\n",
       "<table border=\"1\" class=\"dataframe\">\n",
       "  <thead>\n",
       "    <tr style=\"text-align: right;\">\n",
       "      <th></th>\n",
       "      <th>T</th>\n",
       "      <th>dt</th>\n",
       "      <th>Satellite ID</th>\n",
       "      <th>Target</th>\n",
       "      <th>accumulated</th>\n",
       "      <th>mean gap light</th>\n",
       "      <th>mean gap dark</th>\n",
       "      <th>response time</th>\n",
       "      <th>average time gap</th>\n",
       "      <th>max gap</th>\n",
       "    </tr>\n",
       "  </thead>\n",
       "  <tbody>\n",
       "    <tr>\n",
       "      <th>0</th>\n",
       "      <td>20</td>\n",
       "      <td>5</td>\n",
       "      <td>ff5795d6-184f-4a68-b677-0c7b43c10c5c</td>\n",
       "      <td>(-74.98181899999996, -14.700607799999977)</td>\n",
       "      <td>2135</td>\n",
       "      <td>213.500000</td>\n",
       "      <td>156896.818182</td>\n",
       "      <td>217506.384722</td>\n",
       "      <td>435007.775622</td>\n",
       "      <td>628750</td>\n",
       "    </tr>\n",
       "    <tr>\n",
       "      <th>1</th>\n",
       "      <td>20</td>\n",
       "      <td>5</td>\n",
       "      <td>ff5795d6-184f-4a68-b677-0c7b43c10c5c</td>\n",
       "      <td>(-71.82786149999998, -14.700607799999977)</td>\n",
       "      <td>2210</td>\n",
       "      <td>184.166667</td>\n",
       "      <td>132753.076923</td>\n",
       "      <td>194640.276678</td>\n",
       "      <td>389275.559751</td>\n",
       "      <td>550125</td>\n",
       "    </tr>\n",
       "    <tr>\n",
       "      <th>2</th>\n",
       "      <td>20</td>\n",
       "      <td>5</td>\n",
       "      <td>ff5795d6-184f-4a68-b677-0c7b43c10c5c</td>\n",
       "      <td>(-74.98181899999996, -11.052670599999981)</td>\n",
       "      <td>2140</td>\n",
       "      <td>214.000000</td>\n",
       "      <td>156896.363636</td>\n",
       "      <td>170429.903197</td>\n",
       "      <td>340854.812587</td>\n",
       "      <td>545150</td>\n",
       "    </tr>\n",
       "    <tr>\n",
       "      <th>3</th>\n",
       "      <td>20</td>\n",
       "      <td>5</td>\n",
       "      <td>ff5795d6-184f-4a68-b677-0c7b43c10c5c</td>\n",
       "      <td>(-71.82786149999998, -11.052670599999981)</td>\n",
       "      <td>2340</td>\n",
       "      <td>195.000000</td>\n",
       "      <td>132743.076923</td>\n",
       "      <td>192086.998061</td>\n",
       "      <td>384169.002894</td>\n",
       "      <td>545180</td>\n",
       "    </tr>\n",
       "    <tr>\n",
       "      <th>4</th>\n",
       "      <td>20</td>\n",
       "      <td>5</td>\n",
       "      <td>ff5795d6-184f-4a68-b677-0c7b43c10c5c</td>\n",
       "      <td>(-78.13577649999993, -7.404733399999987)</td>\n",
       "      <td>2500</td>\n",
       "      <td>178.571429</td>\n",
       "      <td>115033.333333</td>\n",
       "      <td>168491.051317</td>\n",
       "      <td>336977.109867</td>\n",
       "      <td>461600</td>\n",
       "    </tr>\n",
       "    <tr>\n",
       "      <th>5</th>\n",
       "      <td>20</td>\n",
       "      <td>5</td>\n",
       "      <td>ff5795d6-184f-4a68-b677-0c7b43c10c5c</td>\n",
       "      <td>(-74.98181899999996, -7.404733399999987)</td>\n",
       "      <td>2350</td>\n",
       "      <td>180.769231</td>\n",
       "      <td>123260.714286</td>\n",
       "      <td>159962.183464</td>\n",
       "      <td>319919.373727</td>\n",
       "      <td>540225</td>\n",
       "    </tr>\n",
       "    <tr>\n",
       "      <th>6</th>\n",
       "      <td>20</td>\n",
       "      <td>5</td>\n",
       "      <td>ff5795d6-184f-4a68-b677-0c7b43c10c5c</td>\n",
       "      <td>(-78.13577649999993, -3.7567961999999913)</td>\n",
       "      <td>2255</td>\n",
       "      <td>225.500000</td>\n",
       "      <td>156885.909091</td>\n",
       "      <td>175450.048466</td>\n",
       "      <td>350895.103458</td>\n",
       "      <td>535275</td>\n",
       "    </tr>\n",
       "    <tr>\n",
       "      <th>7</th>\n",
       "      <td>20</td>\n",
       "      <td>5</td>\n",
       "      <td>ff5795d6-184f-4a68-b677-0c7b43c10c5c</td>\n",
       "      <td>(-74.98181899999996, -3.7567961999999913)</td>\n",
       "      <td>2325</td>\n",
       "      <td>211.363636</td>\n",
       "      <td>143806.250000</td>\n",
       "      <td>176455.647063</td>\n",
       "      <td>352906.300854</td>\n",
       "      <td>535270</td>\n",
       "    </tr>\n",
       "    <tr>\n",
       "      <th>8</th>\n",
       "      <td>20</td>\n",
       "      <td>5</td>\n",
       "      <td>ff5795d6-184f-4a68-b677-0c7b43c10c5c</td>\n",
       "      <td>(-71.82786149999998, -3.7567961999999913)</td>\n",
       "      <td>2500</td>\n",
       "      <td>192.307692</td>\n",
       "      <td>123250.000000</td>\n",
       "      <td>133363.863614</td>\n",
       "      <td>266722.734462</td>\n",
       "      <td>373190</td>\n",
       "    </tr>\n",
       "  </tbody>\n",
       "</table>\n",
       "</div>"
      ],
      "text/plain": [
       "    T dt                          Satellite ID  \\\n",
       "0  20  5  ff5795d6-184f-4a68-b677-0c7b43c10c5c   \n",
       "1  20  5  ff5795d6-184f-4a68-b677-0c7b43c10c5c   \n",
       "2  20  5  ff5795d6-184f-4a68-b677-0c7b43c10c5c   \n",
       "3  20  5  ff5795d6-184f-4a68-b677-0c7b43c10c5c   \n",
       "4  20  5  ff5795d6-184f-4a68-b677-0c7b43c10c5c   \n",
       "5  20  5  ff5795d6-184f-4a68-b677-0c7b43c10c5c   \n",
       "6  20  5  ff5795d6-184f-4a68-b677-0c7b43c10c5c   \n",
       "7  20  5  ff5795d6-184f-4a68-b677-0c7b43c10c5c   \n",
       "8  20  5  ff5795d6-184f-4a68-b677-0c7b43c10c5c   \n",
       "\n",
       "                                      Target accumulated  mean gap light  \\\n",
       "0  (-74.98181899999996, -14.700607799999977)        2135      213.500000   \n",
       "1  (-71.82786149999998, -14.700607799999977)        2210      184.166667   \n",
       "2  (-74.98181899999996, -11.052670599999981)        2140      214.000000   \n",
       "3  (-71.82786149999998, -11.052670599999981)        2340      195.000000   \n",
       "4   (-78.13577649999993, -7.404733399999987)        2500      178.571429   \n",
       "5   (-74.98181899999996, -7.404733399999987)        2350      180.769231   \n",
       "6  (-78.13577649999993, -3.7567961999999913)        2255      225.500000   \n",
       "7  (-74.98181899999996, -3.7567961999999913)        2325      211.363636   \n",
       "8  (-71.82786149999998, -3.7567961999999913)        2500      192.307692   \n",
       "\n",
       "   mean gap dark  response time  average time gap max gap  \n",
       "0  156896.818182  217506.384722     435007.775622  628750  \n",
       "1  132753.076923  194640.276678     389275.559751  550125  \n",
       "2  156896.363636  170429.903197     340854.812587  545150  \n",
       "3  132743.076923  192086.998061     384169.002894  545180  \n",
       "4  115033.333333  168491.051317     336977.109867  461600  \n",
       "5  123260.714286  159962.183464     319919.373727  540225  \n",
       "6  156885.909091  175450.048466     350895.103458  535275  \n",
       "7  143806.250000  176455.647063     352906.300854  535270  \n",
       "8  123250.000000  133363.863614     266722.734462  373190  "
      ]
     },
     "execution_count": 28,
     "metadata": {},
     "output_type": "execute_result"
    }
   ],
   "source": [
    "rollcovdf = roll_cov.to_df()\n",
    "rollcovdf "
   ]
  },
  {
   "cell_type": "code",
   "execution_count": null,
   "id": "e946f497",
   "metadata": {},
   "outputs": [],
   "source": [
    "roll_accum = rollcovdf['accumulated'].to_numpy(dtype=float)\n",
    "roll_accum /= max(roll_accum)\n",
    "\n",
    "response_time = rollcovdf['response time'].to_numpy()\n",
    "response_time = 1/response_time\n",
    "response_time -= min(response_time)\n",
    "response_time /= max(response_time)\n",
    "\n",
    "roll_avg = rollcovdf['average time gap'].to_numpy(dtype=float)\n",
    "roll_avg = 1/roll_avg\n",
    "roll_avg -= min(roll_avg)\n",
    "roll_avg /= max(roll_avg) "
   ]
  },
  {
   "cell_type": "code",
   "execution_count": null,
   "id": "5dd3f4a4",
   "metadata": {},
   "outputs": [],
   "source": [
    "fig1 = plt.figure(figsize=(10,10))\n",
    "ax1 = fig1.add_subplot(projection='3d')\n",
    "ax1.plot_trisurf(target_lons, target_lats, roll_accum,\n",
    "               antialiased=False,cmap='viridis')\n",
    "ax1.set_title(\"Coverage over Perú\")\n",
    "ax1.set_xlabel(\"longitude [°]\")\n",
    "ax1.set_ylabel(\"latitude [°]\")\n",
    "ax1.set_zlabel(\"Accumulated time of coverage, normalized\")\n",
    "\n",
    "ax1.set_xlim(min(target_lons),max(target_lons))\n",
    "ax1.set_ylim(min(target_lats),max(target_lats))\n",
    "ax1.set_zlim(min(roll_accum),max(roll_accum))\n",
    "\n",
    "ax1.scatter(target_lons,target_lats, np.zeros(len(target_lons)),\n",
    "           s=100,c='k')\n"
   ]
  },
  {
   "cell_type": "code",
   "execution_count": null,
   "id": "528c98db",
   "metadata": {},
   "outputs": [],
   "source": [
    "fig2 = plt.figure(figsize=(10,10))\n",
    "ax2 = fig2.add_subplot(projection='3d')\n",
    "ax2.plot_trisurf(target_lons, target_lats, response_time,\n",
    "               antialiased=False,cmap='viridis')\n",
    "\n",
    "ax2.set_title(\"Response time over Perú\")\n",
    "ax2.set_xlabel(\"longitude [°]\")\n",
    "ax2.set_ylabel(\"latitude [°]\")\n",
    "ax2.set_zlabel(\"1/tᵣ normalized\")\n",
    "\n",
    "\n",
    "ax2.set_xlim(min(target_lons),max(target_lons))\n",
    "ax2.set_ylim(min(target_lats),max(target_lats))\n",
    "\n",
    "ax2.scatter(target_lons,target_lats, np.zeros(len(target_lons)),\n",
    "           s=100,c='k')"
   ]
  },
  {
   "cell_type": "code",
   "execution_count": null,
   "id": "e6e2ca66",
   "metadata": {},
   "outputs": [],
   "source": [
    "fig3 = plt.figure(figsize=(10,10))\n",
    "ax3 = fig3.add_subplot(projection='3d')\n",
    "ax3.plot_trisurf(target_lons, target_lats, roll_avg,\n",
    "               antialiased=False,cmap='viridis')\n",
    "\n",
    "ax3.set_title(\"Average time gap over Perú\")\n",
    "ax3.set_xlabel(\"longitude [°]\")\n",
    "ax3.set_ylabel(\"latitude [°]\")\n",
    "ax3.set_zlabel(\"Averaget time gap normalized\")\n",
    "\n",
    "\n",
    "ax3.set_xlim(min(target_lons),max(target_lons))\n",
    "ax3.set_ylim(min(target_lats),max(target_lats))\n",
    "\n",
    "ax3.scatter(target_lons,target_lats, np.zeros(len(target_lons)),\n",
    "           s=100,c='k')"
   ]
  }
 ],
 "metadata": {
  "kernelspec": {
   "display_name": "Python 3",
   "language": "python",
   "name": "python3"
  },
  "language_info": {
   "codemirror_mode": {
    "name": "ipython",
    "version": 3
   },
   "file_extension": ".py",
   "mimetype": "text/x-python",
   "name": "python",
   "nbconvert_exporter": "python",
   "pygments_lexer": "ipython3",
   "version": "3.8.5"
  }
 },
 "nbformat": 4,
 "nbformat_minor": 5
}
