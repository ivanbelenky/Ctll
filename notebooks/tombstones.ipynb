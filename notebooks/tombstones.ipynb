{
 "cells": [
  {
   "cell_type": "code",
   "execution_count": 1,
   "id": "94525634",
   "metadata": {},
   "outputs": [
    {
     "name": "stderr",
     "output_type": "stream",
     "text": [
      "WARNING: AstropyDeprecationWarning: The private astropy._erfa module has been made into its own package, pyerfa, which is a dependency of astropy and can be imported directly using \"import erfa\" [astropy._erfa]\n"
     ]
    }
   ],
   "source": [
    "# if you are running in the notebooks folder example cloned from github this line must be included\n",
    "import sys\n",
    "import os\n",
    "sys.path.insert(0, os.path.abspath('../'))\n",
    "\n",
    "import numpy as np\n",
    "\n",
    "#Propagator engine\n",
    "import poliastro\n",
    "\n",
    "#The library\n",
    "import CtllDes \n",
    "from CtllDes.core import ctll, satellite\n",
    "\n",
    "#Throughout this examples it will be necessary to use the correct\n",
    "#physical dimensions, astropy.units will help us with that\n",
    "import astropy.units as u"
   ]
  },
  {
   "cell_type": "code",
   "execution_count": 2,
   "id": "c7184362",
   "metadata": {},
   "outputs": [],
   "source": [
    "#Orbit object, more info on poliastro API reference.\n",
    "from poliastro.twobody import Orbit\n",
    "\n",
    "#The bodies module specifies attractors\n",
    "from poliastro.bodies import Earth\n",
    "\n",
    "\n",
    "#Planes of reference and Epochs, are almost every time \n",
    "#the default ones, but just in case if you want to use \n",
    "#any other, they can be found in the following modules\n",
    "\n",
    "#import planes of reference, EARTH_EQUATOR \n",
    "from poliastro.frames import Planes\n",
    "\n",
    "#import J2000 time reference from constants \n",
    "from poliastro.constants import J2000\n",
    "\n",
    "### Specify classical orbit parameters ###\n",
    "\n",
    "a = 8000 * u.km # semi-major axis [distance]\n",
    "ecc = 0 * u.one # eccentricity [dimensionleess]\n",
    "inc = 85 * u.deg # inclination [angle] \n",
    "raan = 0 * u.rad # right ascencion of the ascending node [angle]\n",
    "argp = 0 * u.rad # perigee argument [angle]\n",
    "nu = 0 * u.rad # true anomaly [angle]\n",
    "\n",
    "plane = Planes.EARTH_EQUATOR # not necessary to specify\n",
    "epoch = J2000 # not necessary to specify\n",
    "\n",
    "#classmethod of Orbit\n",
    "orb = Orbit.from_classical(Earth,\n",
    "                            a,\n",
    "                            ecc,\n",
    "                            inc,\n",
    "                            raan,\n",
    "                            argp,\n",
    "                            nu)"
   ]
  },
  {
   "cell_type": "code",
   "execution_count": 3,
   "id": "6ba467a5",
   "metadata": {},
   "outputs": [],
   "source": [
    "from CtllDes.requests.coverage import Coverages"
   ]
  },
  {
   "cell_type": "code",
   "execution_count": 4,
   "id": "5532840a",
   "metadata": {},
   "outputs": [],
   "source": [
    "from CtllDes.targets.targets import Target, Targets"
   ]
  },
  {
   "cell_type": "code",
   "execution_count": 5,
   "id": "8054918e",
   "metadata": {},
   "outputs": [],
   "source": [
    "sat = satellite.Sat.from_orbit(orb)"
   ]
  },
  {
   "cell_type": "code",
   "execution_count": 92,
   "id": "450ee105",
   "metadata": {},
   "outputs": [],
   "source": [
    "from CtllDes.core.instrument import Instrument\n",
    "\n",
    "from CtllDes.requests.coverage import symmetric_with_roll\n",
    "\n",
    "class RollCamera(Instrument):\n",
    "    def __init__(self,FOV,roll_angle):\n",
    "        \"\"\"Constructor for RollCamera.\n",
    "        \n",
    "        Parameters\n",
    "        ----------\n",
    "        FOV : ~astropy.units.quantity.Quantity\n",
    "            field of view, angle quantity\n",
    "        roll_angle : ~astropy.units.quantity.Quantity\n",
    "            maximum rolling angle\n",
    "        \"\"\"\n",
    "        \n",
    "        super().__init__()\n",
    "        self.FOV = FOV.to(u.rad)\n",
    "        self.roll = roll_angle.to(u.rad)\n",
    "        \n",
    "    def coverage(self, lons, lats, r, v, target, R):\n",
    "        return symmetric_with_roll(self.FOV,\n",
    "                                      lons,\n",
    "                                      lats,\n",
    "                                      r,\n",
    "                                      v,\n",
    "                                      target,\n",
    "                                      R,\n",
    "                                      roll_angle = self.roll)\n",
    "\n",
    "\n",
    "rollcam = RollCamera(15*u.deg,10*u.deg)\n",
    "sat.update_instruments(rollcam,f=True)"
   ]
  },
  {
   "cell_type": "code",
   "execution_count": 61,
   "id": "e01eadc6",
   "metadata": {},
   "outputs": [
    {
     "name": "stdout",
     "output_type": "stream",
     "text": [
      "target 10.00° 0.00°. 1 of 19\n",
      "target 10.00° 5.00°. 2 of 19\n",
      "target 10.00° 10.00°. 3 of 19\n",
      "target 10.00° 15.00°. 4 of 19\n",
      "target 10.00° 20.00°. 5 of 19\n",
      "target 10.00° 25.00°. 6 of 19\n",
      "target 10.00° 30.00°. 7 of 19\n",
      "target 10.00° 35.00°. 8 of 19\n",
      "target 10.00° 40.00°. 9 of 19\n",
      "target 10.00° 45.00°. 10 of 19\n",
      "target 10.00° 50.00°. 11 of 19\n",
      "target 10.00° 55.00°. 12 of 19\n",
      "target 10.00° 60.00°. 13 of 19\n",
      "target 10.00° 65.00°. 14 of 19\n",
      "target 10.00° 70.00°. 15 of 19\n",
      "target 10.00° 75.00°. 16 of 19\n",
      "target 10.00° 80.00°. 17 of 19\n",
      "target 10.00° 85.00°. 18 of 19\n",
      "target 10.00° 90.00°. 19 of 19\n"
     ]
    }
   ],
   "source": [
    "cov = Coverages.from_sat(sat, Targets([Target(10,5*i) for i in range(0,19)]), 20, dt=7, J2=True )"
   ]
  },
  {
   "cell_type": "code",
   "execution_count": 97,
   "id": "b694e28e",
   "metadata": {},
   "outputs": [],
   "source": [
    "import matplotlib.pyplot as plt\n",
    "%matplotlib qt5"
   ]
  },
  {
   "cell_type": "code",
   "execution_count": null,
   "id": "38b613ee",
   "metadata": {},
   "outputs": [],
   "source": [
    "plt.figure(figsize=(10,30))\n",
    "\n",
    "for covv in cov.covs:\n",
    "    x = np.array( [covv.dt*i/3660 for i in range(len(covv.cov))] ) \n",
    "    plt.step(x, np.array(covv.cov)*3.5 + covv.target.lat,c='orange')\n",
    "\n",
    "plt.xlabel(\"time [h]\")\n",
    "plt.ylabel(\"ground station latitude [°]\")\n",
    "plt.grid(axis='y')\n",
    "plt.title(\"Tombstone plot, ground station at fixed longitude = 10 °\")"
   ]
  },
  {
   "cell_type": "code",
   "execution_count": 75,
   "id": "fe5d6db2",
   "metadata": {},
   "outputs": [],
   "source": [
    "covdf = cov.to_df()"
   ]
  },
  {
   "cell_type": "code",
   "execution_count": 80,
   "id": "0e256643",
   "metadata": {},
   "outputs": [],
   "source": [
    "accum = covdf['accumulated'].to_numpy(dtype=np.float64)\n",
    "accum /= max(accum)\n",
    "\n",
    "response_time = covdf['response time'].to_numpy(dtype=np.float64)\n",
    "response_time /= max(response_time)\n",
    "\n",
    "avg_time_gap = covdf['mean gap dark'].to_numpy(dtype=np.float64)\n",
    "avg_time_gap /= max(avg_time_gap)\n",
    "\n",
    "#max_gap = covdf['max gap']\n",
    "\n",
    "\n",
    "plt.figure(figsize=(10,10))\n",
    "\n",
    "plt.plot([5*i for i in range(19)], accum, label=\"Normalized accumulated time\")\n",
    "plt.plot([5*i for i in range(19)], response_time, label=\"Normalized response time\")\n",
    "plt.plot([5*i for i in range(19)], avg_time_gap,label=\"Normalized average time gap\")\n",
    "plt.xlabel(\"latitude [°]\")\n",
    "plt.legend(loc=1)\n",
    "plt.grid()\n",
    "\n",
    "\n",
    "\n"
   ]
  },
  {
   "cell_type": "code",
   "execution_count": 117,
   "id": "32a36a36",
   "metadata": {},
   "outputs": [],
   "source": [
    "roll_covs = []\n",
    "angles = np.linspace(0,30,30)\n"
   ]
  },
  {
   "cell_type": "code",
   "execution_count": 118,
   "id": "43264ab6",
   "metadata": {},
   "outputs": [
    {
     "name": "stdout",
     "output_type": "stream",
     "text": [
      "target 10.00° 65.00°. 1 of 1\n",
      "target 10.00° 65.00°. 1 of 1\n",
      "target 10.00° 65.00°. 1 of 1\n",
      "target 10.00° 65.00°. 1 of 1\n",
      "target 10.00° 65.00°. 1 of 1\n",
      "target 10.00° 65.00°. 1 of 1\n",
      "target 10.00° 65.00°. 1 of 1\n",
      "target 10.00° 65.00°. 1 of 1\n",
      "target 10.00° 65.00°. 1 of 1\n",
      "target 10.00° 65.00°. 1 of 1\n",
      "target 10.00° 65.00°. 1 of 1\n",
      "target 10.00° 65.00°. 1 of 1\n",
      "target 10.00° 65.00°. 1 of 1\n",
      "target 10.00° 65.00°. 1 of 1\n",
      "target 10.00° 65.00°. 1 of 1\n",
      "target 10.00° 65.00°. 1 of 1\n",
      "target 10.00° 65.00°. 1 of 1\n",
      "target 10.00° 65.00°. 1 of 1\n",
      "target 10.00° 65.00°. 1 of 1\n",
      "target 10.00° 65.00°. 1 of 1\n",
      "target 10.00° 65.00°. 1 of 1\n",
      "target 10.00° 65.00°. 1 of 1\n",
      "target 10.00° 65.00°. 1 of 1\n",
      "target 10.00° 65.00°. 1 of 1\n",
      "target 10.00° 65.00°. 1 of 1\n",
      "target 10.00° 65.00°. 1 of 1\n",
      "target 10.00° 65.00°. 1 of 1\n",
      "target 10.00° 65.00°. 1 of 1\n",
      "target 10.00° 65.00°. 1 of 1\n",
      "target 10.00° 65.00°. 1 of 1\n"
     ]
    }
   ],
   "source": [
    "for angle in angles:\n",
    "    rollcam = RollCamera(15*u.deg,angle*u.deg)\n",
    "    sat.update_instruments(rollcam,f=True)\n",
    "    roll_covs.append(Coverages.from_sat(sat, Target(10,65), 20, dt=7, J2=True))\n"
   ]
  },
  {
   "cell_type": "code",
   "execution_count": 120,
   "id": "c5d5ca66",
   "metadata": {},
   "outputs": [],
   "source": [
    "roll_covs_df = [r.to_df() for r in roll_covs]\n",
    "accums = np.array([r['accumulated'].values for r in roll_covs_df])\n",
    "accums /= max(accums)\n",
    "\n",
    "response_time = np.array([r['response time'].values for r in roll_covs_df])\n",
    "response_time /= max(response_time)\n",
    "\n",
    "revisit = np.array([r['mean gap dark'].values for r in roll_covs_df])\n",
    "revisit /= max(revisit)"
   ]
  },
  {
   "cell_type": "code",
   "execution_count": 110,
   "id": "ab5fa9a9",
   "metadata": {},
   "outputs": [
    {
     "data": {
      "text/plain": [
       "(8, 1)"
      ]
     },
     "execution_count": 110,
     "metadata": {},
     "output_type": "execute_result"
    }
   ],
   "source": []
  },
  {
   "cell_type": "code",
   "execution_count": 131,
   "id": "50e96f68",
   "metadata": {},
   "outputs": [],
   "source": [
    "plt.figure(figsize=(10,10))\n",
    "\n",
    "plt.plot(angles,accums.reshape(30,), label=\"Normalized accumulated time\"\n",
    ")\n",
    "plt.plot(angles,response_time.reshape(30,), label=\"Normalized response time\"\n",
    ")\n",
    "plt.plot(angles,revisit.reshape(30,),label=\"Normalized average time gap\" )\n",
    "plt.legend(loc=1)\n",
    "plt.xlabel(\"Maximum roll angle [°]\")\n",
    "plt.grid()"
   ]
  },
  {
   "cell_type": "code",
   "execution_count": 106,
   "id": "7ed68b06",
   "metadata": {},
   "outputs": [
    {
     "data": {
      "text/plain": [
       "array([0.056365030674846626, 0.09675357873210634, 0.15414110429447853,\n",
       "       0.22929447852760737, 0.33320552147239263, 0.4730316973415133,\n",
       "       0.6802147239263804, 1.0], dtype=object)"
      ]
     },
     "execution_count": 106,
     "metadata": {},
     "output_type": "execute_result"
    }
   ],
   "source": []
  }
 ],
 "metadata": {
  "kernelspec": {
   "display_name": "Python 3",
   "language": "python",
   "name": "python3"
  },
  "language_info": {
   "codemirror_mode": {
    "name": "ipython",
    "version": 3
   },
   "file_extension": ".py",
   "mimetype": "text/x-python",
   "name": "python",
   "nbconvert_exporter": "python",
   "pygments_lexer": "ipython3",
   "version": "3.8.5"
  }
 },
 "nbformat": 4,
 "nbformat_minor": 5
}
