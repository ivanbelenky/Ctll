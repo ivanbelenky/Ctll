{
 "cells": [
  {
   "cell_type": "code",
   "execution_count": 1,
   "id": "f23b2594",
   "metadata": {},
   "outputs": [
    {
     "name": "stderr",
     "output_type": "stream",
     "text": [
      "WARNING: AstropyDeprecationWarning: The private astropy._erfa module has been made into its own package, pyerfa, which is a dependency of astropy and can be imported directly using \"import erfa\" [astropy._erfa]\n"
     ]
    }
   ],
   "source": [
    "import sys\n",
    "import os\n",
    "sys.path.insert(0, os.path.abspath('../'))\n",
    "\n",
    "import CtllDes \n",
    "from CtllDes.core import ctll, satellite\n"
   ]
  },
  {
   "cell_type": "code",
   "execution_count": 2,
   "id": "63eba02c",
   "metadata": {},
   "outputs": [],
   "source": [
    "import matplotlib.pyplot as plt\n",
    "import numpy as np\n",
    "import pandas as pd\n",
    "import astropy as astr\n",
    "import astropy.units as u\n",
    "import astropy"
   ]
  },
  {
   "cell_type": "code",
   "execution_count": 3,
   "id": "e5f5f8fd",
   "metadata": {},
   "outputs": [],
   "source": [
    "from poliastro.bodies import Earth, Sun\n",
    "from poliastro.frames import Planes\n",
    "from poliastro.constants import J2000\n",
    "from poliastro.ephem import Ephem"
   ]
  },
  {
   "cell_type": "markdown",
   "id": "52135c07",
   "metadata": {},
   "source": [
    "# Define a function using poliastro utilities in order to obtain the sun-earth vector\n",
    "this could be added to the library if needed, but I don't think is appropriate since every utility comes from poliastro and astropy libraries."
   ]
  },
  {
   "cell_type": "markdown",
   "id": "2401d9ee",
   "metadata": {},
   "source": [
    "# Defining specifications and parameters constraints"
   ]
  },
  {
   "cell_type": "markdown",
   "id": "0ef3f841",
   "metadata": {},
   "source": [
    "## <strong>Instruments</strong>"
   ]
  },
  {
   "cell_type": "code",
   "execution_count": 4,
   "id": "f4c5a215",
   "metadata": {},
   "outputs": [],
   "source": [
    "import CtllDes.core.instrument as instr"
   ]
  },
  {
   "cell_type": "code",
   "execution_count": 5,
   "id": "d6574bbd",
   "metadata": {},
   "outputs": [],
   "source": [
    "ROLL_ANGLE = 30*u.deg"
   ]
  },
  {
   "cell_type": "markdown",
   "id": "990a0cbf",
   "metadata": {},
   "source": [
    "### 1st instrument"
   ]
  },
  {
   "cell_type": "code",
   "execution_count": 6,
   "id": "b172078d",
   "metadata": {},
   "outputs": [],
   "source": [
    "pixel_width_1 = 28*1E-6*u.m\n",
    "n_pixels_1 = 3072\n",
    "sensor_width_1 = n_pixels_1*pixel_width_1\n",
    "f_length_1 = 17*1E-2*u.m"
   ]
  },
  {
   "cell_type": "code",
   "execution_count": 7,
   "id": "52f9d875",
   "metadata": {},
   "outputs": [],
   "source": [
    "instr_1 = instr.RollCamera(f_length_1, sensor_width_1, ROLL_ANGLE)"
   ]
  },
  {
   "cell_type": "markdown",
   "id": "37a70c53",
   "metadata": {},
   "source": [
    "### 2nd instrument "
   ]
  },
  {
   "cell_type": "code",
   "execution_count": 8,
   "id": "c3e9b9ec",
   "metadata": {},
   "outputs": [],
   "source": [
    "pixel_width_2 = 7*1E-6*u.m\n",
    "n_pixels_2 = 12288\n",
    "sensor_width_2 = n_pixels_2*pixel_width_2\n",
    "f_length_2 = 4.2*u.m"
   ]
  },
  {
   "cell_type": "code",
   "execution_count": 9,
   "id": "5cb41993",
   "metadata": {},
   "outputs": [],
   "source": [
    "instr_2 = instr.RollCamera(f_length_2, sensor_width_2, ROLL_ANGLE)"
   ]
  },
  {
   "cell_type": "markdown",
   "id": "9c99b295",
   "metadata": {},
   "source": [
    "## <strong>Targets</strong>"
   ]
  },
  {
   "cell_type": "code",
   "execution_count": 10,
   "id": "c8aadde9",
   "metadata": {},
   "outputs": [],
   "source": [
    "from CtllDes.targets.targets import Target, Targets"
   ]
  },
  {
   "cell_type": "markdown",
   "id": "7ce9d829",
   "metadata": {},
   "source": [
    "### 1st instrument targets"
   ]
  },
  {
   "cell_type": "code",
   "execution_count": 11,
   "id": "a68e77ff",
   "metadata": {},
   "outputs": [],
   "source": [
    "bs_as = Targets.from_state(\"Buenos Aires\", N=8)\n",
    "rio_negro = Targets.from_state(\"Río Negro\", N=11)"
   ]
  },
  {
   "cell_type": "markdown",
   "id": "bb189449",
   "metadata": {},
   "source": [
    "### 2nd instrument targets"
   ]
  },
  {
   "cell_type": "code",
   "execution_count": 12,
   "id": "c72b4558",
   "metadata": {},
   "outputs": [],
   "source": [
    "gba = Targets.from_state(\"Ciudad de Buenos Aires\", N=8) \n",
    "cordoba_city = Target.from_city('Córdoba',country='AR')\n",
    "rosario_city = Target.from_city('Rosario',country='AR')"
   ]
  },
  {
   "cell_type": "markdown",
   "id": "d8be8736",
   "metadata": {},
   "source": [
    "### <strong>Ground Stations</strong>"
   ]
  },
  {
   "cell_type": "code",
   "execution_count": 13,
   "id": "efc2b66c",
   "metadata": {},
   "outputs": [],
   "source": [
    "MIN_ELEVATION = 15*u.deg\n",
    "DOWN_RATE = 300*1E6*u.bit/u.s"
   ]
  },
  {
   "cell_type": "code",
   "execution_count": 14,
   "id": "7bb3f328",
   "metadata": {},
   "outputs": [],
   "source": [
    "gs_1 = Target(-64.45, -31.58333)\n",
    "gs_2 = Target(-58.718, -34.411)"
   ]
  },
  {
   "cell_type": "code",
   "execution_count": 15,
   "id": "58cad369",
   "metadata": {},
   "outputs": [
    {
     "data": {
      "text/plain": [
       "<matplotlib.legend.Legend at 0x7f01979f4e50>"
      ]
     },
     "execution_count": 15,
     "metadata": {},
     "output_type": "execute_result"
    },
    {
     "data": {
      "image/png": "[encoded data removed]",
      "text/plain": [
       "<Figure size 1440x720 with 1 Axes>"
      ]
     },
     "metadata": {
      "needs_background": "light"
     },
     "output_type": "display_data"
    }
   ],
   "source": [
    "fig = plt.figure(figsize=(20,10))\n",
    "plt.grid()\n",
    "\n",
    "plt.scatter(gba.lons,gba.lats,s=50,label='Ciudad Autónoma de Buenos Aires')\n",
    "plt.scatter(cordoba_city.lon,cordoba_city.lat,label='Cordoba')\n",
    "plt.scatter(rosario_city.lon,rosario_city.lat,label='Rosario')\n",
    "\n",
    "\n",
    "plt.scatter(bs_as.lons,bs_as.lats,s=50,label='Buenos Aires')\n",
    "plt.scatter(rio_negro.lons,rio_negro.lats,s=50,label='Río Negro')\n",
    "\n",
    "plt.legend(loc=2)"
   ]
  },
  {
   "cell_type": "markdown",
   "id": "62eb74ba",
   "metadata": {},
   "source": [
    "### <strong>Orbits</strong>"
   ]
  },
  {
   "cell_type": "code",
   "execution_count": 16,
   "id": "c9407f3b",
   "metadata": {},
   "outputs": [],
   "source": [
    "H_MIN = 550*u.km\n",
    "H_MAX = 650*u.km\n",
    "MAX_INC = 45*u.deg\n",
    "\n",
    "R = Earth.R_mean.to(u.km)\n",
    "\n",
    "R_MIN = R + H_MIN\n",
    "R_MAX = R + H_MAX"
   ]
  },
  {
   "cell_type": "code",
   "execution_count": 17,
   "id": "ea99ee4e",
   "metadata": {},
   "outputs": [
    {
     "data": {
      "text/html": [
       "<div>\n",
       "<style scoped>\n",
       "    .dataframe tbody tr th:only-of-type {\n",
       "        vertical-align: middle;\n",
       "    }\n",
       "\n",
       "    .dataframe tbody tr th {\n",
       "        vertical-align: top;\n",
       "    }\n",
       "\n",
       "    .dataframe thead th {\n",
       "        text-align: right;\n",
       "    }\n",
       "</style>\n",
       "<table border=\"1\" class=\"dataframe\">\n",
       "  <thead>\n",
       "    <tr style=\"text-align: right;\">\n",
       "      <th></th>\n",
       "      <th>radius</th>\n",
       "      <th>inc</th>\n",
       "      <th>N</th>\n",
       "    </tr>\n",
       "  </thead>\n",
       "  <tbody>\n",
       "    <tr>\n",
       "      <th>0</th>\n",
       "      <td>11549.628629</td>\n",
       "      <td>142.101524</td>\n",
       "      <td>7.000000</td>\n",
       "    </tr>\n",
       "    <tr>\n",
       "      <th>1</th>\n",
       "      <td>11196.684826</td>\n",
       "      <td>135.067101</td>\n",
       "      <td>7.333333</td>\n",
       "    </tr>\n",
       "    <tr>\n",
       "      <th>2</th>\n",
       "      <td>10869.554031</td>\n",
       "      <td>129.657165</td>\n",
       "      <td>7.666667</td>\n",
       "    </tr>\n",
       "    <tr>\n",
       "      <th>3</th>\n",
       "      <td>10565.337007</td>\n",
       "      <td>125.300767</td>\n",
       "      <td>8.000000</td>\n",
       "    </tr>\n",
       "    <tr>\n",
       "      <th>4</th>\n",
       "      <td>10281.565346</td>\n",
       "      <td>121.693395</td>\n",
       "      <td>8.333333</td>\n",
       "    </tr>\n",
       "  </tbody>\n",
       "</table>\n",
       "</div>"
      ],
      "text/plain": [
       "         radius         inc         N\n",
       "0  11549.628629  142.101524  7.000000\n",
       "1  11196.684826  135.067101  7.333333\n",
       "2  10869.554031  129.657165  7.666667\n",
       "3  10565.337007  125.300767  8.000000\n",
       "4  10281.565346  121.693395  8.333333"
      ]
     },
     "execution_count": 17,
     "metadata": {},
     "output_type": "execute_result"
    }
   ],
   "source": [
    "from CtllDes.utils import sscalc\n",
    "\n",
    "D = 3 #days for revisit\n",
    "orb_df = sscalc.helio_rgt_synchronous(D) #dataframe\n",
    "orb_df.head() #radius [km], inclination [degrees], revolutions per day."
   ]
  },
  {
   "cell_type": "code",
   "execution_count": 18,
   "id": "9076e4e4",
   "metadata": {},
   "outputs": [
    {
     "data": {
      "text/html": [
       "<div>\n",
       "<style scoped>\n",
       "    .dataframe tbody tr th:only-of-type {\n",
       "        vertical-align: middle;\n",
       "    }\n",
       "\n",
       "    .dataframe tbody tr th {\n",
       "        vertical-align: top;\n",
       "    }\n",
       "\n",
       "    .dataframe thead th {\n",
       "        text-align: right;\n",
       "    }\n",
       "</style>\n",
       "<table border=\"1\" class=\"dataframe\">\n",
       "  <thead>\n",
       "    <tr style=\"text-align: right;\">\n",
       "      <th></th>\n",
       "      <th>radius</th>\n",
       "      <th>inc</th>\n",
       "      <th>N</th>\n",
       "    </tr>\n",
       "  </thead>\n",
       "  <tbody>\n",
       "    <tr>\n",
       "      <th>24</th>\n",
       "      <td>6947.854468</td>\n",
       "      <td>97.66328</td>\n",
       "      <td>15.0</td>\n",
       "    </tr>\n",
       "  </tbody>\n",
       "</table>\n",
       "</div>"
      ],
      "text/plain": [
       "         radius       inc     N\n",
       "24  6947.854468  97.66328  15.0"
      ]
     },
     "execution_count": 18,
     "metadata": {},
     "output_type": "execute_result"
    }
   ],
   "source": [
    "filtered_orbits  = orb_df.loc[(orb_df['radius'] > R_MIN.value) & (orb_df['radius'] < R_MAX.value)]\n",
    "filtered_orbits"
   ]
  },
  {
   "cell_type": "markdown",
   "id": "18ed3a33",
   "metadata": {},
   "source": [
    "### Extract semi major axis length = to radius, and inclination."
   ]
  },
  {
   "cell_type": "code",
   "execution_count": 19,
   "id": "2083a1c9",
   "metadata": {},
   "outputs": [
    {
     "data": {
      "text/latex": [
       "$6947.8545 \\; \\mathrm{km}$"
      ],
      "text/plain": [
       "<Quantity 6947.85446754 km>"
      ]
     },
     "execution_count": 19,
     "metadata": {},
     "output_type": "execute_result"
    }
   ],
   "source": [
    "a = filtered_orbits['radius'].values[0]\n",
    "a *= u.km\n",
    "a"
   ]
  },
  {
   "cell_type": "code",
   "execution_count": 20,
   "id": "63331917",
   "metadata": {},
   "outputs": [
    {
     "data": {
      "text/latex": [
       "$97.66328 \\; \\mathrm{{}^{\\circ}}$"
      ],
      "text/plain": [
       "<Quantity 97.66328018 deg>"
      ]
     },
     "execution_count": 20,
     "metadata": {},
     "output_type": "execute_result"
    }
   ],
   "source": [
    "inc = filtered_orbits['inc'].values[0]\n",
    "inc *= u.deg\n",
    "inc"
   ]
  },
  {
   "cell_type": "markdown",
   "id": "2bb1ee16",
   "metadata": {},
   "source": [
    "### Define the rest of the classical orbit parameters"
   ]
  },
  {
   "cell_type": "code",
   "execution_count": 21,
   "id": "f7c2dc7d",
   "metadata": {},
   "outputs": [],
   "source": [
    "ecc = 0*u.one\n",
    "raan = 0*u.deg # right ascencion of the ascending node [angle]\n",
    "argp = 0*u.rad # perigee argument [angle]\n",
    "nu = 0*u.deg # true anomaly [angle] defined as -180 so that it coincides with LTDN"
   ]
  },
  {
   "cell_type": "markdown",
   "id": "fdc73540",
   "metadata": {},
   "source": [
    "### Build orbit"
   ]
  },
  {
   "cell_type": "code",
   "execution_count": 22,
   "id": "dcaecfc9",
   "metadata": {},
   "outputs": [],
   "source": [
    "from poliastro.twobody import Orbit\n",
    "\n",
    "orb = Orbit.from_classical(Earth,\n",
    "                            a,\n",
    "                            ecc,\n",
    "                            inc,\n",
    "                            raan,\n",
    "                            argp,\n",
    "                            nu)"
   ]
  },
  {
   "cell_type": "code",
   "execution_count": 23,
   "id": "cd7719ce",
   "metadata": {},
   "outputs": [
    {
     "name": "stdout",
     "output_type": "stream",
     "text": [
      "[6947.85446754    0.            0.        ] km\n",
      "[ 0.         -1.01004329  7.50667069] km / s\n"
     ]
    }
   ],
   "source": [
    "print(orb.r)\n",
    "print(orb.v)"
   ]
  },
  {
   "cell_type": "code",
   "execution_count": 24,
   "id": "ed689b40",
   "metadata": {},
   "outputs": [],
   "source": [
    "sat = satellite.Sat.from_orbit(orb)"
   ]
  },
  {
   "cell_type": "code",
   "execution_count": 25,
   "id": "59c98a29",
   "metadata": {},
   "outputs": [
    {
     "data": {
      "text/plain": [
       "<matplotlib.legend.Legend at 0x7f0196615ca0>"
      ]
     },
     "execution_count": 25,
     "metadata": {},
     "output_type": "execute_result"
    },
    {
     "data": {
      "image/png": "[encoded data removed]",
      "text/plain": [
       "<Figure size 432x288 with 1 Axes>"
      ]
     },
     "metadata": {
      "needs_background": "light"
     },
     "output_type": "display_data"
    }
   ],
   "source": [
    "r,v = sat.rv(10,dt=50,J2=True)\n",
    "lon,lat = sat.ssps_from_r(r,10,dt=50,J2=True)\n",
    "plt.scatter(lon,lat,s=0.1,c='orange')\n",
    "plt.scatter(cordoba_city.lon*u.deg.to(u.rad) + 180*u.deg.to(u.rad), cordoba_city.lat*u.deg.to(u.rad),marker='+',label='Córdoba',s=100)\n",
    "plt.legend(loc=1)"
   ]
  },
  {
   "cell_type": "markdown",
   "id": "bae187a5-a683-45bc-ba5d-86e569f5333a",
   "metadata": {},
   "source": [
    "Lets redefine the angle such that LTDN is 12 o'clock solar time "
   ]
  },
  {
   "cell_type": "code",
   "execution_count": 26,
   "id": "9380f453",
   "metadata": {},
   "outputs": [
    {
     "data": {
      "text/latex": [
       "$-79.42946 \\; \\mathrm{{}^{\\circ}}$"
      ],
      "text/plain": [
       "<Quantity -79.42945987 deg>"
      ]
     },
     "execution_count": 26,
     "metadata": {},
     "output_type": "execute_result"
    }
   ],
   "source": [
    "from CtllDes.utils import trigsf, angles\n",
    "\n",
    "today = astropy.time.Time({'year': 2021, 'month': 12, 'day': 31,'hour': 12, 'minute': 0, 'second': 0}, scale='utc')\n",
    "earth_orb = Ephem.from_body(Sun, today.tdb, attractor=Earth)\n",
    "r0_sun = earth_orb.rv()[0][0].to(u.km)\n",
    "rr0_sun, lat0_sun, lon0_sun = trigsf.c2s(r0_sun[0],r0_sun[1],r0_sun[2])\n",
    "lon0_sun.to(u.deg)"
   ]
  },
  {
   "cell_type": "markdown",
   "id": "38b5e1da-ac79-4b2f-a9f7-e39b75f7817e",
   "metadata": {},
   "source": [
    "### So the initial raan of the satellite orbit must be such that when $\\theta_p+\\nu=180\\text{°}$ the longitude value in the inertial reference frame is exactly the same as the sun. Therefore"
   ]
  },
  {
   "cell_type": "code",
   "execution_count": 27,
   "id": "c36efdea-445c-41f1-8af2-9ff4dd4c3ce2",
   "metadata": {},
   "outputs": [
    {
     "name": "stderr",
     "output_type": "stream",
     "text": [
      "/home/vancii/.local/lib/python3.8/site-packages/astropy/units/decorators.py:251: UserWarning: Wrapping true anomaly to -π <= nu < π\n",
      "  return_ = wrapped_function(*func_args, **func_kwargs)\n"
     ]
    },
    {
     "data": {
      "text/latex": [
       "$180 \\; \\mathrm{{}^{\\circ}}$"
      ],
      "text/plain": [
       "<Quantity 180. deg>"
      ]
     },
     "execution_count": 27,
     "metadata": {},
     "output_type": "execute_result"
    }
   ],
   "source": [
    "argp = 0*u.deg\n",
    "nu = 180*u.deg - argp\n",
    "\n",
    "orb = Orbit.from_classical(Earth, a, ecc, inc, raan, argp, nu)\n",
    "r0_sat = orb.r\n",
    "rr0_sat, lat0_sat, lon0_sat = trigsf.c2s(r0_sat[0],r0_sat[1],r0_sat[2])\n",
    "lon0_sat.to(u.deg)"
   ]
  },
  {
   "cell_type": "markdown",
   "id": "a4aad4ea-3843-41a4-8421-b7ecf10c53a1",
   "metadata": {},
   "source": [
    "### Naturally the initial longitude, if raan is 0 must be the exactly $\\nu$, therefore modifying raan by $lon(sun_0)-180°$ we get"
   ]
  },
  {
   "cell_type": "code",
   "execution_count": 28,
   "id": "dfb34216-7462-4498-9bd3-e99500c5e57a",
   "metadata": {},
   "outputs": [
    {
     "data": {
      "text/latex": [
       "$-79.42946 \\; \\mathrm{{}^{\\circ}}$"
      ],
      "text/plain": [
       "<Quantity -79.42945987 deg>"
      ]
     },
     "execution_count": 28,
     "metadata": {},
     "output_type": "execute_result"
    }
   ],
   "source": [
    "raan = lon0_sun-180*u.deg\n",
    "orb = Orbit.from_classical(Earth, a, ecc, inc, raan, argp, nu)\n",
    "new_r0_sat = orb.r\n",
    "_, _, lon0_sat = trigsf.c2s(new_r0_sat[0],new_r0_sat[1],new_r0_sat[2])\n",
    "lon0_sat.to(u.deg)"
   ]
  },
  {
   "cell_type": "code",
   "execution_count": 39,
   "id": "5d183d8c-7378-40be-9b50-a6b13017b72d",
   "metadata": {},
   "outputs": [],
   "source": [
    "#this has to change names, is not passage raan, is passage offset. \n",
    "cordoba_offset = angles.get_passage_raan(sat, (cordoba_city.lon*u.deg).to(u.rad),(cordoba_city.lat*u.deg).to(u.rad))"
   ]
  },
  {
   "cell_type": "code",
   "execution_count": 41,
   "id": "702a2d5d",
   "metadata": {},
   "outputs": [
    {
     "data": {
      "text/plain": [
       "<matplotlib.legend.Legend at 0x7f01935f26d0>"
      ]
     },
     "execution_count": 41,
     "metadata": {},
     "output_type": "execute_result"
    },
    {
     "data": {
      "image/png": "[encoded data removed]",
      "text/plain": [
       "<Figure size 432x288 with 1 Axes>"
      ]
     },
     "metadata": {
      "needs_background": "light"
     },
     "output_type": "display_data"
    }
   ],
   "source": [
    "sat = satellite.Sat.from_orbit(orb)\n",
    "r,v = sat.rv(11,dt=50,J2=True)\n",
    "lon,lat = sat.ssps_from_r(r,11,dt=50,lon_offset=cordoba_offset,J2=True)\n",
    "plt.scatter(lon,lat,s=0.1,c='orange')\n",
    "plt.scatter(cordoba_city.lon*u.deg.to(u.rad) + 180*u.deg.to(u.rad), cordoba_city.lat*u.deg.to(u.rad),marker='+',label='Córdoba',s=100)\n",
    "plt.legend(loc=1)"
   ]
  },
  {
   "cell_type": "markdown",
   "id": "4dc7a352-caa2-47f2-ba3a-27615ee95075",
   "metadata": {},
   "source": [
    "## Definitive first reference sat"
   ]
  },
  {
   "cell_type": "code",
   "execution_count": 42,
   "id": "ecd808e8-2902-4f27-af5e-ceff935a34de",
   "metadata": {},
   "outputs": [],
   "source": [
    "ctll_hrgt = ctll.Ctll.from_WalkerDelta(4, 1, 0, orb.a, orb.ecc, orb.inc, orb.argp, raan_offset=orb.raan, nu_offset=nu, instruments=instr_1)"
   ]
  },
  {
   "cell_type": "code",
   "execution_count": 43,
   "id": "a97e5c27-8f11-43c9-a235-ed18e70bb2cb",
   "metadata": {},
   "outputs": [],
   "source": [
    "from CtllDes.requests.coverage import Coverages "
   ]
  },
  {
   "cell_type": "markdown",
   "id": "194427dc-f741-4e4a-adc6-ad80771eddc3",
   "metadata": {},
   "source": [
    "## Define time of study and time interval, i.e T=10, dt=20"
   ]
  },
  {
   "cell_type": "code",
   "execution_count": 44,
   "id": "702fbf62-5147-46bd-9259-b23bcffa3bde",
   "metadata": {},
   "outputs": [],
   "source": [
    "T=10\n",
    "ti=20"
   ]
  },
  {
   "cell_type": "code",
   "execution_count": 34,
   "id": "6ec04b5f-130d-46dc-a6f6-b5bebea0c37e",
   "metadata": {},
   "outputs": [],
   "source": [
    "from CtllDes.utils import sunearth\n",
    "rsun = sunearth.bodies_vector(T, ti, Earth, Sun, epoch=today)"
   ]
  },
  {
   "cell_type": "markdown",
   "id": "7466f304-9d1e-4035-9dbf-54081f7cdc27",
   "metadata": {},
   "source": [
    "### Instrument 1 targets, that is Buenos Aires and Río Negro."
   ]
  },
  {
   "cell_type": "code",
   "execution_count": null,
   "id": "dabc7dc3-9097-44bf-8f00-f8b5f2373a09",
   "metadata": {},
   "outputs": [],
   "source": [
    "cov_cordoba = Coverages.from_ctll(ctll_hrgt, cordoba_city, T, dt=ti, r_sun=rsun, lon_offset=cordoba_offset, J2=True)"
   ]
  },
  {
   "cell_type": "code",
   "execution_count": 46,
   "id": "8a23afa2-35ba-4470-9ac7-7650bf910a5b",
   "metadata": {},
   "outputs": [
    {
     "data": {
      "text/html": [
       "<div>\n",
       "<style scoped>\n",
       "    .dataframe tbody tr th:only-of-type {\n",
       "        vertical-align: middle;\n",
       "    }\n",
       "\n",
       "    .dataframe tbody tr th {\n",
       "        vertical-align: top;\n",
       "    }\n",
       "\n",
       "    .dataframe thead th {\n",
       "        text-align: right;\n",
       "    }\n",
       "</style>\n",
       "<table border=\"1\" class=\"dataframe\">\n",
       "  <thead>\n",
       "    <tr style=\"text-align: right;\">\n",
       "      <th></th>\n",
       "      <th>T</th>\n",
       "      <th>dt</th>\n",
       "      <th>Satellite ID</th>\n",
       "      <th>Target</th>\n",
       "      <th>accumulated</th>\n",
       "      <th>mean gap light</th>\n",
       "      <th>mean gap dark</th>\n",
       "      <th>response time</th>\n",
       "      <th>average time gap</th>\n",
       "      <th>max gap</th>\n",
       "      <th>sun angle</th>\n",
       "    </tr>\n",
       "  </thead>\n",
       "  <tbody>\n",
       "    <tr>\n",
       "      <th>0</th>\n",
       "      <td>10</td>\n",
       "      <td>20</td>\n",
       "      <td>39e95b77-935c-4824-b9d9-2d4afd5569a6</td>\n",
       "      <td>(-64.1833, -31.4167)</td>\n",
       "      <td>1600</td>\n",
       "      <td>160.000000</td>\n",
       "      <td>78400.000000</td>\n",
       "      <td>42826.368519</td>\n",
       "      <td>85632.774074</td>\n",
       "      <td>86240</td>\n",
       "      <td>[0.40282662371844136 rad, 0.3811927262223308 r...</td>\n",
       "    </tr>\n",
       "    <tr>\n",
       "      <th>1</th>\n",
       "      <td>10</td>\n",
       "      <td>20</td>\n",
       "      <td>505f3616-9651-4975-8510-11eb68988dc4</td>\n",
       "      <td>(-64.1833, -31.4167)</td>\n",
       "      <td>1400</td>\n",
       "      <td>127.272727</td>\n",
       "      <td>71883.333333</td>\n",
       "      <td>38987.940278</td>\n",
       "      <td>77955.912963</td>\n",
       "      <td>87680</td>\n",
       "      <td>[1.171790948548558 rad, 1.1935950432498674 rad...</td>\n",
       "    </tr>\n",
       "    <tr>\n",
       "      <th>2</th>\n",
       "      <td>10</td>\n",
       "      <td>20</td>\n",
       "      <td>c5aa1cff-0c37-4c2a-9a51-1666094828af</td>\n",
       "      <td>(-64.1833, -31.4167)</td>\n",
       "      <td>1680</td>\n",
       "      <td>168.000000</td>\n",
       "      <td>78392.727273</td>\n",
       "      <td>40885.384722</td>\n",
       "      <td>81750.808333</td>\n",
       "      <td>86220</td>\n",
       "      <td>[2.738766029871352 rad, 2.760399927362437 rad,...</td>\n",
       "    </tr>\n",
       "    <tr>\n",
       "      <th>3</th>\n",
       "      <td>10</td>\n",
       "      <td>20</td>\n",
       "      <td>b9ab93c5-062d-43a3-a277-2652239728e6</td>\n",
       "      <td>(-64.1833, -31.4167)</td>\n",
       "      <td>1480</td>\n",
       "      <td>134.545455</td>\n",
       "      <td>71876.666667</td>\n",
       "      <td>42866.380093</td>\n",
       "      <td>85712.794444</td>\n",
       "      <td>127660</td>\n",
       "      <td>[1.9698017050412353 rad, 1.9479976103305847 ra...</td>\n",
       "    </tr>\n",
       "  </tbody>\n",
       "</table>\n",
       "</div>"
      ],
      "text/plain": [
       "    T  dt                          Satellite ID                Target  \\\n",
       "0  10  20  39e95b77-935c-4824-b9d9-2d4afd5569a6  (-64.1833, -31.4167)   \n",
       "1  10  20  505f3616-9651-4975-8510-11eb68988dc4  (-64.1833, -31.4167)   \n",
       "2  10  20  c5aa1cff-0c37-4c2a-9a51-1666094828af  (-64.1833, -31.4167)   \n",
       "3  10  20  b9ab93c5-062d-43a3-a277-2652239728e6  (-64.1833, -31.4167)   \n",
       "\n",
       "  accumulated  mean gap light  mean gap dark  response time  average time gap  \\\n",
       "0        1600      160.000000   78400.000000   42826.368519      85632.774074   \n",
       "1        1400      127.272727   71883.333333   38987.940278      77955.912963   \n",
       "2        1680      168.000000   78392.727273   40885.384722      81750.808333   \n",
       "3        1480      134.545455   71876.666667   42866.380093      85712.794444   \n",
       "\n",
       "  max gap                                          sun angle  \n",
       "0   86240  [0.40282662371844136 rad, 0.3811927262223308 r...  \n",
       "1   87680  [1.171790948548558 rad, 1.1935950432498674 rad...  \n",
       "2   86220  [2.738766029871352 rad, 2.760399927362437 rad,...  \n",
       "3  127660  [1.9698017050412353 rad, 1.9479976103305847 ra...  "
      ]
     },
     "execution_count": 46,
     "metadata": {},
     "output_type": "execute_result"
    }
   ],
   "source": [
    "cov_cordoba.to_df()"
   ]
  },
  {
   "cell_type": "code",
   "execution_count": 70,
   "id": "03e3d7e0-06a8-41e7-bb72-11b6419d04a8",
   "metadata": {},
   "outputs": [
    {
     "name": "stderr",
     "output_type": "stream",
     "text": [
      "WARNING: AstropyDeprecationWarning: The truth value of a Quantity is ambiguous. In the future this will raise a ValueError. [astropy.units.quantity]\n"
     ]
    },
    {
     "data": {
      "text/html": [
       "<div>\n",
       "<style scoped>\n",
       "    .dataframe tbody tr th:only-of-type {\n",
       "        vertical-align: middle;\n",
       "    }\n",
       "\n",
       "    .dataframe tbody tr th {\n",
       "        vertical-align: top;\n",
       "    }\n",
       "\n",
       "    .dataframe thead th {\n",
       "        text-align: right;\n",
       "    }\n",
       "</style>\n",
       "<table border=\"1\" class=\"dataframe\">\n",
       "  <thead>\n",
       "    <tr style=\"text-align: right;\">\n",
       "      <th></th>\n",
       "      <th>T</th>\n",
       "      <th>dt</th>\n",
       "      <th>Satellite ID</th>\n",
       "      <th>Target</th>\n",
       "      <th>accumulated</th>\n",
       "      <th>mean gap light</th>\n",
       "      <th>mean gap dark</th>\n",
       "      <th>response time</th>\n",
       "      <th>average time gap</th>\n",
       "      <th>max gap</th>\n",
       "      <th>sun angle</th>\n",
       "    </tr>\n",
       "  </thead>\n",
       "  <tbody>\n",
       "    <tr>\n",
       "      <th>0</th>\n",
       "      <td>10</td>\n",
       "      <td>20</td>\n",
       "      <td>39e95b77-935c-4824-b9d9-2d4afd5569a6</td>\n",
       "      <td>(-64.1833, -31.4167)</td>\n",
       "      <td>0</td>\n",
       "      <td>0.0</td>\n",
       "      <td>864000.000000</td>\n",
       "      <td>432010.000000</td>\n",
       "      <td>864000.000000</td>\n",
       "      <td>864000</td>\n",
       "      <td>[0.40282662371844136 rad, 0.3811927262223308 r...</td>\n",
       "    </tr>\n",
       "    <tr>\n",
       "      <th>1</th>\n",
       "      <td>10</td>\n",
       "      <td>20</td>\n",
       "      <td>505f3616-9651-4975-8510-11eb68988dc4</td>\n",
       "      <td>(-64.1833, -31.4167)</td>\n",
       "      <td>180</td>\n",
       "      <td>90.0</td>\n",
       "      <td>287940.000000</td>\n",
       "      <td>316749.768519</td>\n",
       "      <td>633479.541204</td>\n",
       "      <td>733420</td>\n",
       "      <td>[1.171790948548558 rad, 1.1935950432498674 rad...</td>\n",
       "    </tr>\n",
       "    <tr>\n",
       "      <th>2</th>\n",
       "      <td>10</td>\n",
       "      <td>20</td>\n",
       "      <td>c5aa1cff-0c37-4c2a-9a51-1666094828af</td>\n",
       "      <td>(-64.1833, -31.4167)</td>\n",
       "      <td>1680</td>\n",
       "      <td>168.0</td>\n",
       "      <td>78392.727273</td>\n",
       "      <td>40885.384722</td>\n",
       "      <td>81750.808333</td>\n",
       "      <td>86220</td>\n",
       "      <td>[2.738766029871352 rad, 2.760399927362437 rad,...</td>\n",
       "    </tr>\n",
       "    <tr>\n",
       "      <th>3</th>\n",
       "      <td>10</td>\n",
       "      <td>20</td>\n",
       "      <td>b9ab93c5-062d-43a3-a277-2652239728e6</td>\n",
       "      <td>(-64.1833, -31.4167)</td>\n",
       "      <td>1260</td>\n",
       "      <td>140.0</td>\n",
       "      <td>86274.000000</td>\n",
       "      <td>45189.696296</td>\n",
       "      <td>90359.421759</td>\n",
       "      <td>127660</td>\n",
       "      <td>[1.9698017050412353 rad, 1.9479976103305847 ra...</td>\n",
       "    </tr>\n",
       "  </tbody>\n",
       "</table>\n",
       "</div>"
      ],
      "text/plain": [
       "    T  dt                          Satellite ID                Target  \\\n",
       "0  10  20  39e95b77-935c-4824-b9d9-2d4afd5569a6  (-64.1833, -31.4167)   \n",
       "1  10  20  505f3616-9651-4975-8510-11eb68988dc4  (-64.1833, -31.4167)   \n",
       "2  10  20  c5aa1cff-0c37-4c2a-9a51-1666094828af  (-64.1833, -31.4167)   \n",
       "3  10  20  b9ab93c5-062d-43a3-a277-2652239728e6  (-64.1833, -31.4167)   \n",
       "\n",
       "  accumulated  mean gap light  mean gap dark  response time  average time gap  \\\n",
       "0           0             0.0  864000.000000  432010.000000     864000.000000   \n",
       "1         180            90.0  287940.000000  316749.768519     633479.541204   \n",
       "2        1680           168.0   78392.727273   40885.384722      81750.808333   \n",
       "3        1260           140.0   86274.000000   45189.696296      90359.421759   \n",
       "\n",
       "  max gap                                          sun angle  \n",
       "0  864000  [0.40282662371844136 rad, 0.3811927262223308 r...  \n",
       "1  733420  [1.171790948548558 rad, 1.1935950432498674 rad...  \n",
       "2   86220  [2.738766029871352 rad, 2.760399927362437 rad,...  \n",
       "3  127660  [1.9698017050412353 rad, 1.9479976103305847 ra...  "
      ]
     },
     "execution_count": 70,
     "metadata": {},
     "output_type": "execute_result"
    }
   ],
   "source": [
    "filtered_cov_cordoba = cov_cordoba.filter_by_sun_angle(np.pi/4)\n",
    "filtered_cov_cordoba.to_df()"
   ]
  },
  {
   "cell_type": "code",
   "execution_count": 85,
   "id": "a07994ba-9e13-4a0a-bcbc-d168506aa003",
   "metadata": {},
   "outputs": [
    {
     "name": "stdout",
     "output_type": "stream",
     "text": [
      "Satellite 1 of 4\n"
     ]
    },
    {
     "name": "stderr",
     "output_type": "stream",
     "text": [
      "WARNING: AstropyDeprecationWarning: The truth value of a Quantity is ambiguous. In the future this will raise a ValueError. [astropy.units.quantity]\n"
     ]
    },
    {
     "name": "stdout",
     "output_type": "stream",
     "text": [
      "target -60.64° -32.96°. 1 of 1\n",
      "Satellite 2 of 4\n",
      "target -60.64° -32.96°. 1 of 1\n",
      "Satellite 3 of 4\n",
      "target -60.64° -32.96°. 1 of 1\n",
      "Satellite 4 of 4\n",
      "target -60.64° -32.96°. 1 of 1\n"
     ]
    },
    {
     "data": {
      "text/html": [
       "<div>\n",
       "<style scoped>\n",
       "    .dataframe tbody tr th:only-of-type {\n",
       "        vertical-align: middle;\n",
       "    }\n",
       "\n",
       "    .dataframe tbody tr th {\n",
       "        vertical-align: top;\n",
       "    }\n",
       "\n",
       "    .dataframe thead th {\n",
       "        text-align: right;\n",
       "    }\n",
       "</style>\n",
       "<table border=\"1\" class=\"dataframe\">\n",
       "  <thead>\n",
       "    <tr style=\"text-align: right;\">\n",
       "      <th></th>\n",
       "      <th>T</th>\n",
       "      <th>dt</th>\n",
       "      <th>Satellite ID</th>\n",
       "      <th>Target</th>\n",
       "      <th>accumulated</th>\n",
       "      <th>mean gap light</th>\n",
       "      <th>mean gap dark</th>\n",
       "      <th>response time</th>\n",
       "      <th>average time gap</th>\n",
       "      <th>max gap</th>\n",
       "      <th>sun angle</th>\n",
       "    </tr>\n",
       "  </thead>\n",
       "  <tbody>\n",
       "    <tr>\n",
       "      <th>0</th>\n",
       "      <td>10</td>\n",
       "      <td>20</td>\n",
       "      <td>39e95b77-935c-4824-b9d9-2d4afd5569a6</td>\n",
       "      <td>(-60.6394, -32.9575)</td>\n",
       "      <td>1840</td>\n",
       "      <td>131.428571</td>\n",
       "      <td>57477.333333</td>\n",
       "      <td>34422.767593</td>\n",
       "      <td>68825.577778</td>\n",
       "      <td>86300</td>\n",
       "      <td>[0.40282662371844136 rad, 0.38119385000034883 ...</td>\n",
       "    </tr>\n",
       "    <tr>\n",
       "      <th>1</th>\n",
       "      <td>10</td>\n",
       "      <td>20</td>\n",
       "      <td>505f3616-9651-4975-8510-11eb68988dc4</td>\n",
       "      <td>(-60.6394, -32.9575)</td>\n",
       "      <td>1740</td>\n",
       "      <td>124.285714</td>\n",
       "      <td>57484.000000</td>\n",
       "      <td>34503.519444</td>\n",
       "      <td>68987.079167</td>\n",
       "      <td>86320</td>\n",
       "      <td>[1.171790948548558 rad, 1.193595880193208 rad,...</td>\n",
       "    </tr>\n",
       "    <tr>\n",
       "      <th>2</th>\n",
       "      <td>10</td>\n",
       "      <td>20</td>\n",
       "      <td>c5aa1cff-0c37-4c2a-9a51-1666094828af</td>\n",
       "      <td>(-60.6394, -32.9575)</td>\n",
       "      <td>1140</td>\n",
       "      <td>126.666667</td>\n",
       "      <td>95873.333333</td>\n",
       "      <td>58044.725926</td>\n",
       "      <td>116069.478241</td>\n",
       "      <td>215020</td>\n",
       "      <td>[2.738766029871352 rad, 2.760398803594732 rad,...</td>\n",
       "    </tr>\n",
       "    <tr>\n",
       "      <th>3</th>\n",
       "      <td>10</td>\n",
       "      <td>20</td>\n",
       "      <td>b9ab93c5-062d-43a3-a277-2652239728e6</td>\n",
       "      <td>(-60.6394, -32.9575)</td>\n",
       "      <td>1200</td>\n",
       "      <td>133.333333</td>\n",
       "      <td>86280.000000</td>\n",
       "      <td>57971.216667</td>\n",
       "      <td>115922.461111</td>\n",
       "      <td>215000</td>\n",
       "      <td>[1.9698017050412353 rad, 1.947996773399435 rad...</td>\n",
       "    </tr>\n",
       "  </tbody>\n",
       "</table>\n",
       "</div>"
      ],
      "text/plain": [
       "    T  dt                          Satellite ID                Target  \\\n",
       "0  10  20  39e95b77-935c-4824-b9d9-2d4afd5569a6  (-60.6394, -32.9575)   \n",
       "1  10  20  505f3616-9651-4975-8510-11eb68988dc4  (-60.6394, -32.9575)   \n",
       "2  10  20  c5aa1cff-0c37-4c2a-9a51-1666094828af  (-60.6394, -32.9575)   \n",
       "3  10  20  b9ab93c5-062d-43a3-a277-2652239728e6  (-60.6394, -32.9575)   \n",
       "\n",
       "  accumulated  mean gap light  mean gap dark  response time  average time gap  \\\n",
       "0        1840      131.428571   57477.333333   34422.767593      68825.577778   \n",
       "1        1740      124.285714   57484.000000   34503.519444      68987.079167   \n",
       "2        1140      126.666667   95873.333333   58044.725926     116069.478241   \n",
       "3        1200      133.333333   86280.000000   57971.216667     115922.461111   \n",
       "\n",
       "  max gap                                          sun angle  \n",
       "0   86300  [0.40282662371844136 rad, 0.38119385000034883 ...  \n",
       "1   86320  [1.171790948548558 rad, 1.193595880193208 rad,...  \n",
       "2  215020  [2.738766029871352 rad, 2.760398803594732 rad,...  \n",
       "3  215000  [1.9698017050412353 rad, 1.947996773399435 rad...  "
      ]
     },
     "execution_count": 85,
     "metadata": {},
     "output_type": "execute_result"
    }
   ],
   "source": [
    "cov_rosario = Coverages.from_ctll(ctll_hrgt, rosario_city, T, dt=ti, r_sun=rsun, lon_offset=cordoba_offset)\n",
    "cov_rosario.to_df()"
   ]
  },
  {
   "cell_type": "code",
   "execution_count": 89,
   "id": "d64a7117-de86-4721-a38d-94fad5d60998",
   "metadata": {},
   "outputs": [
    {
     "data": {
      "text/html": [
       "<div>\n",
       "<style scoped>\n",
       "    .dataframe tbody tr th:only-of-type {\n",
       "        vertical-align: middle;\n",
       "    }\n",
       "\n",
       "    .dataframe tbody tr th {\n",
       "        vertical-align: top;\n",
       "    }\n",
       "\n",
       "    .dataframe thead th {\n",
       "        text-align: right;\n",
       "    }\n",
       "</style>\n",
       "<table border=\"1\" class=\"dataframe\">\n",
       "  <thead>\n",
       "    <tr style=\"text-align: right;\">\n",
       "      <th></th>\n",
       "      <th>T</th>\n",
       "      <th>dt</th>\n",
       "      <th>Satellite ID</th>\n",
       "      <th>Target</th>\n",
       "      <th>accumulated</th>\n",
       "      <th>mean gap light</th>\n",
       "      <th>mean gap dark</th>\n",
       "      <th>response time</th>\n",
       "      <th>average time gap</th>\n",
       "      <th>max gap</th>\n",
       "      <th>sun angle</th>\n",
       "    </tr>\n",
       "  </thead>\n",
       "  <tbody>\n",
       "    <tr>\n",
       "      <th>0</th>\n",
       "      <td>10</td>\n",
       "      <td>20</td>\n",
       "      <td></td>\n",
       "      <td>(-60.6394, -32.9575)</td>\n",
       "      <td>2860</td>\n",
       "      <td>130.0</td>\n",
       "      <td>37440.869565</td>\n",
       "      <td>39214.904167</td>\n",
       "      <td>78409.874537</td>\n",
       "      <td>84880</td>\n",
       "      <td>None</td>\n",
       "    </tr>\n",
       "  </tbody>\n",
       "</table>\n",
       "</div>"
      ],
      "text/plain": [
       "    T  dt Satellite ID                Target accumulated  mean gap light  \\\n",
       "0  10  20               (-60.6394, -32.9575)        2860           130.0   \n",
       "\n",
       "   mean gap dark  response time  average time gap max gap sun angle  \n",
       "0   37440.869565   39214.904167      78409.874537   84880      None  "
      ]
     },
     "execution_count": 89,
     "metadata": {},
     "output_type": "execute_result"
    }
   ],
   "source": [
    "cov_rosario_filtered = cov_rosario.filter_by_sun_angle(np.pi/4).collapse_sats()\n",
    "cov_rosario_filtered.to_df()"
   ]
  },
  {
   "cell_type": "code",
   "execution_count": null,
   "id": "020c7db5-6803-4ea9-8aa8-45ba481168d5",
   "metadata": {},
   "outputs": [],
   "source": [
    "cov_baires_ctll_hrgt = Coverages.from_ctll(ctll_hrgt, bs_as, T, dt=ti, r_sun=rsun, lon_offset=cordoba_offset, J2=True)"
   ]
  },
  {
   "cell_type": "code",
   "execution_count": 50,
   "id": "839275c4-1000-4296-8a81-e915610fda1a",
   "metadata": {},
   "outputs": [
    {
     "data": {
      "text/html": [
       "<div>\n",
       "<style scoped>\n",
       "    .dataframe tbody tr th:only-of-type {\n",
       "        vertical-align: middle;\n",
       "    }\n",
       "\n",
       "    .dataframe tbody tr th {\n",
       "        vertical-align: top;\n",
       "    }\n",
       "\n",
       "    .dataframe thead th {\n",
       "        text-align: right;\n",
       "    }\n",
       "</style>\n",
       "<table border=\"1\" class=\"dataframe\">\n",
       "  <thead>\n",
       "    <tr style=\"text-align: right;\">\n",
       "      <th></th>\n",
       "      <th>T</th>\n",
       "      <th>dt</th>\n",
       "      <th>Satellite ID</th>\n",
       "      <th>Target</th>\n",
       "      <th>accumulated</th>\n",
       "      <th>mean gap light</th>\n",
       "      <th>mean gap dark</th>\n",
       "      <th>response time</th>\n",
       "      <th>average time gap</th>\n",
       "      <th>max gap</th>\n",
       "      <th>sun angle</th>\n",
       "    </tr>\n",
       "  </thead>\n",
       "  <tbody>\n",
       "    <tr>\n",
       "      <th>0</th>\n",
       "      <td>10</td>\n",
       "      <td>20</td>\n",
       "      <td>39e95b77-935c-4824-b9d9-2d4afd5569a6</td>\n",
       "      <td>(-62.04402324091975, -38.8197478163978)</td>\n",
       "      <td>1600</td>\n",
       "      <td>160.000000</td>\n",
       "      <td>78400.000000</td>\n",
       "      <td>42837.740741</td>\n",
       "      <td>85655.518519</td>\n",
       "      <td>86240</td>\n",
       "      <td>[0.40282662371844136 rad, 0.3811927262223308 r...</td>\n",
       "    </tr>\n",
       "    <tr>\n",
       "      <th>1</th>\n",
       "      <td>10</td>\n",
       "      <td>20</td>\n",
       "      <td>39e95b77-935c-4824-b9d9-2d4afd5569a6</td>\n",
       "      <td>(-60.6992338529398, -38.8197478163978)</td>\n",
       "      <td>2040</td>\n",
       "      <td>107.368421</td>\n",
       "      <td>43098.000000</td>\n",
       "      <td>23663.189815</td>\n",
       "      <td>47306.426852</td>\n",
       "      <td>84180</td>\n",
       "      <td>[0.40282662371844136 rad, 0.3811927262223308 r...</td>\n",
       "    </tr>\n",
       "    <tr>\n",
       "      <th>2</th>\n",
       "      <td>10</td>\n",
       "      <td>20</td>\n",
       "      <td>39e95b77-935c-4824-b9d9-2d4afd5569a6</td>\n",
       "      <td>(-62.04402324091975, -37.70711313209672)</td>\n",
       "      <td>1640</td>\n",
       "      <td>164.000000</td>\n",
       "      <td>78396.363636</td>\n",
       "      <td>42831.850463</td>\n",
       "      <td>85643.738889</td>\n",
       "      <td>86240</td>\n",
       "      <td>[0.40282662371844136 rad, 0.3811927262223308 r...</td>\n",
       "    </tr>\n",
       "    <tr>\n",
       "      <th>3</th>\n",
       "      <td>10</td>\n",
       "      <td>20</td>\n",
       "      <td>39e95b77-935c-4824-b9d9-2d4afd5569a6</td>\n",
       "      <td>(-60.6992338529398, -37.70711313209672)</td>\n",
       "      <td>1620</td>\n",
       "      <td>147.272727</td>\n",
       "      <td>71865.000000</td>\n",
       "      <td>40707.481944</td>\n",
       "      <td>81395.001389</td>\n",
       "      <td>86240</td>\n",
       "      <td>[0.40282662371844136 rad, 0.3811927262223308 r...</td>\n",
       "    </tr>\n",
       "    <tr>\n",
       "      <th>4</th>\n",
       "      <td>10</td>\n",
       "      <td>20</td>\n",
       "      <td>39e95b77-935c-4824-b9d9-2d4afd5569a6</td>\n",
       "      <td>(-59.354444464959855, -37.70711313209672)</td>\n",
       "      <td>2560</td>\n",
       "      <td>128.000000</td>\n",
       "      <td>41020.952381</td>\n",
       "      <td>21603.354167</td>\n",
       "      <td>43186.767593</td>\n",
       "      <td>47600</td>\n",
       "      <td>[0.40282662371844136 rad, 0.3811927262223308 r...</td>\n",
       "    </tr>\n",
       "  </tbody>\n",
       "</table>\n",
       "</div>"
      ],
      "text/plain": [
       "    T  dt                          Satellite ID  \\\n",
       "0  10  20  39e95b77-935c-4824-b9d9-2d4afd5569a6   \n",
       "1  10  20  39e95b77-935c-4824-b9d9-2d4afd5569a6   \n",
       "2  10  20  39e95b77-935c-4824-b9d9-2d4afd5569a6   \n",
       "3  10  20  39e95b77-935c-4824-b9d9-2d4afd5569a6   \n",
       "4  10  20  39e95b77-935c-4824-b9d9-2d4afd5569a6   \n",
       "\n",
       "                                      Target accumulated  mean gap light  \\\n",
       "0    (-62.04402324091975, -38.8197478163978)        1600      160.000000   \n",
       "1     (-60.6992338529398, -38.8197478163978)        2040      107.368421   \n",
       "2   (-62.04402324091975, -37.70711313209672)        1640      164.000000   \n",
       "3    (-60.6992338529398, -37.70711313209672)        1620      147.272727   \n",
       "4  (-59.354444464959855, -37.70711313209672)        2560      128.000000   \n",
       "\n",
       "   mean gap dark  response time  average time gap max gap  \\\n",
       "0   78400.000000   42837.740741      85655.518519   86240   \n",
       "1   43098.000000   23663.189815      47306.426852   84180   \n",
       "2   78396.363636   42831.850463      85643.738889   86240   \n",
       "3   71865.000000   40707.481944      81395.001389   86240   \n",
       "4   41020.952381   21603.354167      43186.767593   47600   \n",
       "\n",
       "                                           sun angle  \n",
       "0  [0.40282662371844136 rad, 0.3811927262223308 r...  \n",
       "1  [0.40282662371844136 rad, 0.3811927262223308 r...  \n",
       "2  [0.40282662371844136 rad, 0.3811927262223308 r...  \n",
       "3  [0.40282662371844136 rad, 0.3811927262223308 r...  \n",
       "4  [0.40282662371844136 rad, 0.3811927262223308 r...  "
      ]
     },
     "execution_count": 50,
     "metadata": {},
     "output_type": "execute_result"
    }
   ],
   "source": [
    "cov_baires_ctll_hrgt.to_df().head()"
   ]
  },
  {
   "cell_type": "code",
   "execution_count": 90,
   "id": "99442c05-4ab0-44f8-b8af-bcb8a5342832",
   "metadata": {},
   "outputs": [
    {
     "data": {
      "image/png": "[encoded data removed]",
      "text/plain": [
       "<Figure size 720x720 with 2 Axes>"
      ]
     },
     "metadata": {
      "needs_background": "light"
     },
     "output_type": "display_data"
    }
   ],
   "source": [
    "plot_Targets_merit(cov_baires_ctll_hrgt.collapse_sats().to_df(), bs_as, target_name = 'Provincia de Buenos Aires', accumulated=False, response=False,\n",
    "                  average_time_gap=False)"
   ]
  },
  {
   "cell_type": "code",
   "execution_count": 54,
   "id": "b92c2501-f3b4-4d65-8945-8c194fc9a54f",
   "metadata": {},
   "outputs": [
    {
     "name": "stderr",
     "output_type": "stream",
     "text": [
      "WARNING: AstropyDeprecationWarning: The truth value of a Quantity is ambiguous. In the future this will raise a ValueError. [astropy.units.quantity]\n"
     ]
    }
   ],
   "source": [
    "new_baires = cov_baires_ctll_hrgt.filter_by_sun_angle(np.pi/4)"
   ]
  },
  {
   "cell_type": "code",
   "execution_count": 55,
   "id": "2c7e803d-a893-48ce-8ecb-d17f4ded8ecf",
   "metadata": {},
   "outputs": [
    {
     "data": {
      "text/html": [
       "<div>\n",
       "<style scoped>\n",
       "    .dataframe tbody tr th:only-of-type {\n",
       "        vertical-align: middle;\n",
       "    }\n",
       "\n",
       "    .dataframe tbody tr th {\n",
       "        vertical-align: top;\n",
       "    }\n",
       "\n",
       "    .dataframe thead th {\n",
       "        text-align: right;\n",
       "    }\n",
       "</style>\n",
       "<table border=\"1\" class=\"dataframe\">\n",
       "  <thead>\n",
       "    <tr style=\"text-align: right;\">\n",
       "      <th></th>\n",
       "      <th>T</th>\n",
       "      <th>dt</th>\n",
       "      <th>Satellite ID</th>\n",
       "      <th>Target</th>\n",
       "      <th>accumulated</th>\n",
       "      <th>mean gap light</th>\n",
       "      <th>mean gap dark</th>\n",
       "      <th>response time</th>\n",
       "      <th>average time gap</th>\n",
       "      <th>max gap</th>\n",
       "      <th>sun angle</th>\n",
       "    </tr>\n",
       "  </thead>\n",
       "  <tbody>\n",
       "    <tr>\n",
       "      <th>0</th>\n",
       "      <td>10</td>\n",
       "      <td>20</td>\n",
       "      <td>39e95b77-935c-4824-b9d9-2d4afd5569a6</td>\n",
       "      <td>(-62.04402324091975, -38.8197478163978)</td>\n",
       "      <td>0</td>\n",
       "      <td>0.000000</td>\n",
       "      <td>864000.000000</td>\n",
       "      <td>432010.000000</td>\n",
       "      <td>864000.000000</td>\n",
       "      <td>864000</td>\n",
       "      <td>[0.40282662371844136 rad, 0.3811927262223308 r...</td>\n",
       "    </tr>\n",
       "    <tr>\n",
       "      <th>1</th>\n",
       "      <td>10</td>\n",
       "      <td>20</td>\n",
       "      <td>39e95b77-935c-4824-b9d9-2d4afd5569a6</td>\n",
       "      <td>(-60.6992338529398, -38.8197478163978)</td>\n",
       "      <td>380</td>\n",
       "      <td>42.222222</td>\n",
       "      <td>86362.000000</td>\n",
       "      <td>45567.081019</td>\n",
       "      <td>91114.170833</td>\n",
       "      <td>131920</td>\n",
       "      <td>[0.40282662371844136 rad, 0.3811927262223308 r...</td>\n",
       "    </tr>\n",
       "    <tr>\n",
       "      <th>2</th>\n",
       "      <td>10</td>\n",
       "      <td>20</td>\n",
       "      <td>39e95b77-935c-4824-b9d9-2d4afd5569a6</td>\n",
       "      <td>(-62.04402324091975, -37.70711313209672)</td>\n",
       "      <td>0</td>\n",
       "      <td>0.000000</td>\n",
       "      <td>864000.000000</td>\n",
       "      <td>432010.000000</td>\n",
       "      <td>864000.000000</td>\n",
       "      <td>864000</td>\n",
       "      <td>[0.40282662371844136 rad, 0.3811927262223308 r...</td>\n",
       "    </tr>\n",
       "    <tr>\n",
       "      <th>3</th>\n",
       "      <td>10</td>\n",
       "      <td>20</td>\n",
       "      <td>39e95b77-935c-4824-b9d9-2d4afd5569a6</td>\n",
       "      <td>(-60.6992338529398, -37.70711313209672)</td>\n",
       "      <td>20</td>\n",
       "      <td>20.000000</td>\n",
       "      <td>431990.000000</td>\n",
       "      <td>392990.859259</td>\n",
       "      <td>785961.718981</td>\n",
       "      <td>823040</td>\n",
       "      <td>[0.40282662371844136 rad, 0.3811927262223308 r...</td>\n",
       "    </tr>\n",
       "    <tr>\n",
       "      <th>4</th>\n",
       "      <td>10</td>\n",
       "      <td>20</td>\n",
       "      <td>39e95b77-935c-4824-b9d9-2d4afd5569a6</td>\n",
       "      <td>(-59.354444464959855, -37.70711313209672)</td>\n",
       "      <td>900</td>\n",
       "      <td>90.000000</td>\n",
       "      <td>78463.636364</td>\n",
       "      <td>40965.220833</td>\n",
       "      <td>81910.462500</td>\n",
       "      <td>86320</td>\n",
       "      <td>[0.40282662371844136 rad, 0.3811927262223308 r...</td>\n",
       "    </tr>\n",
       "  </tbody>\n",
       "</table>\n",
       "</div>"
      ],
      "text/plain": [
       "    T  dt                          Satellite ID  \\\n",
       "0  10  20  39e95b77-935c-4824-b9d9-2d4afd5569a6   \n",
       "1  10  20  39e95b77-935c-4824-b9d9-2d4afd5569a6   \n",
       "2  10  20  39e95b77-935c-4824-b9d9-2d4afd5569a6   \n",
       "3  10  20  39e95b77-935c-4824-b9d9-2d4afd5569a6   \n",
       "4  10  20  39e95b77-935c-4824-b9d9-2d4afd5569a6   \n",
       "\n",
       "                                      Target accumulated  mean gap light  \\\n",
       "0    (-62.04402324091975, -38.8197478163978)           0        0.000000   \n",
       "1     (-60.6992338529398, -38.8197478163978)         380       42.222222   \n",
       "2   (-62.04402324091975, -37.70711313209672)           0        0.000000   \n",
       "3    (-60.6992338529398, -37.70711313209672)          20       20.000000   \n",
       "4  (-59.354444464959855, -37.70711313209672)         900       90.000000   \n",
       "\n",
       "   mean gap dark  response time  average time gap max gap  \\\n",
       "0  864000.000000  432010.000000     864000.000000  864000   \n",
       "1   86362.000000   45567.081019      91114.170833  131920   \n",
       "2  864000.000000  432010.000000     864000.000000  864000   \n",
       "3  431990.000000  392990.859259     785961.718981  823040   \n",
       "4   78463.636364   40965.220833      81910.462500   86320   \n",
       "\n",
       "                                           sun angle  \n",
       "0  [0.40282662371844136 rad, 0.3811927262223308 r...  \n",
       "1  [0.40282662371844136 rad, 0.3811927262223308 r...  \n",
       "2  [0.40282662371844136 rad, 0.3811927262223308 r...  \n",
       "3  [0.40282662371844136 rad, 0.3811927262223308 r...  \n",
       "4  [0.40282662371844136 rad, 0.3811927262223308 r...  "
      ]
     },
     "execution_count": 55,
     "metadata": {},
     "output_type": "execute_result"
    }
   ],
   "source": [
    "new_baires.to_df().head()"
   ]
  },
  {
   "cell_type": "code",
   "execution_count": 91,
   "id": "a03e1e12-dd91-442d-bca2-99de7d7fa274",
   "metadata": {},
   "outputs": [
    {
     "data": {
      "image/png": "[encoded data removed]",
      "text/plain": [
       "<Figure size 720x720 with 2 Axes>"
      ]
     },
     "metadata": {
      "needs_background": "light"
     },
     "output_type": "display_data"
    }
   ],
   "source": [
    "plot_Targets_merit(new_baires.collapse_sats().to_df(), bs_as, target_name = 'Provincia de Buenos Aires', accumulated=False, response=False,\n",
    "                  average_time_gap=False)"
   ]
  },
  {
   "cell_type": "code",
   "execution_count": null,
   "id": "91ecffb8-da60-4b6a-97ee-ca8fba71fadf",
   "metadata": {},
   "outputs": [],
   "source": [
    "cov_rio_negro_ctll_hrgt = Coverages.from_ctll(ctll_hrgt, rio_negro, T, dt=ti, r_sun=rsun, J2=True)"
   ]
  },
  {
   "cell_type": "code",
   "execution_count": 58,
   "id": "349827ff-5813-40f5-8944-0b173db76ca9",
   "metadata": {},
   "outputs": [
    {
     "data": {
      "image/png": "[encoded data removed]",
      "text/plain": [
       "<Figure size 720x720 with 2 Axes>"
      ]
     },
     "metadata": {
      "needs_background": "light"
     },
     "output_type": "display_data"
    }
   ],
   "source": [
    "plot_Targets_merit(cov_rio_negro_ctll_hrgt.collapse_sats().to_df(), rio_negro, target_name = 'Provincia de Río Negro', accumulated=False, response=False,\n",
    "                  average_time_gap=False)"
   ]
  },
  {
   "cell_type": "code",
   "execution_count": null,
   "id": "a4e1a33c-45fe-4eff-ae41-fc96d2a58a78",
   "metadata": {},
   "outputs": [],
   "source": [
    "cov_gba = Coverages.from_ctll(ctll_hrgt, gba, T, ti, r_sun=rsun, lon_offset=cordoba_offset, J2=True)"
   ]
  },
  {
   "cell_type": "code",
   "execution_count": 66,
   "id": "1cbe256b-69fe-4370-b01c-4e52084af1f4",
   "metadata": {},
   "outputs": [
    {
     "data": {
      "image/png": "[encoded data removed]",
      "text/plain": [
       "<Figure size 720x720 with 2 Axes>"
      ]
     },
     "metadata": {
      "needs_background": "light"
     },
     "output_type": "display_data"
    }
   ],
   "source": [
    "plot_Targets_merit(cov_gba.collapse_sats().to_df(), gba, target_name='Ciudad Autónoma de Buenos Aires',\n",
    "                  response=False, average_time_gap=False,accumulated=False)"
   ]
  },
  {
   "cell_type": "code",
   "execution_count": 61,
   "id": "2e853b58-42a7-444a-948a-dc8f13d35c7d",
   "metadata": {},
   "outputs": [],
   "source": [
    "cov_gba_filtered = cov_gba.filter_by_sun_angle(np.pi/4)"
   ]
  },
  {
   "cell_type": "code",
   "execution_count": 62,
   "id": "a1547225-1a84-4495-b121-29fcc0121e44",
   "metadata": {},
   "outputs": [],
   "source": [
    "collapsed_cov_gba = cov_gba_filtered.collapse_sats().to_df()"
   ]
  },
  {
   "cell_type": "code",
   "execution_count": 67,
   "id": "8e4ff3a6-2f10-4ca9-b2ab-44b7abb2d22a",
   "metadata": {},
   "outputs": [
    {
     "data": {
      "image/png": "[encoded data removed]",
      "text/plain": [
       "<Figure size 720x720 with 2 Axes>"
      ]
     },
     "metadata": {
      "needs_background": "light"
     },
     "output_type": "display_data"
    }
   ],
   "source": [
    "plot_Targets_merit(collapsed_cov_gba, gba, target_name='Ciudad Autónoma de Buenos Aires',\n",
    "                  response=False, average_time_gap=False, accumulated=False)"
   ]
  },
  {
   "cell_type": "code",
   "execution_count": null,
   "id": "325f5d83-74dd-4501-8a28-18548f134f33",
   "metadata": {},
   "outputs": [],
   "source": []
  },
  {
   "cell_type": "code",
   "execution_count": null,
   "id": "1aa53dc1-de06-4ff2-a5a3-b2477739ad2d",
   "metadata": {},
   "outputs": [],
   "source": []
  },
  {
   "cell_type": "code",
   "execution_count": null,
   "id": "7b2aa100-ed3a-45d6-969d-7babd5fbfd2b",
   "metadata": {},
   "outputs": [],
   "source": []
  },
  {
   "cell_type": "code",
   "execution_count": null,
   "id": "fb756e56-d957-466d-a202-81dc1f38332f",
   "metadata": {},
   "outputs": [],
   "source": []
  },
  {
   "cell_type": "code",
   "execution_count": null,
   "id": "4b2c56e7-ce67-4792-93d3-ad47b387153d",
   "metadata": {},
   "outputs": [],
   "source": []
  },
  {
   "cell_type": "code",
   "execution_count": null,
   "id": "905dce8e-88b3-4cd9-aa3f-c79160f66965",
   "metadata": {},
   "outputs": [],
   "source": []
  },
  {
   "cell_type": "code",
   "execution_count": null,
   "id": "1dda9327-b0c8-4096-b2e0-9f684646d056",
   "metadata": {},
   "outputs": [],
   "source": []
  },
  {
   "cell_type": "code",
   "execution_count": null,
   "id": "913f4ed8-b14e-45cb-992a-f3bd0359849d",
   "metadata": {},
   "outputs": [],
   "source": []
  },
  {
   "cell_type": "code",
   "execution_count": null,
   "id": "fd3c6a93-6e8c-4b99-be21-37370d7266a9",
   "metadata": {},
   "outputs": [],
   "source": []
  },
  {
   "cell_type": "code",
   "execution_count": null,
   "id": "1accba68-f355-4880-9f6d-4db0e1408019",
   "metadata": {},
   "outputs": [],
   "source": []
  },
  {
   "cell_type": "code",
   "execution_count": null,
   "id": "cf16ae00-b53a-4a54-9bcd-654dda40803d",
   "metadata": {},
   "outputs": [],
   "source": []
  },
  {
   "cell_type": "code",
   "execution_count": 97,
   "id": "4697fa5e-5bb6-4923-9358-addb62071fa9",
   "metadata": {},
   "outputs": [],
   "source": [
    "test_cov = cov_rosario_filtered.covs[0]\n"
   ]
  },
  {
   "cell_type": "code",
   "execution_count": 142,
   "id": "63fe10a4-c15c-48e2-8847-4ec27ecb04eb",
   "metadata": {},
   "outputs": [
    {
     "name": "stdout",
     "output_type": "stream",
     "text": [
      "Took 0.0008215904235839844 seconds\n"
     ]
    },
    {
     "data": {
      "text/plain": [
       "array([[   0, 2113],\n",
       "       [   1,    8],\n",
       "       [   0,   64],\n",
       "       [   1,    6],\n",
       "       [   0, 4176],\n",
       "       [   1,    2],\n",
       "       [   0,   66],\n",
       "       [   1,    8],\n",
       "       [   0,   65],\n",
       "       [   1,    4],\n",
       "       [   0, 4176],\n",
       "       [   1,    5],\n",
       "       [   0,   64],\n",
       "       [   1,    8],\n",
       "       [   0, 4244],\n",
       "       [   1,    7],\n",
       "       [   0,   64],\n",
       "       [   1,    8],\n",
       "       [   0, 4243],\n",
       "       [   1,    8],\n",
       "       [   0,   63],\n",
       "       [   1,    8],\n",
       "       [   0, 4243],\n",
       "       [   1,    8],\n",
       "       [   0,   64],\n",
       "       [   1,    6],\n",
       "       [   0, 4176],\n",
       "       [   1,    3],\n",
       "       [   0,   65],\n",
       "       [   1,    9],\n",
       "       [   0,   65],\n",
       "       [   1,    4],\n",
       "       [   0, 4175],\n",
       "       [   1,    5],\n",
       "       [   0,   65],\n",
       "       [   1,    8],\n",
       "       [   0, 4244],\n",
       "       [   1,    6],\n",
       "       [   0,   64],\n",
       "       [   1,    8],\n",
       "       [   0, 4244],\n",
       "       [   1,    7],\n",
       "       [   0,   64],\n",
       "       [   1,    7],\n",
       "       [   0, 2250]])"
      ]
     },
     "execution_count": 142,
     "metadata": {},
     "output_type": "execute_result"
    }
   ],
   "source": [
    "from itertools import groupby\n",
    "import time\n",
    "\n",
    "test_cov_rle = np.array([[k, sum(1 for i in g)] for k,g in groupby(test_cov.cov)])\n",
    "t = time.time()\n",
    "gap = 0\n",
    "\n",
    "for i in test_cov_rle:\n",
    "    if i[0] == 0:\n",
    "        gap+=0\n",
    "    else:\n",
    "        pass\n",
    "        \n",
    "print(f\"Took {time.time()-t} seconds\")\n",
    "test_cov_rle"
   ]
  },
  {
   "cell_type": "code",
   "execution_count": null,
   "id": "8c89a574-ed7c-4541-96ef-c274494fcec4",
   "metadata": {},
   "outputs": [],
   "source": []
  },
  {
   "cell_type": "code",
   "execution_count": null,
   "id": "0ab468b3-e5c4-4843-95f0-6c7977ccd742",
   "metadata": {},
   "outputs": [],
   "source": []
  },
  {
   "cell_type": "code",
   "execution_count": null,
   "id": "dace5169-8129-4f54-956a-ea92303b3d82",
   "metadata": {},
   "outputs": [],
   "source": []
  },
  {
   "cell_type": "code",
   "execution_count": null,
   "id": "83fd60ac-1af1-4380-a542-aad064f5d030",
   "metadata": {},
   "outputs": [],
   "source": []
  },
  {
   "cell_type": "code",
   "execution_count": null,
   "id": "19c3cc12-a91b-43ba-9176-acc06b7fd6cc",
   "metadata": {},
   "outputs": [],
   "source": []
  },
  {
   "cell_type": "code",
   "execution_count": null,
   "id": "b7c9bc23-03c4-4515-b04b-220094a49b2b",
   "metadata": {},
   "outputs": [],
   "source": []
  },
  {
   "cell_type": "code",
   "execution_count": null,
   "id": "bc5e48fa-051c-4bac-8fd6-a89bce2dc564",
   "metadata": {},
   "outputs": [],
   "source": []
  },
  {
   "cell_type": "code",
   "execution_count": null,
   "id": "7bcf9756-528f-4e75-8914-c715aa0031d0",
   "metadata": {},
   "outputs": [],
   "source": []
  },
  {
   "cell_type": "code",
   "execution_count": null,
   "id": "c68258c1-4894-41a3-9196-be4729a9b9f1",
   "metadata": {},
   "outputs": [],
   "source": []
  },
  {
   "cell_type": "code",
   "execution_count": 65,
   "id": "a59f1ca0-730c-4dce-b4dc-de0aa8de26e4",
   "metadata": {},
   "outputs": [],
   "source": [
    "def plot_Targets_merit(rollcovdf, tgts, target_name = 'Not specified', accumulated=True, response=True, average_time_gap=True, revisit=True, use_3d = False):\n",
    "    \n",
    "    target_lons = tgts.lons\n",
    "    target_lats = tgts.lats\n",
    "\n",
    "    roll_accum = rollcovdf['accumulated'].to_numpy(dtype=float)/3600\n",
    "    #roll_accum /= max(roll_accum)\n",
    "\n",
    "    response_time = rollcovdf['response time'].to_numpy()/3600\n",
    "    response_time = 1/response_time\n",
    "    response_time -= min(response_time)\n",
    "    response_time /= max(response_time)\n",
    "        \n",
    "    roll_avg = rollcovdf['average time gap'].to_numpy(dtype=float)/3600\n",
    "    roll_avg = 1/roll_avg\n",
    "    roll_avg -= min(roll_avg)\n",
    "    roll_avg /= max(roll_avg) \n",
    "    \n",
    "    revisit_time = rollcovdf['mean gap dark'].to_numpy(dtype=np.float64)/3600\n",
    "        \n",
    "    if accumulated:\n",
    "        fig = plt.figure(figsize=(10,10))\n",
    "        \n",
    "        if use_3d:\n",
    "            ax.plot_trisurf(target_lons, target_lats, roll_accum,\n",
    "                       antialiased=False, cmap='afmhot')\n",
    "            ax.scatter(target_lons,target_lats, np.zeros(len(target_lons)),\n",
    "                   s=100,c='k')\n",
    "        else:\n",
    "            ax = plt.axes()\n",
    "            tcs = ax.tricontourf(target_lons, target_lats, roll_accum)\n",
    "            plt.colorbar(tcs)\n",
    "\n",
    "        \n",
    "        ax.set_title(f\"Accumulated time of view for {target_name} \")\n",
    "        \n",
    "        ax.set_xlabel(\"longitude [°]\")\n",
    "        ax.set_ylabel(\"latitude [°]\")\n",
    "        if use_3d:\n",
    "            ax = fig.add_subplot(projection='3d')\n",
    "            ax.set_zlabel(\"Accumulated time of view [hours]\")\n",
    "            \n",
    "        ax.set_xlim(min(target_lons),max(target_lons))\n",
    "        ax.set_ylim(min(target_lats),max(target_lats))\n",
    "\n",
    "\n",
    "        \n",
    "    if response:\n",
    "        fig = plt.figure(figsize=(10,10))\n",
    "        \n",
    "        if use_3d:\n",
    "            ax = fig.add_subplot(projection='3d')\n",
    "            ax.plot_trisurf(target_lons, target_lats, response_time,\n",
    "                       antialiased=False, cmap='afmhot')\n",
    "            ax.scatter(target_lons,target_lats, np.zeros(len(target_lons)),\n",
    "                   s=100,c='k')\n",
    "        else:\n",
    "            ax = plt.axes()\n",
    "            tcs = ax.tricontourf(target_lons, target_lats, response_time)\n",
    "            plt.colorbar(tcs)\n",
    "            \n",
    "        ax.set_title(f\"Response Time for {target_name} \")\n",
    "        \n",
    "        ax.set_xlabel(\"longitude [°]\")\n",
    "        ax.set_ylabel(\"latitude [°]\")\n",
    "        if use_3d:\n",
    "            ax.set_zlabel(\"Respose time [1/hours]\")\n",
    "            \n",
    "        ax.set_xlim(min(target_lons),max(target_lons))\n",
    "        ax.set_ylim(min(target_lats),max(target_lats))\n",
    "        \n",
    "\n",
    "        \n",
    "    if average_time_gap:        \n",
    "        fig = plt.figure(figsize=(10,10))\n",
    "        \n",
    "        if use_3d:\n",
    "            ax = fig.add_subplot(projection='3d')\n",
    "            ax.plot_trisurf(target_lons, target_lats, roll_avg,\n",
    "                       antialiased=False, cmap='afmhot')\n",
    "            ax.scatter(target_lons,target_lats, np.zeros(len(target_lons)),\n",
    "                   s=100,c='k')\n",
    "        else:\n",
    "            ax = plt.axes()\n",
    "            tcs = ax.tricontourf(target_lons, target_lats, roll_avg)\n",
    "            plt.colorbar(tcs)\n",
    "\n",
    "        ax.set_title(f\"Average time Gap for {target_name} \")\n",
    "        \n",
    "        ax.set_xlabel(\"longitude [°]\")\n",
    "        ax.set_ylabel(\"latitude [°]\")\n",
    "        if use_3d:\n",
    "            ax.set_zlabel(\"Average time Gap for [1/hours]\")\n",
    "            \n",
    "        ax.set_xlim(min(target_lons),max(target_lons))\n",
    "        ax.set_ylim(min(target_lats),max(target_lats))\n",
    "        \n",
    "\n",
    "       \n",
    "    if revisit:\n",
    "        fig = plt.figure(figsize=(10,10))\n",
    "        \n",
    "        if use_3d:\n",
    "            ax = fig.add_subplot(projection='3d')\n",
    "            ax.plot_trisurf(target_lons, target_lats, revisit_time,\n",
    "                       antialiased=False, cmap='afmhot')\n",
    "            ax.scatter(target_lons,target_lats, np.zeros(len(target_lons)),\n",
    "                   s=100,c='k')\n",
    "        else:\n",
    "            ax = plt.axes()\n",
    "            tcs = ax.tricontourf(target_lons, target_lats, revisit_time)\n",
    "            plt.colorbar(tcs)\n",
    "        \n",
    "        ax.set_title(f\"Mean Revisit Time {target_name} \")\n",
    "        \n",
    "        ax.set_xlabel(\"longitude [°]\")\n",
    "        ax.set_ylabel(\"latitude [°]\")\n",
    "        if use_3d:\n",
    "            ax.set_zlabel(\"Mean Revisit Time [hours]\")\n",
    "            \n",
    "        ax.set_xlim(min(target_lons),max(target_lons))\n",
    "        ax.set_ylim(min(target_lats),max(target_lats))\n",
    "\n"
   ]
  }
 ],
 "metadata": {
  "kernelspec": {
   "display_name": "Python 3",
   "language": "python",
   "name": "python3"
  },
  "language_info": {
   "codemirror_mode": {
    "name": "ipython",
    "version": 3
   },
   "file_extension": ".py",
   "mimetype": "text/x-python",
   "name": "python",
   "nbconvert_exporter": "python",
   "pygments_lexer": "ipython3",
   "version": "3.8.5"
  }
 },
 "nbformat": 4,
 "nbformat_minor": 5
}
