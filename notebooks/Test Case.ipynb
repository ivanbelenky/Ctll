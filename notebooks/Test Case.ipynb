{
 "cells": [
  {
   "cell_type": "code",
   "execution_count": 1,
   "id": "f23b2594",
   "metadata": {},
   "outputs": [
    {
     "name": "stderr",
     "output_type": "stream",
     "text": [
      "WARNING: AstropyDeprecationWarning: The private astropy._erfa module has been made into its own package, pyerfa, which is a dependency of astropy and can be imported directly using \"import erfa\" [astropy._erfa]\n"
     ]
    }
   ],
   "source": [
    "import sys\n",
    "import os\n",
    "sys.path.insert(0, os.path.abspath('../'))\n",
    "\n",
    "import CtllDes \n",
    "from CtllDes.core import ctll, satellite\n"
   ]
  },
  {
   "cell_type": "code",
   "execution_count": 2,
   "id": "63eba02c",
   "metadata": {},
   "outputs": [],
   "source": [
    "import matplotlib.pyplot as plt\n",
    "import numpy as np\n",
    "import pandas as pd\n",
    "import astropy as astr\n",
    "import astropy.units as u\n",
    "import astropy"
   ]
  },
  {
   "cell_type": "code",
   "execution_count": 3,
   "id": "e5f5f8fd",
   "metadata": {},
   "outputs": [],
   "source": [
    "from poliastro.bodies import Earth, Sun\n",
    "from poliastro.frames import Planes\n",
    "from poliastro.constants import J2000\n",
    "from poliastro.ephem import Ephem"
   ]
  },
  {
   "cell_type": "markdown",
   "id": "52135c07",
   "metadata": {},
   "source": [
    "# Define a function using poliastro utilities in order to obtain the sun-earth vector\n",
    "this could be added to the library if needed, but I don't think is appropriate since every utility comes from poliastro and astropy libraries."
   ]
  },
  {
   "cell_type": "markdown",
   "id": "2401d9ee",
   "metadata": {},
   "source": [
    "# Defining specifications and parameters constraints"
   ]
  },
  {
   "cell_type": "markdown",
   "id": "0ef3f841",
   "metadata": {},
   "source": [
    "## <strong>Instruments</strong>"
   ]
  },
  {
   "cell_type": "code",
   "execution_count": 4,
   "id": "f4c5a215",
   "metadata": {},
   "outputs": [],
   "source": [
    "import CtllDes.core.instrument as instr"
   ]
  },
  {
   "cell_type": "code",
   "execution_count": 5,
   "id": "d6574bbd",
   "metadata": {},
   "outputs": [],
   "source": [
    "ROLL_ANGLE = 30*u.deg"
   ]
  },
  {
   "cell_type": "markdown",
   "id": "990a0cbf",
   "metadata": {},
   "source": [
    "### 1st instrument"
   ]
  },
  {
   "cell_type": "code",
   "execution_count": 6,
   "id": "b172078d",
   "metadata": {},
   "outputs": [],
   "source": [
    "pixel_width_1 = 28*1E-6*u.m\n",
    "n_pixels_1 = 3072\n",
    "sensor_width_1 = n_pixels_1*pixel_width_1\n",
    "f_length_1 = 17*1E-2*u.m"
   ]
  },
  {
   "cell_type": "code",
   "execution_count": 7,
   "id": "52f9d875",
   "metadata": {},
   "outputs": [],
   "source": [
    "instr_1 = instr.RollCamera(f_length_1, sensor_width_1, ROLL_ANGLE)"
   ]
  },
  {
   "cell_type": "markdown",
   "id": "37a70c53",
   "metadata": {},
   "source": [
    "### 2nd instrument "
   ]
  },
  {
   "cell_type": "code",
   "execution_count": 8,
   "id": "c3e9b9ec",
   "metadata": {},
   "outputs": [],
   "source": [
    "pixel_width_2 = 7*1E-6*u.m\n",
    "n_pixels_2 = 12288\n",
    "sensor_width_2 = n_pixels_2*pixel_width_2\n",
    "f_length_2 = 4.2*u.m"
   ]
  },
  {
   "cell_type": "code",
   "execution_count": 9,
   "id": "5cb41993",
   "metadata": {},
   "outputs": [],
   "source": [
    "instr_2 = instr.RollCamera(f_length_2, sensor_width_2, ROLL_ANGLE)"
   ]
  },
  {
   "cell_type": "markdown",
   "id": "9c99b295",
   "metadata": {},
   "source": [
    "## <strong>Targets</strong>"
   ]
  },
  {
   "cell_type": "code",
   "execution_count": 10,
   "id": "c8aadde9",
   "metadata": {},
   "outputs": [],
   "source": [
    "from CtllDes.targets.targets import Target, Targets"
   ]
  },
  {
   "cell_type": "markdown",
   "id": "7ce9d829",
   "metadata": {},
   "source": [
    "### 1st instrument targets"
   ]
  },
  {
   "cell_type": "code",
   "execution_count": 11,
   "id": "a68e77ff",
   "metadata": {},
   "outputs": [],
   "source": [
    "bs_as = Targets.from_state(\"Buenos Aires\", N=8)\n",
    "rio_negro = Targets.from_state(\"Río Negro\", N=10)"
   ]
  },
  {
   "cell_type": "markdown",
   "id": "bb189449",
   "metadata": {},
   "source": [
    "### 2nd instrument targets"
   ]
  },
  {
   "cell_type": "code",
   "execution_count": 12,
   "id": "c72b4558",
   "metadata": {},
   "outputs": [],
   "source": [
    "gba = Targets.from_state(\"Ciudad de Buenos Aires\", N=8) \n",
    "cordoba_city = Target.from_city('Córdoba',country='AR')\n",
    "rosario_city = Target.from_city('Rosario',country='AR')"
   ]
  },
  {
   "cell_type": "markdown",
   "id": "d8be8736",
   "metadata": {},
   "source": [
    "### <strong>Ground Stations</strong>"
   ]
  },
  {
   "cell_type": "code",
   "execution_count": 13,
   "id": "efc2b66c",
   "metadata": {},
   "outputs": [],
   "source": [
    "MIN_ELEVATION = 15*u.deg\n",
    "DOWN_RATE = 300*1E6*u.bit/u.s"
   ]
  },
  {
   "cell_type": "code",
   "execution_count": 14,
   "id": "7bb3f328",
   "metadata": {},
   "outputs": [],
   "source": [
    "gs_1 = Target(-64.45, -31.58333)\n",
    "gs_2 = Target(-58.718, -34.411)"
   ]
  },
  {
   "cell_type": "code",
   "execution_count": 15,
   "id": "58cad369",
   "metadata": {},
   "outputs": [
    {
     "data": {
      "text/plain": [
       "<matplotlib.legend.Legend at 0x7fd4ccd2eb20>"
      ]
     },
     "execution_count": 15,
     "metadata": {},
     "output_type": "execute_result"
    },
    {
     "data": {
      "image/png": "[encoded data removed]",
      "text/plain": [
       "<Figure size 1440x720 with 1 Axes>"
      ]
     },
     "metadata": {
      "needs_background": "light"
     },
     "output_type": "display_data"
    }
   ],
   "source": [
    "fig = plt.figure(figsize=(20,10))\n",
    "plt.grid()\n",
    "\n",
    "plt.scatter(gba.lons,gba.lats,s=50,label='Ciudad Autónoma de Buenos Aires')\n",
    "plt.scatter(cordoba_city.lon,cordoba_city.lat,label='Cordoba')\n",
    "plt.scatter(rosario_city.lon,rosario_city.lat,label='Rosario')\n",
    "\n",
    "\n",
    "plt.scatter(bs_as.lons,bs_as.lats,s=50,label='Buenos Aires')\n",
    "plt.scatter(rio_negro.lons,rio_negro.lats,s=50,label='Río Negro')\n",
    "\n",
    "plt.legend(loc=2)"
   ]
  },
  {
   "cell_type": "markdown",
   "id": "62eb74ba",
   "metadata": {},
   "source": [
    "### <strong>Orbits</strong>"
   ]
  },
  {
   "cell_type": "code",
   "execution_count": 16,
   "id": "c9407f3b",
   "metadata": {},
   "outputs": [],
   "source": [
    "H_MIN = 550*u.km\n",
    "H_MAX = 650*u.km\n",
    "MAX_INC = 45*u.deg\n",
    "\n",
    "R = Earth.R_mean.to(u.km)\n",
    "\n",
    "R_MIN = R + H_MIN\n",
    "R_MAX = R + H_MAX"
   ]
  },
  {
   "cell_type": "code",
   "execution_count": 17,
   "id": "ea99ee4e",
   "metadata": {},
   "outputs": [
    {
     "data": {
      "text/html": [
       "<div>\n",
       "<style scoped>\n",
       "    .dataframe tbody tr th:only-of-type {\n",
       "        vertical-align: middle;\n",
       "    }\n",
       "\n",
       "    .dataframe tbody tr th {\n",
       "        vertical-align: top;\n",
       "    }\n",
       "\n",
       "    .dataframe thead th {\n",
       "        text-align: right;\n",
       "    }\n",
       "</style>\n",
       "<table border=\"1\" class=\"dataframe\">\n",
       "  <thead>\n",
       "    <tr style=\"text-align: right;\">\n",
       "      <th></th>\n",
       "      <th>radius</th>\n",
       "      <th>inc</th>\n",
       "      <th>N</th>\n",
       "    </tr>\n",
       "  </thead>\n",
       "  <tbody>\n",
       "    <tr>\n",
       "      <th>0</th>\n",
       "      <td>11549.628629</td>\n",
       "      <td>142.101524</td>\n",
       "      <td>7.000000</td>\n",
       "    </tr>\n",
       "    <tr>\n",
       "      <th>1</th>\n",
       "      <td>11196.684826</td>\n",
       "      <td>135.067101</td>\n",
       "      <td>7.333333</td>\n",
       "    </tr>\n",
       "    <tr>\n",
       "      <th>2</th>\n",
       "      <td>10869.554031</td>\n",
       "      <td>129.657165</td>\n",
       "      <td>7.666667</td>\n",
       "    </tr>\n",
       "    <tr>\n",
       "      <th>3</th>\n",
       "      <td>10565.337007</td>\n",
       "      <td>125.300767</td>\n",
       "      <td>8.000000</td>\n",
       "    </tr>\n",
       "    <tr>\n",
       "      <th>4</th>\n",
       "      <td>10281.565346</td>\n",
       "      <td>121.693395</td>\n",
       "      <td>8.333333</td>\n",
       "    </tr>\n",
       "  </tbody>\n",
       "</table>\n",
       "</div>"
      ],
      "text/plain": [
       "         radius         inc         N\n",
       "0  11549.628629  142.101524  7.000000\n",
       "1  11196.684826  135.067101  7.333333\n",
       "2  10869.554031  129.657165  7.666667\n",
       "3  10565.337007  125.300767  8.000000\n",
       "4  10281.565346  121.693395  8.333333"
      ]
     },
     "execution_count": 17,
     "metadata": {},
     "output_type": "execute_result"
    }
   ],
   "source": [
    "from CtllDes.utils import sscalc\n",
    "\n",
    "D = 3 #days for revisit\n",
    "orb_df = sscalc.helio_rgt_synchronous(D) #dataframe\n",
    "orb_df.head() #radius [km], inclination [degrees], revolutions per day."
   ]
  },
  {
   "cell_type": "code",
   "execution_count": 18,
   "id": "9076e4e4",
   "metadata": {},
   "outputs": [
    {
     "data": {
      "text/html": [
       "<div>\n",
       "<style scoped>\n",
       "    .dataframe tbody tr th:only-of-type {\n",
       "        vertical-align: middle;\n",
       "    }\n",
       "\n",
       "    .dataframe tbody tr th {\n",
       "        vertical-align: top;\n",
       "    }\n",
       "\n",
       "    .dataframe thead th {\n",
       "        text-align: right;\n",
       "    }\n",
       "</style>\n",
       "<table border=\"1\" class=\"dataframe\">\n",
       "  <thead>\n",
       "    <tr style=\"text-align: right;\">\n",
       "      <th></th>\n",
       "      <th>radius</th>\n",
       "      <th>inc</th>\n",
       "      <th>N</th>\n",
       "    </tr>\n",
       "  </thead>\n",
       "  <tbody>\n",
       "    <tr>\n",
       "      <th>24</th>\n",
       "      <td>6947.854468</td>\n",
       "      <td>97.66328</td>\n",
       "      <td>15.0</td>\n",
       "    </tr>\n",
       "  </tbody>\n",
       "</table>\n",
       "</div>"
      ],
      "text/plain": [
       "         radius       inc     N\n",
       "24  6947.854468  97.66328  15.0"
      ]
     },
     "execution_count": 18,
     "metadata": {},
     "output_type": "execute_result"
    }
   ],
   "source": [
    "filtered_orbits  = orb_df.loc[(orb_df['radius'] > R_MIN.value) & (orb_df['radius'] < R_MAX.value)]\n",
    "filtered_orbits"
   ]
  },
  {
   "cell_type": "markdown",
   "id": "18ed3a33",
   "metadata": {},
   "source": [
    "### Extract semi major axis length = to radius, and inclination."
   ]
  },
  {
   "cell_type": "code",
   "execution_count": 19,
   "id": "2083a1c9",
   "metadata": {},
   "outputs": [
    {
     "data": {
      "text/latex": [
       "$6947.8545 \\; \\mathrm{km}$"
      ],
      "text/plain": [
       "<Quantity 6947.85446754 km>"
      ]
     },
     "execution_count": 19,
     "metadata": {},
     "output_type": "execute_result"
    }
   ],
   "source": [
    "a = filtered_orbits['radius'].values[0]\n",
    "a *= u.km\n",
    "a"
   ]
  },
  {
   "cell_type": "code",
   "execution_count": 20,
   "id": "63331917",
   "metadata": {},
   "outputs": [
    {
     "data": {
      "text/latex": [
       "$97.66328 \\; \\mathrm{{}^{\\circ}}$"
      ],
      "text/plain": [
       "<Quantity 97.66328018 deg>"
      ]
     },
     "execution_count": 20,
     "metadata": {},
     "output_type": "execute_result"
    }
   ],
   "source": [
    "inc = filtered_orbits['inc'].values[0]\n",
    "inc *= u.deg\n",
    "inc"
   ]
  },
  {
   "cell_type": "markdown",
   "id": "2bb1ee16",
   "metadata": {},
   "source": [
    "### Define the rest of the classical orbit parameters"
   ]
  },
  {
   "cell_type": "code",
   "execution_count": 65,
   "id": "f7c2dc7d",
   "metadata": {},
   "outputs": [],
   "source": [
    "ecc = 0*u.one\n",
    "raan = -30 * u.deg # right ascencion of the ascending node [angle]\n",
    "argp = 0 * u.rad # perigee argument [angle]\n",
    "nu = 0 * u.deg # true anomaly [angle] defined as -180 so that it coincides with LTDN"
   ]
  },
  {
   "cell_type": "markdown",
   "id": "fdc73540",
   "metadata": {},
   "source": [
    "### Build orbit"
   ]
  },
  {
   "cell_type": "code",
   "execution_count": 66,
   "id": "dcaecfc9",
   "metadata": {},
   "outputs": [],
   "source": [
    "from poliastro.twobody import Orbit\n",
    "\n",
    "orb = Orbit.from_classical(Earth,\n",
    "                            a,\n",
    "                            ecc,\n",
    "                            inc,\n",
    "                            raan,\n",
    "                            argp,\n",
    "                            nu)"
   ]
  },
  {
   "cell_type": "code",
   "execution_count": 67,
   "id": "cd7719ce",
   "metadata": {},
   "outputs": [
    {
     "name": "stdout",
     "output_type": "stream",
     "text": [
      "[ 6017.01847068 -3473.92723377     0.        ] km\n",
      "[-0.50502164 -0.87472315  7.50667069] km / s\n"
     ]
    }
   ],
   "source": [
    "print(orb.r)\n",
    "print(orb.v)"
   ]
  },
  {
   "cell_type": "code",
   "execution_count": 68,
   "id": "ed689b40",
   "metadata": {},
   "outputs": [],
   "source": [
    "sat = satellite.Sat.from_orbit(orb)"
   ]
  },
  {
   "cell_type": "code",
   "execution_count": 69,
   "id": "59c98a29",
   "metadata": {},
   "outputs": [
    {
     "data": {
      "text/plain": [
       "<matplotlib.collections.PathCollection at 0x7fd4cac10430>"
      ]
     },
     "execution_count": 69,
     "metadata": {},
     "output_type": "execute_result"
    },
    {
     "data": {
      "image/png": "[encoded data removed]",
      "text/plain": [
       "<Figure size 432x288 with 1 Axes>"
      ]
     },
     "metadata": {
      "needs_background": "light"
     },
     "output_type": "display_data"
    }
   ],
   "source": [
    "r,v = sat.rv(10,dt=50,J2=True)\n",
    "lon,lat = sat.ssps_from_r(r,10,dt=50,J2=True)\n",
    "plt.scatter(lon,lat,s=0.1,c='orange')\n",
    "plt.scatter(cordoba_city.lon*u.deg.to(u.rad) + 180*u.deg.to(u.rad), cordoba_city.lat*u.deg.to(u.rad) )"
   ]
  },
  {
   "cell_type": "code",
   "execution_count": 44,
   "id": "9380f453",
   "metadata": {},
   "outputs": [
    {
     "data": {
      "text/latex": [
       "$-0.26795596 \\; \\mathrm{rad}$"
      ],
      "text/plain": [
       "<Quantity -0.26795596 rad>"
      ]
     },
     "execution_count": 44,
     "metadata": {},
     "output_type": "execute_result"
    }
   ],
   "source": [
    "from CtllDes.utils import angles, sunearth\n",
    "\n",
    "today = astropy.time.Time({'year': 2021, 'month': 5, 'day': 31,'hour': 12, 'minute': 0, 'second': 0}, scale='utc')\n",
    "new_raan = angles.get_passage_raan(sat, cordoba_city.lon*u.deg, cordoba_city.lat*u.deg)\n",
    "new_raan"
   ]
  },
  {
   "cell_type": "code",
   "execution_count": 70,
   "id": "e603f57b",
   "metadata": {},
   "outputs": [],
   "source": [
    "from poliastro.twobody import Orbit\n",
    "\n",
    "orb2 = Orbit.from_classical(Earth,\n",
    "                            a,\n",
    "                            ecc,\n",
    "                            inc,\n",
    "                            new_raan+sat.orbit.raan,\n",
    "                            argp,\n",
    "                            nu)\n",
    "sat2 = satellite.Sat.from_orbit(orb2)"
   ]
  },
  {
   "cell_type": "code",
   "execution_count": 71,
   "id": "702a2d5d",
   "metadata": {},
   "outputs": [
    {
     "data": {
      "text/plain": [
       "<matplotlib.collections.PathCollection at 0x7fd4ccebddc0>"
      ]
     },
     "execution_count": 71,
     "metadata": {},
     "output_type": "execute_result"
    },
    {
     "data": {
      "image/png": "[encoded data removed]",
      "text/plain": [
       "<Figure size 432x288 with 1 Axes>"
      ]
     },
     "metadata": {
      "needs_background": "light"
     },
     "output_type": "display_data"
    }
   ],
   "source": [
    "r,v = sat2.rv(10,dt=50,J2=True)\n",
    "lon,lat = sat2.ssps_from_r(r,10,dt=50,J2=True)\n",
    "plt.scatter(lon,lat,s=0.1,c='orange')\n",
    "plt.scatter(cordoba_city.lon*u.deg.to(u.rad) + 180*u.deg.to(u.rad), cordoba_city.lat*u.deg.to(u.rad) )"
   ]
  },
  {
   "cell_type": "code",
   "execution_count": 72,
   "id": "22724885",
   "metadata": {},
   "outputs": [
    {
     "data": {
      "text/latex": [
       "$66.301886 \\; \\mathrm{{}^{\\circ}}$"
      ],
      "text/plain": [
       "<Quantity 66.3018862 deg>"
      ]
     },
     "execution_count": 72,
     "metadata": {},
     "output_type": "execute_result"
    }
   ],
   "source": [
    "lon_offset = angles.get_passage_LTDN(sat2, epoch=today.tdb, LTDN=12*u.h)\n",
    "lon_offset.to(u.deg)"
   ]
  },
  {
   "cell_type": "code",
   "execution_count": 73,
   "id": "b7e003c5",
   "metadata": {},
   "outputs": [],
   "source": [
    "from poliastro.twobody import Orbit\n",
    "\n",
    "orb3 = Orbit.from_classical(Earth,\n",
    "                            a,\n",
    "                            ecc,\n",
    "                            inc,\n",
    "                            new_raan-lon_offset+sat.orbit.raan,\n",
    "                            argp,\n",
    "                            nu)\n",
    "sat3 = satellite.Sat.from_orbit(orb3)"
   ]
  },
  {
   "cell_type": "code",
   "execution_count": 74,
   "id": "dbacf3fb",
   "metadata": {},
   "outputs": [
    {
     "data": {
      "text/latex": [
       "$2.4986467 \\times 10^{-7} \\; \\mathrm{rad}$"
      ],
      "text/plain": [
       "<Quantity 2.49864668e-07 rad>"
      ]
     },
     "execution_count": 74,
     "metadata": {},
     "output_type": "execute_result"
    }
   ],
   "source": [
    "angles.get_passage_LTDN(sat3, epoch=today.tdb, LTDN=12*u.h)"
   ]
  }
 ],
 "metadata": {
  "kernelspec": {
   "display_name": "Python 3",
   "language": "python",
   "name": "python3"
  },
  "language_info": {
   "codemirror_mode": {
    "name": "ipython",
    "version": 3
   },
   "file_extension": ".py",
   "mimetype": "text/x-python",
   "name": "python",
   "nbconvert_exporter": "python",
   "pygments_lexer": "ipython3",
   "version": "3.8.5"
  }
 },
 "nbformat": 4,
 "nbformat_minor": 5
}
