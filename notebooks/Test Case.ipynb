{
 "cells": [
  {
   "cell_type": "code",
   "execution_count": 1,
   "id": "0c7779a1",
   "metadata": {},
   "outputs": [],
   "source": [
    "import matplotlib.pyplot as plt\n",
    "import numpy as np\n",
    "import pandas as pd\n",
    "import astropy as astr\n",
    "import astropy.units as u\n",
    "import astropy"
   ]
  },
  {
   "cell_type": "code",
   "execution_count": 2,
   "id": "df5100b4",
   "metadata": {},
   "outputs": [
    {
     "name": "stderr",
     "output_type": "stream",
     "text": [
      "WARNING: AstropyDeprecationWarning: The private astropy._erfa module has been made into its own package, pyerfa, which is a dependency of astropy and can be imported directly using \"import erfa\" [astropy._erfa]\n"
     ]
    }
   ],
   "source": [
    "from poliastro.bodies import Earth, Sun\n",
    "from poliastro.frames import Planes\n",
    "from poliastro.constants import J2000\n",
    "from poliastro.ephem import Ephem"
   ]
  },
  {
   "cell_type": "markdown",
   "id": "894f5f89",
   "metadata": {},
   "source": [
    "# Define a function using poliastro utilities in order to obtain the sun-earth vector\n",
    "this could be added to the library if needed, but I don't think is appropriate since every utility comes from poliastro and astropy libraries."
   ]
  },
  {
   "cell_type": "code",
   "execution_count": 3,
   "id": "f9d298ff",
   "metadata": {},
   "outputs": [],
   "source": [
    "def bodies_vector(T, dt, body1, body2, epoch=J2000, timedelta = None):\n",
    "    \"\"\"Returns vector for every dt in [0,T] from bodie1 to bodie2\n",
    "    \n",
    "    Parameters\n",
    "    ----------\n",
    "    T : float\n",
    "        time of propagation\n",
    "    dt : float\n",
    "        time interval\n",
    "    body1 : ~poliastro.bodies.Body\n",
    "        first body\n",
    "    body2 : ~poliastro.bodies.Body\n",
    "        second body\n",
    "    epoch : ~astropy.time.Time, optional\n",
    "        Epoch offset\n",
    "    timedelta : ~astropy.time.Time, optional\n",
    "        desired time of propagation\n",
    "    \n",
    "    Returns\n",
    "    -------\n",
    "    diff : ~astropy.units.quantity.Quantity\n",
    "        vectors for timedelta propagation from body1 to body2\n",
    "    \"\"\"\n",
    "    \n",
    "    DT_TIME = 500\n",
    "    if not timedelta:\n",
    "        time_delta = astropy.time.Time([epoch + j*DT_TIME*u.s for j in range(int(3600*24*1.01*T/DT_TIME))])\n",
    "    else:\n",
    "        time_delta = timedelta\n",
    "    \n",
    "    ephem_b1 = Ephem.from_body(body1, time_delta.tdb)\n",
    "    ephem_b2 = Ephem.from_body(body2, time_delta.tdb)\n",
    "    \n",
    "    tofs = astropy.time.Time([epoch + j*dt*u.s for j in range(int(3600*24*T/dt))])\n",
    "    r_b1, _ = ephem_b1.rv(tofs)\n",
    "    r_b2, _ = ephem_b2.rv(tofs)\n",
    "    \n",
    "    diff = (r_b2-r_b1).to(u.km)\n",
    "    return diff"
   ]
  },
  {
   "cell_type": "code",
   "execution_count": 4,
   "id": "6155097f",
   "metadata": {},
   "outputs": [],
   "source": [
    "sun_earth = bodies_vector(10, 50, Earth, Sun)"
   ]
  }
 ],
 "metadata": {
  "kernelspec": {
   "display_name": "Python 3",
   "language": "python",
   "name": "python3"
  },
  "language_info": {
   "codemirror_mode": {
    "name": "ipython",
    "version": 3
   },
   "file_extension": ".py",
   "mimetype": "text/x-python",
   "name": "python",
   "nbconvert_exporter": "python",
   "pygments_lexer": "ipython3",
   "version": "3.8.5"
  }
 },
 "nbformat": 4,
 "nbformat_minor": 5
}
