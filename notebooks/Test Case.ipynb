{
 "cells": [
  {
   "cell_type": "code",
   "execution_count": 2,
   "id": "91a6726d",
   "metadata": {},
   "outputs": [],
   "source": [
    "import matplotlib.pyplot as plt\n",
    "import numpy as np\n",
    "import pandas as pd\n",
    "import astropy as astr\n",
    "import astropy.units as u\n",
    "import astropy"
   ]
  },
  {
   "cell_type": "code",
   "execution_count": 3,
   "id": "4f0a1966",
   "metadata": {},
   "outputs": [
    {
     "name": "stderr",
     "output_type": "stream",
     "text": [
      "WARNING: AstropyDeprecationWarning: The private astropy._erfa module has been made into its own package, pyerfa, which is a dependency of astropy and can be imported directly using \"import erfa\" [astropy._erfa]\n"
     ]
    }
   ],
   "source": [
    "from poliastro.bodies import Earth, Sun\n",
    "from poliastro.frames import Planes\n",
    "from poliastro.constants import J2000\n",
    "from poliastro.ephem import Ephem"
   ]
  },
  {
   "cell_type": "markdown",
   "id": "fa4522ad",
   "metadata": {},
   "source": [
    "# Define a function using poliastro utilities in order to obtain the sun-earth vector\n",
    "this could be added to the library if needed, but I don't think is appropriate since every utility comes from poliastro and astropy libraries."
   ]
  },
  {
   "cell_type": "code",
   "execution_count": 4,
   "id": "8acf5eff",
   "metadata": {},
   "outputs": [],
   "source": [
    "def bodies_vector(T, dt, body1, body2, epoch=J2000, timedelta = None):\n",
    "    \"\"\"Returns vector for every dt in [0,T] from bodie1 to bodie2\n",
    "    \n",
    "    Parameters\n",
    "    ----------\n",
    "    T : float\n",
    "        time of propagation\n",
    "    dt : float\n",
    "        time interval\n",
    "    body1 : ~poliastro.bodies.Body\n",
    "        first body\n",
    "    body2 : ~poliastro.bodies.Body\n",
    "        second body\n",
    "    epoch : ~astropy.time.Time, optional\n",
    "        Epoch offset\n",
    "    timedelta : ~astropy.time.Time, optional\n",
    "        desired time of propagation\n",
    "    \n",
    "    Returns\n",
    "    -------\n",
    "    diff : ~astropy.units.quantity.Quantity\n",
    "        vectors for timedelta propagation from body1 to body2\n",
    "    \"\"\"\n",
    "    \n",
    "    DT_TIME = 500\n",
    "    if not timedelta:\n",
    "        time_delta = astropy.time.Time([epoch + j*DT_TIME*u.s for j in range(int(3600*24*1.01*T/DT_TIME))])\n",
    "    else:\n",
    "        time_delta = timedelta\n",
    "    \n",
    "    ephem_b1 = Ephem.from_body(body1, time_delta.tdb)\n",
    "    ephem_b2 = Ephem.from_body(body2, time_delta.tdb)\n",
    "    \n",
    "    tofs = astropy.time.Time([epoch + j*dt*u.s for j in range(int(3600*24*T/dt))])\n",
    "    r_b1, _ = ephem_b1.rv(tofs)\n",
    "    r_b2, _ = ephem_b2.rv(tofs)\n",
    "    \n",
    "    diff = (r_b2-r_b1).to(u.km)\n",
    "    return diff"
   ]
  },
  {
   "cell_type": "code",
   "execution_count": 4,
   "id": "bed69354",
   "metadata": {},
   "outputs": [],
   "source": [
    "sun_earth = bodies_vector(10, 50, Earth, Sun)"
   ]
  },
  {
   "cell_type": "code",
   "execution_count": 71,
   "id": "761746c8",
   "metadata": {},
   "outputs": [],
   "source": [
    "import sys\n",
    "import geopandas as gpd\n",
    "\n",
    "cities_fp = sys.path[0] + '/../CtllDes/targets/location-cities/worldcities.csv'\n",
    "cities_df = pd.read_csv(cities_fp)\n"
   ]
  },
  {
   "cell_type": "code",
   "execution_count": 73,
   "id": "9e447ed9",
   "metadata": {},
   "outputs": [
    {
     "data": {
      "text/html": [
       "<div>\n",
       "<style scoped>\n",
       "    .dataframe tbody tr th:only-of-type {\n",
       "        vertical-align: middle;\n",
       "    }\n",
       "\n",
       "    .dataframe tbody tr th {\n",
       "        vertical-align: top;\n",
       "    }\n",
       "\n",
       "    .dataframe thead th {\n",
       "        text-align: right;\n",
       "    }\n",
       "</style>\n",
       "<table border=\"1\" class=\"dataframe\">\n",
       "  <thead>\n",
       "    <tr style=\"text-align: right;\">\n",
       "      <th></th>\n",
       "      <th>city</th>\n",
       "      <th>city_ascii</th>\n",
       "      <th>lat</th>\n",
       "      <th>lng</th>\n",
       "      <th>country</th>\n",
       "      <th>iso2</th>\n",
       "      <th>iso3</th>\n",
       "      <th>admin_name</th>\n",
       "      <th>capital</th>\n",
       "      <th>population</th>\n",
       "      <th>id</th>\n",
       "    </tr>\n",
       "  </thead>\n",
       "  <tbody>\n",
       "    <tr>\n",
       "      <th>0</th>\n",
       "      <td>Tokyo</td>\n",
       "      <td>Tokyo</td>\n",
       "      <td>35.6897</td>\n",
       "      <td>139.6922</td>\n",
       "      <td>Japan</td>\n",
       "      <td>JP</td>\n",
       "      <td>JPN</td>\n",
       "      <td>Tōkyō</td>\n",
       "      <td>primary</td>\n",
       "      <td>37977000.0</td>\n",
       "      <td>1392685764</td>\n",
       "    </tr>\n",
       "    <tr>\n",
       "      <th>1</th>\n",
       "      <td>Jakarta</td>\n",
       "      <td>Jakarta</td>\n",
       "      <td>-6.2146</td>\n",
       "      <td>106.8451</td>\n",
       "      <td>Indonesia</td>\n",
       "      <td>ID</td>\n",
       "      <td>IDN</td>\n",
       "      <td>Jakarta</td>\n",
       "      <td>primary</td>\n",
       "      <td>34540000.0</td>\n",
       "      <td>1360771077</td>\n",
       "    </tr>\n",
       "    <tr>\n",
       "      <th>2</th>\n",
       "      <td>Delhi</td>\n",
       "      <td>Delhi</td>\n",
       "      <td>28.6600</td>\n",
       "      <td>77.2300</td>\n",
       "      <td>India</td>\n",
       "      <td>IN</td>\n",
       "      <td>IND</td>\n",
       "      <td>Delhi</td>\n",
       "      <td>admin</td>\n",
       "      <td>29617000.0</td>\n",
       "      <td>1356872604</td>\n",
       "    </tr>\n",
       "    <tr>\n",
       "      <th>3</th>\n",
       "      <td>Mumbai</td>\n",
       "      <td>Mumbai</td>\n",
       "      <td>18.9667</td>\n",
       "      <td>72.8333</td>\n",
       "      <td>India</td>\n",
       "      <td>IN</td>\n",
       "      <td>IND</td>\n",
       "      <td>Mahārāshtra</td>\n",
       "      <td>admin</td>\n",
       "      <td>23355000.0</td>\n",
       "      <td>1356226629</td>\n",
       "    </tr>\n",
       "    <tr>\n",
       "      <th>4</th>\n",
       "      <td>Manila</td>\n",
       "      <td>Manila</td>\n",
       "      <td>14.5958</td>\n",
       "      <td>120.9772</td>\n",
       "      <td>Philippines</td>\n",
       "      <td>PH</td>\n",
       "      <td>PHL</td>\n",
       "      <td>Manila</td>\n",
       "      <td>primary</td>\n",
       "      <td>23088000.0</td>\n",
       "      <td>1608618140</td>\n",
       "    </tr>\n",
       "  </tbody>\n",
       "</table>\n",
       "</div>"
      ],
      "text/plain": [
       "      city city_ascii      lat       lng      country iso2 iso3   admin_name  \\\n",
       "0    Tokyo      Tokyo  35.6897  139.6922        Japan   JP  JPN        Tōkyō   \n",
       "1  Jakarta    Jakarta  -6.2146  106.8451    Indonesia   ID  IDN      Jakarta   \n",
       "2    Delhi      Delhi  28.6600   77.2300        India   IN  IND        Delhi   \n",
       "3   Mumbai     Mumbai  18.9667   72.8333        India   IN  IND  Mahārāshtra   \n",
       "4   Manila     Manila  14.5958  120.9772  Philippines   PH  PHL       Manila   \n",
       "\n",
       "   capital  population          id  \n",
       "0  primary  37977000.0  1392685764  \n",
       "1  primary  34540000.0  1360771077  \n",
       "2    admin  29617000.0  1356872604  \n",
       "3    admin  23355000.0  1356226629  \n",
       "4  primary  23088000.0  1608618140  "
      ]
     },
     "execution_count": 73,
     "metadata": {},
     "output_type": "execute_result"
    }
   ],
   "source": [
    "cities_df.head()"
   ]
  },
  {
   "cell_type": "code",
   "execution_count": 101,
   "id": "a615d6d4",
   "metadata": {},
   "outputs": [],
   "source": [
    "aver=cities_df.loc[(cities_df['city'] == 'Buenos Aires')]\n"
   ]
  },
  {
   "cell_type": "code",
   "execution_count": 106,
   "id": "f689f706",
   "metadata": {},
   "outputs": [
    {
     "data": {
      "text/plain": [
       "array([-58.3819, -34.5997])"
      ]
     },
     "execution_count": 106,
     "metadata": {},
     "output_type": "execute_result"
    }
   ],
   "source": [
    "lon,lat = aver[['lng','lat']].values[0]"
   ]
  },
  {
   "cell_type": "code",
   "execution_count": 109,
   "id": "6f3e2998",
   "metadata": {},
   "outputs": [
    {
     "data": {
      "text/plain": [
       "-34.5997"
      ]
     },
     "execution_count": 109,
     "metadata": {},
     "output_type": "execute_result"
    }
   ],
   "source": [
    "lon,lat = aver[['lng','lat']].values[0]\n",
    "lat"
   ]
  }
 ],
 "metadata": {
  "kernelspec": {
   "display_name": "Python 3",
   "language": "python",
   "name": "python3"
  },
  "language_info": {
   "codemirror_mode": {
    "name": "ipython",
    "version": 3
   },
   "file_extension": ".py",
   "mimetype": "text/x-python",
   "name": "python",
   "nbconvert_exporter": "python",
   "pygments_lexer": "ipython3",
   "version": "3.8.5"
  }
 },
 "nbformat": 4,
 "nbformat_minor": 5
}
