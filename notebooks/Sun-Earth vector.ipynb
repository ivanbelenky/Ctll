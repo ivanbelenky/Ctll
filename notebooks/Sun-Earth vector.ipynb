{
 "cells": [
  {
   "cell_type": "code",
   "execution_count": 2,
   "id": "1fdfb8c6",
   "metadata": {},
   "outputs": [
    {
     "name": "stderr",
     "output_type": "stream",
     "text": [
      "WARNING: AstropyDeprecationWarning: The private astropy._erfa module has been made into its own package, pyerfa, which is a dependency of astropy and can be imported directly using \"import erfa\" [astropy._erfa]\n"
     ]
    }
   ],
   "source": [
    "from astropy import time\n",
    "from poliastro.ephem import Ephem"
   ]
  },
  {
   "cell_type": "code",
   "execution_count": 21,
   "id": "d1f3e165",
   "metadata": {},
   "outputs": [],
   "source": [
    "#Orbit object, more info on poliastro API reference.\n",
    "from poliastro.twobody import Orbit\n",
    "#The bodies module specifies attractors\n",
    "from poliastro.bodies import Earth, Sun\n",
    "#Planes of reference and Epochs, are almost every time \n",
    "#the default ones, but just in case if you want to use \n",
    "#any other, they can be found in the following modules\n",
    "#import planes of reference, EARTH_EQUATOR \n",
    "from poliastro.frames import Planes\n",
    "#import J2000 time reference from constants \n",
    "from poliastro.constants import J2000\n",
    "### Specify classical orbit parameters ###\n",
    "import astropy.units as u\n",
    "import astropy"
   ]
  },
  {
   "cell_type": "code",
   "execution_count": 54,
   "id": "5a6f2804",
   "metadata": {},
   "outputs": [],
   "source": [
    "earth = Ephem.from_body(Earth, astropy.time.Time([J2000.tdb+u.h*i*24 for i in range(365)]))\n",
    "sun = Ephem.from_body(Sun, astropy.time.Time([J2000.tdb+u.h*i*24 for i in range(365)])) \n",
    "rsun,vsun = sun.rv(astropy.time.Time([J2000.tdb+u.h*i*12 for i in range(365)]))\n",
    "rearth,vearth = earth.rv(astropy.time.Time([J2000.tdb+u.h*i*12 for i in range(365)]))\n",
    "\n",
    "subs = -(rearth-rsun).to(u.km)"
   ]
  },
  {
   "cell_type": "code",
   "execution_count": 53,
   "id": "013a6d5e",
   "metadata": {},
   "outputs": [
    {
     "data": {
      "text/plain": [
       "(-200000000.0, 200000000.0)"
      ]
     },
     "execution_count": 53,
     "metadata": {},
     "output_type": "execute_result"
    }
   ],
   "source": [
    "import matplotlib.pyplot as plt\n",
    "%matplotlib qt5\n",
    "fig  = plt.figure(figsize=(10,10))\n",
    "ax = fig.add_subplot(111, projection='3d')\n",
    "ax.scatter(subs[:,0],subs[:,1],subs[:,2])\n",
    "ax.scatter(rsun[:,0],rsun[:,1],rsun[:,2])\n",
    "ax.set_zlim(-2E8,2E8)"
   ]
  }
 ],
 "metadata": {
  "kernelspec": {
   "display_name": "Python 3",
   "language": "python",
   "name": "python3"
  },
  "language_info": {
   "codemirror_mode": {
    "name": "ipython",
    "version": 3
   },
   "file_extension": ".py",
   "mimetype": "text/x-python",
   "name": "python",
   "nbconvert_exporter": "python",
   "pygments_lexer": "ipython3",
   "version": "3.8.5"
  }
 },
 "nbformat": 4,
 "nbformat_minor": 5
}
