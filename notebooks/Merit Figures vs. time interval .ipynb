{
 "cells": [
  {
   "cell_type": "code",
   "execution_count": 1,
   "id": "2d43986d",
   "metadata": {},
   "outputs": [],
   "source": [
    "import sys\n",
    "import os\n",
    "sys.path.insert(0, os.path.abspath('../'))\n"
   ]
  },
  {
   "cell_type": "code",
   "execution_count": 2,
   "id": "0ca0b5e8",
   "metadata": {},
   "outputs": [
    {
     "name": "stderr",
     "output_type": "stream",
     "text": [
      "WARNING: AstropyDeprecationWarning: The private astropy._erfa module has been made into its own package, pyerfa, which is a dependency of astropy and can be imported directly using \"import erfa\" [astropy._erfa]\n"
     ]
    }
   ],
   "source": [
    "\n",
    "import numpy as np\n",
    "import matplotlib.pyplot as plt\n",
    "\n",
    "import astropy.units as u\n",
    "\n",
    "import CtllDes \n",
    "from CtllDes.core import ctll, satellite\n",
    "\n",
    "import poliastro \n",
    "from poliastro.bodies import Earth\n",
    "from poliastro.twobody import Orbit\n",
    "from poliastro.frames import Planes\n",
    "from poliastro.constants import J2000"
   ]
  },
  {
   "cell_type": "code",
   "execution_count": 3,
   "id": "54c6b851",
   "metadata": {},
   "outputs": [],
   "source": [
    "a = 8000 * u.km # semi-major axis [distance]\n",
    "ecc = 0 * u.one # eccentricity [dimensionleess]\n",
    "inc = 97 * u.deg # inclination [angle] \n",
    "raan = 0 * u.rad # right ascencion of the ascending node [angle]\n",
    "argp = 0 * u.rad # perigee argument [angle]\n",
    "nu = 0 * u.rad # true anomaly [angle]\n",
    "\n",
    "plane = Planes.EARTH_EQUATOR # not necessary to specify\n",
    "epoch = J2000 # not necessary to specify\n",
    "\n",
    "#classmethod of Orbit\n",
    "orb = Orbit.from_classical(Earth,\n",
    "                            a,\n",
    "                            ecc,\n",
    "                            inc,\n",
    "                            raan,\n",
    "                            argp,\n",
    "                            nu)"
   ]
  },
  {
   "cell_type": "code",
   "execution_count": 5,
   "id": "a9e44b29",
   "metadata": {},
   "outputs": [],
   "source": [
    "sat = satellite.Sat.from_orbit(orb)"
   ]
  },
  {
   "cell_type": "code",
   "execution_count": 6,
   "id": "d0f60a77",
   "metadata": {},
   "outputs": [
    {
     "data": {
      "text/plain": [
       "[<CtllDes.core.instrument.Camera at 0x7fa3cd86a340>]"
      ]
     },
     "execution_count": 6,
     "metadata": {},
     "output_type": "execute_result"
    }
   ],
   "source": [
    "from CtllDes.core import instrument\n",
    "\n",
    "camera = instrument.Camera(10, 4) # f_l, s_w\n",
    "sat.update_instruments(camera, f=True) # force option\n",
    "sat.instruments"
   ]
  },
  {
   "cell_type": "code",
   "execution_count": 7,
   "id": "01f0dea0",
   "metadata": {},
   "outputs": [],
   "source": [
    "from CtllDes.targets.targets import Target\n",
    "\n",
    "tgt = Target(0,30)"
   ]
  },
  {
   "cell_type": "code",
   "execution_count": null,
   "id": "b998f3ad",
   "metadata": {},
   "outputs": [],
   "source": [
    "from CtllDes.requests.coverage import Coverages\n",
    "from IPython.display import clear_output\n",
    "\n",
    "covs = []\n",
    "for i in range(1,500):\n",
    "    clear_output(wait=True)\n",
    "    covs.append(Coverages.from_sat(sat, tgt, 4, dt=i, J2=True, drag=False).to_df())\n",
    "    print(i)\n"
   ]
  },
  {
   "cell_type": "code",
   "execution_count": null,
   "id": "8d261192",
   "metadata": {},
   "outputs": [],
   "source": [
    "import matplotlib.pyplot as plt\n",
    "\n",
    "\n",
    "accums = np.array([cov['accumulated'] for cov in covs])\n",
    "mean = np.sum(accums)/len(accums)\n",
    "\n",
    "\n",
    "plt.figure(figsize=(10,10))\n",
    "plt.xlabel(\"time interval [s]\")\n",
    "plt.ylabel(\"Accumulated time of coverage\")\n",
    "plt.scatter([i for i in range(1,500)], accums,label='')\n",
    "plt.grid()\n",
    "plt.hlines(y=mean,xmin=0,xmax=500,color='red',linewidth=3,label='mean')\n",
    "plt.legend(loc=2)"
   ]
  },
  {
   "cell_type": "code",
   "execution_count": null,
   "id": "a48acdb8",
   "metadata": {},
   "outputs": [
    {
     "name": "stdout",
     "output_type": "stream",
     "text": [
      "36\n"
     ]
    }
   ],
   "source": [
    "a = 7000*u.km\n",
    "\n",
    "plt.figure(figsize=(10,10))\n",
    "plt.grid()\n",
    "plt.hlines(y=1,xmin=0,xmax=100,color='red',linewidth=3)\n",
    "\n",
    "sat_covs = []\n",
    "for j in range(10):\n",
    "    \n",
    "    a += 500*u.km*j\n",
    "    orb = Orbit.from_classical(Earth,a,ecc,inc,raan,argp,nu)\n",
    "    sat = sat.from_orbit(orb)\n",
    "    sat.update_instruments(camera, f=True)\n",
    "    \n",
    "    covs = []\n",
    "    for i in range(1,100):\n",
    "        covs.append(Coverages.from_sat(sat, tgt, 4, dt=i, J2=True, drag=False).to_df())\n",
    "        print(i)\n",
    "        clear_output(wait=True)\n",
    "    sat_covs.append(covs)"
   ]
  },
  {
   "cell_type": "code",
   "execution_count": null,
   "id": "3db1cd4f",
   "metadata": {},
   "outputs": [],
   "source": [
    "\n",
    "plt.figure(figsize=(10,10))\n",
    "plt.grid()\n",
    "plt.hlines(y=1,xmin=0,xmax=100,color='red',linewidth=0.1)\n",
    "plt.xlabel(\"Time interval [s]\")\n",
    "plt.ylabel(\"Accumulated time of coverage [s]\")\n",
    "\n",
    "height = 7000*u.km - Earth.R_mean.to(u.km) \n",
    "for sat in sat_covs:\n",
    "    accums = np.array([cov['accumulated'] for cov in sat])\n",
    "    try:\n",
    "        mean = np.sum(accums)/len(accums)\n",
    "        plt.scatter([i for i in range(1,100)], accums/mean, s=10, label=f'H = {height:.2f} km')\n",
    "        height += 500*u.km\n",
    "        print(mean)\n",
    "    except:\n",
    "        pass\n",
    "\n",
    "plt.legend(loc=1)\n",
    "\n"
   ]
  },
  {
   "cell_type": "code",
   "execution_count": null,
   "id": "c667a9bf",
   "metadata": {},
   "outputs": [],
   "source": [
    "fig, ax = plt.subplots(nrows=3,ncols=2,figsize=(15,10),sharex=True,sharey=True)\n",
    "plt.suptitle(\"Normalized accumulated time vs. time interval [s]\")\n",
    "\n",
    "ax = np.asarray(ax).reshape(-1)\n",
    "height = 7000*u.km - Earth.R_mean.to(u.km) \n",
    "\n",
    "\n",
    "for j in range(len(ax)):\n",
    "    accums = np.array([cov['accumulated'] for cov in sat_covs[j]])\n",
    "    try:\n",
    "        mean = np.sum(accums)/len(accums)\n",
    "        ax[j].scatter([i for i in range(1,100)], accums/mean, s=16, c='k')\n",
    "        ax[j].set_title(f'H = {height:.0f}')\n",
    "        ax[j].grid()\n",
    "        ax[j].hlines(y=1,xmin=0,xmax=100,color='orange',linewidth=1)\n",
    "        for i in range(len(accums)):\n",
    "            if accums[i]/mean > 1.01:\n",
    "                idx = i\n",
    "                break\n",
    "        ax[j].vlines(x=idx,ymin=0,ymax=1.6,color='red',label= f\"1% error, dt = {idx+1} s\" )\n",
    "        ax[j].legend(loc=2)\n",
    "    except:\n",
    "        pass    \n",
    "    height += 500*u.km\n",
    "\n"
   ]
  },
  {
   "cell_type": "code",
   "execution_count": null,
   "id": "d9359d3b",
   "metadata": {},
   "outputs": [],
   "source": [
    "fig, ax = plt.subplots(nrows=3,ncols=2,figsize=(15,10),sharex=True,sharey=True)\n",
    "plt.suptitle(\"Mean Revisit Time vs. time interval [s]\")\n",
    "\n",
    "ax = np.asarray(ax).reshape(-1)\n",
    "height = 7000*u.km - Earth.R_mean.to(u.km) \n",
    "\n",
    "\n",
    "for j in range(len(ax)):\n",
    "    accums = np.array([cov['mean gap dark'] for cov in sat_covs[j]])\n",
    "    try:\n",
    "        mean = np.sum(accums)/len(accums)\n",
    "        ax[j].scatter([i for i in range(1,100)], accums/mean, s=16, c='k')\n",
    "        ax[j].set_title(f'H = {height:.0f}')\n",
    "        ax[j].grid()\n",
    "        ax[j].hlines(y=1,xmin=0,xmax=100,color='orange',linewidth=1)\n",
    "        for i in range(len(accums)):\n",
    "            if accums[i]/mean > 1.01:\n",
    "                idx = i\n",
    "                break\n",
    "        ax[j].vlines(x=idx,ymin=0,ymax=1.6,color='red',label= f\"1% error, dt = {idx+1} s\" )\n",
    "        ax[j].legend(loc=2)\n",
    "    except:\n",
    "        pass    \n",
    "    height += 500*u.km\n",
    "\n"
   ]
  },
  {
   "cell_type": "code",
   "execution_count": null,
   "id": "42e3c5c4",
   "metadata": {},
   "outputs": [],
   "source": [
    "fig, ax = plt.subplots(nrows=3,ncols=2,figsize=(15,10),sharex=True,sharey=True)\n",
    "plt.suptitle(\"Mean Response Time vs. time interval [s]\")\n",
    "\n",
    "ax = np.asarray(ax).reshape(-1)\n",
    "height = 7000*u.km - Earth.R_mean.to(u.km) \n",
    "\n",
    "\n",
    "for j in range(len(ax)):\n",
    "    accums = np.array([cov['response time'] for cov in sat_covs[j]])\n",
    "    try:\n",
    "        mean = np.sum(accums)/len(accums)\n",
    "        ax[j].scatter([i for i in range(1,100)], accums/mean, s=16, c='k')\n",
    "        ax[j].set_title(f'H = {height:.0f}')\n",
    "        ax[j].grid()\n",
    "        ax[j].hlines(y=1,xmin=0,xmax=100,color='orange',linewidth=1)\n",
    "        for i in range(len(accums)):\n",
    "            if accums[i]/mean > 1.01:\n",
    "                idx = i\n",
    "                break\n",
    "        ax[j].vlines(x=idx,ymin=0,ymax=1.6,color='red',label= f\"1% error, dt = {idx+1} s\" )\n",
    "        ax[j].legend(loc=2)\n",
    "    except:\n",
    "        pass    \n",
    "    height += 500*u.km"
   ]
  }
 ],
 "metadata": {
  "kernelspec": {
   "display_name": "Python 3",
   "language": "python",
   "name": "python3"
  },
  "language_info": {
   "codemirror_mode": {
    "name": "ipython",
    "version": 3
   },
   "file_extension": ".py",
   "mimetype": "text/x-python",
   "name": "python",
   "nbconvert_exporter": "python",
   "pygments_lexer": "ipython3",
   "version": "3.8.5"
  }
 },
 "nbformat": 4,
 "nbformat_minor": 5
}
