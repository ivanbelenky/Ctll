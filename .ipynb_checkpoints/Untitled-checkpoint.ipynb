{
 "cells": [
  {
   "cell_type": "markdown",
   "id": "c30f2836",
   "metadata": {},
   "source": [
    "First I will import a shitload of poliastro thingies, they are not all truly neccesary. Notice the CtllDes import, the core and utils elements"
   ]
  },
  {
   "cell_type": "code",
   "execution_count": 1,
   "id": "c85a9654",
   "metadata": {},
   "outputs": [
    {
     "name": "stderr",
     "output_type": "stream",
     "text": [
      "WARNING: AstropyDeprecationWarning: The private astropy._erfa module has been made into its own package, pyerfa, which is a dependency of astropy and can be imported directly using \"import erfa\" [astropy._erfa]\n"
     ]
    }
   ],
   "source": [
    "import CtllDes \n",
    "from CtllDes.core import ctll, satellite"
   ]
  },
  {
   "cell_type": "code",
   "execution_count": 2,
   "id": "4ec4d190",
   "metadata": {},
   "outputs": [],
   "source": [
    "### Specify Instruments ###\n",
    "from CtllDes.core import instrument\n",
    "\n",
    "cam1 = instrument.Camera(0,0)\n",
    "cam2 = instrument.Camera(0,1)\n",
    "cam3 = instrument.Camera(0,3)\n",
    "\n",
    "\n",
    "### Specify Physical Specifications ###\n",
    "from CtllDes.core import specs\n",
    "\n",
    "drag_coef = 1\n",
    "m1 = 100 #kg\n",
    "m2 = 80 #kg\n",
    "m3 = 200 #kg\n",
    "\n",
    "A = 100 #m2\n",
    "\n",
    "spec1 = specs.Specifications(m=m1,Cd=drag_coef,A_over_m=A)\n",
    "spec2 = specs.Specifications(m=m1,Cd=drag_coef,A_over_m=A)\n",
    "spec3 = specs.Specifications(m=m3,Cd=drag_coef,A_over_m=A)\n",
    "\n"
   ]
  },
  {
   "cell_type": "markdown",
   "id": "4ea13504",
   "metadata": {},
   "source": [
    "The utility function <strong>helio_geo_synchronous</strong> receives an integer, and returns a dataframe with all the possible circular orbit classic elements that are helio and geo synchronous with a D days period. It is pretty straigthforward to transform the desired filtered row into a classical State."
   ]
  },
  {
   "cell_type": "code",
   "execution_count": null,
   "id": "4b9025ac",
   "metadata": {},
   "outputs": [],
   "source": [
    "from CtllDes.utils import helio_geo_synchronous\n",
    "\n",
    "D = 7\n",
    "orb_df = helio_geo_synchronous(D)"
   ]
  },
  {
   "cell_type": "markdown",
   "id": "919fb93d",
   "metadata": {},
   "source": [
    "Lets say that you want to filter out heights. One easy way to filter out whatever state you may want to generalize uses pandas loc . If you are not familiar with pandas, read the basic examples in their docs."
   ]
  },
  {
   "cell_type": "code",
   "execution_count": 4,
   "id": "7075a0da",
   "metadata": {},
   "outputs": [],
   "source": [
    "filtered = orb_df.loc[(df['p'] < 900) & (df['p'] > 500)]\n",
    "filtered\n"
   ]
  },
  {
   "cell_type": "markdown",
   "id": "74f77c07",
   "metadata": {},
   "source": [
    "Check if you got any filtered orbits and pick. Notice that <strong>raan</strong> and <strong>nu</strong> will be set to 0. Feel free to change it to make it pass over the desired target at least one time."
   ]
  },
  {
   "cell_type": "code",
   "execution_count": null,
   "id": "1e2844e9",
   "metadata": {},
   "outputs": [],
   "source": [
    "st1 = filtered[0]\n",
    "\n",
    "orb1 = Orbit.from_classical(Earth,\n",
    "                            st1['a'],\n",
    "                            st1['ecc'],\n",
    "                            st1['inc'],\n",
    "                            st1['raan'],\n",
    "                            st1['argp'],\n",
    "                            st1['nu'],\n",
    "                            epoch=J200,\n",
    "                            plane=Planes.EARTH_EQUATOR)"
   ]
  },
  {
   "cell_type": "markdown",
   "id": "edcad1af",
   "metadata": {},
   "source": [
    "Now its about time to build the satellite using the <strong>from_orbit </strong> classmethod. "
   ]
  },
  {
   "cell_type": "code",
   "execution_count": null,
   "id": "1257dd74",
   "metadata": {},
   "outputs": [],
   "source": [
    "sat1 = satellite.from_orbit(orb1,spec=spec1,instruments=cam1)"
   ]
  },
  {
   "cell_type": "markdown",
   "id": "ebbcfefa",
   "metadata": {},
   "source": [
    "Lets keep up building the rest of the satellites with different methods. Building from a specific orbit was already covered, also adding the use of some util function that defines orbits. We could use as well for any orbit something like the following"
   ]
  },
  {
   "cell_type": "code",
   "execution_count": null,
   "id": "d3543dfd",
   "metadata": {},
   "outputs": [],
   "source": [
    "### Proof of Concept ###\n",
    "sat_poc = satellite.from_orbit(Orbit.helio_synchronous) \n",
    "\n",
    "#if instruments are not defined, they will be an empty list\n",
    "print(sat.instruments)\n",
    "\n",
    "#if specs are not defined, Default Spec will be used\n",
    "print(sat.specs)\n",
    "print(specs.DefaultSpec)\n",
    "\n",
    "print(sat.status)\n"
   ]
  },
  {
   "cell_type": "code",
   "execution_count": null,
   "id": "129069ad",
   "metadata": {},
   "outputs": [],
   "source": []
  },
  {
   "cell_type": "code",
   "execution_count": null,
   "id": "115c961f",
   "metadata": {},
   "outputs": [],
   "source": []
  },
  {
   "cell_type": "code",
   "execution_count": null,
   "id": "83a35fe5",
   "metadata": {},
   "outputs": [],
   "source": []
  },
  {
   "cell_type": "code",
   "execution_count": null,
   "id": "ea4a98c4",
   "metadata": {},
   "outputs": [],
   "source": [
    "from astropy import units as u\n",
    "\n",
    "from poliastro.twobody import states as st\n",
    "from poliastro.bodies import Earth, Mars, Sun\n",
    "from poliastro.frames import Planes\n",
    "from poliastro.twobody import propagation,Orbit\n"
   ]
  }
 ],
 "metadata": {
  "kernelspec": {
   "display_name": "Python 3",
   "language": "python",
   "name": "python3"
  },
  "language_info": {
   "codemirror_mode": {
    "name": "ipython",
    "version": 3
   },
   "file_extension": ".py",
   "mimetype": "text/x-python",
   "name": "python",
   "nbconvert_exporter": "python",
   "pygments_lexer": "ipython3",
   "version": "3.8.5"
  }
 },
 "nbformat": 4,
 "nbformat_minor": 5
}
